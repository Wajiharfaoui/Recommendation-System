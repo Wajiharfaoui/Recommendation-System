{
 "cells": [
  {
   "cell_type": "markdown",
   "metadata": {},
   "source": [
    "![](https://www.ieseg.fr/wp-content/uploads/IESEG-Logo-2012-rgb.jpg)\n"
   ]
  },
  {
   "cell_type": "markdown",
   "metadata": {},
   "source": [
    "# Collaborative Filtering"
   ]
  },
  {
   "cell_type": "code",
   "execution_count": 1,
   "metadata": {},
   "outputs": [],
   "source": [
    "# conda install -c conda-forge scikit-surprise"
   ]
  },
  {
   "cell_type": "code",
   "execution_count": 2,
   "metadata": {},
   "outputs": [],
   "source": [
    "import pandas as pd \n",
    "import numpy as np \n",
    "import matplotlib.pyplot as plt\n",
    "import surprise # conda install -c conda-forge scikit-surprise"
   ]
  },
  {
   "cell_type": "markdown",
   "metadata": {},
   "source": [
    "# Exercise 1"
   ]
  },
  {
   "cell_type": "code",
   "execution_count": 3,
   "metadata": {},
   "outputs": [],
   "source": [
    "# Read dataset\n",
    "amz = pd.read_csv(\"../Data/Amazon_Reviews_2019.csv\")\n",
    "\n",
    "# we will use this later\n",
    "lookup_asin = amz.drop_duplicates(subset=[\"asin\"], keep=\"last\").set_index(\"asin\")"
   ]
  },
  {
   "cell_type": "code",
   "execution_count": 4,
   "metadata": {},
   "outputs": [
    {
     "name": "stdout",
     "output_type": "stream",
     "text": [
      "Removed 29 items\n"
     ]
    }
   ],
   "source": [
    "# filter items with 10+ reviews\n",
    "review_count = amz[\"asin\"].value_counts()\n",
    "\n",
    "min_count = 10\n",
    "asin_filter = list(review_count[review_count >= min_count].index)\n",
    "amz_filter = amz[amz['asin'].isin(asin_filter)].reset_index(drop=True)\n",
    "\n",
    "print(f\"Removed {len(review_count) - (review_count > min_count).sum()} items\")"
   ]
  },
  {
   "cell_type": "code",
   "execution_count": 5,
   "metadata": {},
   "outputs": [
    {
     "name": "stdout",
     "output_type": "stream",
     "text": [
      "Removed 13998 user\n"
     ]
    }
   ],
   "source": [
    "# filter users with 3+ reviews\n",
    "review_count = amz_filter[\"reviewerID\"].value_counts()\n",
    "\n",
    "min_count = 3\n",
    "user_filter = list(review_count[review_count >= min_count].index)\n",
    "amz_filter = amz_filter[amz_filter['reviewerID'].isin(user_filter)].reset_index(drop=True)\n",
    "\n",
    "print(f\"Removed {len(review_count) - (review_count >= min_count).sum()} user\")"
   ]
  },
  {
   "cell_type": "code",
   "execution_count": 6,
   "metadata": {},
   "outputs": [
    {
     "data": {
      "text/html": [
       "<div>\n",
       "<style scoped>\n",
       "    .dataframe tbody tr th:only-of-type {\n",
       "        vertical-align: middle;\n",
       "    }\n",
       "\n",
       "    .dataframe tbody tr th {\n",
       "        vertical-align: top;\n",
       "    }\n",
       "\n",
       "    .dataframe thead th {\n",
       "        text-align: right;\n",
       "    }\n",
       "</style>\n",
       "<table border=\"1\" class=\"dataframe\">\n",
       "  <thead>\n",
       "    <tr style=\"text-align: right;\">\n",
       "      <th>asin</th>\n",
       "      <th>B00DUGZFWY</th>\n",
       "      <th>B00EEBS9O0</th>\n",
       "      <th>B00IOY8XWQ</th>\n",
       "      <th>B00IOYAM4I</th>\n",
       "      <th>B00QFQRELG</th>\n",
       "      <th>B00QWO9P0O</th>\n",
       "      <th>B00REQKWGA</th>\n",
       "      <th>B00VINDBJK</th>\n",
       "      <th>B00WRDS8H0</th>\n",
       "      <th>B00ZS0G0PG</th>\n",
       "      <th>...</th>\n",
       "      <th>B01AHBBG04</th>\n",
       "      <th>B01AHBDCKQ</th>\n",
       "      <th>B01BH83OOM</th>\n",
       "      <th>B01IO618J8</th>\n",
       "      <th>B01J94SBEY</th>\n",
       "      <th>B01J94SCAM</th>\n",
       "      <th>B01J94SWWU</th>\n",
       "      <th>B01J94T1Z2</th>\n",
       "      <th>B01J94YIT6</th>\n",
       "      <th>B06XD5YCKX</th>\n",
       "    </tr>\n",
       "    <tr>\n",
       "      <th>reviews.username</th>\n",
       "      <th></th>\n",
       "      <th></th>\n",
       "      <th></th>\n",
       "      <th></th>\n",
       "      <th></th>\n",
       "      <th></th>\n",
       "      <th></th>\n",
       "      <th></th>\n",
       "      <th></th>\n",
       "      <th></th>\n",
       "      <th></th>\n",
       "      <th></th>\n",
       "      <th></th>\n",
       "      <th></th>\n",
       "      <th></th>\n",
       "      <th></th>\n",
       "      <th></th>\n",
       "      <th></th>\n",
       "      <th></th>\n",
       "      <th></th>\n",
       "      <th></th>\n",
       "    </tr>\n",
       "  </thead>\n",
       "  <tbody>\n",
       "    <tr>\n",
       "      <th>1029cr</th>\n",
       "      <td>NaN</td>\n",
       "      <td>NaN</td>\n",
       "      <td>NaN</td>\n",
       "      <td>NaN</td>\n",
       "      <td>NaN</td>\n",
       "      <td>NaN</td>\n",
       "      <td>NaN</td>\n",
       "      <td>NaN</td>\n",
       "      <td>NaN</td>\n",
       "      <td>NaN</td>\n",
       "      <td>...</td>\n",
       "      <td>NaN</td>\n",
       "      <td>NaN</td>\n",
       "      <td>NaN</td>\n",
       "      <td>NaN</td>\n",
       "      <td>NaN</td>\n",
       "      <td>NaN</td>\n",
       "      <td>NaN</td>\n",
       "      <td>NaN</td>\n",
       "      <td>NaN</td>\n",
       "      <td>NaN</td>\n",
       "    </tr>\n",
       "    <tr>\n",
       "      <th>1234</th>\n",
       "      <td>NaN</td>\n",
       "      <td>NaN</td>\n",
       "      <td>NaN</td>\n",
       "      <td>NaN</td>\n",
       "      <td>NaN</td>\n",
       "      <td>NaN</td>\n",
       "      <td>NaN</td>\n",
       "      <td>NaN</td>\n",
       "      <td>NaN</td>\n",
       "      <td>NaN</td>\n",
       "      <td>...</td>\n",
       "      <td>NaN</td>\n",
       "      <td>NaN</td>\n",
       "      <td>4.0</td>\n",
       "      <td>NaN</td>\n",
       "      <td>NaN</td>\n",
       "      <td>NaN</td>\n",
       "      <td>NaN</td>\n",
       "      <td>NaN</td>\n",
       "      <td>NaN</td>\n",
       "      <td>NaN</td>\n",
       "    </tr>\n",
       "    <tr>\n",
       "      <th>12345</th>\n",
       "      <td>NaN</td>\n",
       "      <td>NaN</td>\n",
       "      <td>NaN</td>\n",
       "      <td>NaN</td>\n",
       "      <td>NaN</td>\n",
       "      <td>NaN</td>\n",
       "      <td>NaN</td>\n",
       "      <td>NaN</td>\n",
       "      <td>NaN</td>\n",
       "      <td>NaN</td>\n",
       "      <td>...</td>\n",
       "      <td>NaN</td>\n",
       "      <td>NaN</td>\n",
       "      <td>NaN</td>\n",
       "      <td>NaN</td>\n",
       "      <td>NaN</td>\n",
       "      <td>NaN</td>\n",
       "      <td>NaN</td>\n",
       "      <td>NaN</td>\n",
       "      <td>NaN</td>\n",
       "      <td>NaN</td>\n",
       "    </tr>\n",
       "    <tr>\n",
       "      <th>123456</th>\n",
       "      <td>NaN</td>\n",
       "      <td>NaN</td>\n",
       "      <td>NaN</td>\n",
       "      <td>NaN</td>\n",
       "      <td>NaN</td>\n",
       "      <td>NaN</td>\n",
       "      <td>NaN</td>\n",
       "      <td>NaN</td>\n",
       "      <td>NaN</td>\n",
       "      <td>NaN</td>\n",
       "      <td>...</td>\n",
       "      <td>NaN</td>\n",
       "      <td>NaN</td>\n",
       "      <td>NaN</td>\n",
       "      <td>NaN</td>\n",
       "      <td>NaN</td>\n",
       "      <td>NaN</td>\n",
       "      <td>NaN</td>\n",
       "      <td>NaN</td>\n",
       "      <td>NaN</td>\n",
       "      <td>NaN</td>\n",
       "    </tr>\n",
       "    <tr>\n",
       "      <th>1234ABC</th>\n",
       "      <td>NaN</td>\n",
       "      <td>NaN</td>\n",
       "      <td>NaN</td>\n",
       "      <td>NaN</td>\n",
       "      <td>NaN</td>\n",
       "      <td>NaN</td>\n",
       "      <td>NaN</td>\n",
       "      <td>NaN</td>\n",
       "      <td>NaN</td>\n",
       "      <td>NaN</td>\n",
       "      <td>...</td>\n",
       "      <td>NaN</td>\n",
       "      <td>NaN</td>\n",
       "      <td>NaN</td>\n",
       "      <td>NaN</td>\n",
       "      <td>NaN</td>\n",
       "      <td>NaN</td>\n",
       "      <td>NaN</td>\n",
       "      <td>NaN</td>\n",
       "      <td>NaN</td>\n",
       "      <td>NaN</td>\n",
       "    </tr>\n",
       "    <tr>\n",
       "      <th>...</th>\n",
       "      <td>...</td>\n",
       "      <td>...</td>\n",
       "      <td>...</td>\n",
       "      <td>...</td>\n",
       "      <td>...</td>\n",
       "      <td>...</td>\n",
       "      <td>...</td>\n",
       "      <td>...</td>\n",
       "      <td>...</td>\n",
       "      <td>...</td>\n",
       "      <td>...</td>\n",
       "      <td>...</td>\n",
       "      <td>...</td>\n",
       "      <td>...</td>\n",
       "      <td>...</td>\n",
       "      <td>...</td>\n",
       "      <td>...</td>\n",
       "      <td>...</td>\n",
       "      <td>...</td>\n",
       "      <td>...</td>\n",
       "      <td>...</td>\n",
       "    </tr>\n",
       "    <tr>\n",
       "      <th>yolo</th>\n",
       "      <td>NaN</td>\n",
       "      <td>NaN</td>\n",
       "      <td>NaN</td>\n",
       "      <td>NaN</td>\n",
       "      <td>NaN</td>\n",
       "      <td>NaN</td>\n",
       "      <td>NaN</td>\n",
       "      <td>NaN</td>\n",
       "      <td>NaN</td>\n",
       "      <td>NaN</td>\n",
       "      <td>...</td>\n",
       "      <td>NaN</td>\n",
       "      <td>NaN</td>\n",
       "      <td>NaN</td>\n",
       "      <td>NaN</td>\n",
       "      <td>NaN</td>\n",
       "      <td>NaN</td>\n",
       "      <td>NaN</td>\n",
       "      <td>NaN</td>\n",
       "      <td>NaN</td>\n",
       "      <td>NaN</td>\n",
       "    </tr>\n",
       "    <tr>\n",
       "      <th>zane1222</th>\n",
       "      <td>NaN</td>\n",
       "      <td>NaN</td>\n",
       "      <td>NaN</td>\n",
       "      <td>NaN</td>\n",
       "      <td>NaN</td>\n",
       "      <td>NaN</td>\n",
       "      <td>NaN</td>\n",
       "      <td>NaN</td>\n",
       "      <td>NaN</td>\n",
       "      <td>NaN</td>\n",
       "      <td>...</td>\n",
       "      <td>NaN</td>\n",
       "      <td>NaN</td>\n",
       "      <td>NaN</td>\n",
       "      <td>NaN</td>\n",
       "      <td>NaN</td>\n",
       "      <td>NaN</td>\n",
       "      <td>NaN</td>\n",
       "      <td>NaN</td>\n",
       "      <td>NaN</td>\n",
       "      <td>NaN</td>\n",
       "    </tr>\n",
       "    <tr>\n",
       "      <th>zeke</th>\n",
       "      <td>NaN</td>\n",
       "      <td>NaN</td>\n",
       "      <td>NaN</td>\n",
       "      <td>NaN</td>\n",
       "      <td>NaN</td>\n",
       "      <td>NaN</td>\n",
       "      <td>NaN</td>\n",
       "      <td>NaN</td>\n",
       "      <td>NaN</td>\n",
       "      <td>NaN</td>\n",
       "      <td>...</td>\n",
       "      <td>5.0</td>\n",
       "      <td>NaN</td>\n",
       "      <td>NaN</td>\n",
       "      <td>NaN</td>\n",
       "      <td>NaN</td>\n",
       "      <td>NaN</td>\n",
       "      <td>NaN</td>\n",
       "      <td>NaN</td>\n",
       "      <td>NaN</td>\n",
       "      <td>NaN</td>\n",
       "    </tr>\n",
       "    <tr>\n",
       "      <th>ziggy24</th>\n",
       "      <td>NaN</td>\n",
       "      <td>NaN</td>\n",
       "      <td>NaN</td>\n",
       "      <td>NaN</td>\n",
       "      <td>NaN</td>\n",
       "      <td>NaN</td>\n",
       "      <td>NaN</td>\n",
       "      <td>NaN</td>\n",
       "      <td>NaN</td>\n",
       "      <td>NaN</td>\n",
       "      <td>...</td>\n",
       "      <td>NaN</td>\n",
       "      <td>NaN</td>\n",
       "      <td>NaN</td>\n",
       "      <td>NaN</td>\n",
       "      <td>NaN</td>\n",
       "      <td>NaN</td>\n",
       "      <td>NaN</td>\n",
       "      <td>NaN</td>\n",
       "      <td>NaN</td>\n",
       "      <td>NaN</td>\n",
       "    </tr>\n",
       "    <tr>\n",
       "      <th>zmax192</th>\n",
       "      <td>NaN</td>\n",
       "      <td>NaN</td>\n",
       "      <td>NaN</td>\n",
       "      <td>NaN</td>\n",
       "      <td>NaN</td>\n",
       "      <td>NaN</td>\n",
       "      <td>NaN</td>\n",
       "      <td>NaN</td>\n",
       "      <td>NaN</td>\n",
       "      <td>NaN</td>\n",
       "      <td>...</td>\n",
       "      <td>NaN</td>\n",
       "      <td>NaN</td>\n",
       "      <td>NaN</td>\n",
       "      <td>NaN</td>\n",
       "      <td>NaN</td>\n",
       "      <td>NaN</td>\n",
       "      <td>NaN</td>\n",
       "      <td>NaN</td>\n",
       "      <td>NaN</td>\n",
       "      <td>NaN</td>\n",
       "    </tr>\n",
       "  </tbody>\n",
       "</table>\n",
       "<p>2170 rows × 34 columns</p>\n",
       "</div>"
      ],
      "text/plain": [
       "asin              B00DUGZFWY  B00EEBS9O0  B00IOY8XWQ  B00IOYAM4I  B00QFQRELG  \\\n",
       "reviews.username                                                               \n",
       "1029cr                   NaN         NaN         NaN         NaN         NaN   \n",
       "1234                     NaN         NaN         NaN         NaN         NaN   \n",
       "12345                    NaN         NaN         NaN         NaN         NaN   \n",
       "123456                   NaN         NaN         NaN         NaN         NaN   \n",
       "1234ABC                  NaN         NaN         NaN         NaN         NaN   \n",
       "...                      ...         ...         ...         ...         ...   \n",
       "yolo                     NaN         NaN         NaN         NaN         NaN   \n",
       "zane1222                 NaN         NaN         NaN         NaN         NaN   \n",
       "zeke                     NaN         NaN         NaN         NaN         NaN   \n",
       "ziggy24                  NaN         NaN         NaN         NaN         NaN   \n",
       "zmax192                  NaN         NaN         NaN         NaN         NaN   \n",
       "\n",
       "asin              B00QWO9P0O  B00REQKWGA  B00VINDBJK  B00WRDS8H0  B00ZS0G0PG  \\\n",
       "reviews.username                                                               \n",
       "1029cr                   NaN         NaN         NaN         NaN         NaN   \n",
       "1234                     NaN         NaN         NaN         NaN         NaN   \n",
       "12345                    NaN         NaN         NaN         NaN         NaN   \n",
       "123456                   NaN         NaN         NaN         NaN         NaN   \n",
       "1234ABC                  NaN         NaN         NaN         NaN         NaN   \n",
       "...                      ...         ...         ...         ...         ...   \n",
       "yolo                     NaN         NaN         NaN         NaN         NaN   \n",
       "zane1222                 NaN         NaN         NaN         NaN         NaN   \n",
       "zeke                     NaN         NaN         NaN         NaN         NaN   \n",
       "ziggy24                  NaN         NaN         NaN         NaN         NaN   \n",
       "zmax192                  NaN         NaN         NaN         NaN         NaN   \n",
       "\n",
       "asin              ...  B01AHBBG04  B01AHBDCKQ  B01BH83OOM  B01IO618J8  \\\n",
       "reviews.username  ...                                                   \n",
       "1029cr            ...         NaN         NaN         NaN         NaN   \n",
       "1234              ...         NaN         NaN         4.0         NaN   \n",
       "12345             ...         NaN         NaN         NaN         NaN   \n",
       "123456            ...         NaN         NaN         NaN         NaN   \n",
       "1234ABC           ...         NaN         NaN         NaN         NaN   \n",
       "...               ...         ...         ...         ...         ...   \n",
       "yolo              ...         NaN         NaN         NaN         NaN   \n",
       "zane1222          ...         NaN         NaN         NaN         NaN   \n",
       "zeke              ...         5.0         NaN         NaN         NaN   \n",
       "ziggy24           ...         NaN         NaN         NaN         NaN   \n",
       "zmax192           ...         NaN         NaN         NaN         NaN   \n",
       "\n",
       "asin              B01J94SBEY  B01J94SCAM  B01J94SWWU  B01J94T1Z2  B01J94YIT6  \\\n",
       "reviews.username                                                               \n",
       "1029cr                   NaN         NaN         NaN         NaN         NaN   \n",
       "1234                     NaN         NaN         NaN         NaN         NaN   \n",
       "12345                    NaN         NaN         NaN         NaN         NaN   \n",
       "123456                   NaN         NaN         NaN         NaN         NaN   \n",
       "1234ABC                  NaN         NaN         NaN         NaN         NaN   \n",
       "...                      ...         ...         ...         ...         ...   \n",
       "yolo                     NaN         NaN         NaN         NaN         NaN   \n",
       "zane1222                 NaN         NaN         NaN         NaN         NaN   \n",
       "zeke                     NaN         NaN         NaN         NaN         NaN   \n",
       "ziggy24                  NaN         NaN         NaN         NaN         NaN   \n",
       "zmax192                  NaN         NaN         NaN         NaN         NaN   \n",
       "\n",
       "asin              B06XD5YCKX  \n",
       "reviews.username              \n",
       "1029cr                   NaN  \n",
       "1234                     NaN  \n",
       "12345                    NaN  \n",
       "123456                   NaN  \n",
       "1234ABC                  NaN  \n",
       "...                      ...  \n",
       "yolo                     NaN  \n",
       "zane1222                 NaN  \n",
       "zeke                     NaN  \n",
       "ziggy24                  NaN  \n",
       "zmax192                  NaN  \n",
       "\n",
       "[2170 rows x 34 columns]"
      ]
     },
     "execution_count": 6,
     "metadata": {},
     "output_type": "execute_result"
    }
   ],
   "source": [
    "# pivot dataframe -> rows=users, columns=items, values=rating\n",
    "amz_pivot = amz_filter.pivot_table(index='reviews.username', values='reviews.rating', columns='asin')\n",
    "amz_pivot"
   ]
  },
  {
   "cell_type": "code",
   "execution_count": 7,
   "metadata": {},
   "outputs": [
    {
     "data": {
      "text/plain": [
       "0.9051504472756845"
      ]
     },
     "execution_count": 7,
     "metadata": {},
     "output_type": "execute_result"
    }
   ],
   "source": [
    "# Most values are NA\n",
    "\n",
    "def compute_sparsity(df):\n",
    "    return np.sum(np.ravel(np.isnan(df.values))) / np.ravel(df.values).shape[0]\n",
    "\n",
    "compute_sparsity(amz_pivot)"
   ]
  },
  {
   "cell_type": "markdown",
   "metadata": {},
   "source": [
    "# Exercise 2"
   ]
  },
  {
   "cell_type": "code",
   "execution_count": 8,
   "metadata": {},
   "outputs": [
    {
     "data": {
      "image/png": "[encoded data removed]",
      "text/plain": [
       "<Figure size 432x288 with 1 Axes>"
      ]
     },
     "metadata": {
      "needs_background": "light"
     },
     "output_type": "display_data"
    }
   ],
   "source": [
    "# convert timestamp to datetime\n",
    "amz_filter[\"reviews.date\"] = pd.to_datetime(amz_filter[\"reviews.date\"])\n",
    "\n",
    "amz_filter[\"reviews.date\"].hist(xrot=20)\n",
    "plt.title(\"Distribution of Review Date\")\n",
    "plt.show()"
   ]
  },
  {
   "cell_type": "code",
   "execution_count": 9,
   "metadata": {},
   "outputs": [],
   "source": [
    "# split dataframe in train and test\n",
    "cutoff_date = \"05.01.2017\" \n",
    "\n",
    "train = amz_filter[amz_filter['reviews.date'] < cutoff_date].reset_index(drop=True)\n",
    "test = amz_filter[amz_filter['reviews.date'] >= cutoff_date].reset_index(drop=True)"
   ]
  },
  {
   "cell_type": "code",
   "execution_count": 10,
   "metadata": {},
   "outputs": [
    {
     "data": {
      "text/plain": [
       "<AxesSubplot:>"
      ]
     },
     "execution_count": 10,
     "metadata": {},
     "output_type": "execute_result"
    },
    {
     "data": {
      "image/png": "[encoded data removed]",
      "text/plain": [
       "<Figure size 432x288 with 1 Axes>"
      ]
     },
     "metadata": {
      "needs_background": "light"
     },
     "output_type": "display_data"
    }
   ],
   "source": [
    "test['reviews.date'].hist(xrot=30)"
   ]
  },
  {
   "cell_type": "code",
   "execution_count": 11,
   "metadata": {},
   "outputs": [],
   "source": [
    "# filter columns\n",
    "filter_cols = [\"reviews.username\", \"asin\", \"reviews.rating\"]\n",
    "\n",
    "train = train[filter_cols]\n",
    "test = test[filter_cols]"
   ]
  },
  {
   "cell_type": "code",
   "execution_count": 12,
   "metadata": {},
   "outputs": [
    {
     "name": "stdout",
     "output_type": "stream",
     "text": [
      "------ Train ------\n",
      "Nr items: 27\n",
      "Nr users: 2065\n",
      "\n",
      "------ Test ------\n",
      "Nr items: 28\n",
      "Nr users: 470\n",
      "\n",
      "Nr new items: 7\n",
      "Nr new users: 105\n"
     ]
    }
   ],
   "source": [
    "print('------ Train ------')\n",
    "print('Nr items:', len(train[\"asin\"].unique()))\n",
    "print('Nr users:', len(train[\"reviews.username\"].unique()))\n",
    "\n",
    "print('\\n------ Test ------')\n",
    "print('Nr items:', len(test[\"asin\"].unique()))\n",
    "print('Nr users:', len(test[\"reviews.username\"].unique()))\n",
    "\n",
    "print('\\nNr new items:', len(set(test[\"asin\"])-set(train[\"asin\"])))\n",
    "print('Nr new users:', len(set(test[\"reviews.username\"])-set(train[\"reviews.username\"])))"
   ]
  },
  {
   "cell_type": "code",
   "execution_count": 13,
   "metadata": {},
   "outputs": [],
   "source": [
    "from surprise import Dataset\n",
    "from surprise import Reader\n",
    "\n",
    "# set up reader with min rating and max rating as arguments\n",
    "reader = Reader(rating_scale=(1, 5))\n",
    "\n",
    "# surprise training and test set\n",
    "df_train = Dataset.load_from_df(train, reader).build_full_trainset()\n",
    "df_test = list(test.itertuples(index=False, name=None))"
   ]
  },
  {
   "cell_type": "code",
   "execution_count": 14,
   "metadata": {},
   "outputs": [
    {
     "name": "stdout",
     "output_type": "stream",
     "text": [
      "Computing the cosine similarity matrix...\n",
      "Done computing similarity matrix.\n"
     ]
    },
    {
     "data": {
      "text/plain": [
       "<surprise.prediction_algorithms.knns.KNNBasic at 0x239c0eaf310>"
      ]
     },
     "execution_count": 14,
     "metadata": {},
     "output_type": "execute_result"
    }
   ],
   "source": [
    "from surprise import KNNBasic\n",
    "\n",
    "# set option to cosine similarity and user-based collaborative filtering\n",
    "options = {'name':'cosine', 'user_based':True}\n",
    "\n",
    "# select 20 most similar users (min 5)\n",
    "ub = KNNBasic(k=20, min_k=5, sim_options=options, random_state=42)\n",
    "\n",
    "# fit on training set\n",
    "ub.fit(df_train)"
   ]
  },
  {
   "cell_type": "code",
   "execution_count": 15,
   "metadata": {},
   "outputs": [
    {
     "name": "stdout",
     "output_type": "stream",
     "text": [
      "RMSE: 0.8937\n",
      "Impossible: 0.5381\n"
     ]
    }
   ],
   "source": [
    "from surprise import accuracy\n",
    "\n",
    "pred = ub.test(df_test)\n",
    "accuracy.rmse(pred)\n",
    "\n",
    "# percentage impossible predictions\n",
    "perc_impossible = np.sum([1 for i in pred if i.details[\"was_impossible\"]]) / len(pred)\n",
    "print(f\"Impossible: {perc_impossible:.4f}\")"
   ]
  },
  {
   "cell_type": "code",
   "execution_count": 16,
   "metadata": {},
   "outputs": [
    {
     "data": {
      "text/plain": [
       "4.52141870105942"
      ]
     },
     "execution_count": 16,
     "metadata": {},
     "output_type": "execute_result"
    }
   ],
   "source": [
    "ub.default_prediction()"
   ]
  },
  {
   "cell_type": "markdown",
   "metadata": {},
   "source": [
    "# Exercise 4"
   ]
  },
  {
   "cell_type": "code",
   "execution_count": 17,
   "metadata": {},
   "outputs": [
    {
     "name": "stdout",
     "output_type": "stream",
     "text": [
      "Computing the pearson similarity matrix...\n",
      "Done computing similarity matrix.\n"
     ]
    },
    {
     "data": {
      "text/plain": [
       "<surprise.prediction_algorithms.knns.KNNBasic at 0x239c0ed0520>"
      ]
     },
     "execution_count": 17,
     "metadata": {},
     "output_type": "execute_result"
    }
   ],
   "source": [
    "# set option to cosine similarity and user-based collaborative filtering\n",
    "options = {'name':'pearson', 'user_based':False}\n",
    "\n",
    "# select 20 most similar items (min 5)\n",
    "ib = KNNBasic(k=10, min_k=2, sim_options=options, random_state=42)\n",
    "\n",
    "# fit on training set\n",
    "ib.fit(df_train)"
   ]
  },
  {
   "cell_type": "code",
   "execution_count": 18,
   "metadata": {},
   "outputs": [
    {
     "name": "stdout",
     "output_type": "stream",
     "text": [
      "RMSE: 0.9293\n",
      "Impossible: 0.6393\n"
     ]
    }
   ],
   "source": [
    "pred = ib.test(df_test)\n",
    "accuracy.rmse(pred)\n",
    "\n",
    "# percentage impossible predictions\n",
    "perc_impossible = np.sum([1 for i in pred if i.details[\"was_impossible\"]]) / len(pred)\n",
    "print(f\"Impossible: {perc_impossible:.4f}\")"
   ]
  },
  {
   "cell_type": "code",
   "execution_count": 19,
   "metadata": {},
   "outputs": [
    {
     "data": {
      "text/plain": [
       "4.52141870105942"
      ]
     },
     "execution_count": 19,
     "metadata": {},
     "output_type": "execute_result"
    }
   ],
   "source": [
    "ib.default_prediction()"
   ]
  },
  {
   "cell_type": "markdown",
   "metadata": {},
   "source": [
    "# Exercise 5"
   ]
  },
  {
   "cell_type": "code",
   "execution_count": 20,
   "metadata": {},
   "outputs": [
    {
     "name": "stdout",
     "output_type": "stream",
     "text": [
      "Estimating biases using als...\n",
      "RMSE: 0.8777\n",
      "Impossible: 0.0000\n"
     ]
    }
   ],
   "source": [
    "from surprise import BaselineOnly\n",
    "\n",
    "# Select alternating least squares (ALS) and 30 epochs\n",
    "options = {\"method\": \"als\", \"n_epochs\": 30}\n",
    "als = BaselineOnly(bsl_options=options)\n",
    "\n",
    "# fit on training set\n",
    "als.fit(df_train)\n",
    "\n",
    "pred = als.test(df_test)\n",
    "accuracy.rmse(pred)\n",
    "\n",
    "# percentage impossible predictions\n",
    "perc_impossible = np.sum([1 for i in pred if i.details[\"was_impossible\"]]) / len(pred)\n",
    "print(f\"Impossible: {perc_impossible:.4f}\")"
   ]
  },
  {
   "cell_type": "code",
   "execution_count": 21,
   "metadata": {},
   "outputs": [
    {
     "name": "stdout",
     "output_type": "stream",
     "text": [
      "RMSE: 1.1432\n",
      "Impossible: 0.5365\n"
     ]
    }
   ],
   "source": [
    "from surprise import SVD\n",
    "\n",
    "# select 20 factors and use probabilistic matrix factorization (no bias)\n",
    "svd = SVD(n_factors=20, biased=False, random_state=42)\n",
    "\n",
    "# fit on training set\n",
    "svd.fit(df_train)\n",
    "\n",
    "pred = svd.test(df_test)\n",
    "accuracy.rmse(pred)\n",
    "\n",
    "# percentage impossible predictions\n",
    "perc_impossible = np.sum([1 for i in pred if i.details[\"was_impossible\"]]) / len(pred)\n",
    "print(f\"Impossible: {perc_impossible:.4f}\")"
   ]
  },
  {
   "cell_type": "code",
   "execution_count": 22,
   "metadata": {},
   "outputs": [
    {
     "name": "stdout",
     "output_type": "stream",
     "text": [
      "4.52141870105942\n",
      "4.52141870105942\n"
     ]
    }
   ],
   "source": [
    "print(als.default_prediction())\n",
    "print(svd.default_prediction())"
   ]
  },
  {
   "cell_type": "markdown",
   "metadata": {},
   "source": [
    "# Exercise 6"
   ]
  },
  {
   "cell_type": "code",
   "execution_count": 23,
   "metadata": {},
   "outputs": [
    {
     "name": "stderr",
     "output_type": "stream",
     "text": [
      "C:\\Users\\PE78B~1.BOR\\AppData\\Local\\Temp/ipykernel_20976/4067302191.py:5: DeprecationWarning: `np.int` is a deprecated alias for the builtin `int`. To silence this warning, use `int` by itself. Doing this will not modify any behavior and is safe. When replacing `np.int`, you may wish to use e.g. `np.int64` or `np.int32` to specify the precision. If you wish to review your current use, check the release note link for additional information.\n",
      "Deprecated in NumPy 1.20; for more details and guidance: https://numpy.org/devdocs/release/1.20.0-notes.html#deprecations\n",
      "  clust.fit(df_train)\n"
     ]
    },
    {
     "data": {
      "text/plain": [
       "<surprise.prediction_algorithms.co_clustering.CoClustering at 0x239c0fb9490>"
      ]
     },
     "execution_count": 23,
     "metadata": {},
     "output_type": "execute_result"
    }
   ],
   "source": [
    "from surprise import CoClustering\n",
    "\n",
    "clust = CoClustering(n_cltr_u=10, n_cltr_i=10, n_epochs=50, random_state=42)\n",
    "\n",
    "clust.fit(df_train)"
   ]
  },
  {
   "cell_type": "code",
   "execution_count": 24,
   "metadata": {},
   "outputs": [
    {
     "name": "stdout",
     "output_type": "stream",
     "text": [
      "RMSE: 0.9975\n",
      "Impossible: 0.0000\n"
     ]
    }
   ],
   "source": [
    "pred = clust.test(df_test)\n",
    "accuracy.rmse(pred)\n",
    "\n",
    "# percentage impossible predictions\n",
    "perc_impossible = np.sum([1 for i in pred if i.details[\"was_impossible\"]]) / len(pred)\n",
    "print(f\"Impossible: {perc_impossible:.4f}\")"
   ]
  },
  {
   "cell_type": "code",
   "execution_count": 25,
   "metadata": {},
   "outputs": [
    {
     "data": {
      "text/plain": [
       "4.52141870105942"
      ]
     },
     "execution_count": 25,
     "metadata": {},
     "output_type": "execute_result"
    }
   ],
   "source": [
    "clust.default_prediction()"
   ]
  },
  {
   "cell_type": "markdown",
   "metadata": {},
   "source": [
    "# Exercise 7"
   ]
  },
  {
   "cell_type": "code",
   "execution_count": 26,
   "metadata": {},
   "outputs": [],
   "source": [
    "def predict_user_topn(model, train, user, topk=15, item_col='item'):\n",
    "    \"\"\"\n",
    "    Returns topk items for specified user.\n",
    "    Return type: list\n",
    "\n",
    "    Args[model, train, user, topk, item_col]\n",
    "    model:      fitted model (surprise package)\n",
    "    train:      train set used to fit model\n",
    "    user:       user id\n",
    "    topk:       topk items to return\n",
    "    item_col:   column containing item ids \n",
    "    \"\"\"\n",
    "\n",
    "    # intermediate result dict \n",
    "    res = {item_col:[], 'pred':[], 'detail':[]}\n",
    "    \n",
    "    # iter through all items contained in train set\n",
    "    for item in set(train[item_col]) :\n",
    "        uid, iid, true_r, est, detail = model.predict(user,item)\n",
    "        if detail['was_impossible']: continue\n",
    "        # save to result dict\n",
    "        res[item_col].append(item)\n",
    "        res['pred'].append(est)\n",
    "        res['detail'].append(detail)\n",
    "\n",
    "    return list(pd.DataFrame(res).sort_values('pred', ascending=False)[:topk][item_col])"
   ]
  },
  {
   "cell_type": "code",
   "execution_count": 27,
   "metadata": {},
   "outputs": [
    {
     "data": {
      "text/html": [
       "<div>\n",
       "<style scoped>\n",
       "    .dataframe tbody tr th:only-of-type {\n",
       "        vertical-align: middle;\n",
       "    }\n",
       "\n",
       "    .dataframe tbody tr th {\n",
       "        vertical-align: top;\n",
       "    }\n",
       "\n",
       "    .dataframe thead th {\n",
       "        text-align: right;\n",
       "    }\n",
       "</style>\n",
       "<table border=\"1\" class=\"dataframe\">\n",
       "  <thead>\n",
       "    <tr style=\"text-align: right;\">\n",
       "      <th></th>\n",
       "      <th>user_based</th>\n",
       "      <th>item_based</th>\n",
       "      <th>als</th>\n",
       "      <th>svd</th>\n",
       "      <th>coclustering</th>\n",
       "    </tr>\n",
       "  </thead>\n",
       "  <tbody>\n",
       "    <tr>\n",
       "      <th>0</th>\n",
       "      <td>Amazon 9W PowerFast Official OEM USB Charger a...</td>\n",
       "      <td>All-New Fire HD 8 Tablet, 8 HD Display, Wi-Fi,...</td>\n",
       "      <td>Amazon 9W PowerFast Official OEM USB Charger a...</td>\n",
       "      <td>Fire HD 8 Tablet with Alexa, 8 HD Display, 16 ...</td>\n",
       "      <td>All-New Fire HD 8 Tablet, 8 HD Display, Wi-Fi,...</td>\n",
       "    </tr>\n",
       "    <tr>\n",
       "      <th>1</th>\n",
       "      <td>Fire Kids Edition Tablet, 7 Display, Wi-Fi, 16...</td>\n",
       "      <td>Kindle Voyage E-reader, 6 High-Resolution Disp...</td>\n",
       "      <td>Kindle Voyage E-reader, 6 High-Resolution Disp...</td>\n",
       "      <td>All-New Fire HD 8 Tablet, 8 HD Display, Wi-Fi,...</td>\n",
       "      <td>Amazon Tap Smart Assistant Alexaenabled (black...</td>\n",
       "    </tr>\n",
       "    <tr>\n",
       "      <th>2</th>\n",
       "      <td>Fire Kids Edition Tablet, 7 Display, Wi-Fi, 16...</td>\n",
       "      <td>Kindle Oasis E-reader with Leather Charging Co...</td>\n",
       "      <td>Kindle Voyage E-reader, 6 High-Resolution Disp...</td>\n",
       "      <td>Amazon Tap Smart Assistant Alexaenabled (black...</td>\n",
       "      <td>Fire HD 8 Tablet with Alexa, 8 HD Display, 16 ...</td>\n",
       "    </tr>\n",
       "  </tbody>\n",
       "</table>\n",
       "</div>"
      ],
      "text/plain": [
       "                                          user_based  \\\n",
       "0  Amazon 9W PowerFast Official OEM USB Charger a...   \n",
       "1  Fire Kids Edition Tablet, 7 Display, Wi-Fi, 16...   \n",
       "2  Fire Kids Edition Tablet, 7 Display, Wi-Fi, 16...   \n",
       "\n",
       "                                          item_based  \\\n",
       "0  All-New Fire HD 8 Tablet, 8 HD Display, Wi-Fi,...   \n",
       "1  Kindle Voyage E-reader, 6 High-Resolution Disp...   \n",
       "2  Kindle Oasis E-reader with Leather Charging Co...   \n",
       "\n",
       "                                                 als  \\\n",
       "0  Amazon 9W PowerFast Official OEM USB Charger a...   \n",
       "1  Kindle Voyage E-reader, 6 High-Resolution Disp...   \n",
       "2  Kindle Voyage E-reader, 6 High-Resolution Disp...   \n",
       "\n",
       "                                                 svd  \\\n",
       "0  Fire HD 8 Tablet with Alexa, 8 HD Display, 16 ...   \n",
       "1  All-New Fire HD 8 Tablet, 8 HD Display, Wi-Fi,...   \n",
       "2  Amazon Tap Smart Assistant Alexaenabled (black...   \n",
       "\n",
       "                                        coclustering  \n",
       "0  All-New Fire HD 8 Tablet, 8 HD Display, Wi-Fi,...  \n",
       "1  Amazon Tap Smart Assistant Alexaenabled (black...  \n",
       "2  Fire HD 8 Tablet with Alexa, 8 HD Display, 16 ...  "
      ]
     },
     "execution_count": 27,
     "metadata": {},
     "output_type": "execute_result"
    }
   ],
   "source": [
    "# Top 3 recommendations for user \"Robert\"\n",
    "\n",
    "user = \"Robert\"\n",
    "topk = 3\n",
    "\n",
    "res = {}\n",
    "for model_name, model in dict(user_based=ub, item_based=ib, als=als, svd=svd, coclustering=clust).items():\n",
    "    pred = predict_user_topn(model, train, user=user, topk=topk, item_col=\"asin\")\n",
    "\n",
    "    # get name for each of the predicted product ids\n",
    "    pred_name = [lookup_asin.loc[i][\"name\"] for i in pred]\n",
    "\n",
    "    res[model_name] = pred_name\n",
    "\n",
    "pd.DataFrame(res)"
   ]
  },
  {
   "cell_type": "markdown",
   "metadata": {},
   "source": [
    "# Save datasets"
   ]
  },
  {
   "cell_type": "code",
   "execution_count": 28,
   "metadata": {},
   "outputs": [],
   "source": [
    "amz_filter.to_csv(\"amz_base.csv\", index=False)\n",
    "train.to_csv(\"amz_train.csv\", index=False)\n",
    "test.to_csv(\"amz_test.csv\", index=False)"
   ]
  }
 ],
 "metadata": {
  "kernelspec": {
   "display_name": "Python 3 (ipykernel)",
   "language": "python",
   "name": "python3"
  },
  "language_info": {
   "codemirror_mode": {
    "name": "ipython",
    "version": 3
   },
   "file_extension": ".py",
   "mimetype": "text/x-python",
   "name": "python",
   "nbconvert_exporter": "python",
   "pygments_lexer": "ipython3",
   "version": "3.9.7"
  }
 },
 "nbformat": 4,
 "nbformat_minor": 2
}
