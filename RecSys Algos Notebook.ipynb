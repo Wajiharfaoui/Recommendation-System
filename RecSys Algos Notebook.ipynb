{
 "cells": [
  {
   "cell_type": "markdown",
   "id": "52509496",
   "metadata": {},
   "source": [
    "# Collaborative Filtering Models"
   ]
  },
  {
   "cell_type": "code",
   "execution_count": 2,
   "id": "def3b072",
   "metadata": {},
   "outputs": [],
   "source": [
    "import pandas as pd\n",
    "import numpy as np \n",
    "import matplotlib.pyplot as plt\n",
    "import os\n",
    "from datetime import datetime\n",
    "import surprise \n",
    "from sklearn.model_selection import train_test_split\n",
    "from surprise.model_selection import GridSearchCV, KFold\n",
    "from surprise import SVD\n",
    "from IESEGRecSys import eval\n",
    "from surprise import KNNBasic, SVD, CoClustering, Dataset, Reader"
   ]
  },
  {
   "cell_type": "code",
   "execution_count": 3,
   "id": "490fbbe0",
   "metadata": {
    "scrolled": true
   },
   "outputs": [
    {
     "data": {
      "text/plain": [
       "'c:\\\\Users\\\\warfaoui\\\\OneDrive - IESEG\\\\Desktop\\\\Recommendation Tools\\\\group_proj\\\\RecSys\\\\Recommendation-System'"
      ]
     },
     "execution_count": 3,
     "metadata": {},
     "output_type": "execute_result"
    }
   ],
   "source": [
    "os.getcwd()"
   ]
  },
  {
   "cell_type": "markdown",
   "id": "fbe35cd2",
   "metadata": {},
   "source": [
    "## Data Loading"
   ]
  },
  {
   "cell_type": "code",
   "execution_count": 4,
   "id": "dcb358ef",
   "metadata": {},
   "outputs": [],
   "source": [
    "artist_df = pd.read_table('Data/Data Group Assignment/Artists.dat')"
   ]
  },
  {
   "cell_type": "code",
   "execution_count": 5,
   "id": "f82e382f",
   "metadata": {},
   "outputs": [
    {
     "data": {
      "text/html": [
       "<div>\n",
       "<style scoped>\n",
       "    .dataframe tbody tr th:only-of-type {\n",
       "        vertical-align: middle;\n",
       "    }\n",
       "\n",
       "    .dataframe tbody tr th {\n",
       "        vertical-align: top;\n",
       "    }\n",
       "\n",
       "    .dataframe thead th {\n",
       "        text-align: right;\n",
       "    }\n",
       "</style>\n",
       "<table border=\"1\" class=\"dataframe\">\n",
       "  <thead>\n",
       "    <tr style=\"text-align: right;\">\n",
       "      <th></th>\n",
       "      <th>id</th>\n",
       "      <th>name</th>\n",
       "      <th>url</th>\n",
       "      <th>pictureURL</th>\n",
       "    </tr>\n",
       "  </thead>\n",
       "  <tbody>\n",
       "    <tr>\n",
       "      <th>0</th>\n",
       "      <td>1</td>\n",
       "      <td>MALICE MIZER</td>\n",
       "      <td>http://www.last.fm/music/MALICE+MIZER</td>\n",
       "      <td>http://userserve-ak.last.fm/serve/252/10808.jpg</td>\n",
       "    </tr>\n",
       "    <tr>\n",
       "      <th>1</th>\n",
       "      <td>2</td>\n",
       "      <td>Diary of Dreams</td>\n",
       "      <td>http://www.last.fm/music/Diary+of+Dreams</td>\n",
       "      <td>http://userserve-ak.last.fm/serve/252/3052066.jpg</td>\n",
       "    </tr>\n",
       "    <tr>\n",
       "      <th>2</th>\n",
       "      <td>3</td>\n",
       "      <td>Carpathian Forest</td>\n",
       "      <td>http://www.last.fm/music/Carpathian+Forest</td>\n",
       "      <td>http://userserve-ak.last.fm/serve/252/40222717...</td>\n",
       "    </tr>\n",
       "    <tr>\n",
       "      <th>3</th>\n",
       "      <td>4</td>\n",
       "      <td>Moi dix Mois</td>\n",
       "      <td>http://www.last.fm/music/Moi+dix+Mois</td>\n",
       "      <td>http://userserve-ak.last.fm/serve/252/54697835...</td>\n",
       "    </tr>\n",
       "    <tr>\n",
       "      <th>4</th>\n",
       "      <td>5</td>\n",
       "      <td>Bella Morte</td>\n",
       "      <td>http://www.last.fm/music/Bella+Morte</td>\n",
       "      <td>http://userserve-ak.last.fm/serve/252/14789013...</td>\n",
       "    </tr>\n",
       "  </tbody>\n",
       "</table>\n",
       "</div>"
      ],
      "text/plain": [
       "   id               name                                         url  \\\n",
       "0   1       MALICE MIZER       http://www.last.fm/music/MALICE+MIZER   \n",
       "1   2    Diary of Dreams    http://www.last.fm/music/Diary+of+Dreams   \n",
       "2   3  Carpathian Forest  http://www.last.fm/music/Carpathian+Forest   \n",
       "3   4       Moi dix Mois       http://www.last.fm/music/Moi+dix+Mois   \n",
       "4   5        Bella Morte        http://www.last.fm/music/Bella+Morte   \n",
       "\n",
       "                                          pictureURL  \n",
       "0    http://userserve-ak.last.fm/serve/252/10808.jpg  \n",
       "1  http://userserve-ak.last.fm/serve/252/3052066.jpg  \n",
       "2  http://userserve-ak.last.fm/serve/252/40222717...  \n",
       "3  http://userserve-ak.last.fm/serve/252/54697835...  \n",
       "4  http://userserve-ak.last.fm/serve/252/14789013...  "
      ]
     },
     "execution_count": 5,
     "metadata": {},
     "output_type": "execute_result"
    }
   ],
   "source": [
    "artist_df.head()"
   ]
  },
  {
   "cell_type": "code",
   "execution_count": 6,
   "id": "d711fb5f",
   "metadata": {},
   "outputs": [],
   "source": [
    "tags_df = pd.read_table('Data/Data Group Assignment/tags.dat',encoding='latin-1')"
   ]
  },
  {
   "cell_type": "code",
   "execution_count": 7,
   "id": "d66a9f24",
   "metadata": {},
   "outputs": [
    {
     "data": {
      "text/html": [
       "<div>\n",
       "<style scoped>\n",
       "    .dataframe tbody tr th:only-of-type {\n",
       "        vertical-align: middle;\n",
       "    }\n",
       "\n",
       "    .dataframe tbody tr th {\n",
       "        vertical-align: top;\n",
       "    }\n",
       "\n",
       "    .dataframe thead th {\n",
       "        text-align: right;\n",
       "    }\n",
       "</style>\n",
       "<table border=\"1\" class=\"dataframe\">\n",
       "  <thead>\n",
       "    <tr style=\"text-align: right;\">\n",
       "      <th></th>\n",
       "      <th>tagID</th>\n",
       "      <th>tagValue</th>\n",
       "    </tr>\n",
       "  </thead>\n",
       "  <tbody>\n",
       "    <tr>\n",
       "      <th>0</th>\n",
       "      <td>1</td>\n",
       "      <td>metal</td>\n",
       "    </tr>\n",
       "    <tr>\n",
       "      <th>1</th>\n",
       "      <td>2</td>\n",
       "      <td>alternative metal</td>\n",
       "    </tr>\n",
       "    <tr>\n",
       "      <th>2</th>\n",
       "      <td>3</td>\n",
       "      <td>goth rock</td>\n",
       "    </tr>\n",
       "    <tr>\n",
       "      <th>3</th>\n",
       "      <td>4</td>\n",
       "      <td>black metal</td>\n",
       "    </tr>\n",
       "    <tr>\n",
       "      <th>4</th>\n",
       "      <td>5</td>\n",
       "      <td>death metal</td>\n",
       "    </tr>\n",
       "  </tbody>\n",
       "</table>\n",
       "</div>"
      ],
      "text/plain": [
       "   tagID           tagValue\n",
       "0      1              metal\n",
       "1      2  alternative metal\n",
       "2      3          goth rock\n",
       "3      4        black metal\n",
       "4      5        death metal"
      ]
     },
     "execution_count": 7,
     "metadata": {},
     "output_type": "execute_result"
    }
   ],
   "source": [
    "tags_df.head()"
   ]
  },
  {
   "cell_type": "code",
   "execution_count": 8,
   "id": "6280d7c4",
   "metadata": {},
   "outputs": [],
   "source": [
    "user_artists_df = pd.read_table('Data/Data Group Assignment/user_artists.dat')"
   ]
  },
  {
   "cell_type": "code",
   "execution_count": 9,
   "id": "d6bf9184",
   "metadata": {},
   "outputs": [
    {
     "data": {
      "text/html": [
       "<div>\n",
       "<style scoped>\n",
       "    .dataframe tbody tr th:only-of-type {\n",
       "        vertical-align: middle;\n",
       "    }\n",
       "\n",
       "    .dataframe tbody tr th {\n",
       "        vertical-align: top;\n",
       "    }\n",
       "\n",
       "    .dataframe thead th {\n",
       "        text-align: right;\n",
       "    }\n",
       "</style>\n",
       "<table border=\"1\" class=\"dataframe\">\n",
       "  <thead>\n",
       "    <tr style=\"text-align: right;\">\n",
       "      <th></th>\n",
       "      <th>userID</th>\n",
       "      <th>artistID</th>\n",
       "      <th>weight</th>\n",
       "    </tr>\n",
       "  </thead>\n",
       "  <tbody>\n",
       "    <tr>\n",
       "      <th>0</th>\n",
       "      <td>2</td>\n",
       "      <td>51</td>\n",
       "      <td>13883</td>\n",
       "    </tr>\n",
       "    <tr>\n",
       "      <th>1</th>\n",
       "      <td>2</td>\n",
       "      <td>52</td>\n",
       "      <td>11690</td>\n",
       "    </tr>\n",
       "    <tr>\n",
       "      <th>2</th>\n",
       "      <td>2</td>\n",
       "      <td>53</td>\n",
       "      <td>11351</td>\n",
       "    </tr>\n",
       "    <tr>\n",
       "      <th>3</th>\n",
       "      <td>2</td>\n",
       "      <td>54</td>\n",
       "      <td>10300</td>\n",
       "    </tr>\n",
       "    <tr>\n",
       "      <th>4</th>\n",
       "      <td>2</td>\n",
       "      <td>55</td>\n",
       "      <td>8983</td>\n",
       "    </tr>\n",
       "  </tbody>\n",
       "</table>\n",
       "</div>"
      ],
      "text/plain": [
       "   userID  artistID  weight\n",
       "0       2        51   13883\n",
       "1       2        52   11690\n",
       "2       2        53   11351\n",
       "3       2        54   10300\n",
       "4       2        55    8983"
      ]
     },
     "execution_count": 9,
     "metadata": {},
     "output_type": "execute_result"
    }
   ],
   "source": [
    "user_artists_df.head()"
   ]
  },
  {
   "cell_type": "code",
   "execution_count": 10,
   "id": "1a2b7227",
   "metadata": {},
   "outputs": [],
   "source": [
    "user_taggedartists_df = pd.read_table('Data/Data Group Assignment/user_taggedartists.dat')"
   ]
  },
  {
   "cell_type": "code",
   "execution_count": 11,
   "id": "07e97ed1",
   "metadata": {
    "scrolled": false
   },
   "outputs": [
    {
     "data": {
      "text/html": [
       "<div>\n",
       "<style scoped>\n",
       "    .dataframe tbody tr th:only-of-type {\n",
       "        vertical-align: middle;\n",
       "    }\n",
       "\n",
       "    .dataframe tbody tr th {\n",
       "        vertical-align: top;\n",
       "    }\n",
       "\n",
       "    .dataframe thead th {\n",
       "        text-align: right;\n",
       "    }\n",
       "</style>\n",
       "<table border=\"1\" class=\"dataframe\">\n",
       "  <thead>\n",
       "    <tr style=\"text-align: right;\">\n",
       "      <th></th>\n",
       "      <th>userID</th>\n",
       "      <th>artistID</th>\n",
       "      <th>tagID</th>\n",
       "      <th>day</th>\n",
       "      <th>month</th>\n",
       "      <th>year</th>\n",
       "    </tr>\n",
       "  </thead>\n",
       "  <tbody>\n",
       "    <tr>\n",
       "      <th>0</th>\n",
       "      <td>2</td>\n",
       "      <td>52</td>\n",
       "      <td>13</td>\n",
       "      <td>1</td>\n",
       "      <td>4</td>\n",
       "      <td>2009</td>\n",
       "    </tr>\n",
       "    <tr>\n",
       "      <th>1</th>\n",
       "      <td>2</td>\n",
       "      <td>52</td>\n",
       "      <td>15</td>\n",
       "      <td>1</td>\n",
       "      <td>4</td>\n",
       "      <td>2009</td>\n",
       "    </tr>\n",
       "    <tr>\n",
       "      <th>2</th>\n",
       "      <td>2</td>\n",
       "      <td>52</td>\n",
       "      <td>18</td>\n",
       "      <td>1</td>\n",
       "      <td>4</td>\n",
       "      <td>2009</td>\n",
       "    </tr>\n",
       "    <tr>\n",
       "      <th>3</th>\n",
       "      <td>2</td>\n",
       "      <td>52</td>\n",
       "      <td>21</td>\n",
       "      <td>1</td>\n",
       "      <td>4</td>\n",
       "      <td>2009</td>\n",
       "    </tr>\n",
       "    <tr>\n",
       "      <th>4</th>\n",
       "      <td>2</td>\n",
       "      <td>52</td>\n",
       "      <td>41</td>\n",
       "      <td>1</td>\n",
       "      <td>4</td>\n",
       "      <td>2009</td>\n",
       "    </tr>\n",
       "  </tbody>\n",
       "</table>\n",
       "</div>"
      ],
      "text/plain": [
       "   userID  artistID  tagID  day  month  year\n",
       "0       2        52     13    1      4  2009\n",
       "1       2        52     15    1      4  2009\n",
       "2       2        52     18    1      4  2009\n",
       "3       2        52     21    1      4  2009\n",
       "4       2        52     41    1      4  2009"
      ]
     },
     "execution_count": 11,
     "metadata": {},
     "output_type": "execute_result"
    }
   ],
   "source": [
    "user_taggedartists_df.head()"
   ]
  },
  {
   "cell_type": "markdown",
   "id": "e94f0ad0",
   "metadata": {},
   "source": [
    "## EDA "
   ]
  },
  {
   "cell_type": "code",
   "execution_count": 12,
   "id": "107f1ffd",
   "metadata": {
    "scrolled": false
   },
   "outputs": [
    {
     "data": {
      "text/plain": [
       "(0.0, 352698.0)"
      ]
     },
     "execution_count": 12,
     "metadata": {},
     "output_type": "execute_result"
    },
    {
     "data": {
      "image/png": "[encoded data removed]",
      "text/plain": [
       "<Figure size 432x288 with 1 Axes>"
      ]
     },
     "metadata": {
      "needs_background": "light"
     },
     "output_type": "display_data"
    }
   ],
   "source": [
    "#entire range of weights\n",
    "plt.hist(user_artists_df.weight)\n",
    "plt.xlim(0,user_artists_df.weight.max())"
   ]
  },
  {
   "cell_type": "code",
   "execution_count": 13,
   "id": "5e7050de",
   "metadata": {},
   "outputs": [
    {
     "data": {
      "text/plain": [
       "(0.0, 50000.0)"
      ]
     },
     "execution_count": 13,
     "metadata": {},
     "output_type": "execute_result"
    },
    {
     "data": {
      "image/png": "[encoded data removed]",
      "text/plain": [
       "<Figure size 432x288 with 1 Axes>"
      ]
     },
     "metadata": {
      "needs_background": "light"
     },
     "output_type": "display_data"
    }
   ],
   "source": [
    "plt.hist(user_artists_df.weight)\n",
    "plt.xlim(0,50000)"
   ]
  },
  {
   "cell_type": "code",
   "execution_count": 14,
   "id": "7456ec94",
   "metadata": {
    "scrolled": true
   },
   "outputs": [
    {
     "data": {
      "text/plain": [
       "userID        1642\n",
       "artistID        72\n",
       "weight      352698\n",
       "Name: 72739, dtype: int64"
      ]
     },
     "execution_count": 14,
     "metadata": {},
     "output_type": "execute_result"
    }
   ],
   "source": [
    "user_artists_df.iloc[user_artists_df['weight'].idxmax()]"
   ]
  },
  {
   "cell_type": "code",
   "execution_count": 15,
   "id": "2cd20f59",
   "metadata": {
    "scrolled": true
   },
   "outputs": [
    {
     "data": {
      "text/plain": [
       "1        636\n",
       "2        419\n",
       "4        345\n",
       "3        338\n",
       "5        318\n",
       "        ... \n",
       "2087       1\n",
       "12384      1\n",
       "3722       1\n",
       "2151       1\n",
       "2049       1\n",
       "Name: weight, Length: 5436, dtype: int64"
      ]
     },
     "execution_count": 15,
     "metadata": {},
     "output_type": "execute_result"
    }
   ],
   "source": [
    "user_artists_df.weight.value_counts()"
   ]
  },
  {
   "cell_type": "code",
   "execution_count": 16,
   "id": "f125a049",
   "metadata": {
    "scrolled": true
   },
   "outputs": [
    {
     "data": {
      "text/plain": [
       "{'whiskers': [<matplotlib.lines.Line2D at 0x1c84b0bf670>,\n",
       "  <matplotlib.lines.Line2D at 0x1c84b0bf970>],\n",
       " 'caps': [<matplotlib.lines.Line2D at 0x1c84b0bfcd0>,\n",
       "  <matplotlib.lines.Line2D at 0x1c84b0ce070>],\n",
       " 'boxes': [<matplotlib.lines.Line2D at 0x1c84b0bf310>],\n",
       " 'medians': [<matplotlib.lines.Line2D at 0x1c84b0ce3d0>],\n",
       " 'fliers': [<matplotlib.lines.Line2D at 0x1c84b0ce730>],\n",
       " 'means': []}"
      ]
     },
     "execution_count": 16,
     "metadata": {},
     "output_type": "execute_result"
    },
    {
     "data": {
      "image/png": "[encoded data removed]",
      "text/plain": [
       "<Figure size 432x288 with 1 Axes>"
      ]
     },
     "metadata": {
      "needs_background": "light"
     },
     "output_type": "display_data"
    }
   ],
   "source": [
    "plt.boxplot(user_artists_df.weight, notch=True)"
   ]
  },
  {
   "cell_type": "code",
   "execution_count": 17,
   "id": "bea33c35",
   "metadata": {
    "scrolled": false
   },
   "outputs": [
    {
     "data": {
      "text/plain": [
       "count     92834.00000\n",
       "mean        745.24393\n",
       "std        3751.32208\n",
       "min           1.00000\n",
       "25%         107.00000\n",
       "50%         260.00000\n",
       "75%         614.00000\n",
       "max      352698.00000\n",
       "Name: weight, dtype: float64"
      ]
     },
     "execution_count": 17,
     "metadata": {},
     "output_type": "execute_result"
    }
   ],
   "source": [
    "user_artists_df.weight.describe()"
   ]
  },
  {
   "cell_type": "markdown",
   "id": "b2baf8a7",
   "metadata": {},
   "source": [
    "## Data Preprocessing"
   ]
  },
  {
   "cell_type": "code",
   "execution_count": 18,
   "id": "7a745416",
   "metadata": {},
   "outputs": [],
   "source": [
    "#discretize weights using qcuts \n",
    "user_artists_df['weight_quantiles'] = pd.qcut(user_artists_df['weight'],\n",
    "                           q=[0,.2,.4,.6,.8,1],\n",
    "                           labels=False,\n",
    "                           precision=0)"
   ]
  },
  {
   "cell_type": "code",
   "execution_count": 19,
   "id": "9680cc8d",
   "metadata": {
    "scrolled": true
   },
   "outputs": [
    {
     "data": {
      "text/plain": [
       "0    18770\n",
       "3    18581\n",
       "4    18548\n",
       "2    18469\n",
       "1    18466\n",
       "Name: weight_quantiles, dtype: int64"
      ]
     },
     "execution_count": 19,
     "metadata": {},
     "output_type": "execute_result"
    }
   ],
   "source": [
    "user_artists_df.weight_quantiles.value_counts()"
   ]
  },
  {
   "cell_type": "code",
   "execution_count": 20,
   "id": "864bee7a",
   "metadata": {},
   "outputs": [],
   "source": [
    "#new df only replacing the countinous and skewed weights with the new discretized weight var\n",
    "UA_df_cf = user_artists_df[['userID','artistID','weight_quantiles']]"
   ]
  },
  {
   "cell_type": "markdown",
   "id": "98e2eb50",
   "metadata": {},
   "source": [
    "## Train/Test Split"
   ]
  },
  {
   "cell_type": "code",
   "execution_count": 21,
   "id": "b8a53f48",
   "metadata": {},
   "outputs": [],
   "source": [
    "#create train and test sets \n",
    "UA_train, UA_test = train_test_split(UA_df_cf,test_size=0.3,random_state=123)\n",
    "\n",
    "UA_train = UA_train.reset_index(drop=True)\n",
    "UA_test = UA_test.reset_index(drop=True)"
   ]
  },
  {
   "cell_type": "code",
   "execution_count": 22,
   "id": "c0236fc0",
   "metadata": {},
   "outputs": [],
   "source": [
    "#create reader object \n",
    "reader = surprise.Reader(rating_scale=(1,5)) #1:5 scale \n",
    "\n",
    "#create surprise train and test set objects\n",
    "data = surprise.Dataset.load_from_df(UA_df_cf[[\"userID\",\"artistID\",\"weight_quantiles\"]], reader)\n",
    "UA_train = surprise.Dataset.load_from_df(UA_train, reader).build_full_trainset()\n",
    "UA_test = list(UA_test.itertuples(index=False, name=None))"
   ]
  },
  {
   "cell_type": "markdown",
   "id": "dfb28bb4",
   "metadata": {},
   "source": [
    "## Baseline model predictions"
   ]
  },
  {
   "cell_type": "markdown",
   "id": "3e24782e",
   "metadata": {},
   "source": [
    "### User-based KNNBasic"
   ]
  },
  {
   "cell_type": "code",
   "execution_count": 23,
   "id": "34d0ef3a",
   "metadata": {
    "scrolled": true
   },
   "outputs": [
    {
     "name": "stdout",
     "output_type": "stream",
     "text": [
      "Computing the cosine similarity matrix...\n",
      "Done computing similarity matrix."
     ]
    },
    {
     "name": "stderr",
     "output_type": "stream",
     "text": [
      "C:\\tools\\Anaconda3\\envs\\py\\lib\\site-packages\\surprise\\prediction_algorithms\\algo_base.py:249: RuntimeWarning: invalid value encountered in double_scalars\n",
      "  sim = construction_func[name](*args)\n"
     ]
    },
    {
     "name": "stdout",
     "output_type": "stream",
     "text": [
      "\n",
      "Computing the cosine similarity matrix...\n",
      "Done computing similarity matrix.\n"
     ]
    },
    {
     "data": {
      "text/plain": [
       "array([[1.        , 1.        , 1.        , ..., 0.        , 0.        ,\n",
       "        0.        ],\n",
       "       [1.        , 1.        , 0.96559438, ..., 0.        , 0.        ,\n",
       "        1.        ],\n",
       "       [1.        , 0.96559438, 1.        , ..., 0.        , 0.        ,\n",
       "        1.        ],\n",
       "       ...,\n",
       "       [0.        , 0.        , 0.        , ..., 1.        , 0.        ,\n",
       "        0.        ],\n",
       "       [0.        , 0.        , 0.        , ..., 0.        , 1.        ,\n",
       "        0.        ],\n",
       "       [0.        , 1.        , 1.        , ..., 0.        , 0.        ,\n",
       "        1.        ]])"
      ]
     },
     "execution_count": 23,
     "metadata": {},
     "output_type": "execute_result"
    }
   ],
   "source": [
    "#get baseline KNN score \n",
    "from surprise import KNNBasic\n",
    "\n",
    "# create options dict; use cosine similarity on user_based data\n",
    "options = {'name':'cosine', 'user_based':True}\n",
    "\n",
    "ubKNN = KNNBasic(k=20, min_k=2, sim_options=options, random_state=123)\n",
    "\n",
    "#create cosine similarity matrix\n",
    "ubKNN.fit(UA_train)\\\n",
    ".compute_similarities()\n"
   ]
  },
  {
   "cell_type": "code",
   "execution_count": 24,
   "id": "87b54521",
   "metadata": {
    "scrolled": true
   },
   "outputs": [
    {
     "name": "stdout",
     "output_type": "stream",
     "text": [
      "RMSE: 1.4224\n",
      "Impossible: 0.2671\n"
     ]
    }
   ],
   "source": [
    "from surprise import accuracy\n",
    "\n",
    "ubKNNpreds = ubKNN.test(UA_test)\n",
    "\n",
    "ubKNNAccuracy = accuracy.rmse(ubKNNpreds)\n",
    "\n",
    "# percentage impossible predictions\n",
    "perc_impossible = np.sum([1 for i in ubKNNpreds if i.details[\"was_impossible\"]]) / len(ubKNNpreds)\n",
    "print(f\"Impossible: {perc_impossible:.4f}\")"
   ]
  },
  {
   "cell_type": "markdown",
   "id": "b66511c2",
   "metadata": {},
   "source": [
    "* High RMSE and relatively high porportion of impossible predictions."
   ]
  },
  {
   "cell_type": "code",
   "execution_count": 25,
   "id": "30991b2d",
   "metadata": {
    "scrolled": true
   },
   "outputs": [
    {
     "data": {
      "text/html": [
       "<div>\n",
       "<style scoped>\n",
       "    .dataframe tbody tr th:only-of-type {\n",
       "        vertical-align: middle;\n",
       "    }\n",
       "\n",
       "    .dataframe tbody tr th {\n",
       "        vertical-align: top;\n",
       "    }\n",
       "\n",
       "    .dataframe thead th {\n",
       "        text-align: right;\n",
       "    }\n",
       "</style>\n",
       "<table border=\"1\" class=\"dataframe\">\n",
       "  <thead>\n",
       "    <tr style=\"text-align: right;\">\n",
       "      <th></th>\n",
       "      <th>value</th>\n",
       "    </tr>\n",
       "  </thead>\n",
       "  <tbody>\n",
       "    <tr>\n",
       "      <th>RMSE</th>\n",
       "      <td>1.422396</td>\n",
       "    </tr>\n",
       "    <tr>\n",
       "      <th>MAE</th>\n",
       "      <td>1.204500</td>\n",
       "    </tr>\n",
       "    <tr>\n",
       "      <th>Recall</th>\n",
       "      <td>0.002518</td>\n",
       "    </tr>\n",
       "    <tr>\n",
       "      <th>Precision</th>\n",
       "      <td>0.175000</td>\n",
       "    </tr>\n",
       "    <tr>\n",
       "      <th>F1</th>\n",
       "      <td>0.004965</td>\n",
       "    </tr>\n",
       "    <tr>\n",
       "      <th>NDCG@5</th>\n",
       "      <td>0.859066</td>\n",
       "    </tr>\n",
       "  </tbody>\n",
       "</table>\n",
       "</div>"
      ],
      "text/plain": [
       "              value\n",
       "RMSE       1.422396\n",
       "MAE        1.204500\n",
       "Recall     0.002518\n",
       "Precision  0.175000\n",
       "F1         0.004965\n",
       "NDCG@5     0.859066"
      ]
     },
     "execution_count": 25,
     "metadata": {},
     "output_type": "execute_result"
    }
   ],
   "source": [
    "eval.evaluate(ubKNNpreds,topn=5,rating_cutoff=4)"
   ]
  },
  {
   "cell_type": "markdown",
   "id": "76f9ad24",
   "metadata": {},
   "source": [
    "### Item-based KNNBasic"
   ]
  },
  {
   "cell_type": "code",
   "execution_count": 26,
   "id": "3a5acea6",
   "metadata": {},
   "outputs": [
    {
     "name": "stdout",
     "output_type": "stream",
     "text": [
      "Computing the cosine similarity matrix...\n",
      "Done computing similarity matrix.\n",
      "Computing the cosine similarity matrix...\n",
      "Done computing similarity matrix.\n"
     ]
    },
    {
     "name": "stderr",
     "output_type": "stream",
     "text": [
      "C:\\tools\\Anaconda3\\envs\\py\\lib\\site-packages\\surprise\\prediction_algorithms\\algo_base.py:249: RuntimeWarning: invalid value encountered in double_scalars\n",
      "  sim = construction_func[name](*args)\n"
     ]
    },
    {
     "data": {
      "text/plain": [
       "array([[1., 0., 0., ..., 0., 0., 0.],\n",
       "       [0., 1., 0., ..., 0., 0., 0.],\n",
       "       [0., 0., 1., ..., 0., 0., 0.],\n",
       "       ...,\n",
       "       [0., 0., 0., ..., 1., 0., 0.],\n",
       "       [0., 0., 0., ..., 0., 1., 0.],\n",
       "       [0., 0., 0., ..., 0., 0., 1.]])"
      ]
     },
     "execution_count": 26,
     "metadata": {},
     "output_type": "execute_result"
    }
   ],
   "source": [
    "#get baseline KNN score \n",
    "from surprise import KNNBasic\n",
    "\n",
    "# create options dict; use cosine similarity on user_based data\n",
    "options = {'name':'cosine', 'user_based':False}\n",
    "\n",
    "ibKNN = KNNBasic(k=20, min_k=2, sim_options=options, random_state=123)\n",
    "\n",
    "#create cosine similarity matrix\n",
    "ibKNN.fit(UA_train)\\\n",
    ".compute_similarities()\n"
   ]
  },
  {
   "cell_type": "code",
   "execution_count": 27,
   "id": "39c22412",
   "metadata": {},
   "outputs": [
    {
     "name": "stdout",
     "output_type": "stream",
     "text": [
      "RMSE: 1.0805\n",
      "Impossible: 0.2012\n"
     ]
    }
   ],
   "source": [
    "from surprise import accuracy\n",
    "\n",
    "ibKNNpreds = ibKNN.test(UA_test)\n",
    "\n",
    "ibKNNAccuracy = accuracy.rmse(ibKNNpreds)\n",
    "\n",
    "# percentage impossible predictions\n",
    "perc_impossible = np.sum([1 for i in ibKNNpreds if i.details[\"was_impossible\"]]) / len(ubKNNpreds)\n",
    "print(f\"Impossible: {perc_impossible:.4f}\")"
   ]
  },
  {
   "cell_type": "code",
   "execution_count": 28,
   "id": "589edd67",
   "metadata": {},
   "outputs": [
    {
     "data": {
      "text/html": [
       "<div>\n",
       "<style scoped>\n",
       "    .dataframe tbody tr th:only-of-type {\n",
       "        vertical-align: middle;\n",
       "    }\n",
       "\n",
       "    .dataframe tbody tr th {\n",
       "        vertical-align: top;\n",
       "    }\n",
       "\n",
       "    .dataframe thead th {\n",
       "        text-align: right;\n",
       "    }\n",
       "</style>\n",
       "<table border=\"1\" class=\"dataframe\">\n",
       "  <thead>\n",
       "    <tr style=\"text-align: right;\">\n",
       "      <th></th>\n",
       "      <th>value</th>\n",
       "    </tr>\n",
       "  </thead>\n",
       "  <tbody>\n",
       "    <tr>\n",
       "      <th>RMSE</th>\n",
       "      <td>1.080457</td>\n",
       "    </tr>\n",
       "    <tr>\n",
       "      <th>MAE</th>\n",
       "      <td>0.866984</td>\n",
       "    </tr>\n",
       "    <tr>\n",
       "      <th>Recall</th>\n",
       "      <td>0.156475</td>\n",
       "    </tr>\n",
       "    <tr>\n",
       "      <th>Precision</th>\n",
       "      <td>0.915789</td>\n",
       "    </tr>\n",
       "    <tr>\n",
       "      <th>F1</th>\n",
       "      <td>0.267281</td>\n",
       "    </tr>\n",
       "    <tr>\n",
       "      <th>NDCG@5</th>\n",
       "      <td>0.859624</td>\n",
       "    </tr>\n",
       "  </tbody>\n",
       "</table>\n",
       "</div>"
      ],
      "text/plain": [
       "              value\n",
       "RMSE       1.080457\n",
       "MAE        0.866984\n",
       "Recall     0.156475\n",
       "Precision  0.915789\n",
       "F1         0.267281\n",
       "NDCG@5     0.859624"
      ]
     },
     "execution_count": 28,
     "metadata": {},
     "output_type": "execute_result"
    }
   ],
   "source": [
    "eval.evaluate(ibKNNpreds,topn=5,rating_cutoff=4)"
   ]
  },
  {
   "cell_type": "markdown",
   "id": "14b7b359",
   "metadata": {},
   "source": [
    "### BaselineOnly"
   ]
  },
  {
   "cell_type": "code",
   "execution_count": 29,
   "id": "4f816766",
   "metadata": {
    "scrolled": true
   },
   "outputs": [
    {
     "name": "stdout",
     "output_type": "stream",
     "text": [
      "Estimating biases using als...\n",
      "RMSE: 0.9398\n",
      "Impossible: 0.0000\n"
     ]
    }
   ],
   "source": [
    "from surprise import BaselineOnly\n",
    "\n",
    "#alternating least squares (ALS) with 30 iterations\n",
    "options = {\"method\": \"als\", \"n_epochs\": 30}\n",
    "als = BaselineOnly(bsl_options=options)\n",
    "\n",
    "# fit on training set\n",
    "als.fit(UA_train)\n",
    "\n",
    "als_preds = als.test(UA_test)\n",
    "als_accuracy = accuracy.rmse(als_preds)\n",
    "\n",
    "# percentage impossible predictions\n",
    "perc_impossible = np.sum([1 for i in als_preds if i.details[\"was_impossible\"]]) / len(als_preds)\n",
    "print(f\"Impossible: {perc_impossible:.4f}\")"
   ]
  },
  {
   "cell_type": "code",
   "execution_count": 30,
   "id": "1d9fb1d9",
   "metadata": {
    "scrolled": false
   },
   "outputs": [
    {
     "data": {
      "text/html": [
       "<div>\n",
       "<style scoped>\n",
       "    .dataframe tbody tr th:only-of-type {\n",
       "        vertical-align: middle;\n",
       "    }\n",
       "\n",
       "    .dataframe tbody tr th {\n",
       "        vertical-align: top;\n",
       "    }\n",
       "\n",
       "    .dataframe thead th {\n",
       "        text-align: right;\n",
       "    }\n",
       "</style>\n",
       "<table border=\"1\" class=\"dataframe\">\n",
       "  <thead>\n",
       "    <tr style=\"text-align: right;\">\n",
       "      <th></th>\n",
       "      <th>value</th>\n",
       "    </tr>\n",
       "  </thead>\n",
       "  <tbody>\n",
       "    <tr>\n",
       "      <th>RMSE</th>\n",
       "      <td>0.939793</td>\n",
       "    </tr>\n",
       "    <tr>\n",
       "      <th>MAE</th>\n",
       "      <td>0.786951</td>\n",
       "    </tr>\n",
       "    <tr>\n",
       "      <th>Recall</th>\n",
       "      <td>0.004856</td>\n",
       "    </tr>\n",
       "    <tr>\n",
       "      <th>Precision</th>\n",
       "      <td>0.870968</td>\n",
       "    </tr>\n",
       "    <tr>\n",
       "      <th>F1</th>\n",
       "      <td>0.009658</td>\n",
       "    </tr>\n",
       "    <tr>\n",
       "      <th>NDCG@5</th>\n",
       "      <td>0.864142</td>\n",
       "    </tr>\n",
       "  </tbody>\n",
       "</table>\n",
       "</div>"
      ],
      "text/plain": [
       "              value\n",
       "RMSE       0.939793\n",
       "MAE        0.786951\n",
       "Recall     0.004856\n",
       "Precision  0.870968\n",
       "F1         0.009658\n",
       "NDCG@5     0.864142"
      ]
     },
     "execution_count": 30,
     "metadata": {},
     "output_type": "execute_result"
    }
   ],
   "source": [
    "eval.evaluate(als_preds,topn=5,rating_cutoff=4)"
   ]
  },
  {
   "cell_type": "markdown",
   "id": "692caa10",
   "metadata": {},
   "source": [
    "### SVD"
   ]
  },
  {
   "cell_type": "code",
   "execution_count": 31,
   "id": "0fb1c380",
   "metadata": {},
   "outputs": [
    {
     "name": "stdout",
     "output_type": "stream",
     "text": [
      "RMSE: 0.9061\n",
      "Impossible: 0.0000\n"
     ]
    }
   ],
   "source": [
    "from surprise import SVD\n",
    "\n",
    "# 20 factors non-bias\n",
    "svd = SVD(n_factors=20, biased=True, random_state=42)\n",
    "\n",
    "# fit on training set\n",
    "svd.fit(UA_train)\n",
    "\n",
    "svd_preds = svd.test(UA_test)\n",
    "svd_accuracy = accuracy.rmse(svd_preds)\n",
    "\n",
    "# percentage impossible predictions\n",
    "perc_impossible = np.sum([1 for i in svd_preds if i.details[\"was_impossible\"]]) / len(svd_preds)\n",
    "print(f\"Impossible: {perc_impossible:.4f}\")"
   ]
  },
  {
   "cell_type": "code",
   "execution_count": 32,
   "id": "fc65439c",
   "metadata": {},
   "outputs": [
    {
     "data": {
      "text/html": [
       "<div>\n",
       "<style scoped>\n",
       "    .dataframe tbody tr th:only-of-type {\n",
       "        vertical-align: middle;\n",
       "    }\n",
       "\n",
       "    .dataframe tbody tr th {\n",
       "        vertical-align: top;\n",
       "    }\n",
       "\n",
       "    .dataframe thead th {\n",
       "        text-align: right;\n",
       "    }\n",
       "</style>\n",
       "<table border=\"1\" class=\"dataframe\">\n",
       "  <thead>\n",
       "    <tr style=\"text-align: right;\">\n",
       "      <th></th>\n",
       "      <th>value</th>\n",
       "    </tr>\n",
       "  </thead>\n",
       "  <tbody>\n",
       "    <tr>\n",
       "      <th>RMSE</th>\n",
       "      <td>0.906083</td>\n",
       "    </tr>\n",
       "    <tr>\n",
       "      <th>MAE</th>\n",
       "      <td>0.736482</td>\n",
       "    </tr>\n",
       "    <tr>\n",
       "      <th>Recall</th>\n",
       "      <td>0.063669</td>\n",
       "    </tr>\n",
       "    <tr>\n",
       "      <th>Precision</th>\n",
       "      <td>0.919481</td>\n",
       "    </tr>\n",
       "    <tr>\n",
       "      <th>F1</th>\n",
       "      <td>0.119092</td>\n",
       "    </tr>\n",
       "    <tr>\n",
       "      <th>NDCG@5</th>\n",
       "      <td>0.870266</td>\n",
       "    </tr>\n",
       "  </tbody>\n",
       "</table>\n",
       "</div>"
      ],
      "text/plain": [
       "              value\n",
       "RMSE       0.906083\n",
       "MAE        0.736482\n",
       "Recall     0.063669\n",
       "Precision  0.919481\n",
       "F1         0.119092\n",
       "NDCG@5     0.870266"
      ]
     },
     "execution_count": 32,
     "metadata": {},
     "output_type": "execute_result"
    }
   ],
   "source": [
    "eval.evaluate(svd_preds,topn=5,rating_cutoff=4)"
   ]
  },
  {
   "cell_type": "markdown",
   "id": "7292ec48",
   "metadata": {},
   "source": [
    "### CoClustering "
   ]
  },
  {
   "cell_type": "code",
   "execution_count": 33,
   "id": "99a7097a",
   "metadata": {
    "scrolled": true
   },
   "outputs": [
    {
     "name": "stderr",
     "output_type": "stream",
     "text": [
      "<ipython-input-33-7fc309927928>:5: DeprecationWarning: `np.int` is a deprecated alias for the builtin `int`. To silence this warning, use `int` by itself. Doing this will not modify any behavior and is safe. When replacing `np.int`, you may wish to use e.g. `np.int64` or `np.int32` to specify the precision. If you wish to review your current use, check the release note link for additional information.\n",
      "Deprecated in NumPy 1.20; for more details and guidance: https://numpy.org/devdocs/release/1.20.0-notes.html#deprecations\n",
      "  clust.fit(UA_train)\n"
     ]
    },
    {
     "name": "stdout",
     "output_type": "stream",
     "text": [
      "RMSE: 1.0750\n",
      "Impossible: 0.0000\n"
     ]
    }
   ],
   "source": [
    "from surprise import CoClustering\n",
    "\n",
    "clust = CoClustering(n_cltr_u=10, n_cltr_i=10, n_epochs=50, random_state=42)\n",
    "\n",
    "clust.fit(UA_train)\n",
    "\n",
    "coclust_preds = clust.test(UA_test)\n",
    "accuracy.rmse(coclust_preds)\n",
    "\n",
    "# percentage impossible predictions\n",
    "perc_impossible = np.sum([1 for i in coclust_preds if i.details[\"was_impossible\"]]) / len(coclust_preds)\n",
    "print(f\"Impossible: {perc_impossible:.4f}\")"
   ]
  },
  {
   "cell_type": "code",
   "execution_count": 34,
   "id": "04fa02bb",
   "metadata": {},
   "outputs": [
    {
     "data": {
      "text/html": [
       "<div>\n",
       "<style scoped>\n",
       "    .dataframe tbody tr th:only-of-type {\n",
       "        vertical-align: middle;\n",
       "    }\n",
       "\n",
       "    .dataframe tbody tr th {\n",
       "        vertical-align: top;\n",
       "    }\n",
       "\n",
       "    .dataframe thead th {\n",
       "        text-align: right;\n",
       "    }\n",
       "</style>\n",
       "<table border=\"1\" class=\"dataframe\">\n",
       "  <thead>\n",
       "    <tr style=\"text-align: right;\">\n",
       "      <th></th>\n",
       "      <th>value</th>\n",
       "    </tr>\n",
       "  </thead>\n",
       "  <tbody>\n",
       "    <tr>\n",
       "      <th>RMSE</th>\n",
       "      <td>1.074960</td>\n",
       "    </tr>\n",
       "    <tr>\n",
       "      <th>MAE</th>\n",
       "      <td>0.864092</td>\n",
       "    </tr>\n",
       "    <tr>\n",
       "      <th>Recall</th>\n",
       "      <td>0.156115</td>\n",
       "    </tr>\n",
       "    <tr>\n",
       "      <th>Precision</th>\n",
       "      <td>0.745704</td>\n",
       "    </tr>\n",
       "    <tr>\n",
       "      <th>F1</th>\n",
       "      <td>0.258180</td>\n",
       "    </tr>\n",
       "    <tr>\n",
       "      <th>NDCG@5</th>\n",
       "      <td>0.860111</td>\n",
       "    </tr>\n",
       "  </tbody>\n",
       "</table>\n",
       "</div>"
      ],
      "text/plain": [
       "              value\n",
       "RMSE       1.074960\n",
       "MAE        0.864092\n",
       "Recall     0.156115\n",
       "Precision  0.745704\n",
       "F1         0.258180\n",
       "NDCG@5     0.860111"
      ]
     },
     "execution_count": 34,
     "metadata": {},
     "output_type": "execute_result"
    }
   ],
   "source": [
    "eval.evaluate(coclust_preds,topn=5,rating_cutoff=4)"
   ]
  },
  {
   "cell_type": "markdown",
   "id": "78a3b952",
   "metadata": {},
   "source": [
    "* The `SVD` algorithm showed the best results with respect to `RMSE`, `Precision` and `NDCG@5` with values of: \t0.906083, 0.919481, and 0.870266 respectively."
   ]
  },
  {
   "cell_type": "markdown",
   "id": "b5d88353",
   "metadata": {},
   "source": [
    "### CV Grid Search"
   ]
  },
  {
   "cell_type": "markdown",
   "id": "14a607a5",
   "metadata": {},
   "source": [
    "We'll tune the hyperparameters of the `SVD` model as it gave us the best baseline results."
   ]
  },
  {
   "cell_type": "code",
   "execution_count": 35,
   "id": "6ba2d8f6",
   "metadata": {
    "scrolled": true
   },
   "outputs": [],
   "source": [
    "#grid search cross validation\n",
    "\n",
    "#param_grid = {'n_factors':[20,50,150,200],\n",
    "             #'n_epochs':[20,50],\n",
    "             #'lr_all':[0.005, 0.001, 0.002],\n",
    "             #'biased':[True],\n",
    "             #'reg_all':[0.01,0.02]}\n",
    "\n",
    "#3-fold grid searched cv \n",
    "#SVD_cv_grid = GridSearchCV(SVD,\n",
    "                             #param_grid=param_grid,\n",
    "                            #measures=['rmse','mae'],\n",
    "                            #cv=3)\n",
    "#SVD_cv_grid.fit(data)"
   ]
  },
  {
   "cell_type": "code",
   "execution_count": 36,
   "id": "0124b62c",
   "metadata": {
    "scrolled": true
   },
   "outputs": [],
   "source": [
    "#print(f\"Best params with respect to RMSE: \",SVD_cv_grid.best_params['rmse'])\n",
    "#print(f\"Best params with respect to MAE: \",SVD_cv_grid.best_params['mae'])"
   ]
  },
  {
   "cell_type": "code",
   "execution_count": 37,
   "id": "e6cef9d7",
   "metadata": {},
   "outputs": [],
   "source": [
    "#print(f\"Best score with respect to RMSE: \",SVD_cv_grid.best_score['rmse'])\n",
    "#print(f\"Best score with respect to MAE: \",SVD_cv_grid.best_score['mae'])"
   ]
  },
  {
   "cell_type": "markdown",
   "id": "d3d76e49",
   "metadata": {},
   "source": [
    "### Final Predictions for Most Performant Algorithm: `SVD`"
   ]
  },
  {
   "cell_type": "markdown",
   "id": "d450f2a0",
   "metadata": {},
   "source": [
    "The cross-validated grid search in the above code cells provided us with the following optimal hyperparameters. \n",
    "\n",
    "* `n_factors` : 20\n",
    "* `n_epochs`: 20\n",
    "* `lr_all`: 0.005\n",
    "* `biased`: True\n",
    "* `reg_all`: 0.01"
   ]
  },
  {
   "cell_type": "code",
   "execution_count": 38,
   "id": "8d215b3b",
   "metadata": {
    "scrolled": true
   },
   "outputs": [
    {
     "name": "stdout",
     "output_type": "stream",
     "text": [
      "RMSE: 0.9061\n"
     ]
    }
   ],
   "source": [
    "# with tuned hyperparameters\n",
    "svd_best = SVD(n_factors=20, n_epochs=20,lr_all=0.005, biased=True, reg_all=0.01, random_state=42)\n",
    "\n",
    "# fit on training set\n",
    "svd_best.fit(UA_train)\n",
    "\n",
    "#final predict\n",
    "svd_best_preds = svd_best.test(UA_test)\n",
    "svd_accuracy_best = accuracy.rmse(svd_best_preds)"
   ]
  },
  {
   "cell_type": "markdown",
   "id": "8e777b9f",
   "metadata": {},
   "source": [
    "## Final Model Evaluation for `SVD` (Matrix Factorization)"
   ]
  },
  {
   "cell_type": "code",
   "execution_count": 39,
   "id": "37a9d8e2",
   "metadata": {},
   "outputs": [
    {
     "name": "stdout",
     "output_type": "stream",
     "text": [
      "Excluded 0 (27851) samples. 27851 remaining ...\n",
      "Excluded 0 (27851) samples. 27851 remaining ...\n"
     ]
    },
    {
     "data": {
      "text/html": [
       "<div>\n",
       "<style scoped>\n",
       "    .dataframe tbody tr th:only-of-type {\n",
       "        vertical-align: middle;\n",
       "    }\n",
       "\n",
       "    .dataframe tbody tr th {\n",
       "        vertical-align: top;\n",
       "    }\n",
       "\n",
       "    .dataframe thead th {\n",
       "        text-align: right;\n",
       "    }\n",
       "</style>\n",
       "<table border=\"1\" class=\"dataframe\">\n",
       "  <thead>\n",
       "    <tr style=\"text-align: right;\">\n",
       "      <th></th>\n",
       "      <th>value</th>\n",
       "    </tr>\n",
       "  </thead>\n",
       "  <tbody>\n",
       "    <tr>\n",
       "      <th>RMSE</th>\n",
       "      <td>0.906055</td>\n",
       "    </tr>\n",
       "    <tr>\n",
       "      <th>MAE</th>\n",
       "      <td>0.735878</td>\n",
       "    </tr>\n",
       "    <tr>\n",
       "      <th>Recall</th>\n",
       "      <td>0.067806</td>\n",
       "    </tr>\n",
       "    <tr>\n",
       "      <th>Precision</th>\n",
       "      <td>0.915049</td>\n",
       "    </tr>\n",
       "    <tr>\n",
       "      <th>F1</th>\n",
       "      <td>0.126256</td>\n",
       "    </tr>\n",
       "    <tr>\n",
       "      <th>NDCG@5</th>\n",
       "      <td>0.870867</td>\n",
       "    </tr>\n",
       "  </tbody>\n",
       "</table>\n",
       "</div>"
      ],
      "text/plain": [
       "              value\n",
       "RMSE       0.906055\n",
       "MAE        0.735878\n",
       "Recall     0.067806\n",
       "Precision  0.915049\n",
       "F1         0.126256\n",
       "NDCG@5     0.870867"
      ]
     },
     "execution_count": 39,
     "metadata": {},
     "output_type": "execute_result"
    }
   ],
   "source": [
    "eval.evaluate(prediction=svd_best_preds, topn=5, rating_cutoff=4, excl_impossible=True)"
   ]
  },
  {
   "cell_type": "markdown",
   "id": "e9643949",
   "metadata": {},
   "source": [
    "## Content Based Model"
   ]
  },
  {
   "cell_type": "code",
   "execution_count": 40,
   "id": "b578dce8",
   "metadata": {},
   "outputs": [],
   "source": [
    "def two_dig(num):\n",
    "    \"\"\"\n",
    "    This function takes a number as input and casts it to a string. \n",
    "    If the length of the str is equal to 1 it concatenates a 0 in front of it.\n",
    "    This can be applyed to day and month columns that are recorded a single digit \n",
    "    in order to meet the two-digit format native to most datetime formats. \n",
    "    \n",
    "    Params: num: A \n",
    "    \"\"\"\n",
    "    if len(str(num)) == 1:\n",
    "        return((str(0) + str(num)))\n",
    "    else:\n",
    "        return(str(num))"
   ]
  },
  {
   "cell_type": "markdown",
   "id": "39e349d2",
   "metadata": {},
   "source": [
    "## Loading Data"
   ]
  },
  {
   "cell_type": "code",
   "execution_count": 41,
   "id": "8b2b6ce6",
   "metadata": {},
   "outputs": [],
   "source": [
    "# creating day and month columns in order to create datetime release_date col\n",
    "user_taggedartists_df['day'] = user_taggedartists_df['day'].map(lambda x: two_dig(x))\n",
    "user_taggedartists_df['month'] = user_taggedartists_df['month'].map(lambda x: two_dig(x))\n",
    "user_taggedartists_df['release_date'] = pd.to_datetime((user_taggedartists_df['year'].astype('str') + user_taggedartists_df['day'] + user_taggedartists_df['month']),format='%Y%d%m')"
   ]
  },
  {
   "cell_type": "markdown",
   "id": "d0cd8057",
   "metadata": {},
   "source": [
    "### Feature Engineering"
   ]
  },
  {
   "cell_type": "code",
   "execution_count": 42,
   "id": "1b5741c8",
   "metadata": {},
   "outputs": [
    {
     "data": {
      "text/plain": [
       "(array([4.00000e+00, 0.00000e+00, 0.00000e+00, 0.00000e+00, 1.00000e+00,\n",
       "        0.00000e+00, 0.00000e+00, 0.00000e+00, 2.13500e+03, 1.84339e+05]),\n",
       " array([-4962. , -2955.5,  -949. ,  1057.5,  3064. ,  5070.5,  7077. ,\n",
       "         9083.5, 11090. , 13096.5, 15103. ]),\n",
       " <BarContainer object of 10 artists>)"
      ]
     },
     "execution_count": 42,
     "metadata": {},
     "output_type": "execute_result"
    },
    {
     "data": {
      "image/png": "[encoded data removed]",
      "text/plain": [
       "<Figure size 432x288 with 1 Axes>"
      ]
     },
     "metadata": {
      "needs_background": "light"
     },
     "output_type": "display_data"
    }
   ],
   "source": [
    "#visualize the skew of dates\n",
    "plt.hist(user_taggedartists_df['release_date'])"
   ]
  },
  {
   "cell_type": "code",
   "execution_count": 43,
   "id": "b9755e37",
   "metadata": {},
   "outputs": [],
   "source": [
    "thresholdMin = pd.to_datetime('1956-06-01')\n",
    "thresholdVeryOld = pd.to_datetime('1970-01-01') # represents the range from 1956 - 1970 \n",
    "thresholdOld = pd.to_datetime('1984-01-01')# represents the range from 1970 - 1984 \n",
    "thresholdNew = pd.to_datetime('2010-01-01')# represents the range from 1984 - 2005 \n",
    "thresholdVeryNew = pd.to_datetime('2012-01-01')# represents the range from 2005 - 2012"
   ]
  },
  {
   "cell_type": "code",
   "execution_count": 44,
   "id": "93efffcd",
   "metadata": {},
   "outputs": [],
   "source": [
    "user_taggedartists_df[[\"very_old\",\"old\",\"new\",\"very_new\"]] = 0\n",
    "\n",
    "user_taggedartists_df.loc[(user_taggedartists_df[\"release_date\"] >= thresholdMin) & (user_taggedartists_df[\"release_date\"] < thresholdVeryOld),\"very_old\"] = 1 \n",
    "user_taggedartists_df.loc[(user_taggedartists_df[\"release_date\"] >= thresholdVeryOld) & (user_taggedartists_df[\"release_date\"] < thresholdOld),\"old\"] = 1\n",
    "user_taggedartists_df.loc[(user_taggedartists_df[\"release_date\"]>= thresholdOld) & (user_taggedartists_df[\"release_date\"]  < thresholdNew),\"new\"] = 1\n",
    "user_taggedartists_df.loc[(user_taggedartists_df[\"release_date\"] >= thresholdNew) & (user_taggedartists_df[\"release_date\"]< thresholdVeryNew),\"very_new\"] = 1"
   ]
  },
  {
   "cell_type": "code",
   "execution_count": 45,
   "id": "a8029c9d",
   "metadata": {},
   "outputs": [],
   "source": [
    "# merge together to get the full list of artist IDs\n",
    "user_taggedartists_df=pd.merge(user_artists_df,user_taggedartists_df, on=\"artistID\",how='left').fillna(0)"
   ]
  },
  {
   "cell_type": "code",
   "execution_count": 46,
   "id": "f138461c",
   "metadata": {},
   "outputs": [],
   "source": [
    "# drop uneeded columns\n",
    "user_taggedartists_df = user_taggedartists_df[[\"userID_x\",\"artistID\",\"tagID\",\"very_old\",\"old\",\"new\",\"very_new\"]]\n",
    "user_taggedartists_df.columns =[\"userID\",\"artistID\",\"tagID\",\"very_old\",\"old\",\"new\",\"very_new\"]"
   ]
  },
  {
   "cell_type": "code",
   "execution_count": 47,
   "id": "9fa95985",
   "metadata": {},
   "outputs": [],
   "source": [
    "user_taggedartists_df[\"recency\"]= user_taggedartists_df[[\"very_old\",\"old\",\"new\",\"very_new\"]].eq(1.0).idxmax(axis=1)"
   ]
  },
  {
   "cell_type": "code",
   "execution_count": 48,
   "id": "d7d9de91",
   "metadata": {},
   "outputs": [],
   "source": [
    "user_taggedartists_df =  user_taggedartists_df[[\"userID\",\"artistID\",\"tagID\",\"recency\"]]"
   ]
  },
  {
   "cell_type": "code",
   "execution_count": 49,
   "id": "8b8abbd6",
   "metadata": {},
   "outputs": [],
   "source": [
    "#merging the dataset for content-based \n",
    "df_content_based = pd.merge(user_taggedartists_df,tags_df,on=\"tagID\",how=\"left\").fillna(0)"
   ]
  },
  {
   "cell_type": "code",
   "execution_count": 50,
   "id": "a6387a07",
   "metadata": {},
   "outputs": [
    {
     "data": {
      "text/html": [
       "<div>\n",
       "<style scoped>\n",
       "    .dataframe tbody tr th:only-of-type {\n",
       "        vertical-align: middle;\n",
       "    }\n",
       "\n",
       "    .dataframe tbody tr th {\n",
       "        vertical-align: top;\n",
       "    }\n",
       "\n",
       "    .dataframe thead th {\n",
       "        text-align: right;\n",
       "    }\n",
       "</style>\n",
       "<table border=\"1\" class=\"dataframe\">\n",
       "  <thead>\n",
       "    <tr style=\"text-align: right;\">\n",
       "      <th></th>\n",
       "      <th>userID</th>\n",
       "      <th>artistID</th>\n",
       "      <th>tagID</th>\n",
       "      <th>recency</th>\n",
       "      <th>tagValue</th>\n",
       "    </tr>\n",
       "  </thead>\n",
       "  <tbody>\n",
       "    <tr>\n",
       "      <th>0</th>\n",
       "      <td>2</td>\n",
       "      <td>51</td>\n",
       "      <td>16.0</td>\n",
       "      <td>new</td>\n",
       "      <td>new wave</td>\n",
       "    </tr>\n",
       "    <tr>\n",
       "      <th>1</th>\n",
       "      <td>2</td>\n",
       "      <td>51</td>\n",
       "      <td>25.0</td>\n",
       "      <td>new</td>\n",
       "      <td>80s</td>\n",
       "    </tr>\n",
       "    <tr>\n",
       "      <th>2</th>\n",
       "      <td>2</td>\n",
       "      <td>51</td>\n",
       "      <td>16.0</td>\n",
       "      <td>very_new</td>\n",
       "      <td>new wave</td>\n",
       "    </tr>\n",
       "    <tr>\n",
       "      <th>3</th>\n",
       "      <td>2</td>\n",
       "      <td>51</td>\n",
       "      <td>25.0</td>\n",
       "      <td>very_new</td>\n",
       "      <td>80s</td>\n",
       "    </tr>\n",
       "    <tr>\n",
       "      <th>4</th>\n",
       "      <td>2</td>\n",
       "      <td>51</td>\n",
       "      <td>16.0</td>\n",
       "      <td>new</td>\n",
       "      <td>new wave</td>\n",
       "    </tr>\n",
       "  </tbody>\n",
       "</table>\n",
       "</div>"
      ],
      "text/plain": [
       "   userID  artistID  tagID   recency  tagValue\n",
       "0       2        51   16.0       new  new wave\n",
       "1       2        51   25.0       new       80s\n",
       "2       2        51   16.0  very_new  new wave\n",
       "3       2        51   25.0  very_new       80s\n",
       "4       2        51   16.0       new  new wave"
      ]
     },
     "execution_count": 50,
     "metadata": {},
     "output_type": "execute_result"
    }
   ],
   "source": [
    "df_content_based.head()"
   ]
  },
  {
   "cell_type": "code",
   "execution_count": 51,
   "id": "5d1787e7",
   "metadata": {},
   "outputs": [],
   "source": [
    "#pivoting the table (creating a dummies table)\n",
    "df_content_based_1 = df_content_based.pivot_table(index=[\"artistID\"], columns =\"tagValue\", aggfunc={'tagValue':np.count_nonzero}).fillna(0)"
   ]
  },
  {
   "cell_type": "code",
   "execution_count": 52,
   "id": "87b4d39c",
   "metadata": {},
   "outputs": [],
   "source": [
    "#pivoting the table (creating a dummies table)\n",
    "df_content_based_2 = df_content_based.pivot_table(index=[\"artistID\"], columns =\"recency\", aggfunc={'recency':np.count_nonzero}).fillna(0)"
   ]
  },
  {
   "cell_type": "code",
   "execution_count": 53,
   "id": "a2b1e6f6",
   "metadata": {},
   "outputs": [],
   "source": [
    "df_content_based_1= pd.DataFrame(df_content_based_1)\n",
    "df_content_based_2= pd.DataFrame(df_content_based_2)"
   ]
  },
  {
   "cell_type": "code",
   "execution_count": 54,
   "id": "e7a68255",
   "metadata": {},
   "outputs": [
    {
     "data": {
      "text/html": [
       "<div>\n",
       "<style scoped>\n",
       "    .dataframe tbody tr th:only-of-type {\n",
       "        vertical-align: middle;\n",
       "    }\n",
       "\n",
       "    .dataframe tbody tr th {\n",
       "        vertical-align: top;\n",
       "    }\n",
       "\n",
       "    .dataframe thead tr th {\n",
       "        text-align: left;\n",
       "    }\n",
       "\n",
       "    .dataframe thead tr:last-of-type th {\n",
       "        text-align: right;\n",
       "    }\n",
       "</style>\n",
       "<table border=\"1\" class=\"dataframe\">\n",
       "  <thead>\n",
       "    <tr>\n",
       "      <th></th>\n",
       "      <th colspan=\"4\" halign=\"left\">recency</th>\n",
       "    </tr>\n",
       "    <tr>\n",
       "      <th>recency</th>\n",
       "      <th>new</th>\n",
       "      <th>old</th>\n",
       "      <th>very_new</th>\n",
       "      <th>very_old</th>\n",
       "    </tr>\n",
       "    <tr>\n",
       "      <th>artistID</th>\n",
       "      <th></th>\n",
       "      <th></th>\n",
       "      <th></th>\n",
       "      <th></th>\n",
       "    </tr>\n",
       "  </thead>\n",
       "  <tbody>\n",
       "    <tr>\n",
       "      <th>1</th>\n",
       "      <td>42.0</td>\n",
       "      <td>0.0</td>\n",
       "      <td>3.0</td>\n",
       "      <td>0.0</td>\n",
       "    </tr>\n",
       "    <tr>\n",
       "      <th>2</th>\n",
       "      <td>240.0</td>\n",
       "      <td>0.0</td>\n",
       "      <td>84.0</td>\n",
       "      <td>0.0</td>\n",
       "    </tr>\n",
       "    <tr>\n",
       "      <th>3</th>\n",
       "      <td>24.0</td>\n",
       "      <td>0.0</td>\n",
       "      <td>3.0</td>\n",
       "      <td>0.0</td>\n",
       "    </tr>\n",
       "    <tr>\n",
       "      <th>4</th>\n",
       "      <td>36.0</td>\n",
       "      <td>0.0</td>\n",
       "      <td>8.0</td>\n",
       "      <td>0.0</td>\n",
       "    </tr>\n",
       "    <tr>\n",
       "      <th>5</th>\n",
       "      <td>8.0</td>\n",
       "      <td>0.0</td>\n",
       "      <td>6.0</td>\n",
       "      <td>0.0</td>\n",
       "    </tr>\n",
       "    <tr>\n",
       "      <th>...</th>\n",
       "      <td>...</td>\n",
       "      <td>...</td>\n",
       "      <td>...</td>\n",
       "      <td>...</td>\n",
       "    </tr>\n",
       "    <tr>\n",
       "      <th>18741</th>\n",
       "      <td>1.0</td>\n",
       "      <td>0.0</td>\n",
       "      <td>1.0</td>\n",
       "      <td>0.0</td>\n",
       "    </tr>\n",
       "    <tr>\n",
       "      <th>18742</th>\n",
       "      <td>0.0</td>\n",
       "      <td>0.0</td>\n",
       "      <td>0.0</td>\n",
       "      <td>1.0</td>\n",
       "    </tr>\n",
       "    <tr>\n",
       "      <th>18743</th>\n",
       "      <td>0.0</td>\n",
       "      <td>0.0</td>\n",
       "      <td>0.0</td>\n",
       "      <td>1.0</td>\n",
       "    </tr>\n",
       "    <tr>\n",
       "      <th>18744</th>\n",
       "      <td>4.0</td>\n",
       "      <td>0.0</td>\n",
       "      <td>10.0</td>\n",
       "      <td>0.0</td>\n",
       "    </tr>\n",
       "    <tr>\n",
       "      <th>18745</th>\n",
       "      <td>0.0</td>\n",
       "      <td>0.0</td>\n",
       "      <td>0.0</td>\n",
       "      <td>1.0</td>\n",
       "    </tr>\n",
       "  </tbody>\n",
       "</table>\n",
       "<p>17632 rows × 4 columns</p>\n",
       "</div>"
      ],
      "text/plain": [
       "         recency                       \n",
       "recency      new  old very_new very_old\n",
       "artistID                               \n",
       "1           42.0  0.0      3.0      0.0\n",
       "2          240.0  0.0     84.0      0.0\n",
       "3           24.0  0.0      3.0      0.0\n",
       "4           36.0  0.0      8.0      0.0\n",
       "5            8.0  0.0      6.0      0.0\n",
       "...          ...  ...      ...      ...\n",
       "18741        1.0  0.0      1.0      0.0\n",
       "18742        0.0  0.0      0.0      1.0\n",
       "18743        0.0  0.0      0.0      1.0\n",
       "18744        4.0  0.0     10.0      0.0\n",
       "18745        0.0  0.0      0.0      1.0\n",
       "\n",
       "[17632 rows x 4 columns]"
      ]
     },
     "execution_count": 54,
     "metadata": {},
     "output_type": "execute_result"
    }
   ],
   "source": [
    "df_content_based_2\n"
   ]
  },
  {
   "cell_type": "code",
   "execution_count": 55,
   "id": "6e89a363",
   "metadata": {},
   "outputs": [],
   "source": [
    "cb= pd.merge(df_content_based_1,df_content_based_2, how='left', left_index=True, right_index=True)"
   ]
  },
  {
   "cell_type": "code",
   "execution_count": 56,
   "id": "43dc5692",
   "metadata": {},
   "outputs": [
    {
     "data": {
      "text/html": [
       "<div>\n",
       "<style scoped>\n",
       "    .dataframe tbody tr th:only-of-type {\n",
       "        vertical-align: middle;\n",
       "    }\n",
       "\n",
       "    .dataframe tbody tr th {\n",
       "        vertical-align: top;\n",
       "    }\n",
       "\n",
       "    .dataframe thead tr th {\n",
       "        text-align: left;\n",
       "    }\n",
       "\n",
       "    .dataframe thead tr:last-of-type th {\n",
       "        text-align: right;\n",
       "    }\n",
       "</style>\n",
       "<table border=\"1\" class=\"dataframe\">\n",
       "  <thead>\n",
       "    <tr>\n",
       "      <th></th>\n",
       "      <th colspan=\"17\" halign=\"left\">tagValue</th>\n",
       "      <th colspan=\"4\" halign=\"left\">recency</th>\n",
       "    </tr>\n",
       "    <tr>\n",
       "      <th>tagValue</th>\n",
       "      <th>0</th>\n",
       "      <th>'80s</th>\n",
       "      <th>-pearl fashion music</th>\n",
       "      <th>0 play yet</th>\n",
       "      <th>00</th>\n",
       "      <th>00's</th>\n",
       "      <th>007</th>\n",
       "      <th>00s</th>\n",
       "      <th>00s rock</th>\n",
       "      <th>1</th>\n",
       "      <th>...</th>\n",
       "      <th>zombie rave</th>\n",
       "      <th>zombieland</th>\n",
       "      <th>zoocore</th>\n",
       "      <th>zornish</th>\n",
       "      <th>ztt</th>\n",
       "      <th>zu</th>\n",
       "      <th>new</th>\n",
       "      <th>old</th>\n",
       "      <th>very_new</th>\n",
       "      <th>very_old</th>\n",
       "    </tr>\n",
       "    <tr>\n",
       "      <th>artistID</th>\n",
       "      <th></th>\n",
       "      <th></th>\n",
       "      <th></th>\n",
       "      <th></th>\n",
       "      <th></th>\n",
       "      <th></th>\n",
       "      <th></th>\n",
       "      <th></th>\n",
       "      <th></th>\n",
       "      <th></th>\n",
       "      <th></th>\n",
       "      <th></th>\n",
       "      <th></th>\n",
       "      <th></th>\n",
       "      <th></th>\n",
       "      <th></th>\n",
       "      <th></th>\n",
       "      <th></th>\n",
       "      <th></th>\n",
       "      <th></th>\n",
       "      <th></th>\n",
       "    </tr>\n",
       "  </thead>\n",
       "  <tbody>\n",
       "    <tr>\n",
       "      <th>1</th>\n",
       "      <td>0.0</td>\n",
       "      <td>0.0</td>\n",
       "      <td>0.0</td>\n",
       "      <td>0.0</td>\n",
       "      <td>0.0</td>\n",
       "      <td>0.0</td>\n",
       "      <td>0.0</td>\n",
       "      <td>0.0</td>\n",
       "      <td>0.0</td>\n",
       "      <td>0.0</td>\n",
       "      <td>...</td>\n",
       "      <td>0.0</td>\n",
       "      <td>0.0</td>\n",
       "      <td>0.0</td>\n",
       "      <td>0.0</td>\n",
       "      <td>0.0</td>\n",
       "      <td>0.0</td>\n",
       "      <td>42.0</td>\n",
       "      <td>0.0</td>\n",
       "      <td>3.0</td>\n",
       "      <td>0.0</td>\n",
       "    </tr>\n",
       "    <tr>\n",
       "      <th>2</th>\n",
       "      <td>0.0</td>\n",
       "      <td>0.0</td>\n",
       "      <td>0.0</td>\n",
       "      <td>0.0</td>\n",
       "      <td>0.0</td>\n",
       "      <td>0.0</td>\n",
       "      <td>0.0</td>\n",
       "      <td>0.0</td>\n",
       "      <td>0.0</td>\n",
       "      <td>0.0</td>\n",
       "      <td>...</td>\n",
       "      <td>0.0</td>\n",
       "      <td>0.0</td>\n",
       "      <td>0.0</td>\n",
       "      <td>0.0</td>\n",
       "      <td>0.0</td>\n",
       "      <td>0.0</td>\n",
       "      <td>240.0</td>\n",
       "      <td>0.0</td>\n",
       "      <td>84.0</td>\n",
       "      <td>0.0</td>\n",
       "    </tr>\n",
       "    <tr>\n",
       "      <th>3</th>\n",
       "      <td>0.0</td>\n",
       "      <td>0.0</td>\n",
       "      <td>0.0</td>\n",
       "      <td>0.0</td>\n",
       "      <td>0.0</td>\n",
       "      <td>0.0</td>\n",
       "      <td>0.0</td>\n",
       "      <td>0.0</td>\n",
       "      <td>0.0</td>\n",
       "      <td>0.0</td>\n",
       "      <td>...</td>\n",
       "      <td>0.0</td>\n",
       "      <td>0.0</td>\n",
       "      <td>0.0</td>\n",
       "      <td>0.0</td>\n",
       "      <td>0.0</td>\n",
       "      <td>0.0</td>\n",
       "      <td>24.0</td>\n",
       "      <td>0.0</td>\n",
       "      <td>3.0</td>\n",
       "      <td>0.0</td>\n",
       "    </tr>\n",
       "    <tr>\n",
       "      <th>4</th>\n",
       "      <td>0.0</td>\n",
       "      <td>0.0</td>\n",
       "      <td>0.0</td>\n",
       "      <td>0.0</td>\n",
       "      <td>0.0</td>\n",
       "      <td>0.0</td>\n",
       "      <td>0.0</td>\n",
       "      <td>0.0</td>\n",
       "      <td>0.0</td>\n",
       "      <td>0.0</td>\n",
       "      <td>...</td>\n",
       "      <td>0.0</td>\n",
       "      <td>0.0</td>\n",
       "      <td>0.0</td>\n",
       "      <td>0.0</td>\n",
       "      <td>0.0</td>\n",
       "      <td>0.0</td>\n",
       "      <td>36.0</td>\n",
       "      <td>0.0</td>\n",
       "      <td>8.0</td>\n",
       "      <td>0.0</td>\n",
       "    </tr>\n",
       "    <tr>\n",
       "      <th>5</th>\n",
       "      <td>0.0</td>\n",
       "      <td>0.0</td>\n",
       "      <td>0.0</td>\n",
       "      <td>0.0</td>\n",
       "      <td>0.0</td>\n",
       "      <td>0.0</td>\n",
       "      <td>0.0</td>\n",
       "      <td>0.0</td>\n",
       "      <td>0.0</td>\n",
       "      <td>0.0</td>\n",
       "      <td>...</td>\n",
       "      <td>0.0</td>\n",
       "      <td>0.0</td>\n",
       "      <td>0.0</td>\n",
       "      <td>0.0</td>\n",
       "      <td>0.0</td>\n",
       "      <td>0.0</td>\n",
       "      <td>8.0</td>\n",
       "      <td>0.0</td>\n",
       "      <td>6.0</td>\n",
       "      <td>0.0</td>\n",
       "    </tr>\n",
       "    <tr>\n",
       "      <th>...</th>\n",
       "      <td>...</td>\n",
       "      <td>...</td>\n",
       "      <td>...</td>\n",
       "      <td>...</td>\n",
       "      <td>...</td>\n",
       "      <td>...</td>\n",
       "      <td>...</td>\n",
       "      <td>...</td>\n",
       "      <td>...</td>\n",
       "      <td>...</td>\n",
       "      <td>...</td>\n",
       "      <td>...</td>\n",
       "      <td>...</td>\n",
       "      <td>...</td>\n",
       "      <td>...</td>\n",
       "      <td>...</td>\n",
       "      <td>...</td>\n",
       "      <td>...</td>\n",
       "      <td>...</td>\n",
       "      <td>...</td>\n",
       "      <td>...</td>\n",
       "    </tr>\n",
       "    <tr>\n",
       "      <th>18741</th>\n",
       "      <td>0.0</td>\n",
       "      <td>0.0</td>\n",
       "      <td>0.0</td>\n",
       "      <td>0.0</td>\n",
       "      <td>0.0</td>\n",
       "      <td>0.0</td>\n",
       "      <td>0.0</td>\n",
       "      <td>0.0</td>\n",
       "      <td>0.0</td>\n",
       "      <td>0.0</td>\n",
       "      <td>...</td>\n",
       "      <td>0.0</td>\n",
       "      <td>0.0</td>\n",
       "      <td>0.0</td>\n",
       "      <td>0.0</td>\n",
       "      <td>0.0</td>\n",
       "      <td>0.0</td>\n",
       "      <td>1.0</td>\n",
       "      <td>0.0</td>\n",
       "      <td>1.0</td>\n",
       "      <td>0.0</td>\n",
       "    </tr>\n",
       "    <tr>\n",
       "      <th>18742</th>\n",
       "      <td>0.0</td>\n",
       "      <td>0.0</td>\n",
       "      <td>0.0</td>\n",
       "      <td>0.0</td>\n",
       "      <td>0.0</td>\n",
       "      <td>0.0</td>\n",
       "      <td>0.0</td>\n",
       "      <td>0.0</td>\n",
       "      <td>0.0</td>\n",
       "      <td>0.0</td>\n",
       "      <td>...</td>\n",
       "      <td>0.0</td>\n",
       "      <td>0.0</td>\n",
       "      <td>0.0</td>\n",
       "      <td>0.0</td>\n",
       "      <td>0.0</td>\n",
       "      <td>0.0</td>\n",
       "      <td>0.0</td>\n",
       "      <td>0.0</td>\n",
       "      <td>0.0</td>\n",
       "      <td>1.0</td>\n",
       "    </tr>\n",
       "    <tr>\n",
       "      <th>18743</th>\n",
       "      <td>0.0</td>\n",
       "      <td>0.0</td>\n",
       "      <td>0.0</td>\n",
       "      <td>0.0</td>\n",
       "      <td>0.0</td>\n",
       "      <td>0.0</td>\n",
       "      <td>0.0</td>\n",
       "      <td>0.0</td>\n",
       "      <td>0.0</td>\n",
       "      <td>0.0</td>\n",
       "      <td>...</td>\n",
       "      <td>0.0</td>\n",
       "      <td>0.0</td>\n",
       "      <td>0.0</td>\n",
       "      <td>0.0</td>\n",
       "      <td>0.0</td>\n",
       "      <td>0.0</td>\n",
       "      <td>0.0</td>\n",
       "      <td>0.0</td>\n",
       "      <td>0.0</td>\n",
       "      <td>1.0</td>\n",
       "    </tr>\n",
       "    <tr>\n",
       "      <th>18744</th>\n",
       "      <td>0.0</td>\n",
       "      <td>0.0</td>\n",
       "      <td>1.0</td>\n",
       "      <td>0.0</td>\n",
       "      <td>0.0</td>\n",
       "      <td>0.0</td>\n",
       "      <td>0.0</td>\n",
       "      <td>0.0</td>\n",
       "      <td>0.0</td>\n",
       "      <td>0.0</td>\n",
       "      <td>...</td>\n",
       "      <td>0.0</td>\n",
       "      <td>0.0</td>\n",
       "      <td>0.0</td>\n",
       "      <td>0.0</td>\n",
       "      <td>0.0</td>\n",
       "      <td>0.0</td>\n",
       "      <td>4.0</td>\n",
       "      <td>0.0</td>\n",
       "      <td>10.0</td>\n",
       "      <td>0.0</td>\n",
       "    </tr>\n",
       "    <tr>\n",
       "      <th>18745</th>\n",
       "      <td>0.0</td>\n",
       "      <td>0.0</td>\n",
       "      <td>0.0</td>\n",
       "      <td>0.0</td>\n",
       "      <td>0.0</td>\n",
       "      <td>0.0</td>\n",
       "      <td>0.0</td>\n",
       "      <td>0.0</td>\n",
       "      <td>0.0</td>\n",
       "      <td>0.0</td>\n",
       "      <td>...</td>\n",
       "      <td>0.0</td>\n",
       "      <td>0.0</td>\n",
       "      <td>0.0</td>\n",
       "      <td>0.0</td>\n",
       "      <td>0.0</td>\n",
       "      <td>0.0</td>\n",
       "      <td>0.0</td>\n",
       "      <td>0.0</td>\n",
       "      <td>0.0</td>\n",
       "      <td>1.0</td>\n",
       "    </tr>\n",
       "  </tbody>\n",
       "</table>\n",
       "<p>17632 rows × 9723 columns</p>\n",
       "</div>"
      ],
      "text/plain": [
       "         tagValue                                                           \\\n",
       "tagValue        0 '80s -pearl fashion music 0 play yet   00 00's  007  00s   \n",
       "artistID                                                                     \n",
       "1             0.0  0.0                  0.0        0.0  0.0  0.0  0.0  0.0   \n",
       "2             0.0  0.0                  0.0        0.0  0.0  0.0  0.0  0.0   \n",
       "3             0.0  0.0                  0.0        0.0  0.0  0.0  0.0  0.0   \n",
       "4             0.0  0.0                  0.0        0.0  0.0  0.0  0.0  0.0   \n",
       "5             0.0  0.0                  0.0        0.0  0.0  0.0  0.0  0.0   \n",
       "...           ...  ...                  ...        ...  ...  ...  ...  ...   \n",
       "18741         0.0  0.0                  0.0        0.0  0.0  0.0  0.0  0.0   \n",
       "18742         0.0  0.0                  0.0        0.0  0.0  0.0  0.0  0.0   \n",
       "18743         0.0  0.0                  0.0        0.0  0.0  0.0  0.0  0.0   \n",
       "18744         0.0  0.0                  1.0        0.0  0.0  0.0  0.0  0.0   \n",
       "18745         0.0  0.0                  0.0        0.0  0.0  0.0  0.0  0.0   \n",
       "\n",
       "                        ...                                                   \\\n",
       "tagValue 00s rock    1  ... zombie rave zombieland zoocore zornish  ztt   zu   \n",
       "artistID                ...                                                    \n",
       "1             0.0  0.0  ...         0.0        0.0     0.0     0.0  0.0  0.0   \n",
       "2             0.0  0.0  ...         0.0        0.0     0.0     0.0  0.0  0.0   \n",
       "3             0.0  0.0  ...         0.0        0.0     0.0     0.0  0.0  0.0   \n",
       "4             0.0  0.0  ...         0.0        0.0     0.0     0.0  0.0  0.0   \n",
       "5             0.0  0.0  ...         0.0        0.0     0.0     0.0  0.0  0.0   \n",
       "...           ...  ...  ...         ...        ...     ...     ...  ...  ...   \n",
       "18741         0.0  0.0  ...         0.0        0.0     0.0     0.0  0.0  0.0   \n",
       "18742         0.0  0.0  ...         0.0        0.0     0.0     0.0  0.0  0.0   \n",
       "18743         0.0  0.0  ...         0.0        0.0     0.0     0.0  0.0  0.0   \n",
       "18744         0.0  0.0  ...         0.0        0.0     0.0     0.0  0.0  0.0   \n",
       "18745         0.0  0.0  ...         0.0        0.0     0.0     0.0  0.0  0.0   \n",
       "\n",
       "         recency                         \n",
       "tagValue     new  old very_new very_old  \n",
       "artistID                                 \n",
       "1           42.0  0.0      3.0      0.0  \n",
       "2          240.0  0.0     84.0      0.0  \n",
       "3           24.0  0.0      3.0      0.0  \n",
       "4           36.0  0.0      8.0      0.0  \n",
       "5            8.0  0.0      6.0      0.0  \n",
       "...          ...  ...      ...      ...  \n",
       "18741        1.0  0.0      1.0      0.0  \n",
       "18742        0.0  0.0      0.0      1.0  \n",
       "18743        0.0  0.0      0.0      1.0  \n",
       "18744        4.0  0.0     10.0      0.0  \n",
       "18745        0.0  0.0      0.0      1.0  \n",
       "\n",
       "[17632 rows x 9723 columns]"
      ]
     },
     "execution_count": 56,
     "metadata": {},
     "output_type": "execute_result"
    }
   ],
   "source": [
    "cb"
   ]
  },
  {
   "cell_type": "code",
   "execution_count": 57,
   "id": "9b0041a2",
   "metadata": {},
   "outputs": [],
   "source": [
    "cb[\"new\"] =0\n",
    "cb[\"old\"]=0\n",
    "cb[\"very_new\"]=0\n",
    "cb[\"very_old\"]=0"
   ]
  },
  {
   "cell_type": "code",
   "execution_count": 58,
   "id": "e6b17b84",
   "metadata": {},
   "outputs": [],
   "source": [
    "cb.loc[cb['recency',                  'new']>=1,'new']=1\n",
    "cb.loc[cb['recency',                  'old']>=1,'old']=1\n",
    "cb.loc[cb['recency',                  'very_new']>=1,'very_new']=1\n",
    "cb.loc[cb['recency',                  'very_old']>=1,'very_old']=1"
   ]
  },
  {
   "cell_type": "code",
   "execution_count": 59,
   "id": "e3d94d08",
   "metadata": {},
   "outputs": [],
   "source": [
    "cb = cb.drop([( 'recency',                  'new'),\n",
    "            ( 'recency',                  'old'),\n",
    "            ( 'recency',             'very_new'),\n",
    "            ( 'recency',             'very_old')], axis=1)"
   ]
  },
  {
   "cell_type": "code",
   "execution_count": 60,
   "id": "0ac17768",
   "metadata": {},
   "outputs": [
    {
     "data": {
      "text/html": [
       "<div>\n",
       "<style scoped>\n",
       "    .dataframe tbody tr th:only-of-type {\n",
       "        vertical-align: middle;\n",
       "    }\n",
       "\n",
       "    .dataframe tbody tr th {\n",
       "        vertical-align: top;\n",
       "    }\n",
       "\n",
       "    .dataframe thead tr th {\n",
       "        text-align: left;\n",
       "    }\n",
       "\n",
       "    .dataframe thead tr:last-of-type th {\n",
       "        text-align: right;\n",
       "    }\n",
       "</style>\n",
       "<table border=\"1\" class=\"dataframe\">\n",
       "  <thead>\n",
       "    <tr>\n",
       "      <th></th>\n",
       "      <th colspan=\"17\" halign=\"left\">tagValue</th>\n",
       "      <th>new</th>\n",
       "      <th>old</th>\n",
       "      <th>very_new</th>\n",
       "      <th>very_old</th>\n",
       "    </tr>\n",
       "    <tr>\n",
       "      <th>tagValue</th>\n",
       "      <th>0</th>\n",
       "      <th>'80s</th>\n",
       "      <th>-pearl fashion music</th>\n",
       "      <th>0 play yet</th>\n",
       "      <th>00</th>\n",
       "      <th>00's</th>\n",
       "      <th>007</th>\n",
       "      <th>00s</th>\n",
       "      <th>00s rock</th>\n",
       "      <th>1</th>\n",
       "      <th>...</th>\n",
       "      <th>zombie rave</th>\n",
       "      <th>zombieland</th>\n",
       "      <th>zoocore</th>\n",
       "      <th>zornish</th>\n",
       "      <th>ztt</th>\n",
       "      <th>zu</th>\n",
       "      <th></th>\n",
       "      <th></th>\n",
       "      <th></th>\n",
       "      <th></th>\n",
       "    </tr>\n",
       "    <tr>\n",
       "      <th>artistID</th>\n",
       "      <th></th>\n",
       "      <th></th>\n",
       "      <th></th>\n",
       "      <th></th>\n",
       "      <th></th>\n",
       "      <th></th>\n",
       "      <th></th>\n",
       "      <th></th>\n",
       "      <th></th>\n",
       "      <th></th>\n",
       "      <th></th>\n",
       "      <th></th>\n",
       "      <th></th>\n",
       "      <th></th>\n",
       "      <th></th>\n",
       "      <th></th>\n",
       "      <th></th>\n",
       "      <th></th>\n",
       "      <th></th>\n",
       "      <th></th>\n",
       "      <th></th>\n",
       "    </tr>\n",
       "  </thead>\n",
       "  <tbody>\n",
       "    <tr>\n",
       "      <th>1</th>\n",
       "      <td>0.0</td>\n",
       "      <td>0.0</td>\n",
       "      <td>0.0</td>\n",
       "      <td>0.0</td>\n",
       "      <td>0.0</td>\n",
       "      <td>0.0</td>\n",
       "      <td>0.0</td>\n",
       "      <td>0.0</td>\n",
       "      <td>0.0</td>\n",
       "      <td>0.0</td>\n",
       "      <td>...</td>\n",
       "      <td>0.0</td>\n",
       "      <td>0.0</td>\n",
       "      <td>0.0</td>\n",
       "      <td>0.0</td>\n",
       "      <td>0.0</td>\n",
       "      <td>0.0</td>\n",
       "      <td>1</td>\n",
       "      <td>0</td>\n",
       "      <td>1</td>\n",
       "      <td>0</td>\n",
       "    </tr>\n",
       "    <tr>\n",
       "      <th>2</th>\n",
       "      <td>0.0</td>\n",
       "      <td>0.0</td>\n",
       "      <td>0.0</td>\n",
       "      <td>0.0</td>\n",
       "      <td>0.0</td>\n",
       "      <td>0.0</td>\n",
       "      <td>0.0</td>\n",
       "      <td>0.0</td>\n",
       "      <td>0.0</td>\n",
       "      <td>0.0</td>\n",
       "      <td>...</td>\n",
       "      <td>0.0</td>\n",
       "      <td>0.0</td>\n",
       "      <td>0.0</td>\n",
       "      <td>0.0</td>\n",
       "      <td>0.0</td>\n",
       "      <td>0.0</td>\n",
       "      <td>1</td>\n",
       "      <td>0</td>\n",
       "      <td>1</td>\n",
       "      <td>0</td>\n",
       "    </tr>\n",
       "    <tr>\n",
       "      <th>3</th>\n",
       "      <td>0.0</td>\n",
       "      <td>0.0</td>\n",
       "      <td>0.0</td>\n",
       "      <td>0.0</td>\n",
       "      <td>0.0</td>\n",
       "      <td>0.0</td>\n",
       "      <td>0.0</td>\n",
       "      <td>0.0</td>\n",
       "      <td>0.0</td>\n",
       "      <td>0.0</td>\n",
       "      <td>...</td>\n",
       "      <td>0.0</td>\n",
       "      <td>0.0</td>\n",
       "      <td>0.0</td>\n",
       "      <td>0.0</td>\n",
       "      <td>0.0</td>\n",
       "      <td>0.0</td>\n",
       "      <td>1</td>\n",
       "      <td>0</td>\n",
       "      <td>1</td>\n",
       "      <td>0</td>\n",
       "    </tr>\n",
       "    <tr>\n",
       "      <th>4</th>\n",
       "      <td>0.0</td>\n",
       "      <td>0.0</td>\n",
       "      <td>0.0</td>\n",
       "      <td>0.0</td>\n",
       "      <td>0.0</td>\n",
       "      <td>0.0</td>\n",
       "      <td>0.0</td>\n",
       "      <td>0.0</td>\n",
       "      <td>0.0</td>\n",
       "      <td>0.0</td>\n",
       "      <td>...</td>\n",
       "      <td>0.0</td>\n",
       "      <td>0.0</td>\n",
       "      <td>0.0</td>\n",
       "      <td>0.0</td>\n",
       "      <td>0.0</td>\n",
       "      <td>0.0</td>\n",
       "      <td>1</td>\n",
       "      <td>0</td>\n",
       "      <td>1</td>\n",
       "      <td>0</td>\n",
       "    </tr>\n",
       "    <tr>\n",
       "      <th>5</th>\n",
       "      <td>0.0</td>\n",
       "      <td>0.0</td>\n",
       "      <td>0.0</td>\n",
       "      <td>0.0</td>\n",
       "      <td>0.0</td>\n",
       "      <td>0.0</td>\n",
       "      <td>0.0</td>\n",
       "      <td>0.0</td>\n",
       "      <td>0.0</td>\n",
       "      <td>0.0</td>\n",
       "      <td>...</td>\n",
       "      <td>0.0</td>\n",
       "      <td>0.0</td>\n",
       "      <td>0.0</td>\n",
       "      <td>0.0</td>\n",
       "      <td>0.0</td>\n",
       "      <td>0.0</td>\n",
       "      <td>1</td>\n",
       "      <td>0</td>\n",
       "      <td>1</td>\n",
       "      <td>0</td>\n",
       "    </tr>\n",
       "  </tbody>\n",
       "</table>\n",
       "<p>5 rows × 9723 columns</p>\n",
       "</div>"
      ],
      "text/plain": [
       "         tagValue                                                           \\\n",
       "tagValue        0 '80s -pearl fashion music 0 play yet   00 00's  007  00s   \n",
       "artistID                                                                     \n",
       "1             0.0  0.0                  0.0        0.0  0.0  0.0  0.0  0.0   \n",
       "2             0.0  0.0                  0.0        0.0  0.0  0.0  0.0  0.0   \n",
       "3             0.0  0.0                  0.0        0.0  0.0  0.0  0.0  0.0   \n",
       "4             0.0  0.0                  0.0        0.0  0.0  0.0  0.0  0.0   \n",
       "5             0.0  0.0                  0.0        0.0  0.0  0.0  0.0  0.0   \n",
       "\n",
       "                        ...                                                   \\\n",
       "tagValue 00s rock    1  ... zombie rave zombieland zoocore zornish  ztt   zu   \n",
       "artistID                ...                                                    \n",
       "1             0.0  0.0  ...         0.0        0.0     0.0     0.0  0.0  0.0   \n",
       "2             0.0  0.0  ...         0.0        0.0     0.0     0.0  0.0  0.0   \n",
       "3             0.0  0.0  ...         0.0        0.0     0.0     0.0  0.0  0.0   \n",
       "4             0.0  0.0  ...         0.0        0.0     0.0     0.0  0.0  0.0   \n",
       "5             0.0  0.0  ...         0.0        0.0     0.0     0.0  0.0  0.0   \n",
       "\n",
       "         new old very_new very_old  \n",
       "tagValue                            \n",
       "artistID                            \n",
       "1          1   0        1        0  \n",
       "2          1   0        1        0  \n",
       "3          1   0        1        0  \n",
       "4          1   0        1        0  \n",
       "5          1   0        1        0  \n",
       "\n",
       "[5 rows x 9723 columns]"
      ]
     },
     "execution_count": 60,
     "metadata": {},
     "output_type": "execute_result"
    }
   ],
   "source": [
    "cb.head()"
   ]
  },
  {
   "cell_type": "code",
   "execution_count": 61,
   "id": "b61419f8",
   "metadata": {
    "scrolled": true
   },
   "outputs": [
    {
     "data": {
      "text/plain": [
       "17632"
      ]
     },
     "execution_count": 61,
     "metadata": {},
     "output_type": "execute_result"
    }
   ],
   "source": [
    "len(cb)"
   ]
  },
  {
   "cell_type": "markdown",
   "id": "ae6f0d5e",
   "metadata": {},
   "source": [
    "## Applying content based rec sys"
   ]
  },
  {
   "cell_type": "code",
   "execution_count": 62,
   "id": "06fc55e4",
   "metadata": {},
   "outputs": [],
   "source": [
    "from sklearn.metrics.pairwise import cosine_similarity\n",
    "import surprise\n",
    "\n",
    "# Content Based as a Class\n",
    "class ContentBased:\n",
    "\n",
    "    def __init__(self, NN):\n",
    "        self.NN = NN\n",
    "        self.fitted = {\"content\":False, \"ratings\":False}\n",
    "        \n",
    "    def fit(self, content_data):\n",
    "\n",
    "        self.items = content_data.index.values\n",
    "        self.item_dim = len(self.items)\n",
    "        # check for duplicate items\n",
    "        assert (len(self.items) == len(set(self.items))), \"Duplicate items in content data!\"\n",
    "\n",
    "        # compute similarity\n",
    "        self.matrix = cosine_similarity(content_data.values)\n",
    "        np.fill_diagonal(self.matrix, 0)\n",
    "        \n",
    "        self.matrixNN = self.matrix.copy()\n",
    "\n",
    "        # filter similarity matrix for NN nearest neighbors (constraint: non-negative similarity)\n",
    "        for i in range(self.item_dim):\n",
    "            crit_val = max(-np.sort(-self.matrix[i])[self.NN-1], 0)\n",
    "            self.matrixNN[i][self.matrixNN[i] < crit_val] = 0.0\n",
    "        \n",
    "        self.fitted[\"content\"] = True\n",
    "\n",
    "    # helper -> transform surprise.trainset.Trainset to pd.DataFrame\n",
    "    def _trainset2list(self, trainset):\n",
    "        return pd.DataFrame([(trainset.to_raw_uid(u), trainset.to_raw_iid(i), r) for (u, i, r) in trainset.all_ratings()], columns=[\"user\", \"item\", \"rating\"])\n",
    "\n",
    "    def fit_ratings(self, df):\n",
    "\n",
    "        if not self.fitted[\"content\"]:\n",
    "            raise Exception(\"Fit model on content data!\")\n",
    "\n",
    "        if isinstance(df, surprise.trainset.Trainset):\n",
    "            df = self._trainset2list(df)\n",
    "        \n",
    "        # fix unknown items\n",
    "        unknown_items = list(set(df[\"item\"]) - set(self.items))\n",
    "        if len(unknown_items) > 0:\n",
    "            print(f\"Warning {len(unknown_items)} items are not included in content data: {unknown_items}\")\n",
    "        df = df[df[\"item\"].isin(self.items)].reset_index(drop=True)\n",
    "\n",
    "        # store user data\n",
    "        self.users = np.unique(df[\"user\"])\n",
    "        self.user_dim = len(self.users)\n",
    "\n",
    "        # fix missing items\n",
    "        missing_items = list(set(self.items) - set(df[\"item\"]))\n",
    "        if len(missing_items) > 0: \n",
    "            fix_df = pd.DataFrame([{\"user\":np.nan, \"item\":i, \"rating\":np.nan} for i in missing_items])\n",
    "            df = df.append(fix_df).reset_index(drop=True)\n",
    "\n",
    "        # pivot \n",
    "        df_pivot = df.pivot_table(index='user', values='rating', columns='item', dropna=False).reindex(self.users)\n",
    "\n",
    "        # row-wise (user) average\n",
    "        self.user_avg = np.array(np.mean(df_pivot, axis=1))\n",
    "        self.global_mean = np.mean(self.user_avg)\n",
    "\n",
    "        # center ratings\n",
    "        df_pivot = df_pivot.sub(self.user_avg, axis=0).fillna(0)\n",
    "\n",
    "        # predict ratings for each item \n",
    "        denom = self.matrixNN.sum(axis=0) # column sums\n",
    "        self.prediction = (np.matmul(df_pivot.values, self.matrixNN) / denom) + self.user_avg[:,np.newaxis]\n",
    "\n",
    "        # replace NA values with mean\n",
    "        # prediction[np.isnan(prediction)] = self.global_mean\n",
    "\n",
    "        self.fitted[\"ratings\"] = True\n",
    "    \n",
    "    # get predicted value for user-item combination\n",
    "    def predict(self, user, item, r_ui=None):\n",
    "        details = {\"was_impossible\":False}\n",
    "\n",
    "        # check whether user and item are unknown -> default = global average rating\n",
    "        if self.knows_user(user) & self.knows_item(item):\n",
    "\n",
    "            # convert user & item in internal ids\n",
    "            iid = np.where(self.items == item)[0].item()\n",
    "            uid = np.where(self.users == user)[0].item()\n",
    "\n",
    "            # inference prediction\n",
    "            est = self.prediction[uid, iid]\n",
    "            \n",
    "            if np.isnan(est): \n",
    "                est = self.global_mean\n",
    "                details[\"was_impossible\"] = True\n",
    "            return surprise.Prediction(user, item, r_ui, est, details)\n",
    "        \n",
    "        else:\n",
    "            details[\"was_impossible\"] = True\n",
    "            details[\"reason\"] = \"User or item unknown\"\n",
    "            return surprise.Prediction(user, item, r_ui, self.global_mean, details)\n",
    "\n",
    "    # predict entire testset\n",
    "    def test(self, testset):\n",
    "        if not self.fitted[\"ratings\"]:\n",
    "            raise Exception(\"Fit model on ratings data!\")\n",
    "        return [self.predict(user=u,item=i,r_ui=r) for (u,i,r) in testset]\n",
    "\n",
    "    def knows_user(self, user):\n",
    "        return user in self.users   \n",
    "\n",
    "    def knows_item(self, item):\n",
    "        return item in self.items        \n",
    "\n",
    "    # get topn most similar items \n",
    "    def get_most_similar(self, item, topn=5):\n",
    "\n",
    "        # get iid\n",
    "        if self.knows_item(item):\n",
    "            iid = np.where(self.items == item)[0].item()\n",
    "        else:\n",
    "            raise Exception(f\"Item {item} unknown ...\")\n",
    "        \n",
    "        list_iids = (-self.matrix[iid]).argsort()[:topn]\n",
    "        return self.items[list_iids]\n",
    "\n",
    "    def get_similarities(self):\n",
    "        print('Cosine similarities shape: ({}, {}) items x items'.format(self.item_dim, self.item_dim))\n",
    "        return self.matrix"
   ]
  },
  {
   "cell_type": "code",
   "execution_count": 63,
   "id": "8dd4b29d",
   "metadata": {},
   "outputs": [
    {
     "name": "stderr",
     "output_type": "stream",
     "text": [
      "<ipython-input-62-358ca43c89df>:71: RuntimeWarning: invalid value encountered in true_divide\n",
      "  self.prediction = (np.matmul(df_pivot.values, self.matrixNN) / denom) + self.user_avg[:,np.newaxis]\n"
     ]
    }
   ],
   "source": [
    "# init content-based\n",
    "cb_mod = ContentBased(NN=10)\n",
    "\n",
    "# fit on content\n",
    "cb_mod.fit(cb)\n",
    "\n",
    "# fit on train_ratings\n",
    "cb_mod.fit_ratings(UA_train)\n"
   ]
  },
  {
   "cell_type": "code",
   "execution_count": 64,
   "id": "6a2ca7b8",
   "metadata": {},
   "outputs": [],
   "source": [
    "cb_pred = cb_mod.test(UA_test)"
   ]
  },
  {
   "cell_type": "code",
   "execution_count": 65,
   "id": "cb0bd0bc",
   "metadata": {},
   "outputs": [
    {
     "data": {
      "text/html": [
       "<div>\n",
       "<style scoped>\n",
       "    .dataframe tbody tr th:only-of-type {\n",
       "        vertical-align: middle;\n",
       "    }\n",
       "\n",
       "    .dataframe tbody tr th {\n",
       "        vertical-align: top;\n",
       "    }\n",
       "\n",
       "    .dataframe thead th {\n",
       "        text-align: right;\n",
       "    }\n",
       "</style>\n",
       "<table border=\"1\" class=\"dataframe\">\n",
       "  <thead>\n",
       "    <tr style=\"text-align: right;\">\n",
       "      <th></th>\n",
       "      <th>Content_based_10</th>\n",
       "    </tr>\n",
       "  </thead>\n",
       "  <tbody>\n",
       "    <tr>\n",
       "      <th>RMSE</th>\n",
       "      <td>0.891378</td>\n",
       "    </tr>\n",
       "    <tr>\n",
       "      <th>MAE</th>\n",
       "      <td>0.669223</td>\n",
       "    </tr>\n",
       "    <tr>\n",
       "      <th>Recall</th>\n",
       "      <td>0.386871</td>\n",
       "    </tr>\n",
       "    <tr>\n",
       "      <th>Precision</th>\n",
       "      <td>0.760339</td>\n",
       "    </tr>\n",
       "    <tr>\n",
       "      <th>F1</th>\n",
       "      <td>0.512814</td>\n",
       "    </tr>\n",
       "    <tr>\n",
       "      <th>NDCG@5</th>\n",
       "      <td>0.872620</td>\n",
       "    </tr>\n",
       "  </tbody>\n",
       "</table>\n",
       "</div>"
      ],
      "text/plain": [
       "           Content_based_10\n",
       "RMSE               0.891378\n",
       "MAE                0.669223\n",
       "Recall             0.386871\n",
       "Precision          0.760339\n",
       "F1                 0.512814\n",
       "NDCG@5             0.872620"
      ]
     },
     "execution_count": 65,
     "metadata": {},
     "output_type": "execute_result"
    }
   ],
   "source": [
    "# compute metrics for CB RS\n",
    "cb_res = eval.evaluate(cb_pred, topn=5, rating_cutoff=3.5).rename(columns={'value':'Content_based_10'})\n",
    "cb_res"
   ]
  },
  {
   "cell_type": "code",
   "execution_count": 66,
   "id": "b51e6b6e",
   "metadata": {},
   "outputs": [
    {
     "data": {
      "text/html": [
       "<div>\n",
       "<style scoped>\n",
       "    .dataframe tbody tr th:only-of-type {\n",
       "        vertical-align: middle;\n",
       "    }\n",
       "\n",
       "    .dataframe tbody tr th {\n",
       "        vertical-align: top;\n",
       "    }\n",
       "\n",
       "    .dataframe thead th {\n",
       "        text-align: right;\n",
       "    }\n",
       "</style>\n",
       "<table border=\"1\" class=\"dataframe\">\n",
       "  <thead>\n",
       "    <tr style=\"text-align: right;\">\n",
       "      <th></th>\n",
       "      <th>Content Based</th>\n",
       "      <th>SVD</th>\n",
       "    </tr>\n",
       "  </thead>\n",
       "  <tbody>\n",
       "    <tr>\n",
       "      <th>RMSE</th>\n",
       "      <td>0.891378</td>\n",
       "      <td>0.906083</td>\n",
       "    </tr>\n",
       "    <tr>\n",
       "      <th>MAE</th>\n",
       "      <td>0.669223</td>\n",
       "      <td>0.736482</td>\n",
       "    </tr>\n",
       "    <tr>\n",
       "      <th>Recall</th>\n",
       "      <td>0.505540</td>\n",
       "      <td>0.488965</td>\n",
       "    </tr>\n",
       "    <tr>\n",
       "      <th>Precision</th>\n",
       "      <td>0.917293</td>\n",
       "      <td>0.929770</td>\n",
       "    </tr>\n",
       "    <tr>\n",
       "      <th>F1</th>\n",
       "      <td>0.651838</td>\n",
       "      <td>0.640888</td>\n",
       "    </tr>\n",
       "    <tr>\n",
       "      <th>NDCG@5</th>\n",
       "      <td>0.872620</td>\n",
       "      <td>0.870266</td>\n",
       "    </tr>\n",
       "  </tbody>\n",
       "</table>\n",
       "</div>"
      ],
      "text/plain": [
       "           Content Based       SVD\n",
       "RMSE            0.891378  0.906083\n",
       "MAE             0.669223  0.736482\n",
       "Recall          0.505540  0.488965\n",
       "Precision       0.917293  0.929770\n",
       "F1              0.651838  0.640888\n",
       "NDCG@5          0.872620  0.870266"
      ]
     },
     "execution_count": 66,
     "metadata": {},
     "output_type": "execute_result"
    }
   ],
   "source": [
    "# bechnmark models\n",
    "models = {\"Content Based\":cb_pred, \"SVD\":svd_preds}\n",
    "overview = pd.concat([eval.evaluate(mod, topn=5, rating_cutoff=3) for mod in models.values()], axis=1)\n",
    "overview.columns = list(models.keys())\n",
    "overview"
   ]
  },
  {
   "cell_type": "markdown",
   "id": "2317c99d",
   "metadata": {},
   "source": [
    "## Applying Hybrid rec sys"
   ]
  },
  {
   "cell_type": "code",
   "execution_count": 67,
   "id": "6cb84040",
   "metadata": {},
   "outputs": [
    {
     "data": {
      "text/html": [
       "<div>\n",
       "<style scoped>\n",
       "    .dataframe tbody tr th:only-of-type {\n",
       "        vertical-align: middle;\n",
       "    }\n",
       "\n",
       "    .dataframe tbody tr th {\n",
       "        vertical-align: top;\n",
       "    }\n",
       "\n",
       "    .dataframe thead th {\n",
       "        text-align: right;\n",
       "    }\n",
       "</style>\n",
       "<table border=\"1\" class=\"dataframe\">\n",
       "  <thead>\n",
       "    <tr style=\"text-align: right;\">\n",
       "      <th></th>\n",
       "      <th>uid</th>\n",
       "      <th>iid</th>\n",
       "      <th>r_ui</th>\n",
       "      <th>est</th>\n",
       "      <th>details</th>\n",
       "    </tr>\n",
       "  </thead>\n",
       "  <tbody>\n",
       "    <tr>\n",
       "      <th>0</th>\n",
       "      <td>843</td>\n",
       "      <td>10570</td>\n",
       "      <td>0</td>\n",
       "      <td>0.479301</td>\n",
       "      <td>{'was_impossible': False}</td>\n",
       "    </tr>\n",
       "    <tr>\n",
       "      <th>1</th>\n",
       "      <td>189</td>\n",
       "      <td>492</td>\n",
       "      <td>3</td>\n",
       "      <td>2.886367</td>\n",
       "      <td>{'was_impossible': False}</td>\n",
       "    </tr>\n",
       "    <tr>\n",
       "      <th>2</th>\n",
       "      <td>227</td>\n",
       "      <td>543</td>\n",
       "      <td>1</td>\n",
       "      <td>2.543021</td>\n",
       "      <td>{'was_impossible': False}</td>\n",
       "    </tr>\n",
       "    <tr>\n",
       "      <th>3</th>\n",
       "      <td>1340</td>\n",
       "      <td>10662</td>\n",
       "      <td>3</td>\n",
       "      <td>2.316920</td>\n",
       "      <td>{'was_impossible': True}</td>\n",
       "    </tr>\n",
       "    <tr>\n",
       "      <th>4</th>\n",
       "      <td>517</td>\n",
       "      <td>703</td>\n",
       "      <td>2</td>\n",
       "      <td>1.378749</td>\n",
       "      <td>{'was_impossible': False}</td>\n",
       "    </tr>\n",
       "  </tbody>\n",
       "</table>\n",
       "</div>"
      ],
      "text/plain": [
       "    uid    iid  r_ui       est                    details\n",
       "0   843  10570     0  0.479301  {'was_impossible': False}\n",
       "1   189    492     3  2.886367  {'was_impossible': False}\n",
       "2   227    543     1  2.543021  {'was_impossible': False}\n",
       "3  1340  10662     3  2.316920   {'was_impossible': True}\n",
       "4   517    703     2  1.378749  {'was_impossible': False}"
      ]
     },
     "execution_count": 67,
     "metadata": {},
     "output_type": "execute_result"
    }
   ],
   "source": [
    "# Combine predictions (weights)\n",
    "\n",
    "# extract predictions content-based and item-based\n",
    "df_pred_cb, df_pred_svd = pd.DataFrame(cb_pred), pd.DataFrame(svd_preds)\n",
    "\n",
    "df_hybrid = df_pred_cb.copy()\n",
    "df_hybrid['est'] = (np.array(df_pred_cb['est'])*0.6) + (np.array(df_pred_svd['est'])*0.4)\n",
    "\n",
    "df_hybrid.head()"
   ]
  },
  {
   "cell_type": "code",
   "execution_count": 68,
   "id": "7dfb82a6",
   "metadata": {},
   "outputs": [
    {
     "data": {
      "text/html": [
       "<div>\n",
       "<style scoped>\n",
       "    .dataframe tbody tr th:only-of-type {\n",
       "        vertical-align: middle;\n",
       "    }\n",
       "\n",
       "    .dataframe tbody tr th {\n",
       "        vertical-align: top;\n",
       "    }\n",
       "\n",
       "    .dataframe thead th {\n",
       "        text-align: right;\n",
       "    }\n",
       "</style>\n",
       "<table border=\"1\" class=\"dataframe\">\n",
       "  <thead>\n",
       "    <tr style=\"text-align: right;\">\n",
       "      <th></th>\n",
       "      <th>value</th>\n",
       "    </tr>\n",
       "  </thead>\n",
       "  <tbody>\n",
       "    <tr>\n",
       "      <th>RMSE</th>\n",
       "      <td>0.871708</td>\n",
       "    </tr>\n",
       "    <tr>\n",
       "      <th>MAE</th>\n",
       "      <td>0.690477</td>\n",
       "    </tr>\n",
       "    <tr>\n",
       "      <th>Recall</th>\n",
       "      <td>0.496712</td>\n",
       "    </tr>\n",
       "    <tr>\n",
       "      <th>Precision</th>\n",
       "      <td>0.930947</td>\n",
       "    </tr>\n",
       "    <tr>\n",
       "      <th>F1</th>\n",
       "      <td>0.647791</td>\n",
       "    </tr>\n",
       "    <tr>\n",
       "      <th>NDCG@5</th>\n",
       "      <td>0.861735</td>\n",
       "    </tr>\n",
       "  </tbody>\n",
       "</table>\n",
       "</div>"
      ],
      "text/plain": [
       "              value\n",
       "RMSE       0.871708\n",
       "MAE        0.690477\n",
       "Recall     0.496712\n",
       "Precision  0.930947\n",
       "F1         0.647791\n",
       "NDCG@5     0.861735"
      ]
     },
     "execution_count": 68,
     "metadata": {},
     "output_type": "execute_result"
    }
   ],
   "source": [
    "eval.evaluate(df_hybrid,topn=5,rating_cutoff=3)"
   ]
  },
  {
   "cell_type": "code",
   "execution_count": 69,
   "id": "d6690ac8",
   "metadata": {},
   "outputs": [],
   "source": [
    "# Random Forest Hybrid \n",
    "df_cb_train, df_cb_test = df_pred_cb[:19500], df_pred_cb[19500:]\n",
    "df_svd_train, df_svd_test = df_pred_svd[:19500], df_pred_svd[19500:]"
   ]
  },
  {
   "cell_type": "code",
   "execution_count": 96,
   "id": "c3f2b1e2",
   "metadata": {},
   "outputs": [
    {
     "data": {
      "text/html": [
       "<div>\n",
       "<style scoped>\n",
       "    .dataframe tbody tr th:only-of-type {\n",
       "        vertical-align: middle;\n",
       "    }\n",
       "\n",
       "    .dataframe tbody tr th {\n",
       "        vertical-align: top;\n",
       "    }\n",
       "\n",
       "    .dataframe thead th {\n",
       "        text-align: right;\n",
       "    }\n",
       "</style>\n",
       "<table border=\"1\" class=\"dataframe\">\n",
       "  <thead>\n",
       "    <tr style=\"text-align: right;\">\n",
       "      <th></th>\n",
       "      <th>user</th>\n",
       "      <th>artist</th>\n",
       "      <th>ratings</th>\n",
       "      <th>cb_pred</th>\n",
       "      <th>svd_pred</th>\n",
       "    </tr>\n",
       "  </thead>\n",
       "  <tbody>\n",
       "    <tr>\n",
       "      <th>0</th>\n",
       "      <td>843</td>\n",
       "      <td>10570</td>\n",
       "      <td>0</td>\n",
       "      <td>0.132169</td>\n",
       "      <td>1.000000</td>\n",
       "    </tr>\n",
       "    <tr>\n",
       "      <th>1</th>\n",
       "      <td>189</td>\n",
       "      <td>492</td>\n",
       "      <td>3</td>\n",
       "      <td>2.974464</td>\n",
       "      <td>2.754220</td>\n",
       "    </tr>\n",
       "    <tr>\n",
       "      <th>2</th>\n",
       "      <td>227</td>\n",
       "      <td>543</td>\n",
       "      <td>1</td>\n",
       "      <td>2.699498</td>\n",
       "      <td>2.308306</td>\n",
       "    </tr>\n",
       "    <tr>\n",
       "      <th>3</th>\n",
       "      <td>1340</td>\n",
       "      <td>10662</td>\n",
       "      <td>3</td>\n",
       "      <td>1.974467</td>\n",
       "      <td>2.830599</td>\n",
       "    </tr>\n",
       "    <tr>\n",
       "      <th>4</th>\n",
       "      <td>517</td>\n",
       "      <td>703</td>\n",
       "      <td>2</td>\n",
       "      <td>1.405405</td>\n",
       "      <td>1.338765</td>\n",
       "    </tr>\n",
       "  </tbody>\n",
       "</table>\n",
       "</div>"
      ],
      "text/plain": [
       "   user  artist  ratings   cb_pred  svd_pred\n",
       "0   843   10570        0  0.132169  1.000000\n",
       "1   189     492        3  2.974464  2.754220\n",
       "2   227     543        1  2.699498  2.308306\n",
       "3  1340   10662        3  1.974467  2.830599\n",
       "4   517     703        2  1.405405  1.338765"
      ]
     },
     "execution_count": 96,
     "metadata": {},
     "output_type": "execute_result"
    }
   ],
   "source": [
    "rf_data = df_cb_train[['uid','iid','r_ui','est']].rename(columns={'uid':'user','iid':'artist','r_ui':'ratings','est':'cb_pred'})\n",
    "rf_data['svd_pred'] = df_svd_train['est']\n",
    "rf_data.head()"
   ]
  },
  {
   "cell_type": "code",
   "execution_count": 71,
   "id": "7765bbf1",
   "metadata": {},
   "outputs": [
    {
     "data": {
      "text/html": [
       "<div>\n",
       "<style scoped>\n",
       "    .dataframe tbody tr th:only-of-type {\n",
       "        vertical-align: middle;\n",
       "    }\n",
       "\n",
       "    .dataframe tbody tr th {\n",
       "        vertical-align: top;\n",
       "    }\n",
       "\n",
       "    .dataframe thead th {\n",
       "        text-align: right;\n",
       "    }\n",
       "</style>\n",
       "<table border=\"1\" class=\"dataframe\">\n",
       "  <thead>\n",
       "    <tr style=\"text-align: right;\">\n",
       "      <th></th>\n",
       "      <th>target</th>\n",
       "      <th>cb_pred</th>\n",
       "      <th>svd_pred</th>\n",
       "    </tr>\n",
       "  </thead>\n",
       "  <tbody>\n",
       "    <tr>\n",
       "      <th>19500</th>\n",
       "      <td>4</td>\n",
       "      <td>2.369420</td>\n",
       "      <td>2.828775</td>\n",
       "    </tr>\n",
       "    <tr>\n",
       "      <th>19501</th>\n",
       "      <td>1</td>\n",
       "      <td>0.645668</td>\n",
       "      <td>1.000000</td>\n",
       "    </tr>\n",
       "    <tr>\n",
       "      <th>19502</th>\n",
       "      <td>3</td>\n",
       "      <td>1.974467</td>\n",
       "      <td>2.504190</td>\n",
       "    </tr>\n",
       "    <tr>\n",
       "      <th>19503</th>\n",
       "      <td>4</td>\n",
       "      <td>3.944921</td>\n",
       "      <td>4.029542</td>\n",
       "    </tr>\n",
       "    <tr>\n",
       "      <th>19504</th>\n",
       "      <td>2</td>\n",
       "      <td>1.114286</td>\n",
       "      <td>1.190672</td>\n",
       "    </tr>\n",
       "  </tbody>\n",
       "</table>\n",
       "</div>"
      ],
      "text/plain": [
       "       target   cb_pred  svd_pred\n",
       "19500       4  2.369420  2.828775\n",
       "19501       1  0.645668  1.000000\n",
       "19502       3  1.974467  2.504190\n",
       "19503       4  3.944921  4.029542\n",
       "19504       2  1.114286  1.190672"
      ]
     },
     "execution_count": 71,
     "metadata": {},
     "output_type": "execute_result"
    }
   ],
   "source": [
    "rf_test = df_cb_test[['r_ui', 'est']].rename(columns={'r_ui':'target', 'est':'cb_pred'})\n",
    "rf_test['svd_pred'] = df_svd_test['est']\n",
    "rf_test.head()"
   ]
  },
  {
   "cell_type": "code",
   "execution_count": 100,
   "id": "ce614452",
   "metadata": {},
   "outputs": [],
   "source": [
    "from sklearn.ensemble import RandomForestRegressor\n",
    "\n",
    "X, y = rf_data.loc[:,['cb_pred','svd_pred']], np.array(rf_data['ratings'])\n",
    "X_test = rf_test.loc[:,rf_test.columns != 'ratings']\n",
    "# fit random forest model\n",
    "rf_model = RandomForestRegressor(max_depth=4, n_estimators=100).fit(X,y)"
   ]
  },
  {
   "cell_type": "code",
   "execution_count": 73,
   "id": "35172a10",
   "metadata": {},
   "outputs": [],
   "source": [
    "# predict\n",
    "rf_pred = rf_model.predict(X_test)"
   ]
  },
  {
   "cell_type": "code",
   "execution_count": 74,
   "id": "d327c9a7",
   "metadata": {},
   "outputs": [],
   "source": [
    "# transform in surprise format\n",
    "df_rf = df_cb_test.copy()\n",
    "df_rf['est'] = rf_pred"
   ]
  },
  {
   "cell_type": "code",
   "execution_count": 75,
   "id": "41984363",
   "metadata": {},
   "outputs": [
    {
     "data": {
      "text/html": [
       "<div>\n",
       "<style scoped>\n",
       "    .dataframe tbody tr th:only-of-type {\n",
       "        vertical-align: middle;\n",
       "    }\n",
       "\n",
       "    .dataframe tbody tr th {\n",
       "        vertical-align: top;\n",
       "    }\n",
       "\n",
       "    .dataframe thead th {\n",
       "        text-align: right;\n",
       "    }\n",
       "</style>\n",
       "<table border=\"1\" class=\"dataframe\">\n",
       "  <thead>\n",
       "    <tr style=\"text-align: right;\">\n",
       "      <th></th>\n",
       "      <th>Hybrid_RF</th>\n",
       "    </tr>\n",
       "  </thead>\n",
       "  <tbody>\n",
       "    <tr>\n",
       "      <th>RMSE</th>\n",
       "      <td>0.847461</td>\n",
       "    </tr>\n",
       "    <tr>\n",
       "      <th>MAE</th>\n",
       "      <td>0.642739</td>\n",
       "    </tr>\n",
       "  </tbody>\n",
       "</table>\n",
       "</div>"
      ],
      "text/plain": [
       "      Hybrid_RF\n",
       "RMSE   0.847461\n",
       "MAE    0.642739"
      ]
     },
     "execution_count": 75,
     "metadata": {},
     "output_type": "execute_result"
    }
   ],
   "source": [
    "eval.prediction_metrics(df_rf).rename(columns={'value':'Hybrid_RF'})"
   ]
  },
  {
   "cell_type": "markdown",
   "id": "fd4e0ce7",
   "metadata": {},
   "source": [
    "## Top N artist for specific user"
   ]
  },
  {
   "cell_type": "code",
   "execution_count": 133,
   "id": "7c1e41c7",
   "metadata": {},
   "outputs": [],
   "source": [
    "def predict_user_topn(model, train, user, topk=15, item_col='artist'):\n",
    "\n",
    "    # iter through all items contained in train set\n",
    "    for item in set(train[item_col]) :\n",
    "        \n",
    "        X = train.loc[train['user']==user,['cb_pred','svd_pred']]\n",
    "        pred = model.predict(X)\n",
    "        # save to result dict\n",
    "        res = train.loc[train['user']==user,['user','artist','ratings']].copy()\n",
    "        res['est'] = pred\n",
    "        art_id = list(pd.DataFrame(res).sort_values('est', ascending=False)[:topk][item_col])\n",
    "    return artist_df.loc[artist_df['id'].isin(art_id),\"name\"]"
   ]
  },
  {
   "cell_type": "code",
   "execution_count": 134,
   "id": "d0fea1b3",
   "metadata": {},
   "outputs": [
    {
     "data": {
      "text/plain": [
       "167                   Placebo\n",
       "184                      Muse\n",
       "227           Nine Inch Nails\n",
       "430     The Smashing Pumpkins\n",
       "486      Funeral for a Friend\n",
       "973              Foo Fighters\n",
       "3868          Hundred Reasons\n",
       "3869                   Feeder\n",
       "Name: name, dtype: object"
      ]
     },
     "execution_count": 134,
     "metadata": {},
     "output_type": "execute_result"
    }
   ],
   "source": [
    "predict_user_topn(rf_model,rf_data,189,topk=15,item_col='artist')"
   ]
  }
 ],
 "metadata": {
  "kernelspec": {
   "display_name": "Python 3 (ipykernel)",
   "language": "python",
   "name": "python3"
  },
  "language_info": {
   "codemirror_mode": {
    "name": "ipython",
    "version": 3
   },
   "file_extension": ".py",
   "mimetype": "text/x-python",
   "name": "python",
   "nbconvert_exporter": "python",
   "pygments_lexer": "ipython3",
   "version": "3.9.4"
  }
 },
 "nbformat": 4,
 "nbformat_minor": 5
}
