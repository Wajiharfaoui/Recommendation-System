{
 "cells": [
  {
   "cell_type": "code",
   "execution_count": 1,
   "id": "26a973a3",
   "metadata": {},
   "outputs": [],
   "source": [
    "import os"
   ]
  },
  {
   "cell_type": "code",
   "execution_count": 2,
   "id": "540ce269",
   "metadata": {},
   "outputs": [],
   "source": [
    "os.chdir('/Users/dimitrikestenbaum/Desktop/RecSys')"
   ]
  },
  {
   "cell_type": "code",
   "execution_count": 3,
   "id": "ceabf1f9",
   "metadata": {},
   "outputs": [],
   "source": [
    "import pandas as pd \n",
    "import numpy as np \n",
    "from IESEGRecSys import eval\n",
    "from IESEGRecSys.model import ContentBased\n",
    "from sklearn.model_selection import train_test_split\n",
    "from surprise import Dataset, Reader, KNNBasic, SVD\n",
    "import matplotlib.pyplot as plt\n",
    "import os\n",
    "from sklearn.preprocessing import OneHotEncoder\n",
    "from sklearn.preprocessing import LabelEncoder"
   ]
  },
  {
   "cell_type": "markdown",
   "id": "535056c1",
   "metadata": {},
   "source": [
    "## Hybrid Recommender Systems"
   ]
  },
  {
   "cell_type": "markdown",
   "id": "7e92a217",
   "metadata": {},
   "source": [
    "### Load Data"
   ]
  },
  {
   "cell_type": "code",
   "execution_count": 6,
   "id": "cfcf1481",
   "metadata": {},
   "outputs": [],
   "source": [
    "user_artist_categorized = pd.read_csv('user_artists_categorized.csv')"
   ]
  },
  {
   "cell_type": "code",
   "execution_count": 7,
   "id": "bc2c6466",
   "metadata": {
    "scrolled": true
   },
   "outputs": [
    {
     "data": {
      "text/html": [
       "<div>\n",
       "<style scoped>\n",
       "    .dataframe tbody tr th:only-of-type {\n",
       "        vertical-align: middle;\n",
       "    }\n",
       "\n",
       "    .dataframe tbody tr th {\n",
       "        vertical-align: top;\n",
       "    }\n",
       "\n",
       "    .dataframe thead th {\n",
       "        text-align: right;\n",
       "    }\n",
       "</style>\n",
       "<table border=\"1\" class=\"dataframe\">\n",
       "  <thead>\n",
       "    <tr style=\"text-align: right;\">\n",
       "      <th></th>\n",
       "      <th>userID</th>\n",
       "      <th>artistID</th>\n",
       "      <th>weight_quantiles</th>\n",
       "    </tr>\n",
       "  </thead>\n",
       "  <tbody>\n",
       "    <tr>\n",
       "      <th>0</th>\n",
       "      <td>2</td>\n",
       "      <td>51</td>\n",
       "      <td>4</td>\n",
       "    </tr>\n",
       "    <tr>\n",
       "      <th>1</th>\n",
       "      <td>2</td>\n",
       "      <td>52</td>\n",
       "      <td>4</td>\n",
       "    </tr>\n",
       "    <tr>\n",
       "      <th>2</th>\n",
       "      <td>2</td>\n",
       "      <td>53</td>\n",
       "      <td>4</td>\n",
       "    </tr>\n",
       "    <tr>\n",
       "      <th>3</th>\n",
       "      <td>2</td>\n",
       "      <td>54</td>\n",
       "      <td>4</td>\n",
       "    </tr>\n",
       "    <tr>\n",
       "      <th>4</th>\n",
       "      <td>2</td>\n",
       "      <td>55</td>\n",
       "      <td>4</td>\n",
       "    </tr>\n",
       "  </tbody>\n",
       "</table>\n",
       "</div>"
      ],
      "text/plain": [
       "   userID  artistID  weight_quantiles\n",
       "0       2        51                 4\n",
       "1       2        52                 4\n",
       "2       2        53                 4\n",
       "3       2        54                 4\n",
       "4       2        55                 4"
      ]
     },
     "execution_count": 7,
     "metadata": {},
     "output_type": "execute_result"
    }
   ],
   "source": [
    "user_artist_categorized.head()"
   ]
  },
  {
   "cell_type": "markdown",
   "id": "f102b436",
   "metadata": {},
   "source": [
    "### `Train` / `Test` Split"
   ]
  },
  {
   "cell_type": "code",
   "execution_count": 33,
   "id": "089b6d76",
   "metadata": {},
   "outputs": [],
   "source": [
    "#create train and test sets \n",
    "UA_train, UA_test = train_test_split(user_artist_categorized,test_size=0.3,random_state=123)\n",
    "\n",
    "UA_train = UA_train.reset_index(drop=True)\n",
    "UA_test = UA_test.reset_index(drop=True)"
   ]
  },
  {
   "cell_type": "code",
   "execution_count": 34,
   "id": "aeb39dc3",
   "metadata": {},
   "outputs": [],
   "source": [
    "#create reader object \n",
    "reader = Reader(rating_scale=(1,5)) #1:5 scale \n",
    "\n",
    "#create surprise train and test set objects\n",
    "data = Dataset.load_from_df(user_artist_categorized[[\"userID\",\"artistID\",\"weight_quantiles\"]], reader)\n",
    "UA_train = Dataset.load_from_df(UA_train, reader).build_full_trainset()\n",
    "UA_test = list(UA_test.itertuples(index=False, name=None))"
   ]
  },
  {
   "cell_type": "markdown",
   "id": "a806631c",
   "metadata": {},
   "source": [
    "## Hybrid Recommender #1: Simple Average Predictions of `SVD` and `BaselineOnly` Algos"
   ]
  },
  {
   "cell_type": "markdown",
   "id": "9cb7562a",
   "metadata": {},
   "source": [
    "The reasoning for averaging the predictions of these two methods lies in that they were the two best performing Collaborative Filtering algorithms. This can be seen in the `Collaborative Filtering Models` section of this notebook."
   ]
  },
  {
   "cell_type": "markdown",
   "id": "c4fd21d4",
   "metadata": {},
   "source": [
    "For the SVD model we can use the hyperparameters "
   ]
  },
  {
   "cell_type": "code",
   "execution_count": 37,
   "id": "1044bc78",
   "metadata": {},
   "outputs": [
    {
     "data": {
      "text/plain": [
       "array([[1.   , 0.5  , 0.2  , ..., 0.   , 0.   , 0.   ],\n",
       "       [0.5  , 1.   , 0.375, ..., 0.   , 0.   , 1.   ],\n",
       "       [0.2  , 0.375, 1.   , ..., 0.   , 0.   , 0.5  ],\n",
       "       ...,\n",
       "       [0.   , 0.   , 0.   , ..., 1.   , 0.   , 0.   ],\n",
       "       [0.   , 0.   , 0.   , ..., 0.   , 1.   , 0.   ],\n",
       "       [0.   , 1.   , 0.5  , ..., 0.   , 0.   , 1.   ]])"
      ]
     },
     "execution_count": 37,
     "metadata": {},
     "output_type": "execute_result"
    }
   ],
   "source": [
    "#get baseline KNN score \n",
    "from surprise import KNNBasic\n",
    "\n",
    "\n",
    "svd = SVD(n_factors=20, n_epochs=20, biased=True,random_state=123)\n",
    "\n",
    "#create cosine similarity matrix\n",
    "svd.fit(UA_train)\\\n",
    ".compute_similarities()"
   ]
  },
  {
   "cell_type": "code",
   "execution_count": 38,
   "id": "d025a31a",
   "metadata": {},
   "outputs": [],
   "source": [
    "svd_preds = svd.test(UA_test)"
   ]
  },
  {
   "cell_type": "code",
   "execution_count": 39,
   "id": "37ca0463",
   "metadata": {
    "scrolled": false
   },
   "outputs": [
    {
     "data": {
      "text/html": [
       "<div>\n",
       "<style scoped>\n",
       "    .dataframe tbody tr th:only-of-type {\n",
       "        vertical-align: middle;\n",
       "    }\n",
       "\n",
       "    .dataframe tbody tr th {\n",
       "        vertical-align: top;\n",
       "    }\n",
       "\n",
       "    .dataframe thead th {\n",
       "        text-align: right;\n",
       "    }\n",
       "</style>\n",
       "<table border=\"1\" class=\"dataframe\">\n",
       "  <thead>\n",
       "    <tr style=\"text-align: right;\">\n",
       "      <th></th>\n",
       "      <th>UB_KNN</th>\n",
       "      <th>SVD</th>\n",
       "    </tr>\n",
       "  </thead>\n",
       "  <tbody>\n",
       "    <tr>\n",
       "      <th>RMSE</th>\n",
       "      <td>1.394226</td>\n",
       "      <td>0.907108</td>\n",
       "    </tr>\n",
       "    <tr>\n",
       "      <th>MAE</th>\n",
       "      <td>1.184893</td>\n",
       "      <td>0.737216</td>\n",
       "    </tr>\n",
       "    <tr>\n",
       "      <th>Recall</th>\n",
       "      <td>0.615016</td>\n",
       "      <td>0.784936</td>\n",
       "    </tr>\n",
       "    <tr>\n",
       "      <th>Precision</th>\n",
       "      <td>0.708707</td>\n",
       "      <td>0.914353</td>\n",
       "    </tr>\n",
       "    <tr>\n",
       "      <th>F1</th>\n",
       "      <td>0.658546</td>\n",
       "      <td>0.844716</td>\n",
       "    </tr>\n",
       "    <tr>\n",
       "      <th>NDCG@5</th>\n",
       "      <td>0.866164</td>\n",
       "      <td>0.871942</td>\n",
       "    </tr>\n",
       "  </tbody>\n",
       "</table>\n",
       "</div>"
      ],
      "text/plain": [
       "             UB_KNN       SVD\n",
       "RMSE       1.394226  0.907108\n",
       "MAE        1.184893  0.737216\n",
       "Recall     0.615016  0.784936\n",
       "Precision  0.708707  0.914353\n",
       "F1         0.658546  0.844716\n",
       "NDCG@5     0.866164  0.871942"
      ]
     },
     "execution_count": 39,
     "metadata": {},
     "output_type": "execute_result"
    }
   ],
   "source": [
    "models = {\"UB_KNN\":ub_preds, \"SVD\":svd_preds}\n",
    "overview = pd.concat([eval.evaluate(mod, topn=5, rating_cutoff=2) for mod in models.values()], axis=1)\n",
    "overview.columns = list(models.keys())\n",
    "overview"
   ]
  },
  {
   "cell_type": "code",
   "execution_count": 40,
   "id": "d648d527",
   "metadata": {
    "scrolled": true
   },
   "outputs": [
    {
     "data": {
      "text/html": [
       "<div>\n",
       "<style scoped>\n",
       "    .dataframe tbody tr th:only-of-type {\n",
       "        vertical-align: middle;\n",
       "    }\n",
       "\n",
       "    .dataframe tbody tr th {\n",
       "        vertical-align: top;\n",
       "    }\n",
       "\n",
       "    .dataframe thead th {\n",
       "        text-align: right;\n",
       "    }\n",
       "</style>\n",
       "<table border=\"1\" class=\"dataframe\">\n",
       "  <thead>\n",
       "    <tr style=\"text-align: right;\">\n",
       "      <th></th>\n",
       "      <th>uid</th>\n",
       "      <th>iid</th>\n",
       "      <th>r_ui</th>\n",
       "      <th>est</th>\n",
       "      <th>details</th>\n",
       "    </tr>\n",
       "  </thead>\n",
       "  <tbody>\n",
       "    <tr>\n",
       "      <th>0</th>\n",
       "      <td>843</td>\n",
       "      <td>10570</td>\n",
       "      <td>0</td>\n",
       "      <td>1.498138</td>\n",
       "      <td>{'was_impossible': True, 'reason': 'User and/o...</td>\n",
       "    </tr>\n",
       "    <tr>\n",
       "      <th>1</th>\n",
       "      <td>189</td>\n",
       "      <td>492</td>\n",
       "      <td>3</td>\n",
       "      <td>2.573330</td>\n",
       "      <td>{'actual_k': 15, 'was_impossible': False}</td>\n",
       "    </tr>\n",
       "    <tr>\n",
       "      <th>2</th>\n",
       "      <td>227</td>\n",
       "      <td>543</td>\n",
       "      <td>1</td>\n",
       "      <td>2.129309</td>\n",
       "      <td>{'actual_k': 20, 'was_impossible': False}</td>\n",
       "    </tr>\n",
       "    <tr>\n",
       "      <th>3</th>\n",
       "      <td>1340</td>\n",
       "      <td>10662</td>\n",
       "      <td>3</td>\n",
       "      <td>2.410101</td>\n",
       "      <td>{'was_impossible': True, 'reason': 'User and/o...</td>\n",
       "    </tr>\n",
       "    <tr>\n",
       "      <th>4</th>\n",
       "      <td>517</td>\n",
       "      <td>703</td>\n",
       "      <td>2</td>\n",
       "      <td>1.952635</td>\n",
       "      <td>{'actual_k': 19, 'was_impossible': False}</td>\n",
       "    </tr>\n",
       "  </tbody>\n",
       "</table>\n",
       "</div>"
      ],
      "text/plain": [
       "    uid    iid  r_ui       est  \\\n",
       "0   843  10570     0  1.498138   \n",
       "1   189    492     3  2.573330   \n",
       "2   227    543     1  2.129309   \n",
       "3  1340  10662     3  2.410101   \n",
       "4   517    703     2  1.952635   \n",
       "\n",
       "                                             details  \n",
       "0  {'was_impossible': True, 'reason': 'User and/o...  \n",
       "1          {'actual_k': 15, 'was_impossible': False}  \n",
       "2          {'actual_k': 20, 'was_impossible': False}  \n",
       "3  {'was_impossible': True, 'reason': 'User and/o...  \n",
       "4          {'actual_k': 19, 'was_impossible': False}  "
      ]
     },
     "execution_count": 40,
     "metadata": {},
     "output_type": "execute_result"
    }
   ],
   "source": [
    "# Combine predictions (mean)\n",
    "\n",
    "# extract predictions content-based and item-based\n",
    "df_pred_ub_KNN, df_pred_svd = pd.DataFrame(ub_preds), pd.DataFrame(svd_preds)\n",
    "\n",
    "df_hybrid = df_pred_ub_KNN.copy()\n",
    "df_hybrid['est'] = (np.array(df_pred_ub_KNN['est']) + np.array(df_pred_svd['est'])) / 2\n",
    "\n",
    "df_hybrid.head()"
   ]
  },
  {
   "cell_type": "code",
   "execution_count": 41,
   "id": "96c554a9",
   "metadata": {},
   "outputs": [
    {
     "data": {
      "text/html": [
       "<div>\n",
       "<style scoped>\n",
       "    .dataframe tbody tr th:only-of-type {\n",
       "        vertical-align: middle;\n",
       "    }\n",
       "\n",
       "    .dataframe tbody tr th {\n",
       "        vertical-align: top;\n",
       "    }\n",
       "\n",
       "    .dataframe thead th {\n",
       "        text-align: right;\n",
       "    }\n",
       "</style>\n",
       "<table border=\"1\" class=\"dataframe\">\n",
       "  <thead>\n",
       "    <tr style=\"text-align: right;\">\n",
       "      <th></th>\n",
       "      <th>value</th>\n",
       "    </tr>\n",
       "  </thead>\n",
       "  <tbody>\n",
       "    <tr>\n",
       "      <th>RMSE</th>\n",
       "      <td>1.088568</td>\n",
       "    </tr>\n",
       "    <tr>\n",
       "      <th>MAE</th>\n",
       "      <td>0.929834</td>\n",
       "    </tr>\n",
       "    <tr>\n",
       "      <th>Recall</th>\n",
       "      <td>0.842234</td>\n",
       "    </tr>\n",
       "    <tr>\n",
       "      <th>Precision</th>\n",
       "      <td>0.853321</td>\n",
       "    </tr>\n",
       "    <tr>\n",
       "      <th>F1</th>\n",
       "      <td>0.847742</td>\n",
       "    </tr>\n",
       "    <tr>\n",
       "      <th>NDCG@5</th>\n",
       "      <td>0.864574</td>\n",
       "    </tr>\n",
       "  </tbody>\n",
       "</table>\n",
       "</div>"
      ],
      "text/plain": [
       "              value\n",
       "RMSE       1.088568\n",
       "MAE        0.929834\n",
       "Recall     0.842234\n",
       "Precision  0.853321\n",
       "F1         0.847742\n",
       "NDCG@5     0.864574"
      ]
     },
     "execution_count": 41,
     "metadata": {},
     "output_type": "execute_result"
    }
   ],
   "source": [
    "eval.evaluate(df_hybrid,topn=5,rating_cutoff=2)"
   ]
  },
  {
   "cell_type": "code",
   "execution_count": 42,
   "id": "51ac0694",
   "metadata": {
    "scrolled": true
   },
   "outputs": [
    {
     "data": {
      "text/html": [
       "<div>\n",
       "<style scoped>\n",
       "    .dataframe tbody tr th:only-of-type {\n",
       "        vertical-align: middle;\n",
       "    }\n",
       "\n",
       "    .dataframe tbody tr th {\n",
       "        vertical-align: top;\n",
       "    }\n",
       "\n",
       "    .dataframe thead th {\n",
       "        text-align: right;\n",
       "    }\n",
       "</style>\n",
       "<table border=\"1\" class=\"dataframe\">\n",
       "  <thead>\n",
       "    <tr style=\"text-align: right;\">\n",
       "      <th></th>\n",
       "      <th>uid</th>\n",
       "      <th>iid</th>\n",
       "      <th>r_ui</th>\n",
       "      <th>est</th>\n",
       "      <th>details</th>\n",
       "    </tr>\n",
       "  </thead>\n",
       "  <tbody>\n",
       "    <tr>\n",
       "      <th>0</th>\n",
       "      <td>843</td>\n",
       "      <td>10570</td>\n",
       "      <td>0</td>\n",
       "      <td>1.996276</td>\n",
       "      <td>{'was_impossible': True, 'reason': 'User and/o...</td>\n",
       "    </tr>\n",
       "    <tr>\n",
       "      <th>1</th>\n",
       "      <td>189</td>\n",
       "      <td>492</td>\n",
       "      <td>3</td>\n",
       "      <td>2.458521</td>\n",
       "      <td>{'actual_k': 15, 'was_impossible': False}</td>\n",
       "    </tr>\n",
       "    <tr>\n",
       "      <th>2</th>\n",
       "      <td>227</td>\n",
       "      <td>543</td>\n",
       "      <td>1</td>\n",
       "      <td>2.038612</td>\n",
       "      <td>{'actual_k': 20, 'was_impossible': False}</td>\n",
       "    </tr>\n",
       "    <tr>\n",
       "      <th>3</th>\n",
       "      <td>1340</td>\n",
       "      <td>10662</td>\n",
       "      <td>3</td>\n",
       "      <td>1.996276</td>\n",
       "      <td>{'was_impossible': True, 'reason': 'User and/o...</td>\n",
       "    </tr>\n",
       "    <tr>\n",
       "      <th>4</th>\n",
       "      <td>517</td>\n",
       "      <td>703</td>\n",
       "      <td>2</td>\n",
       "      <td>2.528017</td>\n",
       "      <td>{'actual_k': 19, 'was_impossible': False}</td>\n",
       "    </tr>\n",
       "    <tr>\n",
       "      <th>...</th>\n",
       "      <td>...</td>\n",
       "      <td>...</td>\n",
       "      <td>...</td>\n",
       "      <td>...</td>\n",
       "      <td>...</td>\n",
       "    </tr>\n",
       "    <tr>\n",
       "      <th>27846</th>\n",
       "      <td>1579</td>\n",
       "      <td>1109</td>\n",
       "      <td>4</td>\n",
       "      <td>2.410597</td>\n",
       "      <td>{'actual_k': 17, 'was_impossible': False}</td>\n",
       "    </tr>\n",
       "    <tr>\n",
       "      <th>27847</th>\n",
       "      <td>1795</td>\n",
       "      <td>485</td>\n",
       "      <td>2</td>\n",
       "      <td>2.899309</td>\n",
       "      <td>{'actual_k': 20, 'was_impossible': False}</td>\n",
       "    </tr>\n",
       "    <tr>\n",
       "      <th>27848</th>\n",
       "      <td>1003</td>\n",
       "      <td>159</td>\n",
       "      <td>3</td>\n",
       "      <td>2.947368</td>\n",
       "      <td>{'actual_k': 19, 'was_impossible': False}</td>\n",
       "    </tr>\n",
       "    <tr>\n",
       "      <th>27849</th>\n",
       "      <td>1323</td>\n",
       "      <td>1378</td>\n",
       "      <td>3</td>\n",
       "      <td>2.181689</td>\n",
       "      <td>{'actual_k': 16, 'was_impossible': False}</td>\n",
       "    </tr>\n",
       "    <tr>\n",
       "      <th>27850</th>\n",
       "      <td>255</td>\n",
       "      <td>757</td>\n",
       "      <td>1</td>\n",
       "      <td>2.600779</td>\n",
       "      <td>{'actual_k': 20, 'was_impossible': False}</td>\n",
       "    </tr>\n",
       "  </tbody>\n",
       "</table>\n",
       "<p>27851 rows × 5 columns</p>\n",
       "</div>"
      ],
      "text/plain": [
       "        uid    iid  r_ui       est  \\\n",
       "0       843  10570     0  1.996276   \n",
       "1       189    492     3  2.458521   \n",
       "2       227    543     1  2.038612   \n",
       "3      1340  10662     3  1.996276   \n",
       "4       517    703     2  2.528017   \n",
       "...     ...    ...   ...       ...   \n",
       "27846  1579   1109     4  2.410597   \n",
       "27847  1795    485     2  2.899309   \n",
       "27848  1003    159     3  2.947368   \n",
       "27849  1323   1378     3  2.181689   \n",
       "27850   255    757     1  2.600779   \n",
       "\n",
       "                                                 details  \n",
       "0      {'was_impossible': True, 'reason': 'User and/o...  \n",
       "1              {'actual_k': 15, 'was_impossible': False}  \n",
       "2              {'actual_k': 20, 'was_impossible': False}  \n",
       "3      {'was_impossible': True, 'reason': 'User and/o...  \n",
       "4              {'actual_k': 19, 'was_impossible': False}  \n",
       "...                                                  ...  \n",
       "27846          {'actual_k': 17, 'was_impossible': False}  \n",
       "27847          {'actual_k': 20, 'was_impossible': False}  \n",
       "27848          {'actual_k': 19, 'was_impossible': False}  \n",
       "27849          {'actual_k': 16, 'was_impossible': False}  \n",
       "27850          {'actual_k': 20, 'was_impossible': False}  \n",
       "\n",
       "[27851 rows x 5 columns]"
      ]
     },
     "execution_count": 42,
     "metadata": {},
     "output_type": "execute_result"
    }
   ],
   "source": [
    "df_pred_ub_KNN"
   ]
  },
  {
   "cell_type": "code",
   "execution_count": 43,
   "id": "fe126e05",
   "metadata": {},
   "outputs": [],
   "source": [
    "df_pred_svd.rename(columns={'est':'svd_est','r_ui':'target'},inplace=True)"
   ]
  },
  {
   "cell_type": "code",
   "execution_count": 45,
   "id": "feea0f05",
   "metadata": {},
   "outputs": [],
   "source": [
    "df_pred_svd = df_pred_svd[['target','svd_est']]"
   ]
  },
  {
   "cell_type": "code",
   "execution_count": 46,
   "id": "90e881c0",
   "metadata": {
    "scrolled": true
   },
   "outputs": [
    {
     "data": {
      "text/html": [
       "<div>\n",
       "<style scoped>\n",
       "    .dataframe tbody tr th:only-of-type {\n",
       "        vertical-align: middle;\n",
       "    }\n",
       "\n",
       "    .dataframe tbody tr th {\n",
       "        vertical-align: top;\n",
       "    }\n",
       "\n",
       "    .dataframe thead th {\n",
       "        text-align: right;\n",
       "    }\n",
       "</style>\n",
       "<table border=\"1\" class=\"dataframe\">\n",
       "  <thead>\n",
       "    <tr style=\"text-align: right;\">\n",
       "      <th></th>\n",
       "      <th>target</th>\n",
       "      <th>svd_est</th>\n",
       "    </tr>\n",
       "  </thead>\n",
       "  <tbody>\n",
       "    <tr>\n",
       "      <th>0</th>\n",
       "      <td>0</td>\n",
       "      <td>1.000000</td>\n",
       "    </tr>\n",
       "    <tr>\n",
       "      <th>1</th>\n",
       "      <td>3</td>\n",
       "      <td>2.688139</td>\n",
       "    </tr>\n",
       "    <tr>\n",
       "      <th>2</th>\n",
       "      <td>1</td>\n",
       "      <td>2.220006</td>\n",
       "    </tr>\n",
       "    <tr>\n",
       "      <th>3</th>\n",
       "      <td>3</td>\n",
       "      <td>2.823927</td>\n",
       "    </tr>\n",
       "    <tr>\n",
       "      <th>4</th>\n",
       "      <td>2</td>\n",
       "      <td>1.377254</td>\n",
       "    </tr>\n",
       "    <tr>\n",
       "      <th>...</th>\n",
       "      <td>...</td>\n",
       "      <td>...</td>\n",
       "    </tr>\n",
       "    <tr>\n",
       "      <th>27846</th>\n",
       "      <td>4</td>\n",
       "      <td>3.133586</td>\n",
       "    </tr>\n",
       "    <tr>\n",
       "      <th>27847</th>\n",
       "      <td>2</td>\n",
       "      <td>1.810834</td>\n",
       "    </tr>\n",
       "    <tr>\n",
       "      <th>27848</th>\n",
       "      <td>3</td>\n",
       "      <td>2.578435</td>\n",
       "    </tr>\n",
       "    <tr>\n",
       "      <th>27849</th>\n",
       "      <td>3</td>\n",
       "      <td>2.231235</td>\n",
       "    </tr>\n",
       "    <tr>\n",
       "      <th>27850</th>\n",
       "      <td>1</td>\n",
       "      <td>2.177486</td>\n",
       "    </tr>\n",
       "  </tbody>\n",
       "</table>\n",
       "<p>27851 rows × 2 columns</p>\n",
       "</div>"
      ],
      "text/plain": [
       "       target   svd_est\n",
       "0           0  1.000000\n",
       "1           3  2.688139\n",
       "2           1  2.220006\n",
       "3           3  2.823927\n",
       "4           2  1.377254\n",
       "...       ...       ...\n",
       "27846       4  3.133586\n",
       "27847       2  1.810834\n",
       "27848       3  2.578435\n",
       "27849       3  2.231235\n",
       "27850       1  2.177486\n",
       "\n",
       "[27851 rows x 2 columns]"
      ]
     },
     "execution_count": 46,
     "metadata": {},
     "output_type": "execute_result"
    }
   ],
   "source": [
    "df_pred_svd"
   ]
  },
  {
   "cell_type": "code",
   "execution_count": 48,
   "id": "f35b6dc2",
   "metadata": {},
   "outputs": [],
   "source": [
    "df_pred_ub_KNN = df_pred_ub_KNN.rename(columns={'est':'ub_KNN'})"
   ]
  },
  {
   "cell_type": "code",
   "execution_count": 49,
   "id": "a0c10a98",
   "metadata": {},
   "outputs": [],
   "source": [
    "df_pred_ub_KNN = df_pred_ub_KNN[['ub_KNN']]"
   ]
  },
  {
   "cell_type": "code",
   "execution_count": 57,
   "id": "e45caffa",
   "metadata": {},
   "outputs": [],
   "source": [
    "data = pd.concat([df_pred_svd,df_pred_ub_KNN],axis=1)"
   ]
  },
  {
   "cell_type": "code",
   "execution_count": 58,
   "id": "3cc1b36a",
   "metadata": {},
   "outputs": [],
   "source": [
    "rf_train, rf_test = train_test_split(data,test_size=0.2,random_state=123)"
   ]
  },
  {
   "cell_type": "code",
   "execution_count": 59,
   "id": "42f36a91",
   "metadata": {},
   "outputs": [],
   "source": [
    "from sklearn.ensemble import RandomForestRegressor\n",
    "\n",
    "X, y = rf_train.loc[:,rf_train.columns != 'target'], np.array(rf_train['target'])\n",
    "\n",
    "# fit random forest model\n",
    "rf_model = RandomForestRegressor(max_depth=4, n_estimators=100).fit(X,y)"
   ]
  },
  {
   "cell_type": "code",
   "execution_count": 63,
   "id": "cd8ad3c2",
   "metadata": {
    "scrolled": true
   },
   "outputs": [
    {
     "name": "stderr",
     "output_type": "stream",
     "text": [
      "/Users/dimitrikestenbaum/opt/anaconda3/lib/python3.9/site-packages/pandas/core/frame.py:4906: SettingWithCopyWarning: \n",
      "A value is trying to be set on a copy of a slice from a DataFrame\n",
      "\n",
      "See the caveats in the documentation: https://pandas.pydata.org/pandas-docs/stable/user_guide/indexing.html#returning-a-view-versus-a-copy\n",
      "  return super().drop(\n"
     ]
    }
   ],
   "source": [
    "rf_test.drop(columns=['target'],inplace=True)\n",
    "rf_test.reset_index(drop=True,inplace=True)"
   ]
  },
  {
   "cell_type": "code",
   "execution_count": 67,
   "id": "27a70e17",
   "metadata": {},
   "outputs": [
    {
     "data": {
      "text/plain": [
       "array([3.87586898, 3.08027227, 1.0969231 , ..., 3.05394607, 2.13223222,\n",
       "       2.81834731])"
      ]
     },
     "execution_count": 67,
     "metadata": {},
     "output_type": "execute_result"
    }
   ],
   "source": [
    "# predict\n",
    "rf_pred = rf_model.predict(rf_test)\n",
    "\n",
    "# transform in surprise format\n",
    "rf_pred"
   ]
  }
 ],
 "metadata": {
  "kernelspec": {
   "display_name": "Python 3 (ipykernel)",
   "language": "python",
   "name": "python3"
  },
  "language_info": {
   "codemirror_mode": {
    "name": "ipython",
    "version": 3
   },
   "file_extension": ".py",
   "mimetype": "text/x-python",
   "name": "python",
   "nbconvert_exporter": "python",
   "pygments_lexer": "ipython3",
   "version": "3.9.7"
  }
 },
 "nbformat": 4,
 "nbformat_minor": 5
}
