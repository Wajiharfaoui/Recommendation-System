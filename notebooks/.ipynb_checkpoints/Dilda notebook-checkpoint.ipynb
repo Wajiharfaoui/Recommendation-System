{
 "cells": [
  {
   "cell_type": "code",
   "execution_count": 2,
   "metadata": {},
   "outputs": [],
   "source": [
    "import os"
   ]
  },
  {
   "cell_type": "code",
   "execution_count": 3,
   "metadata": {},
   "outputs": [],
   "source": [
    "os.chdir('../')"
   ]
  },
  {
   "cell_type": "code",
   "execution_count": 4,
   "metadata": {
    "scrolled": true
   },
   "outputs": [],
   "source": [
    "import pandas as pd\n",
    "import numpy as np \n",
    "import matplotlib.pyplot as plt\n",
    "import surprise \n",
    "from sklearn.model_selection import train_test_split\n",
    "from surprise.model_selection import GridSearchCV\n",
    "from surprise import SVD\n",
    "from IESEGRecSys import eval\n",
    "from surprise import KNNBasic, SVD, CoClustering, Dataset, Reader"
   ]
  },
  {
   "cell_type": "markdown",
   "metadata": {},
   "source": [
    "read tables"
   ]
  },
  {
   "cell_type": "code",
   "execution_count": 5,
   "metadata": {},
   "outputs": [],
   "source": [
    "artist_df = pd.read_table('Data-20220224/Data Group Assignment/Artists.dat')\n",
    "tags_df = pd.read_table('Data-20220224/Data Group Assignment/tags.dat',encoding='latin-1')\n",
    "user_artists_df = pd.read_table('Data-20220224/Data Group Assignment/user_artists.dat')\n",
    "user_taggedartists_df = pd.read_table('Data-20220224/Data Group Assignment/user_taggedartists.dat')\n"
   ]
  },
  {
   "cell_type": "code",
   "execution_count": 7,
   "metadata": {},
   "outputs": [
    {
     "data": {
      "text/html": [
       "<div>\n",
       "<style scoped>\n",
       "    .dataframe tbody tr th:only-of-type {\n",
       "        vertical-align: middle;\n",
       "    }\n",
       "\n",
       "    .dataframe tbody tr th {\n",
       "        vertical-align: top;\n",
       "    }\n",
       "\n",
       "    .dataframe thead th {\n",
       "        text-align: right;\n",
       "    }\n",
       "</style>\n",
       "<table border=\"1\" class=\"dataframe\">\n",
       "  <thead>\n",
       "    <tr style=\"text-align: right;\">\n",
       "      <th></th>\n",
       "      <th>userID_x</th>\n",
       "      <th>artistID</th>\n",
       "      <th>weight</th>\n",
       "      <th>userID_y</th>\n",
       "      <th>tagID</th>\n",
       "      <th>day</th>\n",
       "      <th>month</th>\n",
       "      <th>year</th>\n",
       "    </tr>\n",
       "  </thead>\n",
       "  <tbody>\n",
       "    <tr>\n",
       "      <th>0</th>\n",
       "      <td>2</td>\n",
       "      <td>51</td>\n",
       "      <td>13883</td>\n",
       "      <td>4.0</td>\n",
       "      <td>16.0</td>\n",
       "      <td>1.0</td>\n",
       "      <td>12.0</td>\n",
       "      <td>2007.0</td>\n",
       "    </tr>\n",
       "    <tr>\n",
       "      <th>1</th>\n",
       "      <td>2</td>\n",
       "      <td>51</td>\n",
       "      <td>13883</td>\n",
       "      <td>4.0</td>\n",
       "      <td>25.0</td>\n",
       "      <td>1.0</td>\n",
       "      <td>3.0</td>\n",
       "      <td>2007.0</td>\n",
       "    </tr>\n",
       "    <tr>\n",
       "      <th>2</th>\n",
       "      <td>2</td>\n",
       "      <td>51</td>\n",
       "      <td>13883</td>\n",
       "      <td>43.0</td>\n",
       "      <td>16.0</td>\n",
       "      <td>1.0</td>\n",
       "      <td>10.0</td>\n",
       "      <td>2010.0</td>\n",
       "    </tr>\n",
       "    <tr>\n",
       "      <th>3</th>\n",
       "      <td>2</td>\n",
       "      <td>51</td>\n",
       "      <td>13883</td>\n",
       "      <td>43.0</td>\n",
       "      <td>25.0</td>\n",
       "      <td>1.0</td>\n",
       "      <td>10.0</td>\n",
       "      <td>2010.0</td>\n",
       "    </tr>\n",
       "    <tr>\n",
       "      <th>4</th>\n",
       "      <td>2</td>\n",
       "      <td>51</td>\n",
       "      <td>13883</td>\n",
       "      <td>62.0</td>\n",
       "      <td>16.0</td>\n",
       "      <td>1.0</td>\n",
       "      <td>11.0</td>\n",
       "      <td>2009.0</td>\n",
       "    </tr>\n",
       "  </tbody>\n",
       "</table>\n",
       "</div>"
      ],
      "text/plain": [
       "   userID_x  artistID  weight  userID_y  tagID  day  month    year\n",
       "0         2        51   13883       4.0   16.0  1.0   12.0  2007.0\n",
       "1         2        51   13883       4.0   25.0  1.0    3.0  2007.0\n",
       "2         2        51   13883      43.0   16.0  1.0   10.0  2010.0\n",
       "3         2        51   13883      43.0   25.0  1.0   10.0  2010.0\n",
       "4         2        51   13883      62.0   16.0  1.0   11.0  2009.0"
      ]
     },
     "execution_count": 7,
     "metadata": {},
     "output_type": "execute_result"
    }
   ],
   "source": [
    "user_taggedartists_df.head()"
   ]
  },
  {
   "cell_type": "code",
   "execution_count": 6,
   "metadata": {},
   "outputs": [],
   "source": [
    " # merge together to get the full list of artist IDs\n",
    "user_taggedartists_df=pd.merge(user_artists_df,user_taggedartists_df, on=\"artistID\",how='left').fillna(0)"
   ]
  },
  {
   "cell_type": "code",
   "execution_count": 120,
   "metadata": {},
   "outputs": [],
   "source": [
    "# drop uneeded columns\n",
    "user_taggedartists_df = user_taggedartists_df[[\"userID_x\",\"artistID\",\"tagID\"]]\n",
    "user_taggedartists_df.columns =[\"userID\",\"artistID\",\"tagID\"]"
   ]
  },
  {
   "cell_type": "markdown",
   "metadata": {},
   "source": [
    "## working on dataset for content based rec sys"
   ]
  },
  {
   "cell_type": "code",
   "execution_count": 121,
   "metadata": {},
   "outputs": [],
   "source": [
    "#merging the dataset for content-based \n",
    "df_content_based = pd.merge(user_taggedartists_df,tags_df,on=\"tagID\",how=\"left\").fillna(0)"
   ]
  },
  {
   "cell_type": "code",
   "execution_count": 115,
   "metadata": {},
   "outputs": [],
   "source": [
    "#pivoting the table (creating a dummies table)\n",
    "df_content_based_1 = df_content_based.pivot_table(index=\"artistID\", columns = \"tagValue\", aggfunc={'tagValue':np.count_nonzero}).fillna(0)"
   ]
  },
  {
   "cell_type": "code",
   "execution_count": 135,
   "metadata": {},
   "outputs": [],
   "source": [
    "cb= pd.DataFrame(df_content_based_1)"
   ]
  },
  {
   "cell_type": "markdown",
   "metadata": {},
   "source": [
    "## collaborative filtering data prep"
   ]
  },
  {
   "cell_type": "code",
   "execution_count": 138,
   "metadata": {
    "scrolled": false
   },
   "outputs": [],
   "source": [
    "#discretize weights using qcuts \n",
    "user_artists_df['weight_quantiles'] = pd.qcut(user_artists_df['weight'],\n",
    "                           q=[0,.2,.4,.6,.8,1],\n",
    "                           labels=False,\n",
    "                           precision=0)\n",
    "user_artists_df=user_artists_df.drop([\"weight\"], axis = 1)"
   ]
  },
  {
   "cell_type": "markdown",
   "metadata": {},
   "source": [
    "## Train test split"
   ]
  },
  {
   "cell_type": "code",
   "execution_count": 139,
   "metadata": {},
   "outputs": [
    {
     "name": "stdout",
     "output_type": "stream",
     "text": [
      "(64983, 3)\n",
      "(27851, 3)\n"
     ]
    }
   ],
   "source": [
    "# train-test split\n",
    "train, test = train_test_split(user_artists_df, test_size=0.3, random_state=123)\n",
    "\n",
    "# reset index\n",
    "train = train.reset_index(drop=True)\n",
    "test = test.reset_index(drop=True)\n",
    "\n",
    "print(train.shape)\n",
    "print(test.shape)"
   ]
  },
  {
   "cell_type": "code",
   "execution_count": 140,
   "metadata": {},
   "outputs": [
    {
     "data": {
      "text/html": [
       "<div>\n",
       "<style scoped>\n",
       "    .dataframe tbody tr th:only-of-type {\n",
       "        vertical-align: middle;\n",
       "    }\n",
       "\n",
       "    .dataframe tbody tr th {\n",
       "        vertical-align: top;\n",
       "    }\n",
       "\n",
       "    .dataframe thead th {\n",
       "        text-align: right;\n",
       "    }\n",
       "</style>\n",
       "<table border=\"1\" class=\"dataframe\">\n",
       "  <thead>\n",
       "    <tr style=\"text-align: right;\">\n",
       "      <th></th>\n",
       "      <th>userID</th>\n",
       "      <th>artistID</th>\n",
       "      <th>weight_quantiles</th>\n",
       "    </tr>\n",
       "  </thead>\n",
       "  <tbody>\n",
       "  </tbody>\n",
       "</table>\n",
       "</div>"
      ],
      "text/plain": [
       "Empty DataFrame\n",
       "Columns: [userID, artistID, weight_quantiles]\n",
       "Index: []"
      ]
     },
     "execution_count": 140,
     "metadata": {},
     "output_type": "execute_result"
    }
   ],
   "source": [
    "# check whether the artisit IDs are all included in the content based matrix \n",
    "user_artists_df[-user_artists_df[\"artistID\"].isin(cb.index.values)]"
   ]
  },
  {
   "cell_type": "markdown",
   "metadata": {},
   "source": [
    "## creating surprise datasets"
   ]
  },
  {
   "cell_type": "code",
   "execution_count": 142,
   "metadata": {},
   "outputs": [],
   "source": [
    "reader = surprise.Reader(rating_scale=(1, 5))\n",
    "df_train = surprise.Dataset.load_from_df(train, reader).build_full_trainset()\n",
    "df_test = list(test.itertuples(index=False, name=None))"
   ]
  },
  {
   "cell_type": "markdown",
   "metadata": {},
   "source": [
    "## Applying collaborative filtering models"
   ]
  },
  {
   "cell_type": "code",
   "execution_count": 129,
   "metadata": {
    "scrolled": false
   },
   "outputs": [],
   "source": [
    "# user-based\n",
    "options = {'name':'cosine', 'user_based':True}\n",
    "ub = KNNBasic(k=15, min_k=5, sim_options=options, random_state=42)\n",
    "\n",
    "# item-based\n",
    "options = {'name':'cosine', 'user_based':False}\n",
    "ib = KNNBasic(k=15, min_k=5, sim_options=options, random_state=42)\n",
    "\n",
    "# svd\n",
    "mf = SVD(n_factors=20, biased=False, random_state=42)\n",
    "\n",
    "# clustering\n",
    "clust = CoClustering(n_cltr_u=10, n_cltr_i=10, n_epochs=50, random_state=42)\n"
   ]
  },
  {
   "cell_type": "code",
   "execution_count": 130,
   "metadata": {},
   "outputs": [
    {
     "name": "stdout",
     "output_type": "stream",
     "text": [
      "Computing the cosine similarity matrix...\n"
     ]
    },
    {
     "name": "stderr",
     "output_type": "stream",
     "text": [
      "C:\\tools\\Anaconda3\\envs\\py\\lib\\site-packages\\surprise\\prediction_algorithms\\algo_base.py:249: RuntimeWarning: invalid value encountered in double_scalars\n",
      "  sim = construction_func[name](*args)\n"
     ]
    },
    {
     "name": "stdout",
     "output_type": "stream",
     "text": [
      "Done computing similarity matrix.\n",
      "Computing the cosine similarity matrix...\n"
     ]
    },
    {
     "name": "stderr",
     "output_type": "stream",
     "text": [
      "C:\\tools\\Anaconda3\\envs\\py\\lib\\site-packages\\surprise\\prediction_algorithms\\algo_base.py:249: RuntimeWarning: invalid value encountered in double_scalars\n",
      "  sim = construction_func[name](*args)\n"
     ]
    },
    {
     "name": "stdout",
     "output_type": "stream",
     "text": [
      "Done computing similarity matrix.\n"
     ]
    },
    {
     "name": "stderr",
     "output_type": "stream",
     "text": [
      "<ipython-input-130-a0315f584852>:2: DeprecationWarning: `np.int` is a deprecated alias for the builtin `int`. To silence this warning, use `int` by itself. Doing this will not modify any behavior and is safe. When replacing `np.int`, you may wish to use e.g. `np.int64` or `np.int32` to specify the precision. If you wish to review your current use, check the release note link for additional information.\n",
      "Deprecated in NumPy 1.20; for more details and guidance: https://numpy.org/devdocs/release/1.20.0-notes.html#deprecations\n",
      "  overview = pd.concat([eval.evaluate(mod.fit(df_train).test(df_test), topn=5, rating_cutoff=4) for mod in models.values()], axis=1)\n"
     ]
    },
    {
     "data": {
      "text/html": [
       "<div>\n",
       "<style scoped>\n",
       "    .dataframe tbody tr th:only-of-type {\n",
       "        vertical-align: middle;\n",
       "    }\n",
       "\n",
       "    .dataframe tbody tr th {\n",
       "        vertical-align: top;\n",
       "    }\n",
       "\n",
       "    .dataframe thead th {\n",
       "        text-align: right;\n",
       "    }\n",
       "</style>\n",
       "<table border=\"1\" class=\"dataframe\">\n",
       "  <thead>\n",
       "    <tr style=\"text-align: right;\">\n",
       "      <th></th>\n",
       "      <th>UB_15</th>\n",
       "      <th>IB_15</th>\n",
       "      <th>SVD_20</th>\n",
       "      <th>Clust_10_10</th>\n",
       "    </tr>\n",
       "  </thead>\n",
       "  <tbody>\n",
       "    <tr>\n",
       "      <th>RMSE</th>\n",
       "      <td>1.393631</td>\n",
       "      <td>1.117180</td>\n",
       "      <td>1.217409</td>\n",
       "      <td>1.074960</td>\n",
       "    </tr>\n",
       "    <tr>\n",
       "      <th>MAE</th>\n",
       "      <td>1.183930</td>\n",
       "      <td>0.897713</td>\n",
       "      <td>0.968265</td>\n",
       "      <td>0.864092</td>\n",
       "    </tr>\n",
       "    <tr>\n",
       "      <th>Recall</th>\n",
       "      <td>0.000180</td>\n",
       "      <td>0.134892</td>\n",
       "      <td>0.080216</td>\n",
       "      <td>0.156115</td>\n",
       "    </tr>\n",
       "    <tr>\n",
       "      <th>Precision</th>\n",
       "      <td>0.250000</td>\n",
       "      <td>0.976562</td>\n",
       "      <td>0.867704</td>\n",
       "      <td>0.745704</td>\n",
       "    </tr>\n",
       "    <tr>\n",
       "      <th>F1</th>\n",
       "      <td>0.000359</td>\n",
       "      <td>0.237042</td>\n",
       "      <td>0.146855</td>\n",
       "      <td>0.258180</td>\n",
       "    </tr>\n",
       "    <tr>\n",
       "      <th>NDCG@5</th>\n",
       "      <td>0.866736</td>\n",
       "      <td>0.861017</td>\n",
       "      <td>0.868794</td>\n",
       "      <td>0.860111</td>\n",
       "    </tr>\n",
       "  </tbody>\n",
       "</table>\n",
       "</div>"
      ],
      "text/plain": [
       "              UB_15     IB_15    SVD_20  Clust_10_10\n",
       "RMSE       1.393631  1.117180  1.217409     1.074960\n",
       "MAE        1.183930  0.897713  0.968265     0.864092\n",
       "Recall     0.000180  0.134892  0.080216     0.156115\n",
       "Precision  0.250000  0.976562  0.867704     0.745704\n",
       "F1         0.000359  0.237042  0.146855     0.258180\n",
       "NDCG@5     0.866736  0.861017  0.868794     0.860111"
      ]
     },
     "execution_count": 130,
     "metadata": {},
     "output_type": "execute_result"
    }
   ],
   "source": [
    "#evaluating the models\n",
    "models = {\"UB_15\":ub, \"IB_15\":ib, \"SVD_20\":mf, \"Clust_10_10\":clust}\n",
    "overview = pd.concat([eval.evaluate(mod.fit(df_train).test(df_test), topn=5, rating_cutoff=4) for mod in models.values()], axis=1)\n",
    "overview.columns = list(models.keys())\n",
    "overview"
   ]
  },
  {
   "cell_type": "code",
   "execution_count": 123,
   "metadata": {},
   "outputs": [
    {
     "name": "stdout",
     "output_type": "stream",
     "text": [
      "9749\n",
      "9749\n"
     ]
    }
   ],
   "source": [
    "print(len(df_content_based_1.columns))\n",
    "print(len(pd.unique(df_content_based_1.columns)))"
   ]
  },
  {
   "cell_type": "markdown",
   "metadata": {},
   "source": [
    "## Applying content based rec sys"
   ]
  },
  {
   "cell_type": "code",
   "execution_count": 143,
   "metadata": {},
   "outputs": [],
   "source": [
    "from sklearn.metrics.pairwise import cosine_similarity\n",
    "import surprise\n",
    "\n",
    "# Content Based as a Class\n",
    "class ContentBased:\n",
    "\n",
    "    def __init__(self, NN):\n",
    "        self.NN = NN\n",
    "        self.fitted = {\"content\":False, \"ratings\":False}\n",
    "        \n",
    "    def fit(self, content_data):\n",
    "\n",
    "        self.items = content_data.index.values\n",
    "        self.item_dim = len(self.items)\n",
    "        # check for duplicate items\n",
    "        assert (len(self.items) == len(set(self.items))), \"Duplicate items in content data!\"\n",
    "\n",
    "        # compute similarity\n",
    "        self.matrix = cosine_similarity(content_data.values)\n",
    "        np.fill_diagonal(self.matrix, 0)\n",
    "        \n",
    "        self.matrixNN = self.matrix.copy()\n",
    "\n",
    "        # filter similarity matrix for NN nearest neighbors (constraint: non-negative similarity)\n",
    "        for i in range(self.item_dim):\n",
    "            crit_val = max(-np.sort(-self.matrix[i])[self.NN-1], 0)\n",
    "            self.matrixNN[i][self.matrixNN[i] < crit_val] = 0.0\n",
    "        \n",
    "        self.fitted[\"content\"] = True\n",
    "\n",
    "    # helper -> transform surprise.trainset.Trainset to pd.DataFrame\n",
    "    def _trainset2list(self, trainset):\n",
    "        return pd.DataFrame([(trainset.to_raw_uid(u), trainset.to_raw_iid(i), r) for (u, i, r) in trainset.all_ratings()], columns=[\"user\", \"item\", \"rating\"])\n",
    "\n",
    "    def fit_ratings(self, df):\n",
    "\n",
    "        if not self.fitted[\"content\"]:\n",
    "            raise Exception(\"Fit model on content data!\")\n",
    "\n",
    "        if isinstance(df, surprise.trainset.Trainset):\n",
    "            df = self._trainset2list(df)\n",
    "        \n",
    "        # fix unknown items\n",
    "        unknown_items = list(set(df[\"item\"]) - set(self.items))\n",
    "        if len(unknown_items) > 0:\n",
    "            print(f\"Warning {len(unknown_items)} items are not included in content data: {unknown_items}\")\n",
    "        df = df[df[\"item\"].isin(self.items)].reset_index(drop=True)\n",
    "\n",
    "        # store user data\n",
    "        self.users = np.unique(df[\"user\"])\n",
    "        self.user_dim = len(self.users)\n",
    "\n",
    "        # fix missing items\n",
    "        missing_items = list(set(self.items) - set(df[\"item\"]))\n",
    "        if len(missing_items) > 0: \n",
    "            fix_df = pd.DataFrame([{\"user\":np.nan, \"item\":i, \"rating\":np.nan} for i in missing_items])\n",
    "            df = df.append(fix_df).reset_index(drop=True)\n",
    "\n",
    "        # pivot \n",
    "        df_pivot = df.pivot_table(index='user', values='rating', columns='item', dropna=False).reindex(self.users)\n",
    "\n",
    "        # row-wise (user) average\n",
    "        self.user_avg = np.array(np.mean(df_pivot, axis=1))\n",
    "        self.global_mean = np.mean(self.user_avg)\n",
    "\n",
    "        # center ratings\n",
    "        df_pivot = df_pivot.sub(self.user_avg, axis=0).fillna(0)\n",
    "\n",
    "        # predict ratings for each item \n",
    "        denom = self.matrixNN.sum(axis=0) # column sums\n",
    "        self.prediction = (np.matmul(df_pivot.values, self.matrixNN) / denom) + self.user_avg[:,np.newaxis]\n",
    "\n",
    "        # replace NA values with mean\n",
    "        # prediction[np.isnan(prediction)] = self.global_mean\n",
    "\n",
    "        self.fitted[\"ratings\"] = True\n",
    "    \n",
    "    # get predicted value for user-item combination\n",
    "    def predict(self, user, item, r_ui=None):\n",
    "        details = {\"was_impossible\":False}\n",
    "\n",
    "        # check whether user and item are unknown -> default = global average rating\n",
    "        if self.knows_user(user) & self.knows_item(item):\n",
    "\n",
    "            # convert user & item in internal ids\n",
    "            iid = np.where(self.items == item)[0].item()\n",
    "            uid = np.where(self.users == user)[0].item()\n",
    "\n",
    "            # inference prediction\n",
    "            est = self.prediction[uid, iid]\n",
    "            \n",
    "            if np.isnan(est): \n",
    "                est = self.global_mean\n",
    "                details[\"was_impossible\"] = True\n",
    "            return surprise.Prediction(user, item, r_ui, est, details)\n",
    "        \n",
    "        else:\n",
    "            details[\"was_impossible\"] = True\n",
    "            details[\"reason\"] = \"User or item unknown\"\n",
    "            return surprise.Prediction(user, item, r_ui, self.global_mean, details)\n",
    "\n",
    "    # predict entire testset\n",
    "    def test(self, testset):\n",
    "        if not self.fitted[\"ratings\"]:\n",
    "            raise Exception(\"Fit model on ratings data!\")\n",
    "        return [self.predict(user=u,item=i,r_ui=r) for (u,i,r) in testset]\n",
    "\n",
    "    def knows_user(self, user):\n",
    "        return user in self.users   \n",
    "\n",
    "    def knows_item(self, item):\n",
    "        return item in self.items        \n",
    "\n",
    "    # get topn most similar items \n",
    "    def get_most_similar(self, item, topn=5):\n",
    "\n",
    "        # get iid\n",
    "        if self.knows_item(item):\n",
    "            iid = np.where(self.items == item)[0].item()\n",
    "        else:\n",
    "            raise Exception(f\"Item {item} unknown ...\")\n",
    "        \n",
    "        list_iids = (-self.matrix[iid]).argsort()[:topn]\n",
    "        return self.items[list_iids]\n",
    "\n",
    "    def get_similarities(self):\n",
    "        print('Cosine similarities shape: ({}, {}) items x items'.format(self.item_dim, self.item_dim))\n",
    "        return self.matrix"
   ]
  },
  {
   "cell_type": "code",
   "execution_count": 144,
   "metadata": {},
   "outputs": [
    {
     "name": "stderr",
     "output_type": "stream",
     "text": [
      "<ipython-input-143-358ca43c89df>:71: RuntimeWarning: invalid value encountered in true_divide\n",
      "  self.prediction = (np.matmul(df_pivot.values, self.matrixNN) / denom) + self.user_avg[:,np.newaxis]\n"
     ]
    }
   ],
   "source": [
    "# init content-based\n",
    "cb = ContentBased(NN=10)\n",
    "\n",
    "# fit on content\n",
    "cb.fit(df_content_based_1)\n",
    "\n",
    "# fit on train_ratings\n",
    "cb.fit_ratings(df_train)\n",
    "    \n",
    "# predict test ratings\n",
    "cb_pred = cb.test(df_test)"
   ]
  },
  {
   "cell_type": "code",
   "execution_count": 145,
   "metadata": {},
   "outputs": [
    {
     "data": {
      "text/html": [
       "<div>\n",
       "<style scoped>\n",
       "    .dataframe tbody tr th:only-of-type {\n",
       "        vertical-align: middle;\n",
       "    }\n",
       "\n",
       "    .dataframe tbody tr th {\n",
       "        vertical-align: top;\n",
       "    }\n",
       "\n",
       "    .dataframe thead th {\n",
       "        text-align: right;\n",
       "    }\n",
       "</style>\n",
       "<table border=\"1\" class=\"dataframe\">\n",
       "  <thead>\n",
       "    <tr style=\"text-align: right;\">\n",
       "      <th></th>\n",
       "      <th>Content_based_10</th>\n",
       "    </tr>\n",
       "  </thead>\n",
       "  <tbody>\n",
       "    <tr>\n",
       "      <th>RMSE</th>\n",
       "      <td>0.942734</td>\n",
       "    </tr>\n",
       "    <tr>\n",
       "      <th>MAE</th>\n",
       "      <td>0.712091</td>\n",
       "    </tr>\n",
       "    <tr>\n",
       "      <th>Recall</th>\n",
       "      <td>0.147482</td>\n",
       "    </tr>\n",
       "    <tr>\n",
       "      <th>Precision</th>\n",
       "      <td>0.991536</td>\n",
       "    </tr>\n",
       "    <tr>\n",
       "      <th>F1</th>\n",
       "      <td>0.256772</td>\n",
       "    </tr>\n",
       "    <tr>\n",
       "      <th>NDCG@5</th>\n",
       "      <td>0.869522</td>\n",
       "    </tr>\n",
       "  </tbody>\n",
       "</table>\n",
       "</div>"
      ],
      "text/plain": [
       "           Content_based_10\n",
       "RMSE               0.942734\n",
       "MAE                0.712091\n",
       "Recall             0.147482\n",
       "Precision          0.991536\n",
       "F1                 0.256772\n",
       "NDCG@5             0.869522"
      ]
     },
     "execution_count": 145,
     "metadata": {},
     "output_type": "execute_result"
    }
   ],
   "source": [
    "# compute metrics for CB RS\n",
    "cb_res = eval.evaluate(cb_pred, topn=5, rating_cutoff=4).rename(columns={'value':'Content_based_10'})\n",
    "cb_res"
   ]
  },
  {
   "cell_type": "code",
   "execution_count": 127,
   "metadata": {},
   "outputs": [
    {
     "data": {
      "text/html": [
       "<div>\n",
       "<style scoped>\n",
       "    .dataframe tbody tr th:only-of-type {\n",
       "        vertical-align: middle;\n",
       "    }\n",
       "\n",
       "    .dataframe tbody tr th {\n",
       "        vertical-align: top;\n",
       "    }\n",
       "\n",
       "    .dataframe thead th {\n",
       "        text-align: right;\n",
       "    }\n",
       "</style>\n",
       "<table border=\"1\" class=\"dataframe\">\n",
       "  <thead>\n",
       "    <tr style=\"text-align: right;\">\n",
       "      <th></th>\n",
       "      <th>UB_15</th>\n",
       "      <th>IB_15</th>\n",
       "      <th>SVD_20</th>\n",
       "      <th>Clust_10_10</th>\n",
       "      <th>Content_based_10</th>\n",
       "    </tr>\n",
       "  </thead>\n",
       "  <tbody>\n",
       "    <tr>\n",
       "      <th>RMSE</th>\n",
       "      <td>1.393631</td>\n",
       "      <td>1.117180</td>\n",
       "      <td>1.217409</td>\n",
       "      <td>1.074960</td>\n",
       "      <td>0.963876</td>\n",
       "    </tr>\n",
       "    <tr>\n",
       "      <th>MAE</th>\n",
       "      <td>1.183930</td>\n",
       "      <td>0.897713</td>\n",
       "      <td>0.968265</td>\n",
       "      <td>0.864092</td>\n",
       "      <td>0.730288</td>\n",
       "    </tr>\n",
       "    <tr>\n",
       "      <th>Recall</th>\n",
       "      <td>0.000180</td>\n",
       "      <td>0.134892</td>\n",
       "      <td>0.080216</td>\n",
       "      <td>0.156115</td>\n",
       "      <td>0.151079</td>\n",
       "    </tr>\n",
       "    <tr>\n",
       "      <th>Precision</th>\n",
       "      <td>0.250000</td>\n",
       "      <td>0.976562</td>\n",
       "      <td>0.867704</td>\n",
       "      <td>0.745704</td>\n",
       "      <td>0.927152</td>\n",
       "    </tr>\n",
       "    <tr>\n",
       "      <th>F1</th>\n",
       "      <td>0.000359</td>\n",
       "      <td>0.237042</td>\n",
       "      <td>0.146855</td>\n",
       "      <td>0.258180</td>\n",
       "      <td>0.259821</td>\n",
       "    </tr>\n",
       "    <tr>\n",
       "      <th>NDCG@5</th>\n",
       "      <td>0.866736</td>\n",
       "      <td>0.861017</td>\n",
       "      <td>0.868794</td>\n",
       "      <td>0.860111</td>\n",
       "      <td>0.870427</td>\n",
       "    </tr>\n",
       "  </tbody>\n",
       "</table>\n",
       "</div>"
      ],
      "text/plain": [
       "              UB_15     IB_15    SVD_20  Clust_10_10  Content_based_10\n",
       "RMSE       1.393631  1.117180  1.217409     1.074960          0.963876\n",
       "MAE        1.183930  0.897713  0.968265     0.864092          0.730288\n",
       "Recall     0.000180  0.134892  0.080216     0.156115          0.151079\n",
       "Precision  0.250000  0.976562  0.867704     0.745704          0.927152\n",
       "F1         0.000359  0.237042  0.146855     0.258180          0.259821\n",
       "NDCG@5     0.866736  0.861017  0.868794     0.860111          0.870427"
      ]
     },
     "execution_count": 127,
     "metadata": {},
     "output_type": "execute_result"
    }
   ],
   "source": [
    "#get summary for all models applied\n",
    "overview = pd.concat([overview, cb_res], axis=1)\n",
    "overview"
   ]
  }
 ],
 "metadata": {
  "interpreter": {
   "hash": "81e0b57edd17c3833f38e5d4db6db81e2c0f982e51ee4890d9e870805c7d8a75"
  },
  "kernelspec": {
   "display_name": "Python 3 (ipykernel)",
   "language": "python",
   "name": "python3"
  },
  "language_info": {
   "codemirror_mode": {
    "name": "ipython",
    "version": 3
   },
   "file_extension": ".py",
   "mimetype": "text/x-python",
   "name": "python",
   "nbconvert_exporter": "python",
   "pygments_lexer": "ipython3",
   "version": "3.9.7"
  }
 },
 "nbformat": 4,
 "nbformat_minor": 2
}
