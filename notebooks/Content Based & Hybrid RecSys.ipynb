{
 "cells": [
  {
   "cell_type": "code",
   "execution_count": 1,
   "id": "26a973a3",
   "metadata": {},
   "outputs": [],
   "source": [
    "import os"
   ]
  },
  {
   "cell_type": "code",
   "execution_count": 2,
   "id": "540ce269",
   "metadata": {},
   "outputs": [],
   "source": [
    "os.chdir('/Users/dimitrikestenbaum/Desktop/RecSys')"
   ]
  },
  {
   "cell_type": "code",
   "execution_count": 3,
   "id": "ceabf1f9",
   "metadata": {},
   "outputs": [],
   "source": [
    "import pandas as pd \n",
    "import numpy as np \n",
    "from IESEGRecSys import eval\n",
    "from IESEGRecSys.model import ContentBased\n",
    "from sklearn.model_selection import train_test_split\n",
    "from surprise import Dataset, Reader, KNNBasic, SVD\n",
    "import matplotlib.pyplot as plt\n",
    "import os\n",
    "from sklearn.preprocessing import OneHotEncoder\n",
    "from sklearn.preprocessing import LabelEncoder"
   ]
  },
  {
   "cell_type": "code",
   "execution_count": 6,
   "id": "fe21e8f3",
   "metadata": {},
   "outputs": [],
   "source": [
    "user_taggedartists_df = pd.read_table('Data-20220224/Data Group Assignment/user_taggedartists.dat')"
   ]
  },
  {
   "cell_type": "code",
   "execution_count": 7,
   "id": "e20f2c13",
   "metadata": {
    "scrolled": true
   },
   "outputs": [
    {
     "data": {
      "text/html": [
       "<div>\n",
       "<style scoped>\n",
       "    .dataframe tbody tr th:only-of-type {\n",
       "        vertical-align: middle;\n",
       "    }\n",
       "\n",
       "    .dataframe tbody tr th {\n",
       "        vertical-align: top;\n",
       "    }\n",
       "\n",
       "    .dataframe thead th {\n",
       "        text-align: right;\n",
       "    }\n",
       "</style>\n",
       "<table border=\"1\" class=\"dataframe\">\n",
       "  <thead>\n",
       "    <tr style=\"text-align: right;\">\n",
       "      <th></th>\n",
       "      <th>userID</th>\n",
       "      <th>artistID</th>\n",
       "      <th>tagID</th>\n",
       "      <th>day</th>\n",
       "      <th>month</th>\n",
       "      <th>year</th>\n",
       "    </tr>\n",
       "  </thead>\n",
       "  <tbody>\n",
       "    <tr>\n",
       "      <th>0</th>\n",
       "      <td>2</td>\n",
       "      <td>52</td>\n",
       "      <td>13</td>\n",
       "      <td>1</td>\n",
       "      <td>4</td>\n",
       "      <td>2009</td>\n",
       "    </tr>\n",
       "    <tr>\n",
       "      <th>1</th>\n",
       "      <td>2</td>\n",
       "      <td>52</td>\n",
       "      <td>15</td>\n",
       "      <td>1</td>\n",
       "      <td>4</td>\n",
       "      <td>2009</td>\n",
       "    </tr>\n",
       "    <tr>\n",
       "      <th>2</th>\n",
       "      <td>2</td>\n",
       "      <td>52</td>\n",
       "      <td>18</td>\n",
       "      <td>1</td>\n",
       "      <td>4</td>\n",
       "      <td>2009</td>\n",
       "    </tr>\n",
       "    <tr>\n",
       "      <th>3</th>\n",
       "      <td>2</td>\n",
       "      <td>52</td>\n",
       "      <td>21</td>\n",
       "      <td>1</td>\n",
       "      <td>4</td>\n",
       "      <td>2009</td>\n",
       "    </tr>\n",
       "    <tr>\n",
       "      <th>4</th>\n",
       "      <td>2</td>\n",
       "      <td>52</td>\n",
       "      <td>41</td>\n",
       "      <td>1</td>\n",
       "      <td>4</td>\n",
       "      <td>2009</td>\n",
       "    </tr>\n",
       "  </tbody>\n",
       "</table>\n",
       "</div>"
      ],
      "text/plain": [
       "   userID  artistID  tagID  day  month  year\n",
       "0       2        52     13    1      4  2009\n",
       "1       2        52     15    1      4  2009\n",
       "2       2        52     18    1      4  2009\n",
       "3       2        52     21    1      4  2009\n",
       "4       2        52     41    1      4  2009"
      ]
     },
     "execution_count": 7,
     "metadata": {},
     "output_type": "execute_result"
    }
   ],
   "source": [
    "user_taggedartists_df.head()"
   ]
  },
  {
   "cell_type": "code",
   "execution_count": 8,
   "id": "5a49fc43",
   "metadata": {},
   "outputs": [],
   "source": [
    "def two_dig(num):\n",
    "    if len(str(num)) == 1:\n",
    "        return((str(0) + str(num)))\n",
    "    else:\n",
    "        return(str(num))"
   ]
  },
  {
   "cell_type": "code",
   "execution_count": 9,
   "id": "90c96511",
   "metadata": {},
   "outputs": [],
   "source": [
    "user_taggedartists_df['day'] = user_taggedartists_df['day'].map(lambda x: two_dig(x))"
   ]
  },
  {
   "cell_type": "code",
   "execution_count": 10,
   "id": "397b937f",
   "metadata": {
    "scrolled": true
   },
   "outputs": [
    {
     "data": {
      "text/html": [
       "<div>\n",
       "<style scoped>\n",
       "    .dataframe tbody tr th:only-of-type {\n",
       "        vertical-align: middle;\n",
       "    }\n",
       "\n",
       "    .dataframe tbody tr th {\n",
       "        vertical-align: top;\n",
       "    }\n",
       "\n",
       "    .dataframe thead th {\n",
       "        text-align: right;\n",
       "    }\n",
       "</style>\n",
       "<table border=\"1\" class=\"dataframe\">\n",
       "  <thead>\n",
       "    <tr style=\"text-align: right;\">\n",
       "      <th></th>\n",
       "      <th>userID</th>\n",
       "      <th>artistID</th>\n",
       "      <th>tagID</th>\n",
       "      <th>day</th>\n",
       "      <th>month</th>\n",
       "      <th>year</th>\n",
       "    </tr>\n",
       "  </thead>\n",
       "  <tbody>\n",
       "    <tr>\n",
       "      <th>0</th>\n",
       "      <td>2</td>\n",
       "      <td>52</td>\n",
       "      <td>13</td>\n",
       "      <td>01</td>\n",
       "      <td>4</td>\n",
       "      <td>2009</td>\n",
       "    </tr>\n",
       "    <tr>\n",
       "      <th>1</th>\n",
       "      <td>2</td>\n",
       "      <td>52</td>\n",
       "      <td>15</td>\n",
       "      <td>01</td>\n",
       "      <td>4</td>\n",
       "      <td>2009</td>\n",
       "    </tr>\n",
       "    <tr>\n",
       "      <th>2</th>\n",
       "      <td>2</td>\n",
       "      <td>52</td>\n",
       "      <td>18</td>\n",
       "      <td>01</td>\n",
       "      <td>4</td>\n",
       "      <td>2009</td>\n",
       "    </tr>\n",
       "    <tr>\n",
       "      <th>3</th>\n",
       "      <td>2</td>\n",
       "      <td>52</td>\n",
       "      <td>21</td>\n",
       "      <td>01</td>\n",
       "      <td>4</td>\n",
       "      <td>2009</td>\n",
       "    </tr>\n",
       "    <tr>\n",
       "      <th>4</th>\n",
       "      <td>2</td>\n",
       "      <td>52</td>\n",
       "      <td>41</td>\n",
       "      <td>01</td>\n",
       "      <td>4</td>\n",
       "      <td>2009</td>\n",
       "    </tr>\n",
       "  </tbody>\n",
       "</table>\n",
       "</div>"
      ],
      "text/plain": [
       "   userID  artistID  tagID day  month  year\n",
       "0       2        52     13  01      4  2009\n",
       "1       2        52     15  01      4  2009\n",
       "2       2        52     18  01      4  2009\n",
       "3       2        52     21  01      4  2009\n",
       "4       2        52     41  01      4  2009"
      ]
     },
     "execution_count": 10,
     "metadata": {},
     "output_type": "execute_result"
    }
   ],
   "source": [
    "user_taggedartists_df.head()"
   ]
  },
  {
   "cell_type": "code",
   "execution_count": 11,
   "id": "1e1e5fcd",
   "metadata": {},
   "outputs": [],
   "source": [
    "user_taggedartists_df['month'] = user_taggedartists_df['month'].map(lambda x: two_dig(x))"
   ]
  },
  {
   "cell_type": "code",
   "execution_count": 12,
   "id": "c2ab7371",
   "metadata": {},
   "outputs": [
    {
     "data": {
      "text/html": [
       "<div>\n",
       "<style scoped>\n",
       "    .dataframe tbody tr th:only-of-type {\n",
       "        vertical-align: middle;\n",
       "    }\n",
       "\n",
       "    .dataframe tbody tr th {\n",
       "        vertical-align: top;\n",
       "    }\n",
       "\n",
       "    .dataframe thead th {\n",
       "        text-align: right;\n",
       "    }\n",
       "</style>\n",
       "<table border=\"1\" class=\"dataframe\">\n",
       "  <thead>\n",
       "    <tr style=\"text-align: right;\">\n",
       "      <th></th>\n",
       "      <th>userID</th>\n",
       "      <th>artistID</th>\n",
       "      <th>tagID</th>\n",
       "      <th>day</th>\n",
       "      <th>month</th>\n",
       "      <th>year</th>\n",
       "    </tr>\n",
       "  </thead>\n",
       "  <tbody>\n",
       "    <tr>\n",
       "      <th>0</th>\n",
       "      <td>2</td>\n",
       "      <td>52</td>\n",
       "      <td>13</td>\n",
       "      <td>01</td>\n",
       "      <td>04</td>\n",
       "      <td>2009</td>\n",
       "    </tr>\n",
       "    <tr>\n",
       "      <th>1</th>\n",
       "      <td>2</td>\n",
       "      <td>52</td>\n",
       "      <td>15</td>\n",
       "      <td>01</td>\n",
       "      <td>04</td>\n",
       "      <td>2009</td>\n",
       "    </tr>\n",
       "    <tr>\n",
       "      <th>2</th>\n",
       "      <td>2</td>\n",
       "      <td>52</td>\n",
       "      <td>18</td>\n",
       "      <td>01</td>\n",
       "      <td>04</td>\n",
       "      <td>2009</td>\n",
       "    </tr>\n",
       "    <tr>\n",
       "      <th>3</th>\n",
       "      <td>2</td>\n",
       "      <td>52</td>\n",
       "      <td>21</td>\n",
       "      <td>01</td>\n",
       "      <td>04</td>\n",
       "      <td>2009</td>\n",
       "    </tr>\n",
       "    <tr>\n",
       "      <th>4</th>\n",
       "      <td>2</td>\n",
       "      <td>52</td>\n",
       "      <td>41</td>\n",
       "      <td>01</td>\n",
       "      <td>04</td>\n",
       "      <td>2009</td>\n",
       "    </tr>\n",
       "  </tbody>\n",
       "</table>\n",
       "</div>"
      ],
      "text/plain": [
       "   userID  artistID  tagID day month  year\n",
       "0       2        52     13  01    04  2009\n",
       "1       2        52     15  01    04  2009\n",
       "2       2        52     18  01    04  2009\n",
       "3       2        52     21  01    04  2009\n",
       "4       2        52     41  01    04  2009"
      ]
     },
     "execution_count": 12,
     "metadata": {},
     "output_type": "execute_result"
    }
   ],
   "source": [
    "user_taggedartists_df.head()"
   ]
  },
  {
   "cell_type": "code",
   "execution_count": 13,
   "id": "4dde23dd",
   "metadata": {},
   "outputs": [],
   "source": [
    "user_taggedartists_df['release_date'] = pd.to_datetime((user_taggedartists_df['year'].astype('str') + user_taggedartists_df['day'] + user_taggedartists_df['month']),format='%Y%d%m')"
   ]
  },
  {
   "cell_type": "code",
   "execution_count": 14,
   "id": "69d77e45",
   "metadata": {},
   "outputs": [],
   "source": [
    "user_taggedartists_df.drop(columns=['day','month','year'],axis=1,inplace=True)"
   ]
  },
  {
   "cell_type": "code",
   "execution_count": 15,
   "id": "96891b01",
   "metadata": {},
   "outputs": [
    {
     "data": {
      "text/html": [
       "<div>\n",
       "<style scoped>\n",
       "    .dataframe tbody tr th:only-of-type {\n",
       "        vertical-align: middle;\n",
       "    }\n",
       "\n",
       "    .dataframe tbody tr th {\n",
       "        vertical-align: top;\n",
       "    }\n",
       "\n",
       "    .dataframe thead th {\n",
       "        text-align: right;\n",
       "    }\n",
       "</style>\n",
       "<table border=\"1\" class=\"dataframe\">\n",
       "  <thead>\n",
       "    <tr style=\"text-align: right;\">\n",
       "      <th></th>\n",
       "      <th>userID</th>\n",
       "      <th>artistID</th>\n",
       "      <th>tagID</th>\n",
       "      <th>release_date</th>\n",
       "    </tr>\n",
       "  </thead>\n",
       "  <tbody>\n",
       "    <tr>\n",
       "      <th>0</th>\n",
       "      <td>2</td>\n",
       "      <td>52</td>\n",
       "      <td>13</td>\n",
       "      <td>2009-04-01</td>\n",
       "    </tr>\n",
       "    <tr>\n",
       "      <th>1</th>\n",
       "      <td>2</td>\n",
       "      <td>52</td>\n",
       "      <td>15</td>\n",
       "      <td>2009-04-01</td>\n",
       "    </tr>\n",
       "    <tr>\n",
       "      <th>2</th>\n",
       "      <td>2</td>\n",
       "      <td>52</td>\n",
       "      <td>18</td>\n",
       "      <td>2009-04-01</td>\n",
       "    </tr>\n",
       "    <tr>\n",
       "      <th>3</th>\n",
       "      <td>2</td>\n",
       "      <td>52</td>\n",
       "      <td>21</td>\n",
       "      <td>2009-04-01</td>\n",
       "    </tr>\n",
       "    <tr>\n",
       "      <th>4</th>\n",
       "      <td>2</td>\n",
       "      <td>52</td>\n",
       "      <td>41</td>\n",
       "      <td>2009-04-01</td>\n",
       "    </tr>\n",
       "  </tbody>\n",
       "</table>\n",
       "</div>"
      ],
      "text/plain": [
       "   userID  artistID  tagID release_date\n",
       "0       2        52     13   2009-04-01\n",
       "1       2        52     15   2009-04-01\n",
       "2       2        52     18   2009-04-01\n",
       "3       2        52     21   2009-04-01\n",
       "4       2        52     41   2009-04-01"
      ]
     },
     "execution_count": 15,
     "metadata": {},
     "output_type": "execute_result"
    }
   ],
   "source": [
    "user_taggedartists_df.head()"
   ]
  },
  {
   "cell_type": "code",
   "execution_count": 16,
   "id": "d765e314",
   "metadata": {
    "scrolled": true
   },
   "outputs": [
    {
     "data": {
      "text/plain": [
       "(array([4.00000e+00, 0.00000e+00, 0.00000e+00, 0.00000e+00, 1.00000e+00,\n",
       "        0.00000e+00, 0.00000e+00, 0.00000e+00, 2.13500e+03, 1.84339e+05]),\n",
       " array([-4962. , -2955.5,  -949. ,  1057.5,  3064. ,  5070.5,  7077. ,\n",
       "         9083.5, 11090. , 13096.5, 15103. ]),\n",
       " <BarContainer object of 10 artists>)"
      ]
     },
     "execution_count": 16,
     "metadata": {},
     "output_type": "execute_result"
    },
    {
     "data": {
      "image/png": "[encoded data removed]",
      "text/plain": [
       "<Figure size 432x288 with 1 Axes>"
      ]
     },
     "metadata": {
      "needs_background": "light"
     },
     "output_type": "display_data"
    }
   ],
   "source": [
    "plt.hist(user_taggedartists_df['release_date'])"
   ]
  },
  {
   "cell_type": "code",
   "execution_count": 17,
   "id": "e6179dae",
   "metadata": {
    "scrolled": true
   },
   "outputs": [
    {
     "data": {
      "text/plain": [
       "Timestamp('2011-05-09 00:00:00')"
      ]
     },
     "execution_count": 17,
     "metadata": {},
     "output_type": "execute_result"
    }
   ],
   "source": [
    "user_taggedartists_df['release_date'].max()"
   ]
  },
  {
   "cell_type": "code",
   "execution_count": 18,
   "id": "57f46de7",
   "metadata": {
    "scrolled": true
   },
   "outputs": [
    {
     "data": {
      "text/plain": [
       "Timestamp('1956-06-01 00:00:00')"
      ]
     },
     "execution_count": 18,
     "metadata": {},
     "output_type": "execute_result"
    }
   ],
   "source": [
    "user_taggedartists_df['release_date'].min()"
   ]
  },
  {
   "cell_type": "code",
   "execution_count": 19,
   "id": "590a9272",
   "metadata": {
    "scrolled": false
   },
   "outputs": [
    {
     "data": {
      "text/plain": [
       "2010-07-01    5170\n",
       "2010-05-01    5124\n",
       "2010-04-01    5116\n",
       "2010-03-01    5030\n",
       "2010-09-01    5001\n",
       "              ... \n",
       "2005-09-01     150\n",
       "1956-09-01       2\n",
       "1956-06-01       1\n",
       "1957-03-01       1\n",
       "1979-05-01       1\n",
       "Name: release_date, Length: 75, dtype: int64"
      ]
     },
     "execution_count": 19,
     "metadata": {},
     "output_type": "execute_result"
    }
   ],
   "source": [
    "user_taggedartists_df['release_date'].value_counts()"
   ]
  },
  {
   "cell_type": "code",
   "execution_count": 20,
   "id": "67541f00",
   "metadata": {},
   "outputs": [
    {
     "data": {
      "text/plain": [
       "13.5"
      ]
     },
     "execution_count": 20,
     "metadata": {},
     "output_type": "execute_result"
    }
   ],
   "source": [
    "(2011 - 1957) / 4"
   ]
  },
  {
   "cell_type": "code",
   "execution_count": 21,
   "id": "d029aa89",
   "metadata": {},
   "outputs": [],
   "source": [
    "thresholdMin = pd.to_datetime('1956-06-01')\n",
    "thresholdVeryOld = pd.to_datetime('1970-01-01') # represents the range from 1956 - 1970 \n",
    "thresholdOld = pd.to_datetime('1984-01-01')# represents the range from 1970 - 1984 \n",
    "thresholdNew = pd.to_datetime('1998-01-01')# represents the range from 1984 - 1998 \n",
    "thresholdVeryNew = pd.to_datetime('2012-01-01')# represents the range from 1998 - 2012"
   ]
  },
  {
   "cell_type": "code",
   "execution_count": 22,
   "id": "f6842691",
   "metadata": {},
   "outputs": [],
   "source": [
    "user_taggedartists_df['very_old'] = ((user_taggedartists_df.release_date >= thresholdMin) & (user_taggedartists_df.release_date < thresholdVeryOld)).astype(int)\n",
    "user_taggedartists_df['old'] = ((user_taggedartists_df.release_date >= thresholdVeryOld) & (user_taggedartists_df.release_date < thresholdOld)).astype(int)\n",
    "user_taggedartists_df['new'] = ((user_taggedartists_df.release_date >= thresholdOld) & (user_taggedartists_df.release_date < thresholdNew)).astype(int)\n",
    "user_taggedartists_df['very_new'] = ((user_taggedartists_df.release_date >= thresholdNew) & (user_taggedartists_df.release_date < thresholdVeryNew)).astype(int)"
   ]
  },
  {
   "cell_type": "code",
   "execution_count": 23,
   "id": "1b260ede",
   "metadata": {},
   "outputs": [
    {
     "data": {
      "text/html": [
       "<div>\n",
       "<style scoped>\n",
       "    .dataframe tbody tr th:only-of-type {\n",
       "        vertical-align: middle;\n",
       "    }\n",
       "\n",
       "    .dataframe tbody tr th {\n",
       "        vertical-align: top;\n",
       "    }\n",
       "\n",
       "    .dataframe thead th {\n",
       "        text-align: right;\n",
       "    }\n",
       "</style>\n",
       "<table border=\"1\" class=\"dataframe\">\n",
       "  <thead>\n",
       "    <tr style=\"text-align: right;\">\n",
       "      <th></th>\n",
       "      <th>userID</th>\n",
       "      <th>artistID</th>\n",
       "      <th>tagID</th>\n",
       "      <th>release_date</th>\n",
       "      <th>very_old</th>\n",
       "      <th>old</th>\n",
       "      <th>new</th>\n",
       "      <th>very_new</th>\n",
       "    </tr>\n",
       "  </thead>\n",
       "  <tbody>\n",
       "    <tr>\n",
       "      <th>0</th>\n",
       "      <td>2</td>\n",
       "      <td>52</td>\n",
       "      <td>13</td>\n",
       "      <td>2009-04-01</td>\n",
       "      <td>0</td>\n",
       "      <td>0</td>\n",
       "      <td>0</td>\n",
       "      <td>1</td>\n",
       "    </tr>\n",
       "    <tr>\n",
       "      <th>1</th>\n",
       "      <td>2</td>\n",
       "      <td>52</td>\n",
       "      <td>15</td>\n",
       "      <td>2009-04-01</td>\n",
       "      <td>0</td>\n",
       "      <td>0</td>\n",
       "      <td>0</td>\n",
       "      <td>1</td>\n",
       "    </tr>\n",
       "    <tr>\n",
       "      <th>2</th>\n",
       "      <td>2</td>\n",
       "      <td>52</td>\n",
       "      <td>18</td>\n",
       "      <td>2009-04-01</td>\n",
       "      <td>0</td>\n",
       "      <td>0</td>\n",
       "      <td>0</td>\n",
       "      <td>1</td>\n",
       "    </tr>\n",
       "    <tr>\n",
       "      <th>3</th>\n",
       "      <td>2</td>\n",
       "      <td>52</td>\n",
       "      <td>21</td>\n",
       "      <td>2009-04-01</td>\n",
       "      <td>0</td>\n",
       "      <td>0</td>\n",
       "      <td>0</td>\n",
       "      <td>1</td>\n",
       "    </tr>\n",
       "    <tr>\n",
       "      <th>4</th>\n",
       "      <td>2</td>\n",
       "      <td>52</td>\n",
       "      <td>41</td>\n",
       "      <td>2009-04-01</td>\n",
       "      <td>0</td>\n",
       "      <td>0</td>\n",
       "      <td>0</td>\n",
       "      <td>1</td>\n",
       "    </tr>\n",
       "  </tbody>\n",
       "</table>\n",
       "</div>"
      ],
      "text/plain": [
       "   userID  artistID  tagID release_date  very_old  old  new  very_new\n",
       "0       2        52     13   2009-04-01         0    0    0         1\n",
       "1       2        52     15   2009-04-01         0    0    0         1\n",
       "2       2        52     18   2009-04-01         0    0    0         1\n",
       "3       2        52     21   2009-04-01         0    0    0         1\n",
       "4       2        52     41   2009-04-01         0    0    0         1"
      ]
     },
     "execution_count": 23,
     "metadata": {},
     "output_type": "execute_result"
    }
   ],
   "source": [
    "user_taggedartists_df.head()"
   ]
  },
  {
   "cell_type": "code",
   "execution_count": 24,
   "id": "52638f9c",
   "metadata": {},
   "outputs": [
    {
     "data": {
      "text/plain": [
       "186479"
      ]
     },
     "execution_count": 24,
     "metadata": {},
     "output_type": "execute_result"
    }
   ],
   "source": [
    "len(user_taggedartists_df)"
   ]
  },
  {
   "cell_type": "code",
   "execution_count": 25,
   "id": "27f8ef9b",
   "metadata": {},
   "outputs": [],
   "source": [
    "tags_df = pd.read_table('Data-20220224/Data Group Assignment/tags.dat',encoding='latin-1')"
   ]
  },
  {
   "cell_type": "code",
   "execution_count": 26,
   "id": "2dea9360",
   "metadata": {
    "scrolled": true
   },
   "outputs": [
    {
     "data": {
      "text/html": [
       "<div>\n",
       "<style scoped>\n",
       "    .dataframe tbody tr th:only-of-type {\n",
       "        vertical-align: middle;\n",
       "    }\n",
       "\n",
       "    .dataframe tbody tr th {\n",
       "        vertical-align: top;\n",
       "    }\n",
       "\n",
       "    .dataframe thead th {\n",
       "        text-align: right;\n",
       "    }\n",
       "</style>\n",
       "<table border=\"1\" class=\"dataframe\">\n",
       "  <thead>\n",
       "    <tr style=\"text-align: right;\">\n",
       "      <th></th>\n",
       "      <th>tagID</th>\n",
       "      <th>tagValue</th>\n",
       "    </tr>\n",
       "  </thead>\n",
       "  <tbody>\n",
       "    <tr>\n",
       "      <th>0</th>\n",
       "      <td>1</td>\n",
       "      <td>metal</td>\n",
       "    </tr>\n",
       "    <tr>\n",
       "      <th>1</th>\n",
       "      <td>2</td>\n",
       "      <td>alternative metal</td>\n",
       "    </tr>\n",
       "    <tr>\n",
       "      <th>2</th>\n",
       "      <td>3</td>\n",
       "      <td>goth rock</td>\n",
       "    </tr>\n",
       "    <tr>\n",
       "      <th>3</th>\n",
       "      <td>4</td>\n",
       "      <td>black metal</td>\n",
       "    </tr>\n",
       "    <tr>\n",
       "      <th>4</th>\n",
       "      <td>5</td>\n",
       "      <td>death metal</td>\n",
       "    </tr>\n",
       "  </tbody>\n",
       "</table>\n",
       "</div>"
      ],
      "text/plain": [
       "   tagID           tagValue\n",
       "0      1              metal\n",
       "1      2  alternative metal\n",
       "2      3          goth rock\n",
       "3      4        black metal\n",
       "4      5        death metal"
      ]
     },
     "execution_count": 26,
     "metadata": {},
     "output_type": "execute_result"
    }
   ],
   "source": [
    "tags_df.head()"
   ]
  },
  {
   "cell_type": "code",
   "execution_count": 27,
   "id": "22ad405b",
   "metadata": {
    "scrolled": true
   },
   "outputs": [
    {
     "data": {
      "text/plain": [
       "metal                                        1\n",
       "absolute bomb rock-punk track                1\n",
       "gorgeous world pop track                     1\n",
       "tribal womne of the amazon rocks my world    1\n",
       "cool mano negra cover                        1\n",
       "                                            ..\n",
       "question of honor                            1\n",
       "luna                                         1\n",
       "astrrid hadad                                1\n",
       "in the kingdom of darkness                   1\n",
       "electro latino                               1\n",
       "Name: tagValue, Length: 11946, dtype: int64"
      ]
     },
     "execution_count": 27,
     "metadata": {},
     "output_type": "execute_result"
    }
   ],
   "source": [
    "tags_df.tagValue.value_counts()"
   ]
  },
  {
   "cell_type": "code",
   "execution_count": 27,
   "id": "cd45c035",
   "metadata": {
    "scrolled": true
   },
   "outputs": [],
   "source": [
    "merged = pd.merge(user_taggedartists_df,tags_df,how='inner',on='tagID')"
   ]
  },
  {
   "cell_type": "code",
   "execution_count": 28,
   "id": "39f78b6b",
   "metadata": {
    "scrolled": false
   },
   "outputs": [
    {
     "data": {
      "text/html": [
       "<div>\n",
       "<style scoped>\n",
       "    .dataframe tbody tr th:only-of-type {\n",
       "        vertical-align: middle;\n",
       "    }\n",
       "\n",
       "    .dataframe tbody tr th {\n",
       "        vertical-align: top;\n",
       "    }\n",
       "\n",
       "    .dataframe thead th {\n",
       "        text-align: right;\n",
       "    }\n",
       "</style>\n",
       "<table border=\"1\" class=\"dataframe\">\n",
       "  <thead>\n",
       "    <tr style=\"text-align: right;\">\n",
       "      <th></th>\n",
       "      <th>userID</th>\n",
       "      <th>artistID</th>\n",
       "      <th>tagID</th>\n",
       "      <th>release_date</th>\n",
       "      <th>very_old</th>\n",
       "      <th>old</th>\n",
       "      <th>new</th>\n",
       "      <th>very_new</th>\n",
       "      <th>tagValue</th>\n",
       "    </tr>\n",
       "  </thead>\n",
       "  <tbody>\n",
       "    <tr>\n",
       "      <th>0</th>\n",
       "      <td>2</td>\n",
       "      <td>52</td>\n",
       "      <td>13</td>\n",
       "      <td>2009-04-01</td>\n",
       "      <td>0</td>\n",
       "      <td>0</td>\n",
       "      <td>0</td>\n",
       "      <td>1</td>\n",
       "      <td>chillout</td>\n",
       "    </tr>\n",
       "    <tr>\n",
       "      <th>1</th>\n",
       "      <td>2</td>\n",
       "      <td>63</td>\n",
       "      <td>13</td>\n",
       "      <td>2009-04-01</td>\n",
       "      <td>0</td>\n",
       "      <td>0</td>\n",
       "      <td>0</td>\n",
       "      <td>1</td>\n",
       "      <td>chillout</td>\n",
       "    </tr>\n",
       "    <tr>\n",
       "      <th>2</th>\n",
       "      <td>2</td>\n",
       "      <td>73</td>\n",
       "      <td>13</td>\n",
       "      <td>2009-04-01</td>\n",
       "      <td>0</td>\n",
       "      <td>0</td>\n",
       "      <td>0</td>\n",
       "      <td>1</td>\n",
       "      <td>chillout</td>\n",
       "    </tr>\n",
       "    <tr>\n",
       "      <th>3</th>\n",
       "      <td>2</td>\n",
       "      <td>94</td>\n",
       "      <td>13</td>\n",
       "      <td>2009-04-01</td>\n",
       "      <td>0</td>\n",
       "      <td>0</td>\n",
       "      <td>0</td>\n",
       "      <td>1</td>\n",
       "      <td>chillout</td>\n",
       "    </tr>\n",
       "    <tr>\n",
       "      <th>4</th>\n",
       "      <td>2</td>\n",
       "      <td>6177</td>\n",
       "      <td>13</td>\n",
       "      <td>2009-05-01</td>\n",
       "      <td>0</td>\n",
       "      <td>0</td>\n",
       "      <td>0</td>\n",
       "      <td>1</td>\n",
       "      <td>chillout</td>\n",
       "    </tr>\n",
       "  </tbody>\n",
       "</table>\n",
       "</div>"
      ],
      "text/plain": [
       "   userID  artistID  tagID release_date  very_old  old  new  very_new  \\\n",
       "0       2        52     13   2009-04-01         0    0    0         1   \n",
       "1       2        63     13   2009-04-01         0    0    0         1   \n",
       "2       2        73     13   2009-04-01         0    0    0         1   \n",
       "3       2        94     13   2009-04-01         0    0    0         1   \n",
       "4       2      6177     13   2009-05-01         0    0    0         1   \n",
       "\n",
       "   tagValue  \n",
       "0  chillout  \n",
       "1  chillout  \n",
       "2  chillout  \n",
       "3  chillout  \n",
       "4  chillout  "
      ]
     },
     "execution_count": 28,
     "metadata": {},
     "output_type": "execute_result"
    }
   ],
   "source": [
    "merged.head()"
   ]
  },
  {
   "cell_type": "code",
   "execution_count": 29,
   "id": "fff49176",
   "metadata": {},
   "outputs": [],
   "source": [
    "merged['genres'] = merged.groupby(['userID','artistID'])['tagValue'].transform(lambda x : ' '.join(x))"
   ]
  },
  {
   "cell_type": "code",
   "execution_count": 31,
   "id": "ca5c9e66",
   "metadata": {},
   "outputs": [
    {
     "data": {
      "text/plain": [
       "rock                                                     1013\n",
       "pop                                                       720\n",
       "seen live                                                 677\n",
       "indie                                                     673\n",
       "electronic                                                655\n",
       "                                                         ... \n",
       "brings back memories                                        1\n",
       "freak                                                       1\n",
       "always i wanna be with you and make believe with you        1\n",
       "new zealands fourth most popular digi-folk parody duo       1\n",
       "new ag                                                      1\n",
       "Name: genres, Length: 28859, dtype: int64"
      ]
     },
     "execution_count": 31,
     "metadata": {},
     "output_type": "execute_result"
    }
   ],
   "source": [
    "merged['genres'].value_counts()"
   ]
  },
  {
   "cell_type": "code",
   "execution_count": 36,
   "id": "d10ee124",
   "metadata": {
    "scrolled": false
   },
   "outputs": [
    {
     "data": {
      "text/html": [
       "<div>\n",
       "<style scoped>\n",
       "    .dataframe tbody tr th:only-of-type {\n",
       "        vertical-align: middle;\n",
       "    }\n",
       "\n",
       "    .dataframe tbody tr th {\n",
       "        vertical-align: top;\n",
       "    }\n",
       "\n",
       "    .dataframe thead th {\n",
       "        text-align: right;\n",
       "    }\n",
       "</style>\n",
       "<table border=\"1\" class=\"dataframe\">\n",
       "  <thead>\n",
       "    <tr style=\"text-align: right;\">\n",
       "      <th></th>\n",
       "      <th>userID</th>\n",
       "      <th>artistID</th>\n",
       "      <th>tagID</th>\n",
       "      <th>release_date</th>\n",
       "      <th>very_old</th>\n",
       "      <th>old</th>\n",
       "      <th>new</th>\n",
       "      <th>very_new</th>\n",
       "      <th>tagValue</th>\n",
       "      <th>genres</th>\n",
       "      <th>...</th>\n",
       "      <th>genres_yumiko</th>\n",
       "      <th>genres_zac efron cast of high school musical</th>\n",
       "      <th>genres_zadrotstvo</th>\n",
       "      <th>genres_zard - hero</th>\n",
       "      <th>genres_zeuhl</th>\n",
       "      <th>genres_ziggyesque</th>\n",
       "      <th>genres_zombie rave</th>\n",
       "      <th>genres_zombieland</th>\n",
       "      <th>genres_zoocore</th>\n",
       "      <th>genres_ztt</th>\n",
       "    </tr>\n",
       "  </thead>\n",
       "  <tbody>\n",
       "    <tr>\n",
       "      <th>0</th>\n",
       "      <td>2</td>\n",
       "      <td>52</td>\n",
       "      <td>13</td>\n",
       "      <td>2009-04-01</td>\n",
       "      <td>0</td>\n",
       "      <td>0</td>\n",
       "      <td>0</td>\n",
       "      <td>1</td>\n",
       "      <td>chillout</td>\n",
       "      <td>chillout downtempo electronic trip-hop female ...</td>\n",
       "      <td>...</td>\n",
       "      <td>0.0</td>\n",
       "      <td>0.0</td>\n",
       "      <td>0.0</td>\n",
       "      <td>0.0</td>\n",
       "      <td>0.0</td>\n",
       "      <td>0.0</td>\n",
       "      <td>0.0</td>\n",
       "      <td>0.0</td>\n",
       "      <td>0.0</td>\n",
       "      <td>0.0</td>\n",
       "    </tr>\n",
       "    <tr>\n",
       "      <th>1</th>\n",
       "      <td>2</td>\n",
       "      <td>63</td>\n",
       "      <td>13</td>\n",
       "      <td>2009-04-01</td>\n",
       "      <td>0</td>\n",
       "      <td>0</td>\n",
       "      <td>0</td>\n",
       "      <td>1</td>\n",
       "      <td>chillout</td>\n",
       "      <td>chillout ambient new age gregorian chant</td>\n",
       "      <td>...</td>\n",
       "      <td>0.0</td>\n",
       "      <td>0.0</td>\n",
       "      <td>0.0</td>\n",
       "      <td>0.0</td>\n",
       "      <td>0.0</td>\n",
       "      <td>0.0</td>\n",
       "      <td>0.0</td>\n",
       "      <td>0.0</td>\n",
       "      <td>0.0</td>\n",
       "      <td>0.0</td>\n",
       "    </tr>\n",
       "    <tr>\n",
       "      <th>2</th>\n",
       "      <td>2</td>\n",
       "      <td>73</td>\n",
       "      <td>13</td>\n",
       "      <td>2009-04-01</td>\n",
       "      <td>0</td>\n",
       "      <td>0</td>\n",
       "      <td>0</td>\n",
       "      <td>1</td>\n",
       "      <td>chillout</td>\n",
       "      <td>chillout downtempo electronic trip-hop ambient...</td>\n",
       "      <td>...</td>\n",
       "      <td>0.0</td>\n",
       "      <td>0.0</td>\n",
       "      <td>0.0</td>\n",
       "      <td>0.0</td>\n",
       "      <td>0.0</td>\n",
       "      <td>0.0</td>\n",
       "      <td>0.0</td>\n",
       "      <td>0.0</td>\n",
       "      <td>0.0</td>\n",
       "      <td>0.0</td>\n",
       "    </tr>\n",
       "    <tr>\n",
       "      <th>3</th>\n",
       "      <td>2</td>\n",
       "      <td>94</td>\n",
       "      <td>13</td>\n",
       "      <td>2009-04-01</td>\n",
       "      <td>0</td>\n",
       "      <td>0</td>\n",
       "      <td>0</td>\n",
       "      <td>1</td>\n",
       "      <td>chillout</td>\n",
       "      <td>chillout downtempo trip-hop lounge acid jazz c...</td>\n",
       "      <td>...</td>\n",
       "      <td>0.0</td>\n",
       "      <td>0.0</td>\n",
       "      <td>0.0</td>\n",
       "      <td>0.0</td>\n",
       "      <td>0.0</td>\n",
       "      <td>0.0</td>\n",
       "      <td>0.0</td>\n",
       "      <td>0.0</td>\n",
       "      <td>0.0</td>\n",
       "      <td>0.0</td>\n",
       "    </tr>\n",
       "    <tr>\n",
       "      <th>4</th>\n",
       "      <td>2</td>\n",
       "      <td>6177</td>\n",
       "      <td>13</td>\n",
       "      <td>2009-05-01</td>\n",
       "      <td>0</td>\n",
       "      <td>0</td>\n",
       "      <td>0</td>\n",
       "      <td>1</td>\n",
       "      <td>chillout</td>\n",
       "      <td>chillout downtempo ambient lounge cafe del mar</td>\n",
       "      <td>...</td>\n",
       "      <td>0.0</td>\n",
       "      <td>0.0</td>\n",
       "      <td>0.0</td>\n",
       "      <td>0.0</td>\n",
       "      <td>0.0</td>\n",
       "      <td>0.0</td>\n",
       "      <td>0.0</td>\n",
       "      <td>0.0</td>\n",
       "      <td>0.0</td>\n",
       "      <td>0.0</td>\n",
       "    </tr>\n",
       "  </tbody>\n",
       "</table>\n",
       "<p>5 rows × 28869 columns</p>\n",
       "</div>"
      ],
      "text/plain": [
       "   userID  artistID  tagID release_date  very_old  old  new  very_new  \\\n",
       "0       2        52     13   2009-04-01         0    0    0         1   \n",
       "1       2        63     13   2009-04-01         0    0    0         1   \n",
       "2       2        73     13   2009-04-01         0    0    0         1   \n",
       "3       2        94     13   2009-04-01         0    0    0         1   \n",
       "4       2      6177     13   2009-05-01         0    0    0         1   \n",
       "\n",
       "   tagValue                                             genres  ...  \\\n",
       "0  chillout  chillout downtempo electronic trip-hop female ...  ...   \n",
       "1  chillout           chillout ambient new age gregorian chant  ...   \n",
       "2  chillout  chillout downtempo electronic trip-hop ambient...  ...   \n",
       "3  chillout  chillout downtempo trip-hop lounge acid jazz c...  ...   \n",
       "4  chillout     chillout downtempo ambient lounge cafe del mar  ...   \n",
       "\n",
       "   genres_yumiko  genres_zac efron cast of high school musical  \\\n",
       "0            0.0                                           0.0   \n",
       "1            0.0                                           0.0   \n",
       "2            0.0                                           0.0   \n",
       "3            0.0                                           0.0   \n",
       "4            0.0                                           0.0   \n",
       "\n",
       "   genres_zadrotstvo  genres_zard - hero  genres_zeuhl  genres_ziggyesque  \\\n",
       "0                0.0                 0.0           0.0                0.0   \n",
       "1                0.0                 0.0           0.0                0.0   \n",
       "2                0.0                 0.0           0.0                0.0   \n",
       "3                0.0                 0.0           0.0                0.0   \n",
       "4                0.0                 0.0           0.0                0.0   \n",
       "\n",
       "   genres_zombie rave  genres_zombieland  genres_zoocore  genres_ztt  \n",
       "0                 0.0                0.0             0.0         0.0  \n",
       "1                 0.0                0.0             0.0         0.0  \n",
       "2                 0.0                0.0             0.0         0.0  \n",
       "3                 0.0                0.0             0.0         0.0  \n",
       "4                 0.0                0.0             0.0         0.0  \n",
       "\n",
       "[5 rows x 28869 columns]"
      ]
     },
     "execution_count": 36,
     "metadata": {},
     "output_type": "execute_result"
    }
   ],
   "source": [
    "# creating instance of one-hot-encoder\n",
    "enc = OneHotEncoder(handle_unknown='ignore')\n",
    "\n",
    "\n",
    "encoded_cols = enc.fit_transform(merged[['genres']]).toarray()\n",
    "\n",
    "column_names = enc.get_feature_names(['genres'])\n",
    "\n",
    "enc_df = pd.DataFrame(encoded_cols,columns=column_names)\n",
    "\n",
    "df_one_hot = pd.concat([merged,enc_df],axis=1)\n",
    "df_one_hot.head()"
   ]
  },
  {
   "cell_type": "code",
   "execution_count": null,
   "id": "eff2f95a",
   "metadata": {},
   "outputs": [],
   "source": [
    "content_df = df_one_hot.drop(columns=['release_date','tagValue','genres'])"
   ]
  },
  {
   "cell_type": "markdown",
   "id": "4ec7e749",
   "metadata": {},
   "source": [
    "## Hybrid Recommender Systems"
   ]
  },
  {
   "cell_type": "code",
   "execution_count": 6,
   "id": "14850d70",
   "metadata": {},
   "outputs": [],
   "source": [
    "user_artist_categorized = pd.read_csv('user_artists_categorized.csv')"
   ]
  },
  {
   "cell_type": "code",
   "execution_count": 7,
   "id": "ad7f5ef3",
   "metadata": {},
   "outputs": [
    {
     "data": {
      "text/html": [
       "<div>\n",
       "<style scoped>\n",
       "    .dataframe tbody tr th:only-of-type {\n",
       "        vertical-align: middle;\n",
       "    }\n",
       "\n",
       "    .dataframe tbody tr th {\n",
       "        vertical-align: top;\n",
       "    }\n",
       "\n",
       "    .dataframe thead th {\n",
       "        text-align: right;\n",
       "    }\n",
       "</style>\n",
       "<table border=\"1\" class=\"dataframe\">\n",
       "  <thead>\n",
       "    <tr style=\"text-align: right;\">\n",
       "      <th></th>\n",
       "      <th>userID</th>\n",
       "      <th>artistID</th>\n",
       "      <th>weight_quantiles</th>\n",
       "    </tr>\n",
       "  </thead>\n",
       "  <tbody>\n",
       "    <tr>\n",
       "      <th>0</th>\n",
       "      <td>2</td>\n",
       "      <td>51</td>\n",
       "      <td>4</td>\n",
       "    </tr>\n",
       "    <tr>\n",
       "      <th>1</th>\n",
       "      <td>2</td>\n",
       "      <td>52</td>\n",
       "      <td>4</td>\n",
       "    </tr>\n",
       "    <tr>\n",
       "      <th>2</th>\n",
       "      <td>2</td>\n",
       "      <td>53</td>\n",
       "      <td>4</td>\n",
       "    </tr>\n",
       "    <tr>\n",
       "      <th>3</th>\n",
       "      <td>2</td>\n",
       "      <td>54</td>\n",
       "      <td>4</td>\n",
       "    </tr>\n",
       "    <tr>\n",
       "      <th>4</th>\n",
       "      <td>2</td>\n",
       "      <td>55</td>\n",
       "      <td>4</td>\n",
       "    </tr>\n",
       "  </tbody>\n",
       "</table>\n",
       "</div>"
      ],
      "text/plain": [
       "   userID  artistID  weight_quantiles\n",
       "0       2        51                 4\n",
       "1       2        52                 4\n",
       "2       2        53                 4\n",
       "3       2        54                 4\n",
       "4       2        55                 4"
      ]
     },
     "execution_count": 7,
     "metadata": {},
     "output_type": "execute_result"
    }
   ],
   "source": [
    "user_artist_categorized.head()"
   ]
  },
  {
   "cell_type": "code",
   "execution_count": 8,
   "id": "eec0fc75",
   "metadata": {},
   "outputs": [],
   "source": [
    "#create train and test sets \n",
    "UA_train, UA_test = train_test_split(user_artist_categorized,test_size=0.3,random_state=123)\n",
    "\n",
    "UA_train = UA_train.reset_index(drop=True)\n",
    "UA_test = UA_test.reset_index(drop=True)"
   ]
  },
  {
   "cell_type": "code",
   "execution_count": 11,
   "id": "6c6b9241",
   "metadata": {},
   "outputs": [],
   "source": [
    "#create reader object \n",
    "reader = Reader(rating_scale=(1,5)) #1:5 scale \n",
    "\n",
    "#create surprise train and test set objects\n",
    "data = Dataset.load_from_df(user_artist_categorized[[\"userID\",\"artistID\",\"weight_quantiles\"]], reader)\n",
    "UA_train = Dataset.load_from_df(UA_train, reader).build_full_trainset()\n",
    "UA_test = list(UA_test.itertuples(index=False, name=None))"
   ]
  },
  {
   "cell_type": "code",
   "execution_count": 20,
   "id": "2920d219",
   "metadata": {
    "scrolled": true
   },
   "outputs": [
    {
     "name": "stdout",
     "output_type": "stream",
     "text": [
      "Computing the cosine similarity matrix...\n",
      "Done computing similarity matrix.\n",
      "Computing the cosine similarity matrix...\n",
      "Done computing similarity matrix.\n"
     ]
    },
    {
     "data": {
      "text/plain": [
       "array([[1.        , 1.        , 1.        , ..., 0.        , 0.        ,\n",
       "        0.        ],\n",
       "       [1.        , 1.        , 0.96559438, ..., 0.        , 0.        ,\n",
       "        1.        ],\n",
       "       [1.        , 0.96559438, 1.        , ..., 0.        , 0.        ,\n",
       "        1.        ],\n",
       "       ...,\n",
       "       [0.        , 0.        , 0.        , ..., 1.        , 0.        ,\n",
       "        0.        ],\n",
       "       [0.        , 0.        , 0.        , ..., 0.        , 1.        ,\n",
       "        0.        ],\n",
       "       [0.        , 1.        , 1.        , ..., 0.        , 0.        ,\n",
       "        1.        ]])"
      ]
     },
     "execution_count": 20,
     "metadata": {},
     "output_type": "execute_result"
    }
   ],
   "source": [
    "#get baseline KNN score \n",
    "from surprise import KNNBasic\n",
    "\n",
    "# create options dict; use cosine similarity on user_based data\n",
    "options = {'name':'cosine', 'user_based':True}\n",
    "\n",
    "ubKNN = KNNBasic(k=20, min_k=5, sim_options=options, random_state=123)\n",
    "\n",
    "#create cosine similarity matrix\n",
    "ubKNN.fit(UA_train)\\\n",
    ".compute_similarities()"
   ]
  },
  {
   "cell_type": "code",
   "execution_count": 21,
   "id": "f5307bda",
   "metadata": {},
   "outputs": [],
   "source": [
    "ub_preds = ubKNN.test(UA_test)"
   ]
  },
  {
   "cell_type": "code",
   "execution_count": 22,
   "id": "0249ddf1",
   "metadata": {},
   "outputs": [
    {
     "data": {
      "text/plain": [
       "array([[1.   , 0.5  , 0.2  , ..., 0.   , 0.   , 0.   ],\n",
       "       [0.5  , 1.   , 0.375, ..., 0.   , 0.   , 1.   ],\n",
       "       [0.2  , 0.375, 1.   , ..., 0.   , 0.   , 0.5  ],\n",
       "       ...,\n",
       "       [0.   , 0.   , 0.   , ..., 1.   , 0.   , 0.   ],\n",
       "       [0.   , 0.   , 0.   , ..., 0.   , 1.   , 0.   ],\n",
       "       [0.   , 1.   , 0.5  , ..., 0.   , 0.   , 1.   ]])"
      ]
     },
     "execution_count": 22,
     "metadata": {},
     "output_type": "execute_result"
    }
   ],
   "source": [
    "#get baseline KNN score \n",
    "from surprise import KNNBasic\n",
    "\n",
    "\n",
    "svd = SVD(n_factors=20, n_epochs=20, biased=True,random_state=123)\n",
    "\n",
    "#create cosine similarity matrix\n",
    "svd.fit(UA_train)\\\n",
    ".compute_similarities()"
   ]
  },
  {
   "cell_type": "code",
   "execution_count": 23,
   "id": "1e3b0bde",
   "metadata": {},
   "outputs": [],
   "source": [
    "svd_preds = svd.test(UA_test)"
   ]
  },
  {
   "cell_type": "code",
   "execution_count": 24,
   "id": "f0cf64c0",
   "metadata": {
    "scrolled": false
   },
   "outputs": [
    {
     "name": "stderr",
     "output_type": "stream",
     "text": [
      "/Users/dimitrikestenbaum/Desktop/RecSys/IESEGRecSys/eval.py:146: RuntimeWarning: invalid value encountered in long_scalars\n",
      "  recall    = TP / (TP+FN)\n",
      "/Users/dimitrikestenbaum/Desktop/RecSys/IESEGRecSys/eval.py:147: RuntimeWarning: invalid value encountered in long_scalars\n",
      "  precision = TP / (TP+FP)\n",
      "/Users/dimitrikestenbaum/Desktop/RecSys/IESEGRecSys/eval.py:146: RuntimeWarning: invalid value encountered in long_scalars\n",
      "  recall    = TP / (TP+FN)\n",
      "/Users/dimitrikestenbaum/Desktop/RecSys/IESEGRecSys/eval.py:147: RuntimeWarning: invalid value encountered in long_scalars\n",
      "  precision = TP / (TP+FP)\n"
     ]
    },
    {
     "data": {
      "text/html": [
       "<div>\n",
       "<style scoped>\n",
       "    .dataframe tbody tr th:only-of-type {\n",
       "        vertical-align: middle;\n",
       "    }\n",
       "\n",
       "    .dataframe tbody tr th {\n",
       "        vertical-align: top;\n",
       "    }\n",
       "\n",
       "    .dataframe thead th {\n",
       "        text-align: right;\n",
       "    }\n",
       "</style>\n",
       "<table border=\"1\" class=\"dataframe\">\n",
       "  <thead>\n",
       "    <tr style=\"text-align: right;\">\n",
       "      <th></th>\n",
       "      <th>UB_KNN</th>\n",
       "      <th>SVD</th>\n",
       "    </tr>\n",
       "  </thead>\n",
       "  <tbody>\n",
       "    <tr>\n",
       "      <th>RMSE</th>\n",
       "      <td>1.394226</td>\n",
       "      <td>0.907108</td>\n",
       "    </tr>\n",
       "    <tr>\n",
       "      <th>MAE</th>\n",
       "      <td>1.184893</td>\n",
       "      <td>0.737216</td>\n",
       "    </tr>\n",
       "    <tr>\n",
       "      <th>Recall</th>\n",
       "      <td>NaN</td>\n",
       "      <td>NaN</td>\n",
       "    </tr>\n",
       "    <tr>\n",
       "      <th>Precision</th>\n",
       "      <td>NaN</td>\n",
       "      <td>NaN</td>\n",
       "    </tr>\n",
       "    <tr>\n",
       "      <th>F1</th>\n",
       "      <td>NaN</td>\n",
       "      <td>NaN</td>\n",
       "    </tr>\n",
       "    <tr>\n",
       "      <th>NDCG@5</th>\n",
       "      <td>0.866164</td>\n",
       "      <td>0.871942</td>\n",
       "    </tr>\n",
       "  </tbody>\n",
       "</table>\n",
       "</div>"
      ],
      "text/plain": [
       "             UB_KNN       SVD\n",
       "RMSE       1.394226  0.907108\n",
       "MAE        1.184893  0.737216\n",
       "Recall          NaN       NaN\n",
       "Precision       NaN       NaN\n",
       "F1              NaN       NaN\n",
       "NDCG@5     0.866164  0.871942"
      ]
     },
     "execution_count": 24,
     "metadata": {},
     "output_type": "execute_result"
    }
   ],
   "source": [
    "models = {\"UB_KNN\":ub_preds, \"SVD\":svd_preds}\n",
    "overview = pd.concat([eval.evaluate(mod, topn=5, rating_cutoff=5) for mod in models.values()], axis=1)\n",
    "overview.columns = list(models.keys())\n",
    "overview"
   ]
  },
  {
   "cell_type": "code",
   "execution_count": 25,
   "id": "a324d381",
   "metadata": {
    "scrolled": true
   },
   "outputs": [
    {
     "data": {
      "text/html": [
       "<div>\n",
       "<style scoped>\n",
       "    .dataframe tbody tr th:only-of-type {\n",
       "        vertical-align: middle;\n",
       "    }\n",
       "\n",
       "    .dataframe tbody tr th {\n",
       "        vertical-align: top;\n",
       "    }\n",
       "\n",
       "    .dataframe thead th {\n",
       "        text-align: right;\n",
       "    }\n",
       "</style>\n",
       "<table border=\"1\" class=\"dataframe\">\n",
       "  <thead>\n",
       "    <tr style=\"text-align: right;\">\n",
       "      <th></th>\n",
       "      <th>uid</th>\n",
       "      <th>iid</th>\n",
       "      <th>r_ui</th>\n",
       "      <th>est</th>\n",
       "      <th>details</th>\n",
       "    </tr>\n",
       "  </thead>\n",
       "  <tbody>\n",
       "    <tr>\n",
       "      <th>0</th>\n",
       "      <td>843</td>\n",
       "      <td>10570</td>\n",
       "      <td>0</td>\n",
       "      <td>1.498138</td>\n",
       "      <td>{'was_impossible': True, 'reason': 'User and/o...</td>\n",
       "    </tr>\n",
       "    <tr>\n",
       "      <th>1</th>\n",
       "      <td>189</td>\n",
       "      <td>492</td>\n",
       "      <td>3</td>\n",
       "      <td>2.573330</td>\n",
       "      <td>{'actual_k': 15, 'was_impossible': False}</td>\n",
       "    </tr>\n",
       "    <tr>\n",
       "      <th>2</th>\n",
       "      <td>227</td>\n",
       "      <td>543</td>\n",
       "      <td>1</td>\n",
       "      <td>2.129309</td>\n",
       "      <td>{'actual_k': 20, 'was_impossible': False}</td>\n",
       "    </tr>\n",
       "    <tr>\n",
       "      <th>3</th>\n",
       "      <td>1340</td>\n",
       "      <td>10662</td>\n",
       "      <td>3</td>\n",
       "      <td>2.410101</td>\n",
       "      <td>{'was_impossible': True, 'reason': 'User and/o...</td>\n",
       "    </tr>\n",
       "    <tr>\n",
       "      <th>4</th>\n",
       "      <td>517</td>\n",
       "      <td>703</td>\n",
       "      <td>2</td>\n",
       "      <td>1.952635</td>\n",
       "      <td>{'actual_k': 19, 'was_impossible': False}</td>\n",
       "    </tr>\n",
       "  </tbody>\n",
       "</table>\n",
       "</div>"
      ],
      "text/plain": [
       "    uid    iid  r_ui       est  \\\n",
       "0   843  10570     0  1.498138   \n",
       "1   189    492     3  2.573330   \n",
       "2   227    543     1  2.129309   \n",
       "3  1340  10662     3  2.410101   \n",
       "4   517    703     2  1.952635   \n",
       "\n",
       "                                             details  \n",
       "0  {'was_impossible': True, 'reason': 'User and/o...  \n",
       "1          {'actual_k': 15, 'was_impossible': False}  \n",
       "2          {'actual_k': 20, 'was_impossible': False}  \n",
       "3  {'was_impossible': True, 'reason': 'User and/o...  \n",
       "4          {'actual_k': 19, 'was_impossible': False}  "
      ]
     },
     "execution_count": 25,
     "metadata": {},
     "output_type": "execute_result"
    }
   ],
   "source": [
    "# Combine predictions (mean)\n",
    "\n",
    "# extract predictions content-based and item-based\n",
    "df_pred_ub_KNN, df_pred_svd = pd.DataFrame(ub_preds), pd.DataFrame(svd_preds)\n",
    "\n",
    "df_hybrid = df_pred_ub_KNN.copy()\n",
    "df_hybrid['est'] = (np.array(df_pred_ub_KNN['est']) + np.array(df_pred_svd['est'])) / 2\n",
    "\n",
    "df_hybrid.head()"
   ]
  },
  {
   "cell_type": "code",
   "execution_count": 26,
   "id": "5ca44ff6",
   "metadata": {},
   "outputs": [
    {
     "name": "stderr",
     "output_type": "stream",
     "text": [
      "/Users/dimitrikestenbaum/Desktop/RecSys/IESEGRecSys/eval.py:146: RuntimeWarning: invalid value encountered in long_scalars\n",
      "  recall    = TP / (TP+FN)\n",
      "/Users/dimitrikestenbaum/Desktop/RecSys/IESEGRecSys/eval.py:147: RuntimeWarning: invalid value encountered in long_scalars\n",
      "  precision = TP / (TP+FP)\n"
     ]
    },
    {
     "data": {
      "text/html": [
       "<div>\n",
       "<style scoped>\n",
       "    .dataframe tbody tr th:only-of-type {\n",
       "        vertical-align: middle;\n",
       "    }\n",
       "\n",
       "    .dataframe tbody tr th {\n",
       "        vertical-align: top;\n",
       "    }\n",
       "\n",
       "    .dataframe thead th {\n",
       "        text-align: right;\n",
       "    }\n",
       "</style>\n",
       "<table border=\"1\" class=\"dataframe\">\n",
       "  <thead>\n",
       "    <tr style=\"text-align: right;\">\n",
       "      <th></th>\n",
       "      <th>value</th>\n",
       "    </tr>\n",
       "  </thead>\n",
       "  <tbody>\n",
       "    <tr>\n",
       "      <th>RMSE</th>\n",
       "      <td>1.088568</td>\n",
       "    </tr>\n",
       "    <tr>\n",
       "      <th>MAE</th>\n",
       "      <td>0.929834</td>\n",
       "    </tr>\n",
       "    <tr>\n",
       "      <th>Recall</th>\n",
       "      <td>NaN</td>\n",
       "    </tr>\n",
       "    <tr>\n",
       "      <th>Precision</th>\n",
       "      <td>NaN</td>\n",
       "    </tr>\n",
       "    <tr>\n",
       "      <th>F1</th>\n",
       "      <td>NaN</td>\n",
       "    </tr>\n",
       "    <tr>\n",
       "      <th>NDCG@5</th>\n",
       "      <td>0.864574</td>\n",
       "    </tr>\n",
       "  </tbody>\n",
       "</table>\n",
       "</div>"
      ],
      "text/plain": [
       "              value\n",
       "RMSE       1.088568\n",
       "MAE        0.929834\n",
       "Recall          NaN\n",
       "Precision       NaN\n",
       "F1              NaN\n",
       "NDCG@5     0.864574"
      ]
     },
     "execution_count": 26,
     "metadata": {},
     "output_type": "execute_result"
    }
   ],
   "source": [
    "eval.evaluate(df_hybrid,topn=5,rating_cutoff=5)"
   ]
  }
 ],
 "metadata": {
  "kernelspec": {
   "display_name": "Python 3 (ipykernel)",
   "language": "python",
   "name": "python3"
  },
  "language_info": {
   "codemirror_mode": {
    "name": "ipython",
    "version": 3
   },
   "file_extension": ".py",
   "mimetype": "text/x-python",
   "name": "python",
   "nbconvert_exporter": "python",
   "pygments_lexer": "ipython3",
   "version": "3.9.7"
  }
 },
 "nbformat": 4,
 "nbformat_minor": 5
}
