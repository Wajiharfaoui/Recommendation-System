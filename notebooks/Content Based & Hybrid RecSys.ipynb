{
 "cells": [
  {
   "cell_type": "code",
   "execution_count": 3,
   "id": "26a973a3",
   "metadata": {},
   "outputs": [],
   "source": [
    "import os"
   ]
  },
  {
   "cell_type": "code",
   "execution_count": 4,
   "id": "540ce269",
   "metadata": {},
   "outputs": [],
   "source": [
    "os.chdir('/Users/dimitrikestenbaum/Desktop/RecSys')"
   ]
  },
  {
   "cell_type": "code",
   "execution_count": 5,
   "id": "ceabf1f9",
   "metadata": {},
   "outputs": [],
   "source": [
    "import pandas as pd \n",
    "import numpy as np \n",
    "from IESEGRecSys import eval\n",
    "from IESEGRecSys.model import ContentBased\n",
    "from sklearn.model_selection import train_test_split\n",
    "from surprise import Dataset, Reader, KNNBasic, SVD\n",
    "import matplotlib.pyplot as plt\n",
    "import os\n",
    "from sklearn.preprocessing import OneHotEncoder\n",
    "from sklearn.preprocessing import LabelEncoder"
   ]
  },
  {
   "cell_type": "code",
   "execution_count": 34,
   "id": "fe21e8f3",
   "metadata": {},
   "outputs": [],
   "source": [
    "user_taggedartists_df = pd.read_table('Data-20220224/Data Group Assignment/user_taggedartists.dat')"
   ]
  },
  {
   "cell_type": "code",
   "execution_count": 35,
   "id": "e20f2c13",
   "metadata": {
    "scrolled": true
   },
   "outputs": [
    {
     "data": {
      "text/html": [
       "<div>\n",
       "<style scoped>\n",
       "    .dataframe tbody tr th:only-of-type {\n",
       "        vertical-align: middle;\n",
       "    }\n",
       "\n",
       "    .dataframe tbody tr th {\n",
       "        vertical-align: top;\n",
       "    }\n",
       "\n",
       "    .dataframe thead th {\n",
       "        text-align: right;\n",
       "    }\n",
       "</style>\n",
       "<table border=\"1\" class=\"dataframe\">\n",
       "  <thead>\n",
       "    <tr style=\"text-align: right;\">\n",
       "      <th></th>\n",
       "      <th>userID</th>\n",
       "      <th>artistID</th>\n",
       "      <th>tagID</th>\n",
       "      <th>day</th>\n",
       "      <th>month</th>\n",
       "      <th>year</th>\n",
       "    </tr>\n",
       "  </thead>\n",
       "  <tbody>\n",
       "    <tr>\n",
       "      <th>0</th>\n",
       "      <td>2</td>\n",
       "      <td>52</td>\n",
       "      <td>13</td>\n",
       "      <td>1</td>\n",
       "      <td>4</td>\n",
       "      <td>2009</td>\n",
       "    </tr>\n",
       "    <tr>\n",
       "      <th>1</th>\n",
       "      <td>2</td>\n",
       "      <td>52</td>\n",
       "      <td>15</td>\n",
       "      <td>1</td>\n",
       "      <td>4</td>\n",
       "      <td>2009</td>\n",
       "    </tr>\n",
       "    <tr>\n",
       "      <th>2</th>\n",
       "      <td>2</td>\n",
       "      <td>52</td>\n",
       "      <td>18</td>\n",
       "      <td>1</td>\n",
       "      <td>4</td>\n",
       "      <td>2009</td>\n",
       "    </tr>\n",
       "    <tr>\n",
       "      <th>3</th>\n",
       "      <td>2</td>\n",
       "      <td>52</td>\n",
       "      <td>21</td>\n",
       "      <td>1</td>\n",
       "      <td>4</td>\n",
       "      <td>2009</td>\n",
       "    </tr>\n",
       "    <tr>\n",
       "      <th>4</th>\n",
       "      <td>2</td>\n",
       "      <td>52</td>\n",
       "      <td>41</td>\n",
       "      <td>1</td>\n",
       "      <td>4</td>\n",
       "      <td>2009</td>\n",
       "    </tr>\n",
       "  </tbody>\n",
       "</table>\n",
       "</div>"
      ],
      "text/plain": [
       "   userID  artistID  tagID  day  month  year\n",
       "0       2        52     13    1      4  2009\n",
       "1       2        52     15    1      4  2009\n",
       "2       2        52     18    1      4  2009\n",
       "3       2        52     21    1      4  2009\n",
       "4       2        52     41    1      4  2009"
      ]
     },
     "execution_count": 35,
     "metadata": {},
     "output_type": "execute_result"
    }
   ],
   "source": [
    "user_taggedartists_df.head()"
   ]
  },
  {
   "cell_type": "code",
   "execution_count": 1,
   "id": "5a49fc43",
   "metadata": {},
   "outputs": [],
   "source": [
    "def two_dig(num):\n",
    "    \"\"\"\n",
    "    This function takes a number as input and casts it to a string. \n",
    "    If the length of the str is equal to 1 it concatenates a 0 in front of it.\n",
    "    This can be applyed to day and month columns that are recorded a single digit \n",
    "    in order to meet the two-digit format native to most datetime formats. \n",
    "    \n",
    "    Params: num: A \n",
    "    \"\"\"\n",
    "    if len(str(num)) == 1:\n",
    "        return((str(0) + str(num)))\n",
    "    else:\n",
    "        return(str(num))"
   ]
  },
  {
   "cell_type": "code",
   "execution_count": 37,
   "id": "90c96511",
   "metadata": {},
   "outputs": [],
   "source": [
    "user_taggedartists_df['day'] = user_taggedartists_df['day'].map(lambda x: two_dig(x))"
   ]
  },
  {
   "cell_type": "code",
   "execution_count": 38,
   "id": "397b937f",
   "metadata": {
    "scrolled": true
   },
   "outputs": [
    {
     "data": {
      "text/html": [
       "<div>\n",
       "<style scoped>\n",
       "    .dataframe tbody tr th:only-of-type {\n",
       "        vertical-align: middle;\n",
       "    }\n",
       "\n",
       "    .dataframe tbody tr th {\n",
       "        vertical-align: top;\n",
       "    }\n",
       "\n",
       "    .dataframe thead th {\n",
       "        text-align: right;\n",
       "    }\n",
       "</style>\n",
       "<table border=\"1\" class=\"dataframe\">\n",
       "  <thead>\n",
       "    <tr style=\"text-align: right;\">\n",
       "      <th></th>\n",
       "      <th>userID</th>\n",
       "      <th>artistID</th>\n",
       "      <th>tagID</th>\n",
       "      <th>day</th>\n",
       "      <th>month</th>\n",
       "      <th>year</th>\n",
       "    </tr>\n",
       "  </thead>\n",
       "  <tbody>\n",
       "    <tr>\n",
       "      <th>0</th>\n",
       "      <td>2</td>\n",
       "      <td>52</td>\n",
       "      <td>13</td>\n",
       "      <td>01</td>\n",
       "      <td>4</td>\n",
       "      <td>2009</td>\n",
       "    </tr>\n",
       "    <tr>\n",
       "      <th>1</th>\n",
       "      <td>2</td>\n",
       "      <td>52</td>\n",
       "      <td>15</td>\n",
       "      <td>01</td>\n",
       "      <td>4</td>\n",
       "      <td>2009</td>\n",
       "    </tr>\n",
       "    <tr>\n",
       "      <th>2</th>\n",
       "      <td>2</td>\n",
       "      <td>52</td>\n",
       "      <td>18</td>\n",
       "      <td>01</td>\n",
       "      <td>4</td>\n",
       "      <td>2009</td>\n",
       "    </tr>\n",
       "    <tr>\n",
       "      <th>3</th>\n",
       "      <td>2</td>\n",
       "      <td>52</td>\n",
       "      <td>21</td>\n",
       "      <td>01</td>\n",
       "      <td>4</td>\n",
       "      <td>2009</td>\n",
       "    </tr>\n",
       "    <tr>\n",
       "      <th>4</th>\n",
       "      <td>2</td>\n",
       "      <td>52</td>\n",
       "      <td>41</td>\n",
       "      <td>01</td>\n",
       "      <td>4</td>\n",
       "      <td>2009</td>\n",
       "    </tr>\n",
       "  </tbody>\n",
       "</table>\n",
       "</div>"
      ],
      "text/plain": [
       "   userID  artistID  tagID day  month  year\n",
       "0       2        52     13  01      4  2009\n",
       "1       2        52     15  01      4  2009\n",
       "2       2        52     18  01      4  2009\n",
       "3       2        52     21  01      4  2009\n",
       "4       2        52     41  01      4  2009"
      ]
     },
     "execution_count": 38,
     "metadata": {},
     "output_type": "execute_result"
    }
   ],
   "source": [
    "user_taggedartists_df.head()"
   ]
  },
  {
   "cell_type": "code",
   "execution_count": 39,
   "id": "1e1e5fcd",
   "metadata": {},
   "outputs": [],
   "source": [
    "user_taggedartists_df['month'] = user_taggedartists_df['month'].map(lambda x: two_dig(x))"
   ]
  },
  {
   "cell_type": "code",
   "execution_count": 40,
   "id": "c2ab7371",
   "metadata": {},
   "outputs": [
    {
     "data": {
      "text/html": [
       "<div>\n",
       "<style scoped>\n",
       "    .dataframe tbody tr th:only-of-type {\n",
       "        vertical-align: middle;\n",
       "    }\n",
       "\n",
       "    .dataframe tbody tr th {\n",
       "        vertical-align: top;\n",
       "    }\n",
       "\n",
       "    .dataframe thead th {\n",
       "        text-align: right;\n",
       "    }\n",
       "</style>\n",
       "<table border=\"1\" class=\"dataframe\">\n",
       "  <thead>\n",
       "    <tr style=\"text-align: right;\">\n",
       "      <th></th>\n",
       "      <th>userID</th>\n",
       "      <th>artistID</th>\n",
       "      <th>tagID</th>\n",
       "      <th>day</th>\n",
       "      <th>month</th>\n",
       "      <th>year</th>\n",
       "    </tr>\n",
       "  </thead>\n",
       "  <tbody>\n",
       "    <tr>\n",
       "      <th>0</th>\n",
       "      <td>2</td>\n",
       "      <td>52</td>\n",
       "      <td>13</td>\n",
       "      <td>01</td>\n",
       "      <td>04</td>\n",
       "      <td>2009</td>\n",
       "    </tr>\n",
       "    <tr>\n",
       "      <th>1</th>\n",
       "      <td>2</td>\n",
       "      <td>52</td>\n",
       "      <td>15</td>\n",
       "      <td>01</td>\n",
       "      <td>04</td>\n",
       "      <td>2009</td>\n",
       "    </tr>\n",
       "    <tr>\n",
       "      <th>2</th>\n",
       "      <td>2</td>\n",
       "      <td>52</td>\n",
       "      <td>18</td>\n",
       "      <td>01</td>\n",
       "      <td>04</td>\n",
       "      <td>2009</td>\n",
       "    </tr>\n",
       "    <tr>\n",
       "      <th>3</th>\n",
       "      <td>2</td>\n",
       "      <td>52</td>\n",
       "      <td>21</td>\n",
       "      <td>01</td>\n",
       "      <td>04</td>\n",
       "      <td>2009</td>\n",
       "    </tr>\n",
       "    <tr>\n",
       "      <th>4</th>\n",
       "      <td>2</td>\n",
       "      <td>52</td>\n",
       "      <td>41</td>\n",
       "      <td>01</td>\n",
       "      <td>04</td>\n",
       "      <td>2009</td>\n",
       "    </tr>\n",
       "  </tbody>\n",
       "</table>\n",
       "</div>"
      ],
      "text/plain": [
       "   userID  artistID  tagID day month  year\n",
       "0       2        52     13  01    04  2009\n",
       "1       2        52     15  01    04  2009\n",
       "2       2        52     18  01    04  2009\n",
       "3       2        52     21  01    04  2009\n",
       "4       2        52     41  01    04  2009"
      ]
     },
     "execution_count": 40,
     "metadata": {},
     "output_type": "execute_result"
    }
   ],
   "source": [
    "user_taggedartists_df.head()"
   ]
  },
  {
   "cell_type": "code",
   "execution_count": 41,
   "id": "4dde23dd",
   "metadata": {},
   "outputs": [],
   "source": [
    "user_taggedartists_df['release_date'] = pd.to_datetime((user_taggedartists_df['year'].astype('str') + user_taggedartists_df['day'] + user_taggedartists_df['month']),format='%Y%d%m')"
   ]
  },
  {
   "cell_type": "code",
   "execution_count": 42,
   "id": "69d77e45",
   "metadata": {},
   "outputs": [],
   "source": [
    "user_taggedartists_df.drop(columns=['day','month','year'],axis=1,inplace=True)"
   ]
  },
  {
   "cell_type": "code",
   "execution_count": 43,
   "id": "96891b01",
   "metadata": {},
   "outputs": [
    {
     "data": {
      "text/html": [
       "<div>\n",
       "<style scoped>\n",
       "    .dataframe tbody tr th:only-of-type {\n",
       "        vertical-align: middle;\n",
       "    }\n",
       "\n",
       "    .dataframe tbody tr th {\n",
       "        vertical-align: top;\n",
       "    }\n",
       "\n",
       "    .dataframe thead th {\n",
       "        text-align: right;\n",
       "    }\n",
       "</style>\n",
       "<table border=\"1\" class=\"dataframe\">\n",
       "  <thead>\n",
       "    <tr style=\"text-align: right;\">\n",
       "      <th></th>\n",
       "      <th>userID</th>\n",
       "      <th>artistID</th>\n",
       "      <th>tagID</th>\n",
       "      <th>release_date</th>\n",
       "    </tr>\n",
       "  </thead>\n",
       "  <tbody>\n",
       "    <tr>\n",
       "      <th>0</th>\n",
       "      <td>2</td>\n",
       "      <td>52</td>\n",
       "      <td>13</td>\n",
       "      <td>2009-04-01</td>\n",
       "    </tr>\n",
       "    <tr>\n",
       "      <th>1</th>\n",
       "      <td>2</td>\n",
       "      <td>52</td>\n",
       "      <td>15</td>\n",
       "      <td>2009-04-01</td>\n",
       "    </tr>\n",
       "    <tr>\n",
       "      <th>2</th>\n",
       "      <td>2</td>\n",
       "      <td>52</td>\n",
       "      <td>18</td>\n",
       "      <td>2009-04-01</td>\n",
       "    </tr>\n",
       "    <tr>\n",
       "      <th>3</th>\n",
       "      <td>2</td>\n",
       "      <td>52</td>\n",
       "      <td>21</td>\n",
       "      <td>2009-04-01</td>\n",
       "    </tr>\n",
       "    <tr>\n",
       "      <th>4</th>\n",
       "      <td>2</td>\n",
       "      <td>52</td>\n",
       "      <td>41</td>\n",
       "      <td>2009-04-01</td>\n",
       "    </tr>\n",
       "  </tbody>\n",
       "</table>\n",
       "</div>"
      ],
      "text/plain": [
       "   userID  artistID  tagID release_date\n",
       "0       2        52     13   2009-04-01\n",
       "1       2        52     15   2009-04-01\n",
       "2       2        52     18   2009-04-01\n",
       "3       2        52     21   2009-04-01\n",
       "4       2        52     41   2009-04-01"
      ]
     },
     "execution_count": 43,
     "metadata": {},
     "output_type": "execute_result"
    }
   ],
   "source": [
    "user_taggedartists_df.head()"
   ]
  },
  {
   "cell_type": "code",
   "execution_count": 44,
   "id": "d765e314",
   "metadata": {
    "scrolled": true
   },
   "outputs": [
    {
     "data": {
      "text/plain": [
       "(array([4.00000e+00, 0.00000e+00, 0.00000e+00, 0.00000e+00, 1.00000e+00,\n",
       "        0.00000e+00, 0.00000e+00, 0.00000e+00, 2.13500e+03, 1.84339e+05]),\n",
       " array([-4962. , -2955.5,  -949. ,  1057.5,  3064. ,  5070.5,  7077. ,\n",
       "         9083.5, 11090. , 13096.5, 15103. ]),\n",
       " <BarContainer object of 10 artists>)"
      ]
     },
     "execution_count": 44,
     "metadata": {},
     "output_type": "execute_result"
    },
    {
     "data": {
      "image/png": "[encoded data removed]",
      "text/plain": [
       "<Figure size 432x288 with 1 Axes>"
      ]
     },
     "metadata": {
      "needs_background": "light"
     },
     "output_type": "display_data"
    }
   ],
   "source": [
    "plt.hist(user_taggedartists_df['release_date'])"
   ]
  },
  {
   "cell_type": "code",
   "execution_count": 45,
   "id": "e6179dae",
   "metadata": {
    "scrolled": true
   },
   "outputs": [
    {
     "data": {
      "text/plain": [
       "Timestamp('2011-05-09 00:00:00')"
      ]
     },
     "execution_count": 45,
     "metadata": {},
     "output_type": "execute_result"
    }
   ],
   "source": [
    "user_taggedartists_df['release_date'].max()"
   ]
  },
  {
   "cell_type": "code",
   "execution_count": 46,
   "id": "57f46de7",
   "metadata": {
    "scrolled": true
   },
   "outputs": [
    {
     "data": {
      "text/plain": [
       "Timestamp('1956-06-01 00:00:00')"
      ]
     },
     "execution_count": 46,
     "metadata": {},
     "output_type": "execute_result"
    }
   ],
   "source": [
    "user_taggedartists_df['release_date'].min()"
   ]
  },
  {
   "cell_type": "code",
   "execution_count": 47,
   "id": "590a9272",
   "metadata": {
    "scrolled": false
   },
   "outputs": [
    {
     "data": {
      "text/plain": [
       "2010-07-01    5170\n",
       "2010-05-01    5124\n",
       "2010-04-01    5116\n",
       "2010-03-01    5030\n",
       "2010-09-01    5001\n",
       "              ... \n",
       "2005-09-01     150\n",
       "1956-09-01       2\n",
       "1956-06-01       1\n",
       "1957-03-01       1\n",
       "1979-05-01       1\n",
       "Name: release_date, Length: 75, dtype: int64"
      ]
     },
     "execution_count": 47,
     "metadata": {},
     "output_type": "execute_result"
    }
   ],
   "source": [
    "user_taggedartists_df['release_date'].value_counts()"
   ]
  },
  {
   "cell_type": "code",
   "execution_count": 48,
   "id": "67541f00",
   "metadata": {},
   "outputs": [
    {
     "data": {
      "text/plain": [
       "13.5"
      ]
     },
     "execution_count": 48,
     "metadata": {},
     "output_type": "execute_result"
    }
   ],
   "source": [
    "(2011 - 1957) / 4"
   ]
  },
  {
   "cell_type": "code",
   "execution_count": 49,
   "id": "d029aa89",
   "metadata": {},
   "outputs": [],
   "source": [
    "thresholdMin = pd.to_datetime('1956-06-01')\n",
    "thresholdVeryOld = pd.to_datetime('1970-01-01') # represents the range from 1956 - 1970 \n",
    "thresholdOld = pd.to_datetime('1984-01-01')# represents the range from 1970 - 1984 \n",
    "thresholdNew = pd.to_datetime('1998-01-01')# represents the range from 1984 - 1998 \n",
    "thresholdVeryNew = pd.to_datetime('2012-01-01')# represents the range from 1998 - 2012"
   ]
  },
  {
   "cell_type": "code",
   "execution_count": 50,
   "id": "f6842691",
   "metadata": {},
   "outputs": [],
   "source": [
    "user_taggedartists_df['very_old'] = ((user_taggedartists_df.release_date >= thresholdMin) & (user_taggedartists_df.release_date < thresholdVeryOld)).astype(int)\n",
    "user_taggedartists_df['old'] = ((user_taggedartists_df.release_date >= thresholdVeryOld) & (user_taggedartists_df.release_date < thresholdOld)).astype(int)\n",
    "user_taggedartists_df['new'] = ((user_taggedartists_df.release_date >= thresholdOld) & (user_taggedartists_df.release_date < thresholdNew)).astype(int)\n",
    "user_taggedartists_df['very_new'] = ((user_taggedartists_df.release_date >= thresholdNew) & (user_taggedartists_df.release_date < thresholdVeryNew)).astype(int)"
   ]
  },
  {
   "cell_type": "code",
   "execution_count": 51,
   "id": "1b260ede",
   "metadata": {},
   "outputs": [
    {
     "data": {
      "text/html": [
       "<div>\n",
       "<style scoped>\n",
       "    .dataframe tbody tr th:only-of-type {\n",
       "        vertical-align: middle;\n",
       "    }\n",
       "\n",
       "    .dataframe tbody tr th {\n",
       "        vertical-align: top;\n",
       "    }\n",
       "\n",
       "    .dataframe thead th {\n",
       "        text-align: right;\n",
       "    }\n",
       "</style>\n",
       "<table border=\"1\" class=\"dataframe\">\n",
       "  <thead>\n",
       "    <tr style=\"text-align: right;\">\n",
       "      <th></th>\n",
       "      <th>userID</th>\n",
       "      <th>artistID</th>\n",
       "      <th>tagID</th>\n",
       "      <th>release_date</th>\n",
       "      <th>very_old</th>\n",
       "      <th>old</th>\n",
       "      <th>new</th>\n",
       "      <th>very_new</th>\n",
       "    </tr>\n",
       "  </thead>\n",
       "  <tbody>\n",
       "    <tr>\n",
       "      <th>0</th>\n",
       "      <td>2</td>\n",
       "      <td>52</td>\n",
       "      <td>13</td>\n",
       "      <td>2009-04-01</td>\n",
       "      <td>0</td>\n",
       "      <td>0</td>\n",
       "      <td>0</td>\n",
       "      <td>1</td>\n",
       "    </tr>\n",
       "    <tr>\n",
       "      <th>1</th>\n",
       "      <td>2</td>\n",
       "      <td>52</td>\n",
       "      <td>15</td>\n",
       "      <td>2009-04-01</td>\n",
       "      <td>0</td>\n",
       "      <td>0</td>\n",
       "      <td>0</td>\n",
       "      <td>1</td>\n",
       "    </tr>\n",
       "    <tr>\n",
       "      <th>2</th>\n",
       "      <td>2</td>\n",
       "      <td>52</td>\n",
       "      <td>18</td>\n",
       "      <td>2009-04-01</td>\n",
       "      <td>0</td>\n",
       "      <td>0</td>\n",
       "      <td>0</td>\n",
       "      <td>1</td>\n",
       "    </tr>\n",
       "    <tr>\n",
       "      <th>3</th>\n",
       "      <td>2</td>\n",
       "      <td>52</td>\n",
       "      <td>21</td>\n",
       "      <td>2009-04-01</td>\n",
       "      <td>0</td>\n",
       "      <td>0</td>\n",
       "      <td>0</td>\n",
       "      <td>1</td>\n",
       "    </tr>\n",
       "    <tr>\n",
       "      <th>4</th>\n",
       "      <td>2</td>\n",
       "      <td>52</td>\n",
       "      <td>41</td>\n",
       "      <td>2009-04-01</td>\n",
       "      <td>0</td>\n",
       "      <td>0</td>\n",
       "      <td>0</td>\n",
       "      <td>1</td>\n",
       "    </tr>\n",
       "  </tbody>\n",
       "</table>\n",
       "</div>"
      ],
      "text/plain": [
       "   userID  artistID  tagID release_date  very_old  old  new  very_new\n",
       "0       2        52     13   2009-04-01         0    0    0         1\n",
       "1       2        52     15   2009-04-01         0    0    0         1\n",
       "2       2        52     18   2009-04-01         0    0    0         1\n",
       "3       2        52     21   2009-04-01         0    0    0         1\n",
       "4       2        52     41   2009-04-01         0    0    0         1"
      ]
     },
     "execution_count": 51,
     "metadata": {},
     "output_type": "execute_result"
    }
   ],
   "source": [
    "user_taggedartists_df.head()"
   ]
  },
  {
   "cell_type": "code",
   "execution_count": 22,
   "id": "52638f9c",
   "metadata": {},
   "outputs": [
    {
     "data": {
      "text/plain": [
       "186479"
      ]
     },
     "execution_count": 22,
     "metadata": {},
     "output_type": "execute_result"
    }
   ],
   "source": [
    "len(user_taggedartists_df)"
   ]
  },
  {
   "cell_type": "code",
   "execution_count": 52,
   "id": "27f8ef9b",
   "metadata": {},
   "outputs": [],
   "source": [
    "tags_df = pd.read_table('Data-20220224/Data Group Assignment/tags.dat',encoding='latin-1')"
   ]
  },
  {
   "cell_type": "code",
   "execution_count": 53,
   "id": "2dea9360",
   "metadata": {
    "scrolled": true
   },
   "outputs": [
    {
     "data": {
      "text/html": [
       "<div>\n",
       "<style scoped>\n",
       "    .dataframe tbody tr th:only-of-type {\n",
       "        vertical-align: middle;\n",
       "    }\n",
       "\n",
       "    .dataframe tbody tr th {\n",
       "        vertical-align: top;\n",
       "    }\n",
       "\n",
       "    .dataframe thead th {\n",
       "        text-align: right;\n",
       "    }\n",
       "</style>\n",
       "<table border=\"1\" class=\"dataframe\">\n",
       "  <thead>\n",
       "    <tr style=\"text-align: right;\">\n",
       "      <th></th>\n",
       "      <th>tagID</th>\n",
       "      <th>tagValue</th>\n",
       "    </tr>\n",
       "  </thead>\n",
       "  <tbody>\n",
       "    <tr>\n",
       "      <th>0</th>\n",
       "      <td>1</td>\n",
       "      <td>metal</td>\n",
       "    </tr>\n",
       "    <tr>\n",
       "      <th>1</th>\n",
       "      <td>2</td>\n",
       "      <td>alternative metal</td>\n",
       "    </tr>\n",
       "    <tr>\n",
       "      <th>2</th>\n",
       "      <td>3</td>\n",
       "      <td>goth rock</td>\n",
       "    </tr>\n",
       "    <tr>\n",
       "      <th>3</th>\n",
       "      <td>4</td>\n",
       "      <td>black metal</td>\n",
       "    </tr>\n",
       "    <tr>\n",
       "      <th>4</th>\n",
       "      <td>5</td>\n",
       "      <td>death metal</td>\n",
       "    </tr>\n",
       "  </tbody>\n",
       "</table>\n",
       "</div>"
      ],
      "text/plain": [
       "   tagID           tagValue\n",
       "0      1              metal\n",
       "1      2  alternative metal\n",
       "2      3          goth rock\n",
       "3      4        black metal\n",
       "4      5        death metal"
      ]
     },
     "execution_count": 53,
     "metadata": {},
     "output_type": "execute_result"
    }
   ],
   "source": [
    "tags_df.head()"
   ]
  },
  {
   "cell_type": "code",
   "execution_count": 54,
   "id": "22ad405b",
   "metadata": {
    "scrolled": true
   },
   "outputs": [
    {
     "data": {
      "text/plain": [
       "metal                                        1\n",
       "absolute bomb rock-punk track                1\n",
       "gorgeous world pop track                     1\n",
       "tribal womne of the amazon rocks my world    1\n",
       "cool mano negra cover                        1\n",
       "                                            ..\n",
       "question of honor                            1\n",
       "luna                                         1\n",
       "astrrid hadad                                1\n",
       "in the kingdom of darkness                   1\n",
       "electro latino                               1\n",
       "Name: tagValue, Length: 11946, dtype: int64"
      ]
     },
     "execution_count": 54,
     "metadata": {},
     "output_type": "execute_result"
    }
   ],
   "source": [
    "tags_df.tagValue.value_counts()"
   ]
  },
  {
   "cell_type": "code",
   "execution_count": 117,
   "id": "cd45c035",
   "metadata": {
    "scrolled": true
   },
   "outputs": [],
   "source": [
    "merged = pd.merge(user_taggedartists_df,tags_df,how='inner',on='tagID')"
   ]
  },
  {
   "cell_type": "code",
   "execution_count": 118,
   "id": "39f78b6b",
   "metadata": {
    "scrolled": true
   },
   "outputs": [
    {
     "data": {
      "text/html": [
       "<div>\n",
       "<style scoped>\n",
       "    .dataframe tbody tr th:only-of-type {\n",
       "        vertical-align: middle;\n",
       "    }\n",
       "\n",
       "    .dataframe tbody tr th {\n",
       "        vertical-align: top;\n",
       "    }\n",
       "\n",
       "    .dataframe thead th {\n",
       "        text-align: right;\n",
       "    }\n",
       "</style>\n",
       "<table border=\"1\" class=\"dataframe\">\n",
       "  <thead>\n",
       "    <tr style=\"text-align: right;\">\n",
       "      <th></th>\n",
       "      <th>userID</th>\n",
       "      <th>artistID</th>\n",
       "      <th>tagID</th>\n",
       "      <th>release_date</th>\n",
       "      <th>very_old</th>\n",
       "      <th>old</th>\n",
       "      <th>new</th>\n",
       "      <th>very_new</th>\n",
       "      <th>tagValue</th>\n",
       "    </tr>\n",
       "  </thead>\n",
       "  <tbody>\n",
       "    <tr>\n",
       "      <th>0</th>\n",
       "      <td>2</td>\n",
       "      <td>52</td>\n",
       "      <td>13</td>\n",
       "      <td>2009-04-01</td>\n",
       "      <td>0</td>\n",
       "      <td>0</td>\n",
       "      <td>0</td>\n",
       "      <td>1</td>\n",
       "      <td>chillout</td>\n",
       "    </tr>\n",
       "    <tr>\n",
       "      <th>1</th>\n",
       "      <td>2</td>\n",
       "      <td>63</td>\n",
       "      <td>13</td>\n",
       "      <td>2009-04-01</td>\n",
       "      <td>0</td>\n",
       "      <td>0</td>\n",
       "      <td>0</td>\n",
       "      <td>1</td>\n",
       "      <td>chillout</td>\n",
       "    </tr>\n",
       "    <tr>\n",
       "      <th>2</th>\n",
       "      <td>2</td>\n",
       "      <td>73</td>\n",
       "      <td>13</td>\n",
       "      <td>2009-04-01</td>\n",
       "      <td>0</td>\n",
       "      <td>0</td>\n",
       "      <td>0</td>\n",
       "      <td>1</td>\n",
       "      <td>chillout</td>\n",
       "    </tr>\n",
       "    <tr>\n",
       "      <th>3</th>\n",
       "      <td>2</td>\n",
       "      <td>94</td>\n",
       "      <td>13</td>\n",
       "      <td>2009-04-01</td>\n",
       "      <td>0</td>\n",
       "      <td>0</td>\n",
       "      <td>0</td>\n",
       "      <td>1</td>\n",
       "      <td>chillout</td>\n",
       "    </tr>\n",
       "    <tr>\n",
       "      <th>4</th>\n",
       "      <td>2</td>\n",
       "      <td>6177</td>\n",
       "      <td>13</td>\n",
       "      <td>2009-05-01</td>\n",
       "      <td>0</td>\n",
       "      <td>0</td>\n",
       "      <td>0</td>\n",
       "      <td>1</td>\n",
       "      <td>chillout</td>\n",
       "    </tr>\n",
       "  </tbody>\n",
       "</table>\n",
       "</div>"
      ],
      "text/plain": [
       "   userID  artistID  tagID release_date  very_old  old  new  very_new  \\\n",
       "0       2        52     13   2009-04-01         0    0    0         1   \n",
       "1       2        63     13   2009-04-01         0    0    0         1   \n",
       "2       2        73     13   2009-04-01         0    0    0         1   \n",
       "3       2        94     13   2009-04-01         0    0    0         1   \n",
       "4       2      6177     13   2009-05-01         0    0    0         1   \n",
       "\n",
       "   tagValue  \n",
       "0  chillout  \n",
       "1  chillout  \n",
       "2  chillout  \n",
       "3  chillout  \n",
       "4  chillout  "
      ]
     },
     "execution_count": 118,
     "metadata": {},
     "output_type": "execute_result"
    }
   ],
   "source": [
    "merged.head()"
   ]
  },
  {
   "cell_type": "code",
   "execution_count": 122,
   "id": "fff49176",
   "metadata": {},
   "outputs": [],
   "source": [
    "merged['genres'] = merged.groupby(['userID','artistID'])['tagValue'].transform(lambda x : ' '.join(x))"
   ]
  },
  {
   "cell_type": "code",
   "execution_count": 125,
   "id": "61d261c3",
   "metadata": {},
   "outputs": [
    {
     "data": {
      "text/html": [
       "<div>\n",
       "<style scoped>\n",
       "    .dataframe tbody tr th:only-of-type {\n",
       "        vertical-align: middle;\n",
       "    }\n",
       "\n",
       "    .dataframe tbody tr th {\n",
       "        vertical-align: top;\n",
       "    }\n",
       "\n",
       "    .dataframe thead th {\n",
       "        text-align: right;\n",
       "    }\n",
       "</style>\n",
       "<table border=\"1\" class=\"dataframe\">\n",
       "  <thead>\n",
       "    <tr style=\"text-align: right;\">\n",
       "      <th></th>\n",
       "      <th>userID</th>\n",
       "      <th>artistID</th>\n",
       "      <th>tagID</th>\n",
       "      <th>release_date</th>\n",
       "      <th>very_old</th>\n",
       "      <th>old</th>\n",
       "      <th>new</th>\n",
       "      <th>very_new</th>\n",
       "      <th>tagValue</th>\n",
       "      <th>genres</th>\n",
       "    </tr>\n",
       "  </thead>\n",
       "  <tbody>\n",
       "    <tr>\n",
       "      <th>0</th>\n",
       "      <td>2</td>\n",
       "      <td>52</td>\n",
       "      <td>13</td>\n",
       "      <td>2009-04-01</td>\n",
       "      <td>0</td>\n",
       "      <td>0</td>\n",
       "      <td>0</td>\n",
       "      <td>1</td>\n",
       "      <td>chillout</td>\n",
       "      <td>chillout downtempo electronic trip-hop female ...</td>\n",
       "    </tr>\n",
       "    <tr>\n",
       "      <th>1</th>\n",
       "      <td>2</td>\n",
       "      <td>63</td>\n",
       "      <td>13</td>\n",
       "      <td>2009-04-01</td>\n",
       "      <td>0</td>\n",
       "      <td>0</td>\n",
       "      <td>0</td>\n",
       "      <td>1</td>\n",
       "      <td>chillout</td>\n",
       "      <td>chillout ambient new age gregorian chant</td>\n",
       "    </tr>\n",
       "    <tr>\n",
       "      <th>2</th>\n",
       "      <td>2</td>\n",
       "      <td>73</td>\n",
       "      <td>13</td>\n",
       "      <td>2009-04-01</td>\n",
       "      <td>0</td>\n",
       "      <td>0</td>\n",
       "      <td>0</td>\n",
       "      <td>1</td>\n",
       "      <td>chillout</td>\n",
       "      <td>chillout downtempo electronic trip-hop ambient...</td>\n",
       "    </tr>\n",
       "    <tr>\n",
       "      <th>3</th>\n",
       "      <td>2</td>\n",
       "      <td>94</td>\n",
       "      <td>13</td>\n",
       "      <td>2009-04-01</td>\n",
       "      <td>0</td>\n",
       "      <td>0</td>\n",
       "      <td>0</td>\n",
       "      <td>1</td>\n",
       "      <td>chillout</td>\n",
       "      <td>chillout downtempo trip-hop lounge acid jazz c...</td>\n",
       "    </tr>\n",
       "    <tr>\n",
       "      <th>4</th>\n",
       "      <td>2</td>\n",
       "      <td>6177</td>\n",
       "      <td>13</td>\n",
       "      <td>2009-05-01</td>\n",
       "      <td>0</td>\n",
       "      <td>0</td>\n",
       "      <td>0</td>\n",
       "      <td>1</td>\n",
       "      <td>chillout</td>\n",
       "      <td>chillout downtempo ambient lounge cafe del mar</td>\n",
       "    </tr>\n",
       "    <tr>\n",
       "      <th>...</th>\n",
       "      <td>...</td>\n",
       "      <td>...</td>\n",
       "      <td>...</td>\n",
       "      <td>...</td>\n",
       "      <td>...</td>\n",
       "      <td>...</td>\n",
       "      <td>...</td>\n",
       "      <td>...</td>\n",
       "      <td>...</td>\n",
       "      <td>...</td>\n",
       "    </tr>\n",
       "    <tr>\n",
       "      <th>186448</th>\n",
       "      <td>2096</td>\n",
       "      <td>13890</td>\n",
       "      <td>12642</td>\n",
       "      <td>2010-12-01</td>\n",
       "      <td>0</td>\n",
       "      <td>0</td>\n",
       "      <td>0</td>\n",
       "      <td>1</td>\n",
       "      <td>gluhie 90e</td>\n",
       "      <td>americana gluhie 90e symbiosis</td>\n",
       "    </tr>\n",
       "    <tr>\n",
       "      <th>186465</th>\n",
       "      <td>2096</td>\n",
       "      <td>9206</td>\n",
       "      <td>12643</td>\n",
       "      <td>2011-03-01</td>\n",
       "      <td>0</td>\n",
       "      <td>0</td>\n",
       "      <td>0</td>\n",
       "      <td>1</td>\n",
       "      <td>scott pilgrim</td>\n",
       "      <td>usa scott pilgrim</td>\n",
       "    </tr>\n",
       "    <tr>\n",
       "      <th>186467</th>\n",
       "      <td>2096</td>\n",
       "      <td>18597</td>\n",
       "      <td>12643</td>\n",
       "      <td>2011-03-01</td>\n",
       "      <td>0</td>\n",
       "      <td>0</td>\n",
       "      <td>0</td>\n",
       "      <td>1</td>\n",
       "      <td>scott pilgrim</td>\n",
       "      <td>scott pilgrim</td>\n",
       "    </tr>\n",
       "    <tr>\n",
       "      <th>186477</th>\n",
       "      <td>2096</td>\n",
       "      <td>13890</td>\n",
       "      <td>12645</td>\n",
       "      <td>2010-09-01</td>\n",
       "      <td>0</td>\n",
       "      <td>0</td>\n",
       "      <td>0</td>\n",
       "      <td>1</td>\n",
       "      <td>symbiosis</td>\n",
       "      <td>americana gluhie 90e symbiosis</td>\n",
       "    </tr>\n",
       "    <tr>\n",
       "      <th>186478</th>\n",
       "      <td>2096</td>\n",
       "      <td>18513</td>\n",
       "      <td>12645</td>\n",
       "      <td>2010-08-01</td>\n",
       "      <td>0</td>\n",
       "      <td>0</td>\n",
       "      <td>0</td>\n",
       "      <td>1</td>\n",
       "      <td>symbiosis</td>\n",
       "      <td>usa twilight symbiosis</td>\n",
       "    </tr>\n",
       "  </tbody>\n",
       "</table>\n",
       "<p>48330 rows × 10 columns</p>\n",
       "</div>"
      ],
      "text/plain": [
       "        userID  artistID  tagID release_date  very_old  old  new  very_new  \\\n",
       "0            2        52     13   2009-04-01         0    0    0         1   \n",
       "1            2        63     13   2009-04-01         0    0    0         1   \n",
       "2            2        73     13   2009-04-01         0    0    0         1   \n",
       "3            2        94     13   2009-04-01         0    0    0         1   \n",
       "4            2      6177     13   2009-05-01         0    0    0         1   \n",
       "...        ...       ...    ...          ...       ...  ...  ...       ...   \n",
       "186448    2096     13890  12642   2010-12-01         0    0    0         1   \n",
       "186465    2096      9206  12643   2011-03-01         0    0    0         1   \n",
       "186467    2096     18597  12643   2011-03-01         0    0    0         1   \n",
       "186477    2096     13890  12645   2010-09-01         0    0    0         1   \n",
       "186478    2096     18513  12645   2010-08-01         0    0    0         1   \n",
       "\n",
       "             tagValue                                             genres  \n",
       "0            chillout  chillout downtempo electronic trip-hop female ...  \n",
       "1            chillout           chillout ambient new age gregorian chant  \n",
       "2            chillout  chillout downtempo electronic trip-hop ambient...  \n",
       "3            chillout  chillout downtempo trip-hop lounge acid jazz c...  \n",
       "4            chillout     chillout downtempo ambient lounge cafe del mar  \n",
       "...               ...                                                ...  \n",
       "186448     gluhie 90e                     americana gluhie 90e symbiosis  \n",
       "186465  scott pilgrim                                  usa scott pilgrim  \n",
       "186467  scott pilgrim                                      scott pilgrim  \n",
       "186477      symbiosis                     americana gluhie 90e symbiosis  \n",
       "186478      symbiosis                             usa twilight symbiosis  \n",
       "\n",
       "[48330 rows x 10 columns]"
      ]
     },
     "execution_count": 125,
     "metadata": {},
     "output_type": "execute_result"
    }
   ],
   "source": [
    "merged.groupby('artistID').head()"
   ]
  },
  {
   "cell_type": "code",
   "execution_count": null,
   "id": "d10ee124",
   "metadata": {
    "scrolled": false
   },
   "outputs": [],
   "source": [
    "# creating instance of one-hot-encoder\n",
    "enc = OneHotEncoder(handle_unknown='ignore')\n",
    "\n",
    "\n",
    "encoded_cols = enc.fit_transform(merged[['genres']]).toarray()\n",
    "\n",
    "column_names = enc.get_feature_names(['genres'])\n",
    "\n",
    "enc_df = pd.DataFrame(encoded_cols,columns=column_names)\n",
    "\n",
    "df_one_hot = pd.concat([merged,enc_df],axis=1)\n",
    "df_one_hot.head()"
   ]
  },
  {
   "cell_type": "code",
   "execution_count": null,
   "id": "eff2f95a",
   "metadata": {},
   "outputs": [],
   "source": [
    "content_df = df_one_hot.drop(columns=['release_date','tagValue','genres','userID'])"
   ]
  },
  {
   "cell_type": "markdown",
   "id": "535056c1",
   "metadata": {},
   "source": [
    "## Hybrid Recommender Systems"
   ]
  },
  {
   "cell_type": "code",
   "execution_count": 31,
   "id": "cfcf1481",
   "metadata": {},
   "outputs": [],
   "source": [
    "user_artist_categorized = pd.read_csv('user_artists_categorized.csv')"
   ]
  },
  {
   "cell_type": "code",
   "execution_count": 32,
   "id": "bc2c6466",
   "metadata": {},
   "outputs": [
    {
     "data": {
      "text/html": [
       "<div>\n",
       "<style scoped>\n",
       "    .dataframe tbody tr th:only-of-type {\n",
       "        vertical-align: middle;\n",
       "    }\n",
       "\n",
       "    .dataframe tbody tr th {\n",
       "        vertical-align: top;\n",
       "    }\n",
       "\n",
       "    .dataframe thead th {\n",
       "        text-align: right;\n",
       "    }\n",
       "</style>\n",
       "<table border=\"1\" class=\"dataframe\">\n",
       "  <thead>\n",
       "    <tr style=\"text-align: right;\">\n",
       "      <th></th>\n",
       "      <th>userID</th>\n",
       "      <th>artistID</th>\n",
       "      <th>weight_quantiles</th>\n",
       "    </tr>\n",
       "  </thead>\n",
       "  <tbody>\n",
       "    <tr>\n",
       "      <th>0</th>\n",
       "      <td>2</td>\n",
       "      <td>51</td>\n",
       "      <td>4</td>\n",
       "    </tr>\n",
       "    <tr>\n",
       "      <th>1</th>\n",
       "      <td>2</td>\n",
       "      <td>52</td>\n",
       "      <td>4</td>\n",
       "    </tr>\n",
       "    <tr>\n",
       "      <th>2</th>\n",
       "      <td>2</td>\n",
       "      <td>53</td>\n",
       "      <td>4</td>\n",
       "    </tr>\n",
       "    <tr>\n",
       "      <th>3</th>\n",
       "      <td>2</td>\n",
       "      <td>54</td>\n",
       "      <td>4</td>\n",
       "    </tr>\n",
       "    <tr>\n",
       "      <th>4</th>\n",
       "      <td>2</td>\n",
       "      <td>55</td>\n",
       "      <td>4</td>\n",
       "    </tr>\n",
       "  </tbody>\n",
       "</table>\n",
       "</div>"
      ],
      "text/plain": [
       "   userID  artistID  weight_quantiles\n",
       "0       2        51                 4\n",
       "1       2        52                 4\n",
       "2       2        53                 4\n",
       "3       2        54                 4\n",
       "4       2        55                 4"
      ]
     },
     "execution_count": 32,
     "metadata": {},
     "output_type": "execute_result"
    }
   ],
   "source": [
    "user_artist_categorized.head()"
   ]
  },
  {
   "cell_type": "code",
   "execution_count": 33,
   "id": "089b6d76",
   "metadata": {},
   "outputs": [],
   "source": [
    "#create train and test sets \n",
    "UA_train, UA_test = train_test_split(user_artist_categorized,test_size=0.3,random_state=123)\n",
    "\n",
    "UA_train = UA_train.reset_index(drop=True)\n",
    "UA_test = UA_test.reset_index(drop=True)"
   ]
  },
  {
   "cell_type": "code",
   "execution_count": 34,
   "id": "aeb39dc3",
   "metadata": {},
   "outputs": [],
   "source": [
    "#create reader object \n",
    "reader = Reader(rating_scale=(1,5)) #1:5 scale \n",
    "\n",
    "#create surprise train and test set objects\n",
    "data = Dataset.load_from_df(user_artist_categorized[[\"userID\",\"artistID\",\"weight_quantiles\"]], reader)\n",
    "UA_train = Dataset.load_from_df(UA_train, reader).build_full_trainset()\n",
    "UA_test = list(UA_test.itertuples(index=False, name=None))"
   ]
  },
  {
   "cell_type": "code",
   "execution_count": 35,
   "id": "72151924",
   "metadata": {
    "scrolled": true
   },
   "outputs": [
    {
     "name": "stdout",
     "output_type": "stream",
     "text": [
      "Computing the cosine similarity matrix...\n"
     ]
    },
    {
     "name": "stderr",
     "output_type": "stream",
     "text": [
      "/Users/dimitrikestenbaum/opt/anaconda3/lib/python3.9/site-packages/surprise/prediction_algorithms/algo_base.py:249: RuntimeWarning: invalid value encountered in double_scalars\n",
      "  sim = construction_func[name](*args)\n"
     ]
    },
    {
     "name": "stdout",
     "output_type": "stream",
     "text": [
      "Done computing similarity matrix.\n",
      "Computing the cosine similarity matrix...\n",
      "Done computing similarity matrix.\n"
     ]
    },
    {
     "data": {
      "text/plain": [
       "array([[1.        , 1.        , 1.        , ..., 0.        , 0.        ,\n",
       "        0.        ],\n",
       "       [1.        , 1.        , 0.96559438, ..., 0.        , 0.        ,\n",
       "        1.        ],\n",
       "       [1.        , 0.96559438, 1.        , ..., 0.        , 0.        ,\n",
       "        1.        ],\n",
       "       ...,\n",
       "       [0.        , 0.        , 0.        , ..., 1.        , 0.        ,\n",
       "        0.        ],\n",
       "       [0.        , 0.        , 0.        , ..., 0.        , 1.        ,\n",
       "        0.        ],\n",
       "       [0.        , 1.        , 1.        , ..., 0.        , 0.        ,\n",
       "        1.        ]])"
      ]
     },
     "execution_count": 35,
     "metadata": {},
     "output_type": "execute_result"
    }
   ],
   "source": [
    "#get baseline KNN score \n",
    "from surprise import KNNBasic\n",
    "\n",
    "# create options dict; use cosine similarity on user_based data\n",
    "options = {'name':'cosine', 'user_based':True}\n",
    "\n",
    "ubKNN = KNNBasic(k=20, min_k=5, sim_options=options, random_state=123)\n",
    "\n",
    "#create cosine similarity matrix\n",
    "ubKNN.fit(UA_train)\\\n",
    ".compute_similarities()"
   ]
  },
  {
   "cell_type": "code",
   "execution_count": 36,
   "id": "43775a69",
   "metadata": {},
   "outputs": [],
   "source": [
    "ub_preds = ubKNN.test(UA_test)"
   ]
  },
  {
   "cell_type": "code",
   "execution_count": 37,
   "id": "1044bc78",
   "metadata": {},
   "outputs": [
    {
     "data": {
      "text/plain": [
       "array([[1.   , 0.5  , 0.2  , ..., 0.   , 0.   , 0.   ],\n",
       "       [0.5  , 1.   , 0.375, ..., 0.   , 0.   , 1.   ],\n",
       "       [0.2  , 0.375, 1.   , ..., 0.   , 0.   , 0.5  ],\n",
       "       ...,\n",
       "       [0.   , 0.   , 0.   , ..., 1.   , 0.   , 0.   ],\n",
       "       [0.   , 0.   , 0.   , ..., 0.   , 1.   , 0.   ],\n",
       "       [0.   , 1.   , 0.5  , ..., 0.   , 0.   , 1.   ]])"
      ]
     },
     "execution_count": 37,
     "metadata": {},
     "output_type": "execute_result"
    }
   ],
   "source": [
    "#get baseline KNN score \n",
    "from surprise import KNNBasic\n",
    "\n",
    "\n",
    "svd = SVD(n_factors=20, n_epochs=20, biased=True,random_state=123)\n",
    "\n",
    "#create cosine similarity matrix\n",
    "svd.fit(UA_train)\\\n",
    ".compute_similarities()"
   ]
  },
  {
   "cell_type": "code",
   "execution_count": 38,
   "id": "d025a31a",
   "metadata": {},
   "outputs": [],
   "source": [
    "svd_preds = svd.test(UA_test)"
   ]
  },
  {
   "cell_type": "code",
   "execution_count": 39,
   "id": "37ca0463",
   "metadata": {
    "scrolled": false
   },
   "outputs": [
    {
     "data": {
      "text/html": [
       "<div>\n",
       "<style scoped>\n",
       "    .dataframe tbody tr th:only-of-type {\n",
       "        vertical-align: middle;\n",
       "    }\n",
       "\n",
       "    .dataframe tbody tr th {\n",
       "        vertical-align: top;\n",
       "    }\n",
       "\n",
       "    .dataframe thead th {\n",
       "        text-align: right;\n",
       "    }\n",
       "</style>\n",
       "<table border=\"1\" class=\"dataframe\">\n",
       "  <thead>\n",
       "    <tr style=\"text-align: right;\">\n",
       "      <th></th>\n",
       "      <th>UB_KNN</th>\n",
       "      <th>SVD</th>\n",
       "    </tr>\n",
       "  </thead>\n",
       "  <tbody>\n",
       "    <tr>\n",
       "      <th>RMSE</th>\n",
       "      <td>1.394226</td>\n",
       "      <td>0.907108</td>\n",
       "    </tr>\n",
       "    <tr>\n",
       "      <th>MAE</th>\n",
       "      <td>1.184893</td>\n",
       "      <td>0.737216</td>\n",
       "    </tr>\n",
       "    <tr>\n",
       "      <th>Recall</th>\n",
       "      <td>0.615016</td>\n",
       "      <td>0.784936</td>\n",
       "    </tr>\n",
       "    <tr>\n",
       "      <th>Precision</th>\n",
       "      <td>0.708707</td>\n",
       "      <td>0.914353</td>\n",
       "    </tr>\n",
       "    <tr>\n",
       "      <th>F1</th>\n",
       "      <td>0.658546</td>\n",
       "      <td>0.844716</td>\n",
       "    </tr>\n",
       "    <tr>\n",
       "      <th>NDCG@5</th>\n",
       "      <td>0.866164</td>\n",
       "      <td>0.871942</td>\n",
       "    </tr>\n",
       "  </tbody>\n",
       "</table>\n",
       "</div>"
      ],
      "text/plain": [
       "             UB_KNN       SVD\n",
       "RMSE       1.394226  0.907108\n",
       "MAE        1.184893  0.737216\n",
       "Recall     0.615016  0.784936\n",
       "Precision  0.708707  0.914353\n",
       "F1         0.658546  0.844716\n",
       "NDCG@5     0.866164  0.871942"
      ]
     },
     "execution_count": 39,
     "metadata": {},
     "output_type": "execute_result"
    }
   ],
   "source": [
    "models = {\"UB_KNN\":ub_preds, \"SVD\":svd_preds}\n",
    "overview = pd.concat([eval.evaluate(mod, topn=5, rating_cutoff=2) for mod in models.values()], axis=1)\n",
    "overview.columns = list(models.keys())\n",
    "overview"
   ]
  },
  {
   "cell_type": "code",
   "execution_count": 40,
   "id": "d648d527",
   "metadata": {
    "scrolled": true
   },
   "outputs": [
    {
     "data": {
      "text/html": [
       "<div>\n",
       "<style scoped>\n",
       "    .dataframe tbody tr th:only-of-type {\n",
       "        vertical-align: middle;\n",
       "    }\n",
       "\n",
       "    .dataframe tbody tr th {\n",
       "        vertical-align: top;\n",
       "    }\n",
       "\n",
       "    .dataframe thead th {\n",
       "        text-align: right;\n",
       "    }\n",
       "</style>\n",
       "<table border=\"1\" class=\"dataframe\">\n",
       "  <thead>\n",
       "    <tr style=\"text-align: right;\">\n",
       "      <th></th>\n",
       "      <th>uid</th>\n",
       "      <th>iid</th>\n",
       "      <th>r_ui</th>\n",
       "      <th>est</th>\n",
       "      <th>details</th>\n",
       "    </tr>\n",
       "  </thead>\n",
       "  <tbody>\n",
       "    <tr>\n",
       "      <th>0</th>\n",
       "      <td>843</td>\n",
       "      <td>10570</td>\n",
       "      <td>0</td>\n",
       "      <td>1.498138</td>\n",
       "      <td>{'was_impossible': True, 'reason': 'User and/o...</td>\n",
       "    </tr>\n",
       "    <tr>\n",
       "      <th>1</th>\n",
       "      <td>189</td>\n",
       "      <td>492</td>\n",
       "      <td>3</td>\n",
       "      <td>2.573330</td>\n",
       "      <td>{'actual_k': 15, 'was_impossible': False}</td>\n",
       "    </tr>\n",
       "    <tr>\n",
       "      <th>2</th>\n",
       "      <td>227</td>\n",
       "      <td>543</td>\n",
       "      <td>1</td>\n",
       "      <td>2.129309</td>\n",
       "      <td>{'actual_k': 20, 'was_impossible': False}</td>\n",
       "    </tr>\n",
       "    <tr>\n",
       "      <th>3</th>\n",
       "      <td>1340</td>\n",
       "      <td>10662</td>\n",
       "      <td>3</td>\n",
       "      <td>2.410101</td>\n",
       "      <td>{'was_impossible': True, 'reason': 'User and/o...</td>\n",
       "    </tr>\n",
       "    <tr>\n",
       "      <th>4</th>\n",
       "      <td>517</td>\n",
       "      <td>703</td>\n",
       "      <td>2</td>\n",
       "      <td>1.952635</td>\n",
       "      <td>{'actual_k': 19, 'was_impossible': False}</td>\n",
       "    </tr>\n",
       "  </tbody>\n",
       "</table>\n",
       "</div>"
      ],
      "text/plain": [
       "    uid    iid  r_ui       est  \\\n",
       "0   843  10570     0  1.498138   \n",
       "1   189    492     3  2.573330   \n",
       "2   227    543     1  2.129309   \n",
       "3  1340  10662     3  2.410101   \n",
       "4   517    703     2  1.952635   \n",
       "\n",
       "                                             details  \n",
       "0  {'was_impossible': True, 'reason': 'User and/o...  \n",
       "1          {'actual_k': 15, 'was_impossible': False}  \n",
       "2          {'actual_k': 20, 'was_impossible': False}  \n",
       "3  {'was_impossible': True, 'reason': 'User and/o...  \n",
       "4          {'actual_k': 19, 'was_impossible': False}  "
      ]
     },
     "execution_count": 40,
     "metadata": {},
     "output_type": "execute_result"
    }
   ],
   "source": [
    "# Combine predictions (mean)\n",
    "\n",
    "# extract predictions content-based and item-based\n",
    "df_pred_ub_KNN, df_pred_svd = pd.DataFrame(ub_preds), pd.DataFrame(svd_preds)\n",
    "\n",
    "df_hybrid = df_pred_ub_KNN.copy()\n",
    "df_hybrid['est'] = (np.array(df_pred_ub_KNN['est']) + np.array(df_pred_svd['est'])) / 2\n",
    "\n",
    "df_hybrid.head()"
   ]
  },
  {
   "cell_type": "code",
   "execution_count": 41,
   "id": "96c554a9",
   "metadata": {},
   "outputs": [
    {
     "data": {
      "text/html": [
       "<div>\n",
       "<style scoped>\n",
       "    .dataframe tbody tr th:only-of-type {\n",
       "        vertical-align: middle;\n",
       "    }\n",
       "\n",
       "    .dataframe tbody tr th {\n",
       "        vertical-align: top;\n",
       "    }\n",
       "\n",
       "    .dataframe thead th {\n",
       "        text-align: right;\n",
       "    }\n",
       "</style>\n",
       "<table border=\"1\" class=\"dataframe\">\n",
       "  <thead>\n",
       "    <tr style=\"text-align: right;\">\n",
       "      <th></th>\n",
       "      <th>value</th>\n",
       "    </tr>\n",
       "  </thead>\n",
       "  <tbody>\n",
       "    <tr>\n",
       "      <th>RMSE</th>\n",
       "      <td>1.088568</td>\n",
       "    </tr>\n",
       "    <tr>\n",
       "      <th>MAE</th>\n",
       "      <td>0.929834</td>\n",
       "    </tr>\n",
       "    <tr>\n",
       "      <th>Recall</th>\n",
       "      <td>0.842234</td>\n",
       "    </tr>\n",
       "    <tr>\n",
       "      <th>Precision</th>\n",
       "      <td>0.853321</td>\n",
       "    </tr>\n",
       "    <tr>\n",
       "      <th>F1</th>\n",
       "      <td>0.847742</td>\n",
       "    </tr>\n",
       "    <tr>\n",
       "      <th>NDCG@5</th>\n",
       "      <td>0.864574</td>\n",
       "    </tr>\n",
       "  </tbody>\n",
       "</table>\n",
       "</div>"
      ],
      "text/plain": [
       "              value\n",
       "RMSE       1.088568\n",
       "MAE        0.929834\n",
       "Recall     0.842234\n",
       "Precision  0.853321\n",
       "F1         0.847742\n",
       "NDCG@5     0.864574"
      ]
     },
     "execution_count": 41,
     "metadata": {},
     "output_type": "execute_result"
    }
   ],
   "source": [
    "eval.evaluate(df_hybrid,topn=5,rating_cutoff=2)"
   ]
  },
  {
   "cell_type": "code",
   "execution_count": 42,
   "id": "51ac0694",
   "metadata": {
    "scrolled": true
   },
   "outputs": [
    {
     "data": {
      "text/html": [
       "<div>\n",
       "<style scoped>\n",
       "    .dataframe tbody tr th:only-of-type {\n",
       "        vertical-align: middle;\n",
       "    }\n",
       "\n",
       "    .dataframe tbody tr th {\n",
       "        vertical-align: top;\n",
       "    }\n",
       "\n",
       "    .dataframe thead th {\n",
       "        text-align: right;\n",
       "    }\n",
       "</style>\n",
       "<table border=\"1\" class=\"dataframe\">\n",
       "  <thead>\n",
       "    <tr style=\"text-align: right;\">\n",
       "      <th></th>\n",
       "      <th>uid</th>\n",
       "      <th>iid</th>\n",
       "      <th>r_ui</th>\n",
       "      <th>est</th>\n",
       "      <th>details</th>\n",
       "    </tr>\n",
       "  </thead>\n",
       "  <tbody>\n",
       "    <tr>\n",
       "      <th>0</th>\n",
       "      <td>843</td>\n",
       "      <td>10570</td>\n",
       "      <td>0</td>\n",
       "      <td>1.996276</td>\n",
       "      <td>{'was_impossible': True, 'reason': 'User and/o...</td>\n",
       "    </tr>\n",
       "    <tr>\n",
       "      <th>1</th>\n",
       "      <td>189</td>\n",
       "      <td>492</td>\n",
       "      <td>3</td>\n",
       "      <td>2.458521</td>\n",
       "      <td>{'actual_k': 15, 'was_impossible': False}</td>\n",
       "    </tr>\n",
       "    <tr>\n",
       "      <th>2</th>\n",
       "      <td>227</td>\n",
       "      <td>543</td>\n",
       "      <td>1</td>\n",
       "      <td>2.038612</td>\n",
       "      <td>{'actual_k': 20, 'was_impossible': False}</td>\n",
       "    </tr>\n",
       "    <tr>\n",
       "      <th>3</th>\n",
       "      <td>1340</td>\n",
       "      <td>10662</td>\n",
       "      <td>3</td>\n",
       "      <td>1.996276</td>\n",
       "      <td>{'was_impossible': True, 'reason': 'User and/o...</td>\n",
       "    </tr>\n",
       "    <tr>\n",
       "      <th>4</th>\n",
       "      <td>517</td>\n",
       "      <td>703</td>\n",
       "      <td>2</td>\n",
       "      <td>2.528017</td>\n",
       "      <td>{'actual_k': 19, 'was_impossible': False}</td>\n",
       "    </tr>\n",
       "    <tr>\n",
       "      <th>...</th>\n",
       "      <td>...</td>\n",
       "      <td>...</td>\n",
       "      <td>...</td>\n",
       "      <td>...</td>\n",
       "      <td>...</td>\n",
       "    </tr>\n",
       "    <tr>\n",
       "      <th>27846</th>\n",
       "      <td>1579</td>\n",
       "      <td>1109</td>\n",
       "      <td>4</td>\n",
       "      <td>2.410597</td>\n",
       "      <td>{'actual_k': 17, 'was_impossible': False}</td>\n",
       "    </tr>\n",
       "    <tr>\n",
       "      <th>27847</th>\n",
       "      <td>1795</td>\n",
       "      <td>485</td>\n",
       "      <td>2</td>\n",
       "      <td>2.899309</td>\n",
       "      <td>{'actual_k': 20, 'was_impossible': False}</td>\n",
       "    </tr>\n",
       "    <tr>\n",
       "      <th>27848</th>\n",
       "      <td>1003</td>\n",
       "      <td>159</td>\n",
       "      <td>3</td>\n",
       "      <td>2.947368</td>\n",
       "      <td>{'actual_k': 19, 'was_impossible': False}</td>\n",
       "    </tr>\n",
       "    <tr>\n",
       "      <th>27849</th>\n",
       "      <td>1323</td>\n",
       "      <td>1378</td>\n",
       "      <td>3</td>\n",
       "      <td>2.181689</td>\n",
       "      <td>{'actual_k': 16, 'was_impossible': False}</td>\n",
       "    </tr>\n",
       "    <tr>\n",
       "      <th>27850</th>\n",
       "      <td>255</td>\n",
       "      <td>757</td>\n",
       "      <td>1</td>\n",
       "      <td>2.600779</td>\n",
       "      <td>{'actual_k': 20, 'was_impossible': False}</td>\n",
       "    </tr>\n",
       "  </tbody>\n",
       "</table>\n",
       "<p>27851 rows × 5 columns</p>\n",
       "</div>"
      ],
      "text/plain": [
       "        uid    iid  r_ui       est  \\\n",
       "0       843  10570     0  1.996276   \n",
       "1       189    492     3  2.458521   \n",
       "2       227    543     1  2.038612   \n",
       "3      1340  10662     3  1.996276   \n",
       "4       517    703     2  2.528017   \n",
       "...     ...    ...   ...       ...   \n",
       "27846  1579   1109     4  2.410597   \n",
       "27847  1795    485     2  2.899309   \n",
       "27848  1003    159     3  2.947368   \n",
       "27849  1323   1378     3  2.181689   \n",
       "27850   255    757     1  2.600779   \n",
       "\n",
       "                                                 details  \n",
       "0      {'was_impossible': True, 'reason': 'User and/o...  \n",
       "1              {'actual_k': 15, 'was_impossible': False}  \n",
       "2              {'actual_k': 20, 'was_impossible': False}  \n",
       "3      {'was_impossible': True, 'reason': 'User and/o...  \n",
       "4              {'actual_k': 19, 'was_impossible': False}  \n",
       "...                                                  ...  \n",
       "27846          {'actual_k': 17, 'was_impossible': False}  \n",
       "27847          {'actual_k': 20, 'was_impossible': False}  \n",
       "27848          {'actual_k': 19, 'was_impossible': False}  \n",
       "27849          {'actual_k': 16, 'was_impossible': False}  \n",
       "27850          {'actual_k': 20, 'was_impossible': False}  \n",
       "\n",
       "[27851 rows x 5 columns]"
      ]
     },
     "execution_count": 42,
     "metadata": {},
     "output_type": "execute_result"
    }
   ],
   "source": [
    "df_pred_ub_KNN"
   ]
  },
  {
   "cell_type": "code",
   "execution_count": 43,
   "id": "fe126e05",
   "metadata": {},
   "outputs": [],
   "source": [
    "df_pred_svd.rename(columns={'est':'svd_est','r_ui':'target'},inplace=True)"
   ]
  },
  {
   "cell_type": "code",
   "execution_count": 45,
   "id": "feea0f05",
   "metadata": {},
   "outputs": [],
   "source": [
    "df_pred_svd = df_pred_svd[['target','svd_est']]"
   ]
  },
  {
   "cell_type": "code",
   "execution_count": 46,
   "id": "90e881c0",
   "metadata": {
    "scrolled": true
   },
   "outputs": [
    {
     "data": {
      "text/html": [
       "<div>\n",
       "<style scoped>\n",
       "    .dataframe tbody tr th:only-of-type {\n",
       "        vertical-align: middle;\n",
       "    }\n",
       "\n",
       "    .dataframe tbody tr th {\n",
       "        vertical-align: top;\n",
       "    }\n",
       "\n",
       "    .dataframe thead th {\n",
       "        text-align: right;\n",
       "    }\n",
       "</style>\n",
       "<table border=\"1\" class=\"dataframe\">\n",
       "  <thead>\n",
       "    <tr style=\"text-align: right;\">\n",
       "      <th></th>\n",
       "      <th>target</th>\n",
       "      <th>svd_est</th>\n",
       "    </tr>\n",
       "  </thead>\n",
       "  <tbody>\n",
       "    <tr>\n",
       "      <th>0</th>\n",
       "      <td>0</td>\n",
       "      <td>1.000000</td>\n",
       "    </tr>\n",
       "    <tr>\n",
       "      <th>1</th>\n",
       "      <td>3</td>\n",
       "      <td>2.688139</td>\n",
       "    </tr>\n",
       "    <tr>\n",
       "      <th>2</th>\n",
       "      <td>1</td>\n",
       "      <td>2.220006</td>\n",
       "    </tr>\n",
       "    <tr>\n",
       "      <th>3</th>\n",
       "      <td>3</td>\n",
       "      <td>2.823927</td>\n",
       "    </tr>\n",
       "    <tr>\n",
       "      <th>4</th>\n",
       "      <td>2</td>\n",
       "      <td>1.377254</td>\n",
       "    </tr>\n",
       "    <tr>\n",
       "      <th>...</th>\n",
       "      <td>...</td>\n",
       "      <td>...</td>\n",
       "    </tr>\n",
       "    <tr>\n",
       "      <th>27846</th>\n",
       "      <td>4</td>\n",
       "      <td>3.133586</td>\n",
       "    </tr>\n",
       "    <tr>\n",
       "      <th>27847</th>\n",
       "      <td>2</td>\n",
       "      <td>1.810834</td>\n",
       "    </tr>\n",
       "    <tr>\n",
       "      <th>27848</th>\n",
       "      <td>3</td>\n",
       "      <td>2.578435</td>\n",
       "    </tr>\n",
       "    <tr>\n",
       "      <th>27849</th>\n",
       "      <td>3</td>\n",
       "      <td>2.231235</td>\n",
       "    </tr>\n",
       "    <tr>\n",
       "      <th>27850</th>\n",
       "      <td>1</td>\n",
       "      <td>2.177486</td>\n",
       "    </tr>\n",
       "  </tbody>\n",
       "</table>\n",
       "<p>27851 rows × 2 columns</p>\n",
       "</div>"
      ],
      "text/plain": [
       "       target   svd_est\n",
       "0           0  1.000000\n",
       "1           3  2.688139\n",
       "2           1  2.220006\n",
       "3           3  2.823927\n",
       "4           2  1.377254\n",
       "...       ...       ...\n",
       "27846       4  3.133586\n",
       "27847       2  1.810834\n",
       "27848       3  2.578435\n",
       "27849       3  2.231235\n",
       "27850       1  2.177486\n",
       "\n",
       "[27851 rows x 2 columns]"
      ]
     },
     "execution_count": 46,
     "metadata": {},
     "output_type": "execute_result"
    }
   ],
   "source": [
    "df_pred_svd"
   ]
  },
  {
   "cell_type": "code",
   "execution_count": 48,
   "id": "f35b6dc2",
   "metadata": {},
   "outputs": [],
   "source": [
    "df_pred_ub_KNN = df_pred_ub_KNN.rename(columns={'est':'ub_KNN'})"
   ]
  },
  {
   "cell_type": "code",
   "execution_count": 49,
   "id": "a0c10a98",
   "metadata": {},
   "outputs": [],
   "source": [
    "df_pred_ub_KNN = df_pred_ub_KNN[['ub_KNN']]"
   ]
  },
  {
   "cell_type": "code",
   "execution_count": 57,
   "id": "e45caffa",
   "metadata": {},
   "outputs": [],
   "source": [
    "data = pd.concat([df_pred_svd,df_pred_ub_KNN],axis=1)"
   ]
  },
  {
   "cell_type": "code",
   "execution_count": 58,
   "id": "3cc1b36a",
   "metadata": {},
   "outputs": [],
   "source": [
    "rf_train, rf_test = train_test_split(data,test_size=0.2,random_state=123)"
   ]
  },
  {
   "cell_type": "code",
   "execution_count": 59,
   "id": "42f36a91",
   "metadata": {},
   "outputs": [],
   "source": [
    "from sklearn.ensemble import RandomForestRegressor\n",
    "\n",
    "X, y = rf_train.loc[:,rf_train.columns != 'target'], np.array(rf_train['target'])\n",
    "\n",
    "# fit random forest model\n",
    "rf_model = RandomForestRegressor(max_depth=4, n_estimators=100).fit(X,y)"
   ]
  },
  {
   "cell_type": "code",
   "execution_count": 63,
   "id": "cd8ad3c2",
   "metadata": {
    "scrolled": true
   },
   "outputs": [
    {
     "name": "stderr",
     "output_type": "stream",
     "text": [
      "/Users/dimitrikestenbaum/opt/anaconda3/lib/python3.9/site-packages/pandas/core/frame.py:4906: SettingWithCopyWarning: \n",
      "A value is trying to be set on a copy of a slice from a DataFrame\n",
      "\n",
      "See the caveats in the documentation: https://pandas.pydata.org/pandas-docs/stable/user_guide/indexing.html#returning-a-view-versus-a-copy\n",
      "  return super().drop(\n"
     ]
    }
   ],
   "source": [
    "rf_test.drop(columns=['target'],inplace=True)\n",
    "rf_test.reset_index(drop=True,inplace=True)"
   ]
  },
  {
   "cell_type": "code",
   "execution_count": 67,
   "id": "27a70e17",
   "metadata": {},
   "outputs": [
    {
     "data": {
      "text/plain": [
       "array([3.87586898, 3.08027227, 1.0969231 , ..., 3.05394607, 2.13223222,\n",
       "       2.81834731])"
      ]
     },
     "execution_count": 67,
     "metadata": {},
     "output_type": "execute_result"
    }
   ],
   "source": [
    "# predict\n",
    "rf_pred = rf_model.predict(rf_test)\n",
    "\n",
    "# transform in surprise format\n",
    "rf_pred"
   ]
  }
 ],
 "metadata": {
  "kernelspec": {
   "display_name": "Python 3 (ipykernel)",
   "language": "python",
   "name": "python3"
  },
  "language_info": {
   "codemirror_mode": {
    "name": "ipython",
    "version": 3
   },
   "file_extension": ".py",
   "mimetype": "text/x-python",
   "name": "python",
   "nbconvert_exporter": "python",
   "pygments_lexer": "ipython3",
   "version": "3.9.7"
  }
 },
 "nbformat": 4,
 "nbformat_minor": 5
}
