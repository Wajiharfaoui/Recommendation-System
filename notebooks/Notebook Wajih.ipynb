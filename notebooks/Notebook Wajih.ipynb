{
 "cells": [
  {
   "cell_type": "code",
   "execution_count": 20,
   "metadata": {},
   "outputs": [],
   "source": [
    "import pandas as pd\n",
    "import numpy as np \n",
    "import matplotlib.pyplot as plt\n",
    "import os\n",
    "import surprise \n",
    "from sklearn.model_selection import train_test_split\n",
    "from surprise.model_selection import GridSearchCV\n",
    "from surprise import SVD, accuracy"
   ]
  },
  {
   "cell_type": "markdown",
   "metadata": {},
   "source": [
    "## Collaborative Filtering"
   ]
  },
  {
   "cell_type": "markdown",
   "metadata": {},
   "source": [
    "### SVD"
   ]
  },
  {
   "cell_type": "code",
   "execution_count": 12,
   "metadata": {},
   "outputs": [],
   "source": [
    "UA_df_cf= pd.read_csv('../Data-20220224/Data Group Assignment/dataset_cf.csv',)"
   ]
  },
  {
   "cell_type": "code",
   "execution_count": 13,
   "metadata": {},
   "outputs": [],
   "source": [
    "#create train and test sets \n",
    "UA_train, UA_test = train_test_split(UA_df_cf,test_size=0.3,random_state=123)\n",
    "\n",
    "UA_train = UA_train.reset_index(drop=True)\n",
    "UA_test = UA_test.reset_index(drop=True)"
   ]
  },
  {
   "cell_type": "code",
   "execution_count": 14,
   "metadata": {},
   "outputs": [],
   "source": [
    "#create reader object \n",
    "reader = surprise.Reader(rating_scale=(1,5)) #1:5 scale \n",
    "\n",
    "#create surprise train and test set objects\n",
    "data = surprise.Dataset.load_from_df(UA_train, reader)\n",
    "UA_test = list(UA_test.itertuples(index=False, name=None))"
   ]
  },
  {
   "cell_type": "code",
   "execution_count": 15,
   "metadata": {},
   "outputs": [],
   "source": [
    "# SVD model hyperparameter tuning\n",
    "param_grid = {'n_factors':[5,10,15],'n_epochs': [20,25], 'lr_all':[0.002,0.005],'biased':[True],\n",
    "              'reg_all': [0.02]}\n",
    "svd_gs = GridSearchCV(SVD, param_grid, measures=['rmse'], cv=5,refit=True)\n",
    "svd_gs.fit(data)"
   ]
  },
  {
   "cell_type": "code",
   "execution_count": 17,
   "metadata": {},
   "outputs": [
    {
     "data": {
      "text/plain": [
       "{'rmse': {'n_factors': 5,\n",
       "  'n_epochs': 25,\n",
       "  'lr_all': 0.005,\n",
       "  'biased': True,\n",
       "  'reg_all': 0.02}}"
      ]
     },
     "execution_count": 17,
     "metadata": {},
     "output_type": "execute_result"
    }
   ],
   "source": [
    "# Diplay best parameters\n",
    "svd_gs.best_params"
   ]
  },
  {
   "cell_type": "code",
   "execution_count": 18,
   "metadata": {},
   "outputs": [
    {
     "data": {
      "text/plain": [
       "{'rmse': 0.9092633608874342}"
      ]
     },
     "execution_count": 18,
     "metadata": {},
     "output_type": "execute_result"
    }
   ],
   "source": [
    "# Display the best training RMSE\n",
    "svd_gs.best_score"
   ]
  },
  {
   "cell_type": "code",
   "execution_count": 19,
   "metadata": {},
   "outputs": [],
   "source": [
    "# predict the model's ratings\n",
    "svd_gs_pred = svd_gs.test(UA_test)"
   ]
  },
  {
   "cell_type": "code",
   "execution_count": 21,
   "metadata": {},
   "outputs": [
    {
     "name": "stdout",
     "output_type": "stream",
     "text": [
      "RMSE: 0.9043\n"
     ]
    },
    {
     "data": {
      "text/plain": [
       "0.9043452485913278"
      ]
     },
     "execution_count": 21,
     "metadata": {},
     "output_type": "execute_result"
    }
   ],
   "source": [
    "# Display test RMSE\n",
    "accuracy.rmse(svd_gs_pred)"
   ]
  },
  {
   "cell_type": "markdown",
   "metadata": {},
   "source": [
    "## Hybrid Approach"
   ]
  }
 ],
 "metadata": {
  "interpreter": {
   "hash": "81e0b57edd17c3833f38e5d4db6db81e2c0f982e51ee4890d9e870805c7d8a75"
  },
  "kernelspec": {
   "display_name": "Python 3.9.4 ('py')",
   "language": "python",
   "name": "python3"
  },
  "language_info": {
   "codemirror_mode": {
    "name": "ipython",
    "version": 3
   },
   "file_extension": ".py",
   "mimetype": "text/x-python",
   "name": "python",
   "nbconvert_exporter": "python",
   "pygments_lexer": "ipython3",
   "version": "3.9.4"
  },
  "orig_nbformat": 4
 },
 "nbformat": 4,
 "nbformat_minor": 2
}
