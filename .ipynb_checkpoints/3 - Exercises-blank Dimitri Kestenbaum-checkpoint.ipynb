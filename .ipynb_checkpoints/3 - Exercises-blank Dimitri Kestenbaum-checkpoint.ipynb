{
 "cells": [
  {
   "cell_type": "markdown",
   "metadata": {},
   "source": [
    "![](https://www.ieseg.fr/wp-content/uploads/IESEG-Logo-2012-rgb.jpg)\n"
   ]
  },
  {
   "cell_type": "markdown",
   "metadata": {},
   "source": [
    "# Model Evaluation Exercises"
   ]
  },
  {
   "cell_type": "markdown",
   "metadata": {},
   "source": [
    "# Movielens 100k Data\n",
    "- u.data     -- The full u data set, 100000 ratings by 943 users on 1682 items.\n",
    "              Each user has rated at least 20 movies.  Users and items are\n",
    "              numbered consecutively from 1.  The data is randomly\n",
    "              ordered. This is a tab separated list of \n",
    "\t         user id | item id | rating | timestamp. \n",
    "              The time stamps are unix seconds since 1/1/1970 UTC   \n",
    "\n",
    "- u.info     -- The number of users, items, and ratings in the u data set.\n",
    "\n",
    "- u.item     -- Information about the items (movies); this is a tab separated\n",
    "              list of\n",
    "              movie id | movie title | release date | video release date |\n",
    "              IMDb URL | unknown | Action | Adventure | Animation |\n",
    "              Children's | Comedy | Crime | Documentary | Drama | Fantasy |\n",
    "              Film-Noir | Horror | Musical | Mystery | Romance | Sci-Fi |\n",
    "              Thriller | War | Western |\n",
    "              The last 19 fields are the genres, a 1 indicates the movie\n",
    "              is of that genre, a 0 indicates it is not; movies can be in\n",
    "              several genres at once.\n",
    "              The movie ids are the ones used in the u.data data set.\n",
    "\n",
    "- u.genre    -- A list of the genres.\n",
    "\n",
    "- u.user     -- Demographic information about the users; this is a tab\n",
    "              separated list of\n",
    "              user id | age | gender | occupation | zip code\n",
    "              The user ids are the ones used in the u.data data set.\n",
    "\n",
    "- u.occupation -- A list of the occupations."
   ]
  },
  {
   "cell_type": "code",
   "execution_count": 23,
   "metadata": {},
   "outputs": [],
   "source": [
    "import pandas as pd \n",
    "import numpy as np \n",
    "from IESEGRecSys import eval\n",
    "from sklearn.model_selection import train_test_split\n",
    "from surprise import Dataset\n",
    "from surprise import Reader\n",
    "from surprise import KNNBasic\n",
    "from surprise import accuracy\n",
    "from surprise import BaselineOnly, SVD, CoClustering\n",
    "import surprise\n",
    "from IESEGRecSys.eval import prediction_metrics\n",
    "from surprise.model_selection.search import GridSearchCV"
   ]
  },
  {
   "cell_type": "code",
   "execution_count": 2,
   "metadata": {},
   "outputs": [
    {
     "name": "stdout",
     "output_type": "stream",
     "text": [
      "(100000, 4)\n",
      "(70000, 4)\n",
      "(30000, 4)\n"
     ]
    }
   ],
   "source": [
    "# Import user-rating matrix\n",
    "data = pd.read_csv('u.data', sep='\\t', header=None)\n",
    "data.columns = ['user', 'item', 'rating', 'timestamp']\n",
    "\n",
    "# train-test split\n",
    "train, test = train_test_split(data, test_size=0.3, random_state=42)\n",
    "\n",
    "# reset index\n",
    "train = train.reset_index(drop=True)\n",
    "test = test.reset_index(drop=True)\n",
    "\n",
    "print(data.shape)\n",
    "print(train.shape)\n",
    "print(test.shape)"
   ]
  },
  {
   "cell_type": "code",
   "execution_count": 3,
   "metadata": {},
   "outputs": [
    {
     "data": {
      "text/html": [
       "<div>\n",
       "<style scoped>\n",
       "    .dataframe tbody tr th:only-of-type {\n",
       "        vertical-align: middle;\n",
       "    }\n",
       "\n",
       "    .dataframe tbody tr th {\n",
       "        vertical-align: top;\n",
       "    }\n",
       "\n",
       "    .dataframe thead th {\n",
       "        text-align: right;\n",
       "    }\n",
       "</style>\n",
       "<table border=\"1\" class=\"dataframe\">\n",
       "  <thead>\n",
       "    <tr style=\"text-align: right;\">\n",
       "      <th></th>\n",
       "      <th>user</th>\n",
       "      <th>item</th>\n",
       "      <th>rating</th>\n",
       "      <th>timestamp</th>\n",
       "    </tr>\n",
       "  </thead>\n",
       "  <tbody>\n",
       "    <tr>\n",
       "      <th>0</th>\n",
       "      <td>907</td>\n",
       "      <td>628</td>\n",
       "      <td>5</td>\n",
       "      <td>880158986</td>\n",
       "    </tr>\n",
       "    <tr>\n",
       "      <th>1</th>\n",
       "      <td>622</td>\n",
       "      <td>206</td>\n",
       "      <td>1</td>\n",
       "      <td>882670899</td>\n",
       "    </tr>\n",
       "    <tr>\n",
       "      <th>2</th>\n",
       "      <td>18</td>\n",
       "      <td>480</td>\n",
       "      <td>4</td>\n",
       "      <td>880129595</td>\n",
       "    </tr>\n",
       "    <tr>\n",
       "      <th>3</th>\n",
       "      <td>484</td>\n",
       "      <td>699</td>\n",
       "      <td>4</td>\n",
       "      <td>891195773</td>\n",
       "    </tr>\n",
       "    <tr>\n",
       "      <th>4</th>\n",
       "      <td>871</td>\n",
       "      <td>690</td>\n",
       "      <td>3</td>\n",
       "      <td>888192315</td>\n",
       "    </tr>\n",
       "  </tbody>\n",
       "</table>\n",
       "</div>"
      ],
      "text/plain": [
       "   user  item  rating  timestamp\n",
       "0   907   628       5  880158986\n",
       "1   622   206       1  882670899\n",
       "2    18   480       4  880129595\n",
       "3   484   699       4  891195773\n",
       "4   871   690       3  888192315"
      ]
     },
     "execution_count": 3,
     "metadata": {},
     "output_type": "execute_result"
    }
   ],
   "source": [
    "train.head()"
   ]
  },
  {
   "cell_type": "markdown",
   "metadata": {},
   "source": [
    "# Exercise 1\n",
    "\n",
    "- Apply and evaluate the following approaches:\n",
    "    - user-based\n",
    "    - item-based\n",
    "    - matrix factorization\n",
    "    - co-clustering"
   ]
  },
  {
   "cell_type": "code",
   "execution_count": 4,
   "metadata": {},
   "outputs": [],
   "source": [
    "#create train and test sets that are exclusively user, item, and rating\n",
    "trainUIR = train[['user','item','rating']]\n",
    "testUIR = test[['user','item','rating']]"
   ]
  },
  {
   "cell_type": "code",
   "execution_count": 46,
   "metadata": {},
   "outputs": [],
   "source": [
    "#set up reader with min rating and max rating arguments\n",
    "reader = Reader(rating_scale=(1, 5))\n",
    "\n",
    "# surprise training and test set \n",
    "data = Dataset.load_from_df(data[[\"user\",\"item\",\"rating\"]], reader)\n",
    "df_trainUIR = Dataset.load_from_df(trainUIR,reader).build_full_trainset()\n",
    "df_testUIR = list(testUIR.itertuples(index=False, name=None))\n",
    "evaluationDf = pd.DataFrame(columns=['Model','EvaluationScore']).set_index(['Model'])"
   ]
  },
  {
   "cell_type": "markdown",
   "metadata": {},
   "source": [
    "## User-Based KNN"
   ]
  },
  {
   "cell_type": "code",
   "execution_count": 7,
   "metadata": {},
   "outputs": [
    {
     "name": "stdout",
     "output_type": "stream",
     "text": [
      "Computing the cosine similarity matrix...\n",
      "Done computing similarity matrix.\n",
      "RMSE: 1.0251\n",
      "KNN user-based basic RMSE of:  1.0251119861485698\n"
     ]
    }
   ],
   "source": [
    "#create option parameter dict\n",
    "optionsUb = {'name':'cosine','user_based':True}\n",
    "\n",
    "#initialize user-based KNN model \n",
    "KNNbasicUb = KNNBasic(k=20,min_k=5,sim_options=optionsUb,random_state=123)\n",
    "\n",
    "#fit on training set\n",
    "KNNbasicUb.fit(df_trainUIR)\n",
    "\n",
    "#predict test set\n",
    "predsKNNbasicUb = KNNbasicUb.test(df_testUIR)\n",
    "\n",
    "#compute rmse\n",
    "accuracy = surprise.accuracy.rmse(predsKNNbasicUb)\n",
    "print(f\"KNN user-based basic RMSE of: \",accuracy)"
   ]
  },
  {
   "cell_type": "code",
   "execution_count": 32,
   "metadata": {
    "scrolled": true
   },
   "outputs": [
    {
     "name": "stdout",
     "output_type": "stream",
     "text": [
      "Excluded 458 (30000) samples. 29542 remaining ...\n",
      "Excluded 458 (30000) samples. 29542 remaining ...\n"
     ]
    },
    {
     "data": {
      "text/html": [
       "<div>\n",
       "<style scoped>\n",
       "    .dataframe tbody tr th:only-of-type {\n",
       "        vertical-align: middle;\n",
       "    }\n",
       "\n",
       "    .dataframe tbody tr th {\n",
       "        vertical-align: top;\n",
       "    }\n",
       "\n",
       "    .dataframe thead th {\n",
       "        text-align: right;\n",
       "    }\n",
       "</style>\n",
       "<table border=\"1\" class=\"dataframe\">\n",
       "  <thead>\n",
       "    <tr style=\"text-align: right;\">\n",
       "      <th></th>\n",
       "      <th>value</th>\n",
       "    </tr>\n",
       "  </thead>\n",
       "  <tbody>\n",
       "    <tr>\n",
       "      <th>RMSE</th>\n",
       "      <td>1.015158</td>\n",
       "    </tr>\n",
       "    <tr>\n",
       "      <th>MAE</th>\n",
       "      <td>0.803685</td>\n",
       "    </tr>\n",
       "    <tr>\n",
       "      <th>Recall</th>\n",
       "      <td>0.412776</td>\n",
       "    </tr>\n",
       "    <tr>\n",
       "      <th>Precision</th>\n",
       "      <td>0.763214</td>\n",
       "    </tr>\n",
       "    <tr>\n",
       "      <th>F1</th>\n",
       "      <td>0.535781</td>\n",
       "    </tr>\n",
       "    <tr>\n",
       "      <th>NDCG@5</th>\n",
       "      <td>0.886430</td>\n",
       "    </tr>\n",
       "  </tbody>\n",
       "</table>\n",
       "</div>"
      ],
      "text/plain": [
       "              value\n",
       "RMSE       1.015158\n",
       "MAE        0.803685\n",
       "Recall     0.412776\n",
       "Precision  0.763214\n",
       "F1         0.535781\n",
       "NDCG@5     0.886430"
      ]
     },
     "execution_count": 32,
     "metadata": {},
     "output_type": "execute_result"
    }
   ],
   "source": [
    "evalKNNUb = eval.evaluate(prediction=predsKNNbasicUb, topn=5, rating_cutoff=4, excl_impossible=True)\n",
    "evalKNNUb"
   ]
  },
  {
   "cell_type": "markdown",
   "metadata": {},
   "source": [
    "## Item-Based KNN"
   ]
  },
  {
   "cell_type": "code",
   "execution_count": 8,
   "metadata": {
    "scrolled": true
   },
   "outputs": [
    {
     "name": "stdout",
     "output_type": "stream",
     "text": [
      "Computing the cosine similarity matrix...\n",
      "Done computing similarity matrix.\n",
      "RMSE: 1.0602\n",
      "KNN item-based basic RMSE of:  1.0601934012805978\n"
     ]
    }
   ],
   "source": [
    "#create option parameter dict\n",
    "optionsIb = {'name':'cosine','user_based':False}\n",
    "\n",
    "#initialize user-based KNN model \n",
    "KNNbasicIb = KNNBasic(k=20,min_k=5,sim_options=optionsIb,random_state=123)\n",
    "\n",
    "#fit on training set\n",
    "KNNbasicIb.fit(df_trainUIR)\n",
    "\n",
    "#predict test set\n",
    "predsKNNbasicIb = KNNbasicIb.test(df_testUIR)\n",
    "\n",
    "#compute rmse\n",
    "accuracyIb = surprise.accuracy.rmse(predsKNNbasicIb)\n",
    "\n",
    "\n",
    "print(f\"KNN item-based basic RMSE of: \",accuracyIb)"
   ]
  },
  {
   "cell_type": "code",
   "execution_count": 33,
   "metadata": {},
   "outputs": [
    {
     "name": "stdout",
     "output_type": "stream",
     "text": [
      "Excluded 68 (30000) samples. 29932 remaining ...\n",
      "Excluded 68 (30000) samples. 29932 remaining ...\n"
     ]
    },
    {
     "data": {
      "text/html": [
       "<div>\n",
       "<style scoped>\n",
       "    .dataframe tbody tr th:only-of-type {\n",
       "        vertical-align: middle;\n",
       "    }\n",
       "\n",
       "    .dataframe tbody tr th {\n",
       "        vertical-align: top;\n",
       "    }\n",
       "\n",
       "    .dataframe thead th {\n",
       "        text-align: right;\n",
       "    }\n",
       "</style>\n",
       "<table border=\"1\" class=\"dataframe\">\n",
       "  <thead>\n",
       "    <tr style=\"text-align: right;\">\n",
       "      <th></th>\n",
       "      <th>value</th>\n",
       "    </tr>\n",
       "  </thead>\n",
       "  <tbody>\n",
       "    <tr>\n",
       "      <th>RMSE</th>\n",
       "      <td>1.058353</td>\n",
       "    </tr>\n",
       "    <tr>\n",
       "      <th>MAE</th>\n",
       "      <td>0.841862</td>\n",
       "    </tr>\n",
       "    <tr>\n",
       "      <th>Recall</th>\n",
       "      <td>0.256061</td>\n",
       "    </tr>\n",
       "    <tr>\n",
       "      <th>Precision</th>\n",
       "      <td>0.761691</td>\n",
       "    </tr>\n",
       "    <tr>\n",
       "      <th>F1</th>\n",
       "      <td>0.383275</td>\n",
       "    </tr>\n",
       "    <tr>\n",
       "      <th>NDCG@5</th>\n",
       "      <td>0.862949</td>\n",
       "    </tr>\n",
       "  </tbody>\n",
       "</table>\n",
       "</div>"
      ],
      "text/plain": [
       "              value\n",
       "RMSE       1.058353\n",
       "MAE        0.841862\n",
       "Recall     0.256061\n",
       "Precision  0.761691\n",
       "F1         0.383275\n",
       "NDCG@5     0.862949"
      ]
     },
     "execution_count": 33,
     "metadata": {},
     "output_type": "execute_result"
    }
   ],
   "source": [
    "evalKNNIb = eval.evaluate(prediction=predsKNNbasicIb, topn=5, rating_cutoff=4, excl_impossible=True)\n",
    "evalKNNIb"
   ]
  },
  {
   "cell_type": "markdown",
   "metadata": {},
   "source": [
    "The RMSE for the user-based KNN is slightly better than that of the item-based KNN."
   ]
  },
  {
   "cell_type": "markdown",
   "metadata": {},
   "source": [
    "## ALS"
   ]
  },
  {
   "cell_type": "code",
   "execution_count": 9,
   "metadata": {
    "scrolled": false
   },
   "outputs": [
    {
     "name": "stdout",
     "output_type": "stream",
     "text": [
      "Estimating biases using als...\n",
      "RMSE: 0.9422\n",
      "ALS baseline RMSE:  0.942238914461919\n"
     ]
    }
   ],
   "source": [
    "#set baseline options\n",
    "bsl_options = {'method': 'als',\n",
    "              'n_epochs': 5, #default is 10\n",
    "              'reg_u': 10, #regularization parameter for users\n",
    "               'reg_i':5 #regularization parameter for items\n",
    "              }\n",
    "#initialize ALS algo and fit to train set\n",
    "AlsMod = BaselineOnly(bsl_options=bsl_options).fit(df_trainUIR)\n",
    "#predict\n",
    "AlsPreds = AlsMod.test(df_testUIR)\n",
    "#eval\n",
    "accuracyAls = surprise.accuracy.rmse(AlsPreds)\n",
    "\n",
    "print(f\"ALS baseline RMSE: \",accuracyAls)"
   ]
  },
  {
   "cell_type": "code",
   "execution_count": 34,
   "metadata": {},
   "outputs": [
    {
     "name": "stdout",
     "output_type": "stream",
     "text": [
      "Excluded 0 (30000) samples. 30000 remaining ...\n",
      "Excluded 0 (30000) samples. 30000 remaining ...\n"
     ]
    },
    {
     "data": {
      "text/html": [
       "<div>\n",
       "<style scoped>\n",
       "    .dataframe tbody tr th:only-of-type {\n",
       "        vertical-align: middle;\n",
       "    }\n",
       "\n",
       "    .dataframe tbody tr th {\n",
       "        vertical-align: top;\n",
       "    }\n",
       "\n",
       "    .dataframe thead th {\n",
       "        text-align: right;\n",
       "    }\n",
       "</style>\n",
       "<table border=\"1\" class=\"dataframe\">\n",
       "  <thead>\n",
       "    <tr style=\"text-align: right;\">\n",
       "      <th></th>\n",
       "      <th>value</th>\n",
       "    </tr>\n",
       "  </thead>\n",
       "  <tbody>\n",
       "    <tr>\n",
       "      <th>RMSE</th>\n",
       "      <td>0.942239</td>\n",
       "    </tr>\n",
       "    <tr>\n",
       "      <th>MAE</th>\n",
       "      <td>0.746035</td>\n",
       "    </tr>\n",
       "    <tr>\n",
       "      <th>Recall</th>\n",
       "      <td>0.335830</td>\n",
       "    </tr>\n",
       "    <tr>\n",
       "      <th>Precision</th>\n",
       "      <td>0.838588</td>\n",
       "    </tr>\n",
       "    <tr>\n",
       "      <th>F1</th>\n",
       "      <td>0.479596</td>\n",
       "    </tr>\n",
       "    <tr>\n",
       "      <th>NDCG@5</th>\n",
       "      <td>0.892415</td>\n",
       "    </tr>\n",
       "  </tbody>\n",
       "</table>\n",
       "</div>"
      ],
      "text/plain": [
       "              value\n",
       "RMSE       0.942239\n",
       "MAE        0.746035\n",
       "Recall     0.335830\n",
       "Precision  0.838588\n",
       "F1         0.479596\n",
       "NDCG@5     0.892415"
      ]
     },
     "execution_count": 34,
     "metadata": {},
     "output_type": "execute_result"
    }
   ],
   "source": [
    "evalAls = eval.evaluate(prediction=AlsPreds, topn=5, rating_cutoff=4, excl_impossible=True)\n",
    "evalAls"
   ]
  },
  {
   "cell_type": "markdown",
   "metadata": {},
   "source": [
    "## SVD Matrix Facorization"
   ]
  },
  {
   "cell_type": "code",
   "execution_count": 10,
   "metadata": {
    "scrolled": true
   },
   "outputs": [
    {
     "name": "stdout",
     "output_type": "stream",
     "text": [
      "RMSE: 0.9768\n",
      "SVD RMSE:  0.9768170407696117\n"
     ]
    }
   ],
   "source": [
    "#SVD\n",
    "#initialize and train SVD model\n",
    "svdMod = SVD(n_factors=200,n_epochs=25,biased=False,random_state=123).fit(df_trainUIR)\n",
    "#predict\n",
    "svdModPreds = svdMod.test(df_testUIR)\n",
    "#eval\n",
    "accuracySVD = surprise.accuracy.rmse(svdModPreds)\n",
    "\n",
    "print(f\"SVD RMSE: \",accuracySVD)"
   ]
  },
  {
   "cell_type": "code",
   "execution_count": 35,
   "metadata": {},
   "outputs": [
    {
     "name": "stdout",
     "output_type": "stream",
     "text": [
      "Excluded 60 (30000) samples. 29940 remaining ...\n",
      "Excluded 60 (30000) samples. 29940 remaining ...\n"
     ]
    },
    {
     "data": {
      "text/html": [
       "<div>\n",
       "<style scoped>\n",
       "    .dataframe tbody tr th:only-of-type {\n",
       "        vertical-align: middle;\n",
       "    }\n",
       "\n",
       "    .dataframe tbody tr th {\n",
       "        vertical-align: top;\n",
       "    }\n",
       "\n",
       "    .dataframe thead th {\n",
       "        text-align: right;\n",
       "    }\n",
       "</style>\n",
       "<table border=\"1\" class=\"dataframe\">\n",
       "  <thead>\n",
       "    <tr style=\"text-align: right;\">\n",
       "      <th></th>\n",
       "      <th>value</th>\n",
       "    </tr>\n",
       "  </thead>\n",
       "  <tbody>\n",
       "    <tr>\n",
       "      <th>RMSE</th>\n",
       "      <td>0.975189</td>\n",
       "    </tr>\n",
       "    <tr>\n",
       "      <th>MAE</th>\n",
       "      <td>0.773254</td>\n",
       "    </tr>\n",
       "    <tr>\n",
       "      <th>Recall</th>\n",
       "      <td>0.294541</td>\n",
       "    </tr>\n",
       "    <tr>\n",
       "      <th>Precision</th>\n",
       "      <td>0.855938</td>\n",
       "    </tr>\n",
       "    <tr>\n",
       "      <th>F1</th>\n",
       "      <td>0.438267</td>\n",
       "    </tr>\n",
       "    <tr>\n",
       "      <th>NDCG@5</th>\n",
       "      <td>0.887624</td>\n",
       "    </tr>\n",
       "  </tbody>\n",
       "</table>\n",
       "</div>"
      ],
      "text/plain": [
       "              value\n",
       "RMSE       0.975189\n",
       "MAE        0.773254\n",
       "Recall     0.294541\n",
       "Precision  0.855938\n",
       "F1         0.438267\n",
       "NDCG@5     0.887624"
      ]
     },
     "execution_count": 35,
     "metadata": {},
     "output_type": "execute_result"
    }
   ],
   "source": [
    "evalSVD = eval.evaluate(prediction=svdModPreds, topn=5, rating_cutoff=4, excl_impossible=True)\n",
    "evalSVD"
   ]
  },
  {
   "cell_type": "markdown",
   "metadata": {},
   "source": [
    "## Cocluster"
   ]
  },
  {
   "cell_type": "code",
   "execution_count": 11,
   "metadata": {
    "scrolled": false
   },
   "outputs": [
    {
     "name": "stderr",
     "output_type": "stream",
     "text": [
      "C:\\Users\\DKESTE~1\\AppData\\Local\\Temp/ipykernel_12892/2705816727.py:3: DeprecationWarning: `np.int` is a deprecated alias for the builtin `int`. To silence this warning, use `int` by itself. Doing this will not modify any behavior and is safe. When replacing `np.int`, you may wish to use e.g. `np.int64` or `np.int32` to specify the precision. If you wish to review your current use, check the release note link for additional information.\n",
      "Deprecated in NumPy 1.20; for more details and guidance: https://numpy.org/devdocs/release/1.20.0-notes.html#deprecations\n",
      "  CoClusterMod = CoClustering(n_cltr_u=10,n_cltr_i=10,n_epochs=50,random_state=123).fit(df_trainUIR)\n"
     ]
    },
    {
     "name": "stdout",
     "output_type": "stream",
     "text": [
      "RMSE: 0.9925\n",
      "Cocluster RMSE:  0.9924563507767619\n"
     ]
    }
   ],
   "source": [
    "#cocluster\n",
    "#initialize and fit\n",
    "CoClusterMod = CoClustering(n_cltr_u=10,n_cltr_i=10,n_epochs=50,random_state=123).fit(df_trainUIR)\n",
    "#predict\n",
    "clustModPreds = CoClusterMod.test(df_testUIR)\n",
    "#eval\n",
    "accuracyClust = surprise.accuracy.rmse(clustModPreds)\n",
    "\n",
    "print(f\"Cocluster RMSE: \",accuracyClust)"
   ]
  },
  {
   "cell_type": "code",
   "execution_count": 36,
   "metadata": {},
   "outputs": [
    {
     "name": "stdout",
     "output_type": "stream",
     "text": [
      "Excluded 0 (30000) samples. 30000 remaining ...\n",
      "Excluded 0 (30000) samples. 30000 remaining ...\n"
     ]
    },
    {
     "data": {
      "text/html": [
       "<div>\n",
       "<style scoped>\n",
       "    .dataframe tbody tr th:only-of-type {\n",
       "        vertical-align: middle;\n",
       "    }\n",
       "\n",
       "    .dataframe tbody tr th {\n",
       "        vertical-align: top;\n",
       "    }\n",
       "\n",
       "    .dataframe thead th {\n",
       "        text-align: right;\n",
       "    }\n",
       "</style>\n",
       "<table border=\"1\" class=\"dataframe\">\n",
       "  <thead>\n",
       "    <tr style=\"text-align: right;\">\n",
       "      <th></th>\n",
       "      <th>value</th>\n",
       "    </tr>\n",
       "  </thead>\n",
       "  <tbody>\n",
       "    <tr>\n",
       "      <th>RMSE</th>\n",
       "      <td>0.992456</td>\n",
       "    </tr>\n",
       "    <tr>\n",
       "      <th>MAE</th>\n",
       "      <td>0.776421</td>\n",
       "    </tr>\n",
       "    <tr>\n",
       "      <th>Recall</th>\n",
       "      <td>0.429892</td>\n",
       "    </tr>\n",
       "    <tr>\n",
       "      <th>Precision</th>\n",
       "      <td>0.796151</td>\n",
       "    </tr>\n",
       "    <tr>\n",
       "      <th>F1</th>\n",
       "      <td>0.558315</td>\n",
       "    </tr>\n",
       "    <tr>\n",
       "      <th>NDCG@5</th>\n",
       "      <td>0.883225</td>\n",
       "    </tr>\n",
       "  </tbody>\n",
       "</table>\n",
       "</div>"
      ],
      "text/plain": [
       "              value\n",
       "RMSE       0.992456\n",
       "MAE        0.776421\n",
       "Recall     0.429892\n",
       "Precision  0.796151\n",
       "F1         0.558315\n",
       "NDCG@5     0.883225"
      ]
     },
     "execution_count": 36,
     "metadata": {},
     "output_type": "execute_result"
    }
   ],
   "source": [
    "evalCocluster = eval.evaluate(prediction=clustModPreds, topn=5, rating_cutoff=4, excl_impossible=True)\n",
    "evalCocluster"
   ]
  },
  {
   "cell_type": "markdown",
   "metadata": {},
   "source": [
    "# Exercise 2\n",
    "\n",
    "- Display the evaluation results for all approaches in one dataframe"
   ]
  },
  {
   "cell_type": "code",
   "execution_count": 44,
   "metadata": {
    "scrolled": true
   },
   "outputs": [],
   "source": [
    "evalKNNUb.rename({\"value\":\"UB KNN\"}, axis=1, inplace=True)\n",
    "evalKNNIb.rename({\"value\":\"IB KNN\"}, axis=1, inplace=True)\n",
    "evalAls.rename({\"value\":\"ALS\"}, axis=1, inplace=True)\n",
    "evalSVD.rename({\"value\":\"SVD\"}, axis=1, inplace=True)\n",
    "evalCocluster.rename({\"value\":\"Cocluster\"}, axis=1, inplace=True)\n",
    "\n",
    "evalDF = pd.concat([evalKNNUb,evalKNNIb,evalAls,evalSVD,evalCocluster],axis=1)"
   ]
  },
  {
   "cell_type": "code",
   "execution_count": 45,
   "metadata": {},
   "outputs": [
    {
     "data": {
      "text/html": [
       "<div>\n",
       "<style scoped>\n",
       "    .dataframe tbody tr th:only-of-type {\n",
       "        vertical-align: middle;\n",
       "    }\n",
       "\n",
       "    .dataframe tbody tr th {\n",
       "        vertical-align: top;\n",
       "    }\n",
       "\n",
       "    .dataframe thead th {\n",
       "        text-align: right;\n",
       "    }\n",
       "</style>\n",
       "<table border=\"1\" class=\"dataframe\">\n",
       "  <thead>\n",
       "    <tr style=\"text-align: right;\">\n",
       "      <th></th>\n",
       "      <th>UB KNN</th>\n",
       "      <th>IB KNN</th>\n",
       "      <th>ALS</th>\n",
       "      <th>SVD</th>\n",
       "      <th>Cocluster</th>\n",
       "    </tr>\n",
       "  </thead>\n",
       "  <tbody>\n",
       "    <tr>\n",
       "      <th>RMSE</th>\n",
       "      <td>1.015158</td>\n",
       "      <td>1.058353</td>\n",
       "      <td>0.942239</td>\n",
       "      <td>0.975189</td>\n",
       "      <td>0.992456</td>\n",
       "    </tr>\n",
       "    <tr>\n",
       "      <th>MAE</th>\n",
       "      <td>0.803685</td>\n",
       "      <td>0.841862</td>\n",
       "      <td>0.746035</td>\n",
       "      <td>0.773254</td>\n",
       "      <td>0.776421</td>\n",
       "    </tr>\n",
       "    <tr>\n",
       "      <th>Recall</th>\n",
       "      <td>0.412776</td>\n",
       "      <td>0.256061</td>\n",
       "      <td>0.335830</td>\n",
       "      <td>0.294541</td>\n",
       "      <td>0.429892</td>\n",
       "    </tr>\n",
       "    <tr>\n",
       "      <th>Precision</th>\n",
       "      <td>0.763214</td>\n",
       "      <td>0.761691</td>\n",
       "      <td>0.838588</td>\n",
       "      <td>0.855938</td>\n",
       "      <td>0.796151</td>\n",
       "    </tr>\n",
       "    <tr>\n",
       "      <th>F1</th>\n",
       "      <td>0.535781</td>\n",
       "      <td>0.383275</td>\n",
       "      <td>0.479596</td>\n",
       "      <td>0.438267</td>\n",
       "      <td>0.558315</td>\n",
       "    </tr>\n",
       "    <tr>\n",
       "      <th>NDCG@5</th>\n",
       "      <td>0.886430</td>\n",
       "      <td>0.862949</td>\n",
       "      <td>0.892415</td>\n",
       "      <td>0.887624</td>\n",
       "      <td>0.883225</td>\n",
       "    </tr>\n",
       "  </tbody>\n",
       "</table>\n",
       "</div>"
      ],
      "text/plain": [
       "             UB KNN    IB KNN       ALS       SVD  Cocluster\n",
       "RMSE       1.015158  1.058353  0.942239  0.975189   0.992456\n",
       "MAE        0.803685  0.841862  0.746035  0.773254   0.776421\n",
       "Recall     0.412776  0.256061  0.335830  0.294541   0.429892\n",
       "Precision  0.763214  0.761691  0.838588  0.855938   0.796151\n",
       "F1         0.535781  0.383275  0.479596  0.438267   0.558315\n",
       "NDCG@5     0.886430  0.862949  0.892415  0.887624   0.883225"
      ]
     },
     "execution_count": 45,
     "metadata": {},
     "output_type": "execute_result"
    }
   ],
   "source": [
    "evalDF"
   ]
  },
  {
   "cell_type": "markdown",
   "metadata": {},
   "source": [
    "# Exercise 3\n",
    "\n",
    "- Check the documentation for \"surprise.model_selection.GridSearchCV\"\n",
    "- Select the SVD model:\n",
    "    - Grid search over <font color=\"blue\">factors=[5,10,20], epochs=[10,20]</font> using 3-Fold cross-validation\n",
    "- Display the parameters resulting in the lowest RMSE"
   ]
  },
  {
   "cell_type": "code",
   "execution_count": 50,
   "metadata": {},
   "outputs": [
    {
     "name": "stdout",
     "output_type": "stream",
     "text": [
      "{'n_factors': 20, 'n_epochs': 20}\n",
      "0.941101218879104\n"
     ]
    }
   ],
   "source": [
    "param_grid = {'n_factors':[5,10,20],'n_epochs':[10,20]}\n",
    "\n",
    "gridSearchSVD = GridSearchCV(SVD, param_grid, measures=['rmse'], cv=3)\n",
    "gridSearchSVD.fit(data)\n",
    "\n",
    "print(gridSearchSVD.best_params['rmse'])\n",
    "print(gridSearchSVD.best_score['rmse'])"
   ]
  }
 ],
 "metadata": {
  "kernelspec": {
   "display_name": "Python 3 (ipykernel)",
   "language": "python",
   "name": "python3"
  },
  "language_info": {
   "codemirror_mode": {
    "name": "ipython",
    "version": 3
   },
   "file_extension": ".py",
   "mimetype": "text/x-python",
   "name": "python",
   "nbconvert_exporter": "python",
   "pygments_lexer": "ipython3",
   "version": "3.9.7"
  }
 },
 "nbformat": 4,
 "nbformat_minor": 2
}
