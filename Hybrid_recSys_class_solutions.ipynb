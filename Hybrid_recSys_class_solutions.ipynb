{
 "cells": [
  {
   "cell_type": "markdown",
   "metadata": {},
   "source": [
    "![](https://www.ieseg.fr/wp-content/uploads/IESEG-Logo-2012-rgb.jpg)"
   ]
  },
  {
   "cell_type": "markdown",
   "metadata": {},
   "source": [
    "# Hybrid Recommendation Systems"
   ]
  },
  {
   "cell_type": "code",
   "execution_count": 1,
   "metadata": {},
   "outputs": [
    {
     "name": "stderr",
     "output_type": "stream",
     "text": [
      "[nltk_data] Downloading package punkt to\n",
      "[nltk_data]     /Users/dimitrikestenbaum/nltk_data...\n",
      "[nltk_data]   Unzipping tokenizers/punkt.zip.\n",
      "[nltk_data] Downloading package stopwords to\n",
      "[nltk_data]     /Users/dimitrikestenbaum/nltk_data...\n",
      "[nltk_data]   Unzipping corpora/stopwords.zip.\n"
     ]
    }
   ],
   "source": [
    "import pandas as pd \n",
    "import numpy as np \n",
    "from IESEGRecSys import eval\n",
    "from IESEGRecSys.model import ContentBased\n",
    "from sklearn.model_selection import train_test_split\n",
    "from surprise import Dataset, Reader, KNNBasic, SVD\n",
    "import matplotlib.pyplot as plt\n",
    "\n",
    "# NLP packages\n",
    "import nltk # pip install nltk\n",
    "nltk.download('punkt')\n",
    "nltk.download('stopwords')\n",
    "from nltk.tokenize import word_tokenize\n",
    "from nltk.corpus import stopwords\n",
    "from sklearn.feature_extraction.text import TfidfVectorizer\n",
    "from nltk.stem.snowball import SnowballStemmer"
   ]
  },
  {
   "cell_type": "code",
   "execution_count": 6,
   "metadata": {},
   "outputs": [],
   "source": [
    "# Load data\n",
    "text = pd.read_csv('Data-20220301/jester/JokeText.csv')\n",
    "data = pd.read_csv('Data-20220301/jester/jester_train.csv').sample(frac=0.1, random_state=42).reset_index(drop=True)"
   ]
  },
  {
   "cell_type": "code",
   "execution_count": 8,
   "metadata": {},
   "outputs": [
    {
     "data": {
      "text/html": [
       "<div>\n",
       "<style scoped>\n",
       "    .dataframe tbody tr th:only-of-type {\n",
       "        vertical-align: middle;\n",
       "    }\n",
       "\n",
       "    .dataframe tbody tr th {\n",
       "        vertical-align: top;\n",
       "    }\n",
       "\n",
       "    .dataframe thead th {\n",
       "        text-align: right;\n",
       "    }\n",
       "</style>\n",
       "<table border=\"1\" class=\"dataframe\">\n",
       "  <thead>\n",
       "    <tr style=\"text-align: right;\">\n",
       "      <th></th>\n",
       "      <th>user</th>\n",
       "      <th>item</th>\n",
       "      <th>rating</th>\n",
       "    </tr>\n",
       "  </thead>\n",
       "  <tbody>\n",
       "    <tr>\n",
       "      <th>0</th>\n",
       "      <td>10703</td>\n",
       "      <td>83</td>\n",
       "      <td>1.80</td>\n",
       "    </tr>\n",
       "    <tr>\n",
       "      <th>1</th>\n",
       "      <td>56311</td>\n",
       "      <td>79</td>\n",
       "      <td>-7.38</td>\n",
       "    </tr>\n",
       "    <tr>\n",
       "      <th>2</th>\n",
       "      <td>38277</td>\n",
       "      <td>47</td>\n",
       "      <td>1.84</td>\n",
       "    </tr>\n",
       "    <tr>\n",
       "      <th>3</th>\n",
       "      <td>5609</td>\n",
       "      <td>90</td>\n",
       "      <td>3.06</td>\n",
       "    </tr>\n",
       "    <tr>\n",
       "      <th>4</th>\n",
       "      <td>10655</td>\n",
       "      <td>33</td>\n",
       "      <td>-7.18</td>\n",
       "    </tr>\n",
       "  </tbody>\n",
       "</table>\n",
       "</div>"
      ],
      "text/plain": [
       "    user  item  rating\n",
       "0  10703    83    1.80\n",
       "1  56311    79   -7.38\n",
       "2  38277    47    1.84\n",
       "3   5609    90    3.06\n",
       "4  10655    33   -7.18"
      ]
     },
     "execution_count": 8,
     "metadata": {},
     "output_type": "execute_result"
    }
   ],
   "source": [
    "data.head()"
   ]
  },
  {
   "cell_type": "code",
   "execution_count": 10,
   "metadata": {},
   "outputs": [
    {
     "name": "stdout",
     "output_type": "stream",
     "text": [
      "(161595, 3)\n",
      "(113116, 3)\n",
      "(48479, 3)\n"
     ]
    }
   ],
   "source": [
    "# train-test split\n",
    "train, test = train_test_split(data, test_size=0.3, random_state=42)\n",
    "\n",
    "# reset index\n",
    "train = train.reset_index(drop=True)\n",
    "test = test.reset_index(drop=True)\n",
    "\n",
    "print(data.shape)\n",
    "print(train.shape)\n",
    "print(test.shape)"
   ]
  },
  {
   "cell_type": "markdown",
   "metadata": {},
   "source": [
    "# Preprocessing text data"
   ]
  },
  {
   "cell_type": "code",
   "execution_count": 11,
   "metadata": {},
   "outputs": [],
   "source": [
    "# Tokenize, case conversion & only alphabetic\n",
    "tokens = text['JokeText'].apply(lambda txt: [word.lower() for word in word_tokenize(str(txt)) if word.isalpha()])\n",
    "# setup stop words list\n",
    "stop_words = stopwords.words('english')\n",
    "stop_words.append('nan')\n",
    "\n",
    "stemmer = SnowballStemmer(\"english\")\n",
    "\n",
    "# remove stopwords, stem\n",
    "token_stem = tokens.apply(lambda lst_token: [stemmer.stem(tok) for tok in lst_token if tok not in stop_words and len(tok) > 2])"
   ]
  },
  {
   "cell_type": "code",
   "execution_count": 12,
   "metadata": {},
   "outputs": [
    {
     "name": "stdout",
     "output_type": "stream",
     "text": [
      "(100, 71)\n"
     ]
    },
    {
     "data": {
      "text/html": [
       "<div>\n",
       "<style scoped>\n",
       "    .dataframe tbody tr th:only-of-type {\n",
       "        vertical-align: middle;\n",
       "    }\n",
       "\n",
       "    .dataframe tbody tr th {\n",
       "        vertical-align: top;\n",
       "    }\n",
       "\n",
       "    .dataframe thead th {\n",
       "        text-align: right;\n",
       "    }\n",
       "</style>\n",
       "<table border=\"1\" class=\"dataframe\">\n",
       "  <thead>\n",
       "    <tr style=\"text-align: right;\">\n",
       "      <th></th>\n",
       "      <th>anoth</th>\n",
       "      <th>answer</th>\n",
       "      <th>ask</th>\n",
       "      <th>back</th>\n",
       "      <th>bar</th>\n",
       "      <th>bill</th>\n",
       "      <th>call</th>\n",
       "      <th>car</th>\n",
       "      <th>chang</th>\n",
       "      <th>clinton</th>\n",
       "      <th>...</th>\n",
       "      <th>use</th>\n",
       "      <th>walk</th>\n",
       "      <th>want</th>\n",
       "      <th>well</th>\n",
       "      <th>wife</th>\n",
       "      <th>woman</th>\n",
       "      <th>work</th>\n",
       "      <th>would</th>\n",
       "      <th>year</th>\n",
       "      <th>yes</th>\n",
       "    </tr>\n",
       "  </thead>\n",
       "  <tbody>\n",
       "    <tr>\n",
       "      <th>0</th>\n",
       "      <td>0.0</td>\n",
       "      <td>0.0</td>\n",
       "      <td>0.000000</td>\n",
       "      <td>0.0</td>\n",
       "      <td>0.0</td>\n",
       "      <td>0.0</td>\n",
       "      <td>0.0</td>\n",
       "      <td>0.0</td>\n",
       "      <td>0.0</td>\n",
       "      <td>0.0</td>\n",
       "      <td>...</td>\n",
       "      <td>0.000000</td>\n",
       "      <td>0.0</td>\n",
       "      <td>0.0</td>\n",
       "      <td>0.467335</td>\n",
       "      <td>0.0</td>\n",
       "      <td>0.0</td>\n",
       "      <td>0.000000</td>\n",
       "      <td>0.0</td>\n",
       "      <td>0.000000</td>\n",
       "      <td>0.0</td>\n",
       "    </tr>\n",
       "    <tr>\n",
       "      <th>1</th>\n",
       "      <td>0.0</td>\n",
       "      <td>0.0</td>\n",
       "      <td>0.238011</td>\n",
       "      <td>0.0</td>\n",
       "      <td>0.0</td>\n",
       "      <td>0.0</td>\n",
       "      <td>0.0</td>\n",
       "      <td>0.0</td>\n",
       "      <td>0.0</td>\n",
       "      <td>0.0</td>\n",
       "      <td>...</td>\n",
       "      <td>0.000000</td>\n",
       "      <td>0.0</td>\n",
       "      <td>0.0</td>\n",
       "      <td>0.000000</td>\n",
       "      <td>0.0</td>\n",
       "      <td>0.0</td>\n",
       "      <td>0.295167</td>\n",
       "      <td>0.0</td>\n",
       "      <td>0.303372</td>\n",
       "      <td>0.0</td>\n",
       "    </tr>\n",
       "    <tr>\n",
       "      <th>2</th>\n",
       "      <td>0.0</td>\n",
       "      <td>0.0</td>\n",
       "      <td>0.000000</td>\n",
       "      <td>0.0</td>\n",
       "      <td>0.0</td>\n",
       "      <td>0.0</td>\n",
       "      <td>0.0</td>\n",
       "      <td>0.0</td>\n",
       "      <td>0.0</td>\n",
       "      <td>0.0</td>\n",
       "      <td>...</td>\n",
       "      <td>0.000000</td>\n",
       "      <td>0.0</td>\n",
       "      <td>0.0</td>\n",
       "      <td>0.000000</td>\n",
       "      <td>0.0</td>\n",
       "      <td>0.0</td>\n",
       "      <td>0.000000</td>\n",
       "      <td>0.0</td>\n",
       "      <td>0.000000</td>\n",
       "      <td>0.0</td>\n",
       "    </tr>\n",
       "    <tr>\n",
       "      <th>3</th>\n",
       "      <td>0.0</td>\n",
       "      <td>0.0</td>\n",
       "      <td>0.000000</td>\n",
       "      <td>0.0</td>\n",
       "      <td>0.0</td>\n",
       "      <td>0.0</td>\n",
       "      <td>0.0</td>\n",
       "      <td>0.0</td>\n",
       "      <td>0.0</td>\n",
       "      <td>0.0</td>\n",
       "      <td>...</td>\n",
       "      <td>0.650491</td>\n",
       "      <td>0.0</td>\n",
       "      <td>0.0</td>\n",
       "      <td>0.000000</td>\n",
       "      <td>0.0</td>\n",
       "      <td>0.0</td>\n",
       "      <td>0.000000</td>\n",
       "      <td>0.0</td>\n",
       "      <td>0.000000</td>\n",
       "      <td>0.0</td>\n",
       "    </tr>\n",
       "    <tr>\n",
       "      <th>4</th>\n",
       "      <td>0.0</td>\n",
       "      <td>0.0</td>\n",
       "      <td>0.000000</td>\n",
       "      <td>0.0</td>\n",
       "      <td>0.0</td>\n",
       "      <td>0.0</td>\n",
       "      <td>0.0</td>\n",
       "      <td>0.0</td>\n",
       "      <td>0.0</td>\n",
       "      <td>0.0</td>\n",
       "      <td>...</td>\n",
       "      <td>0.000000</td>\n",
       "      <td>0.0</td>\n",
       "      <td>0.0</td>\n",
       "      <td>0.000000</td>\n",
       "      <td>0.0</td>\n",
       "      <td>0.0</td>\n",
       "      <td>0.000000</td>\n",
       "      <td>0.0</td>\n",
       "      <td>0.000000</td>\n",
       "      <td>0.0</td>\n",
       "    </tr>\n",
       "  </tbody>\n",
       "</table>\n",
       "<p>5 rows × 71 columns</p>\n",
       "</div>"
      ],
      "text/plain": [
       "   anoth  answer       ask  back  bar  bill  call  car  chang  clinton  ...  \\\n",
       "0    0.0     0.0  0.000000   0.0  0.0   0.0   0.0  0.0    0.0      0.0  ...   \n",
       "1    0.0     0.0  0.238011   0.0  0.0   0.0   0.0  0.0    0.0      0.0  ...   \n",
       "2    0.0     0.0  0.000000   0.0  0.0   0.0   0.0  0.0    0.0      0.0  ...   \n",
       "3    0.0     0.0  0.000000   0.0  0.0   0.0   0.0  0.0    0.0      0.0  ...   \n",
       "4    0.0     0.0  0.000000   0.0  0.0   0.0   0.0  0.0    0.0      0.0  ...   \n",
       "\n",
       "        use  walk  want      well  wife  woman      work  would      year  yes  \n",
       "0  0.000000   0.0   0.0  0.467335   0.0    0.0  0.000000    0.0  0.000000  0.0  \n",
       "1  0.000000   0.0   0.0  0.000000   0.0    0.0  0.295167    0.0  0.303372  0.0  \n",
       "2  0.000000   0.0   0.0  0.000000   0.0    0.0  0.000000    0.0  0.000000  0.0  \n",
       "3  0.650491   0.0   0.0  0.000000   0.0    0.0  0.000000    0.0  0.000000  0.0  \n",
       "4  0.000000   0.0   0.0  0.000000   0.0    0.0  0.000000    0.0  0.000000  0.0  \n",
       "\n",
       "[5 rows x 71 columns]"
      ]
     },
     "execution_count": 12,
     "metadata": {},
     "output_type": "execute_result"
    }
   ],
   "source": [
    "# TFIDF vectorizer\n",
    "tfidf = TfidfVectorizer(min_df=5)\n",
    "\n",
    "# apply tf-idf vectorizer -> document-term-matrix in sparse format\n",
    "dtm = tfidf.fit_transform([\" \".join(x) for x in token_stem])\n",
    "\n",
    "print(dtm.shape)\n",
    "\n",
    "df_dtm = pd.DataFrame(dtm.toarray(), columns=tfidf.get_feature_names(), index=text.index)\n",
    "df_dtm.head()"
   ]
  },
  {
   "cell_type": "markdown",
   "metadata": {},
   "source": [
    "# Recommendations"
   ]
  },
  {
   "cell_type": "code",
   "execution_count": 6,
   "metadata": {},
   "outputs": [],
   "source": [
    "reader = Reader(rating_scale=(-10, 10))\n",
    "df_train = Dataset.load_from_df(train, reader).build_full_trainset()\n",
    "df_test = list(test.itertuples(index=False, name=None))"
   ]
  },
  {
   "cell_type": "code",
   "execution_count": 7,
   "metadata": {},
   "outputs": [
    {
     "name": "stderr",
     "output_type": "stream",
     "text": [
      "c:\\Users\\p.borchert\\OneDrive - KU Leuven\\Courses\\Teaching\\Recommendation Systems\\2022\\Examples Python\\IESEGRecSys\\model.py:72: RuntimeWarning: invalid value encountered in true_divide\n",
      "  self.prediction = (np.matmul(df_pivot.values, self.matrixNN) / denom) + self.user_avg[:,np.newaxis]\n"
     ]
    },
    {
     "name": "stdout",
     "output_type": "stream",
     "text": [
      "Computing the cosine similarity matrix...\n",
      "Done computing similarity matrix.\n"
     ]
    },
    {
     "data": {
      "text/html": [
       "<div>\n",
       "<style scoped>\n",
       "    .dataframe tbody tr th:only-of-type {\n",
       "        vertical-align: middle;\n",
       "    }\n",
       "\n",
       "    .dataframe tbody tr th {\n",
       "        vertical-align: top;\n",
       "    }\n",
       "\n",
       "    .dataframe thead th {\n",
       "        text-align: right;\n",
       "    }\n",
       "</style>\n",
       "<table border=\"1\" class=\"dataframe\">\n",
       "  <thead>\n",
       "    <tr style=\"text-align: right;\">\n",
       "      <th></th>\n",
       "      <th>CB_10</th>\n",
       "      <th>IB_15</th>\n",
       "      <th>SVD_20</th>\n",
       "    </tr>\n",
       "  </thead>\n",
       "  <tbody>\n",
       "    <tr>\n",
       "      <th>RMSE</th>\n",
       "      <td>5.649795</td>\n",
       "      <td>5.290807</td>\n",
       "      <td>5.380787</td>\n",
       "    </tr>\n",
       "    <tr>\n",
       "      <th>MAE</th>\n",
       "      <td>4.384503</td>\n",
       "      <td>4.409676</td>\n",
       "      <td>4.445502</td>\n",
       "    </tr>\n",
       "    <tr>\n",
       "      <th>Recall</th>\n",
       "      <td>0.252281</td>\n",
       "      <td>0.022157</td>\n",
       "      <td>0.035435</td>\n",
       "    </tr>\n",
       "    <tr>\n",
       "      <th>Precision</th>\n",
       "      <td>0.486338</td>\n",
       "      <td>0.631090</td>\n",
       "      <td>0.504640</td>\n",
       "    </tr>\n",
       "    <tr>\n",
       "      <th>F1</th>\n",
       "      <td>0.332225</td>\n",
       "      <td>0.042811</td>\n",
       "      <td>0.066220</td>\n",
       "    </tr>\n",
       "    <tr>\n",
       "      <th>NDCG@5</th>\n",
       "      <td>0.930289</td>\n",
       "      <td>0.930603</td>\n",
       "      <td>0.931392</td>\n",
       "    </tr>\n",
       "  </tbody>\n",
       "</table>\n",
       "</div>"
      ],
      "text/plain": [
       "              CB_10     IB_15    SVD_20\n",
       "RMSE       5.649795  5.290807  5.380787\n",
       "MAE        4.384503  4.409676  4.445502\n",
       "Recall     0.252281  0.022157  0.035435\n",
       "Precision  0.486338  0.631090  0.504640\n",
       "F1         0.332225  0.042811  0.066220\n",
       "NDCG@5     0.930289  0.930603  0.931392"
      ]
     },
     "execution_count": 7,
     "metadata": {},
     "output_type": "execute_result"
    }
   ],
   "source": [
    "# content-based\n",
    "cb = ContentBased(NN=10)\n",
    "cb.fit(df_dtm)\n",
    "cb.fit_ratings(df_train)\n",
    "cb_pred = cb.test(df_test)\n",
    "\n",
    "# item-based\n",
    "options = {'name':'cosine', 'user_based':False}\n",
    "ib = KNNBasic(k=15, min_k=5, sim_options=options, random_state=42)\n",
    "ib.fit(df_train)\n",
    "ib_pred = ib.test(df_test)\n",
    "\n",
    "# svd\n",
    "mf = SVD(n_factors=20, biased=False, random_state=42)\n",
    "mf.fit(df_train)\n",
    "mf_pred = mf.test(df_test)\n",
    "\n",
    "models = {\"CB_10\":cb_pred, \"IB_15\":ib_pred, \"SVD_20\":mf_pred}\n",
    "overview = pd.concat([eval.evaluate(mod, topn=5, rating_cutoff=5) for mod in models.values()], axis=1)\n",
    "overview.columns = list(models.keys())\n",
    "overview"
   ]
  },
  {
   "cell_type": "code",
   "execution_count": 8,
   "metadata": {},
   "outputs": [
    {
     "name": "stdout",
     "output_type": "stream",
     "text": [
      "Excluded 9608 (48479) samples. 38871 remaining ...\n",
      "Excluded 9608 (48479) samples. 38871 remaining ...\n",
      "Excluded 44886 (48479) samples. 3593 remaining ...\n",
      "Excluded 44886 (48479) samples. 3593 remaining ...\n",
      "Excluded 7667 (48479) samples. 40812 remaining ...\n",
      "Excluded 7667 (48479) samples. 40812 remaining ...\n"
     ]
    },
    {
     "data": {
      "text/html": [
       "<div>\n",
       "<style scoped>\n",
       "    .dataframe tbody tr th:only-of-type {\n",
       "        vertical-align: middle;\n",
       "    }\n",
       "\n",
       "    .dataframe tbody tr th {\n",
       "        vertical-align: top;\n",
       "    }\n",
       "\n",
       "    .dataframe thead th {\n",
       "        text-align: right;\n",
       "    }\n",
       "</style>\n",
       "<table border=\"1\" class=\"dataframe\">\n",
       "  <thead>\n",
       "    <tr style=\"text-align: right;\">\n",
       "      <th></th>\n",
       "      <th>CB_10</th>\n",
       "      <th>IB_15</th>\n",
       "      <th>SVD_20</th>\n",
       "    </tr>\n",
       "  </thead>\n",
       "  <tbody>\n",
       "    <tr>\n",
       "      <th>RMSE</th>\n",
       "      <td>5.719528</td>\n",
       "      <td>4.817819</td>\n",
       "      <td>5.381130</td>\n",
       "    </tr>\n",
       "    <tr>\n",
       "      <th>MAE</th>\n",
       "      <td>4.357567</td>\n",
       "      <td>3.742661</td>\n",
       "      <td>4.433153</td>\n",
       "    </tr>\n",
       "    <tr>\n",
       "      <th>Recall</th>\n",
       "      <td>0.307181</td>\n",
       "      <td>0.273092</td>\n",
       "      <td>0.041715</td>\n",
       "    </tr>\n",
       "    <tr>\n",
       "      <th>Precision</th>\n",
       "      <td>0.486338</td>\n",
       "      <td>0.631090</td>\n",
       "      <td>0.504640</td>\n",
       "    </tr>\n",
       "    <tr>\n",
       "      <th>F1</th>\n",
       "      <td>0.376535</td>\n",
       "      <td>0.381219</td>\n",
       "      <td>0.077059</td>\n",
       "    </tr>\n",
       "    <tr>\n",
       "      <th>NDCG@10</th>\n",
       "      <td>0.927985</td>\n",
       "      <td>0.936809</td>\n",
       "      <td>0.927444</td>\n",
       "    </tr>\n",
       "  </tbody>\n",
       "</table>\n",
       "</div>"
      ],
      "text/plain": [
       "              CB_10     IB_15    SVD_20\n",
       "RMSE       5.719528  4.817819  5.381130\n",
       "MAE        4.357567  3.742661  4.433153\n",
       "Recall     0.307181  0.273092  0.041715\n",
       "Precision  0.486338  0.631090  0.504640\n",
       "F1         0.376535  0.381219  0.077059\n",
       "NDCG@10    0.927985  0.936809  0.927444"
      ]
     },
     "execution_count": 8,
     "metadata": {},
     "output_type": "execute_result"
    }
   ],
   "source": [
    "models = {\"CB_10\":cb_pred, \"IB_15\":ib_pred, \"SVD_20\":mf_pred}\n",
    "overview = pd.concat([eval.evaluate(mod, topn=10, rating_cutoff=5, excl_impossible=True) for mod in models.values()], axis=1)\n",
    "overview.columns = list(models.keys())\n",
    "overview"
   ]
  },
  {
   "cell_type": "markdown",
   "metadata": {},
   "source": [
    "# Exercise 1"
   ]
  },
  {
   "cell_type": "code",
   "execution_count": 9,
   "metadata": {},
   "outputs": [
    {
     "data": {
      "text/html": [
       "<div>\n",
       "<style scoped>\n",
       "    .dataframe tbody tr th:only-of-type {\n",
       "        vertical-align: middle;\n",
       "    }\n",
       "\n",
       "    .dataframe tbody tr th {\n",
       "        vertical-align: top;\n",
       "    }\n",
       "\n",
       "    .dataframe thead th {\n",
       "        text-align: right;\n",
       "    }\n",
       "</style>\n",
       "<table border=\"1\" class=\"dataframe\">\n",
       "  <thead>\n",
       "    <tr style=\"text-align: right;\">\n",
       "      <th></th>\n",
       "      <th>uid</th>\n",
       "      <th>iid</th>\n",
       "      <th>r_ui</th>\n",
       "      <th>est</th>\n",
       "      <th>details</th>\n",
       "    </tr>\n",
       "  </thead>\n",
       "  <tbody>\n",
       "    <tr>\n",
       "      <th>0</th>\n",
       "      <td>44035</td>\n",
       "      <td>31</td>\n",
       "      <td>-1.55</td>\n",
       "      <td>-0.920808</td>\n",
       "      <td>{'was_impossible': False}</td>\n",
       "    </tr>\n",
       "    <tr>\n",
       "      <th>1</th>\n",
       "      <td>1108</td>\n",
       "      <td>34</td>\n",
       "      <td>-2.86</td>\n",
       "      <td>-0.410808</td>\n",
       "      <td>{'was_impossible': False}</td>\n",
       "    </tr>\n",
       "    <tr>\n",
       "      <th>2</th>\n",
       "      <td>61523</td>\n",
       "      <td>14</td>\n",
       "      <td>0.00</td>\n",
       "      <td>-2.885808</td>\n",
       "      <td>{'was_impossible': False}</td>\n",
       "    </tr>\n",
       "    <tr>\n",
       "      <th>3</th>\n",
       "      <td>19586</td>\n",
       "      <td>33</td>\n",
       "      <td>-9.42</td>\n",
       "      <td>-4.345808</td>\n",
       "      <td>{'was_impossible': False}</td>\n",
       "    </tr>\n",
       "    <tr>\n",
       "      <th>4</th>\n",
       "      <td>8861</td>\n",
       "      <td>66</td>\n",
       "      <td>-0.63</td>\n",
       "      <td>0.071692</td>\n",
       "      <td>{'was_impossible': False}</td>\n",
       "    </tr>\n",
       "  </tbody>\n",
       "</table>\n",
       "</div>"
      ],
      "text/plain": [
       "     uid  iid  r_ui       est                    details\n",
       "0  44035   31 -1.55 -0.920808  {'was_impossible': False}\n",
       "1   1108   34 -2.86 -0.410808  {'was_impossible': False}\n",
       "2  61523   14  0.00 -2.885808  {'was_impossible': False}\n",
       "3  19586   33 -9.42 -4.345808  {'was_impossible': False}\n",
       "4   8861   66 -0.63  0.071692  {'was_impossible': False}"
      ]
     },
     "execution_count": 9,
     "metadata": {},
     "output_type": "execute_result"
    }
   ],
   "source": [
    "# Combine predictions (mean)\n",
    "\n",
    "# extract predictions content-based and item-based\n",
    "df_pred_cb, df_pred_ib = pd.DataFrame(cb_pred), pd.DataFrame(ib_pred)\n",
    "\n",
    "df_hybrid = df_pred_cb.copy()\n",
    "df_hybrid['est'] = (np.array(df_pred_cb['est']) + np.array(df_pred_ib['est'])) / 2\n",
    "\n",
    "df_hybrid.head()"
   ]
  },
  {
   "cell_type": "code",
   "execution_count": 10,
   "metadata": {},
   "outputs": [
    {
     "data": {
      "text/html": [
       "<div>\n",
       "<style scoped>\n",
       "    .dataframe tbody tr th:only-of-type {\n",
       "        vertical-align: middle;\n",
       "    }\n",
       "\n",
       "    .dataframe tbody tr th {\n",
       "        vertical-align: top;\n",
       "    }\n",
       "\n",
       "    .dataframe thead th {\n",
       "        text-align: right;\n",
       "    }\n",
       "</style>\n",
       "<table border=\"1\" class=\"dataframe\">\n",
       "  <thead>\n",
       "    <tr style=\"text-align: right;\">\n",
       "      <th></th>\n",
       "      <th>value</th>\n",
       "    </tr>\n",
       "  </thead>\n",
       "  <tbody>\n",
       "    <tr>\n",
       "      <th>RMSE</th>\n",
       "      <td>5.145755</td>\n",
       "    </tr>\n",
       "    <tr>\n",
       "      <th>MAE</th>\n",
       "      <td>4.204275</td>\n",
       "    </tr>\n",
       "    <tr>\n",
       "      <th>Recall</th>\n",
       "      <td>0.021017</td>\n",
       "    </tr>\n",
       "    <tr>\n",
       "      <th>Precision</th>\n",
       "      <td>0.643392</td>\n",
       "    </tr>\n",
       "    <tr>\n",
       "      <th>F1</th>\n",
       "      <td>0.040704</td>\n",
       "    </tr>\n",
       "    <tr>\n",
       "      <th>NDCG@5</th>\n",
       "      <td>0.930533</td>\n",
       "    </tr>\n",
       "  </tbody>\n",
       "</table>\n",
       "</div>"
      ],
      "text/plain": [
       "              value\n",
       "RMSE       5.145755\n",
       "MAE        4.204275\n",
       "Recall     0.021017\n",
       "Precision  0.643392\n",
       "F1         0.040704\n",
       "NDCG@5     0.930533"
      ]
     },
     "execution_count": 10,
     "metadata": {},
     "output_type": "execute_result"
    }
   ],
   "source": [
    "eval.evaluate(df_hybrid, topn=5, rating_cutoff=5)"
   ]
  },
  {
   "cell_type": "markdown",
   "metadata": {},
   "source": [
    "# Exercise 2"
   ]
  },
  {
   "cell_type": "code",
   "execution_count": 11,
   "metadata": {},
   "outputs": [
    {
     "data": {
      "text/html": [
       "<div>\n",
       "<style scoped>\n",
       "    .dataframe tbody tr th:only-of-type {\n",
       "        vertical-align: middle;\n",
       "    }\n",
       "\n",
       "    .dataframe tbody tr th {\n",
       "        vertical-align: top;\n",
       "    }\n",
       "\n",
       "    .dataframe thead th {\n",
       "        text-align: right;\n",
       "    }\n",
       "</style>\n",
       "<table border=\"1\" class=\"dataframe\">\n",
       "  <thead>\n",
       "    <tr style=\"text-align: right;\">\n",
       "      <th></th>\n",
       "      <th>target</th>\n",
       "      <th>ib_pred</th>\n",
       "      <th>cb_pred</th>\n",
       "    </tr>\n",
       "  </thead>\n",
       "  <tbody>\n",
       "    <tr>\n",
       "      <th>0</th>\n",
       "      <td>-1.55</td>\n",
       "      <td>0.728384</td>\n",
       "      <td>-2.570</td>\n",
       "    </tr>\n",
       "    <tr>\n",
       "      <th>1</th>\n",
       "      <td>-2.86</td>\n",
       "      <td>0.728384</td>\n",
       "      <td>-1.550</td>\n",
       "    </tr>\n",
       "    <tr>\n",
       "      <th>2</th>\n",
       "      <td>0.00</td>\n",
       "      <td>0.728384</td>\n",
       "      <td>-6.500</td>\n",
       "    </tr>\n",
       "    <tr>\n",
       "      <th>3</th>\n",
       "      <td>-9.42</td>\n",
       "      <td>0.728384</td>\n",
       "      <td>-9.420</td>\n",
       "    </tr>\n",
       "    <tr>\n",
       "      <th>4</th>\n",
       "      <td>-0.63</td>\n",
       "      <td>0.728384</td>\n",
       "      <td>-0.585</td>\n",
       "    </tr>\n",
       "  </tbody>\n",
       "</table>\n",
       "</div>"
      ],
      "text/plain": [
       "   target   ib_pred  cb_pred\n",
       "0   -1.55  0.728384   -2.570\n",
       "1   -2.86  0.728384   -1.550\n",
       "2    0.00  0.728384   -6.500\n",
       "3   -9.42  0.728384   -9.420\n",
       "4   -0.63  0.728384   -0.585"
      ]
     },
     "execution_count": 11,
     "metadata": {},
     "output_type": "execute_result"
    }
   ],
   "source": [
    "# training set for Linear Regression model\n",
    "lr_train = df_pred_ib[['r_ui', 'est']].rename(columns={'r_ui':'target', 'est':'ib_pred'})\n",
    "lr_train['cb_pred'] = df_pred_cb['est']\n",
    "lr_train.head()"
   ]
  },
  {
   "cell_type": "code",
   "execution_count": 12,
   "metadata": {},
   "outputs": [
    {
     "data": {
      "text/plain": [
       "<matplotlib.colorbar.Colorbar at 0x1f1fc2a71c0>"
      ]
     },
     "execution_count": 12,
     "metadata": {},
     "output_type": "execute_result"
    },
    {
     "data": {
      "image/png": "[encoded data removed]",
      "text/plain": [
       "<Figure size 864x432 with 2 Axes>"
      ]
     },
     "metadata": {
      "needs_background": "light"
     },
     "output_type": "display_data"
    }
   ],
   "source": [
    "# visualize\n",
    "scatter_df = lr_train.sample(10000, random_state=42)\n",
    "plt.figure(figsize = (12, 6))\n",
    "plt.scatter(x=scatter_df.ib_pred, y=scatter_df.cb_pred, c=scatter_df.target, cmap='coolwarm')\n",
    "plt.xlabel('Item-Based')\n",
    "plt.ylabel('Content-Based')\n",
    "plt.title('Color = True Rating')\n",
    "plt.colorbar()"
   ]
  },
  {
   "cell_type": "code",
   "execution_count": 13,
   "metadata": {},
   "outputs": [],
   "source": [
    "# Train Linear Regression model\n",
    "from sklearn.linear_model import LinearRegression\n",
    "\n",
    "X, y = lr_train.loc[:,lr_train.columns != 'target'], lr_train[['target']]\n",
    "\n",
    "lr_model = LinearRegression().fit(X,y)"
   ]
  },
  {
   "cell_type": "markdown",
   "metadata": {},
   "source": [
    "# Exercise 3"
   ]
  },
  {
   "cell_type": "code",
   "execution_count": 14,
   "metadata": {},
   "outputs": [
    {
     "data": {
      "text/html": [
       "<div>\n",
       "<style scoped>\n",
       "    .dataframe tbody tr th:only-of-type {\n",
       "        vertical-align: middle;\n",
       "    }\n",
       "\n",
       "    .dataframe tbody tr th {\n",
       "        vertical-align: top;\n",
       "    }\n",
       "\n",
       "    .dataframe thead th {\n",
       "        text-align: right;\n",
       "    }\n",
       "</style>\n",
       "<table border=\"1\" class=\"dataframe\">\n",
       "  <thead>\n",
       "    <tr style=\"text-align: right;\">\n",
       "      <th></th>\n",
       "      <th>user</th>\n",
       "      <th>item</th>\n",
       "      <th>rating</th>\n",
       "    </tr>\n",
       "  </thead>\n",
       "  <tbody>\n",
       "    <tr>\n",
       "      <th>0</th>\n",
       "      <td>0</td>\n",
       "      <td>4</td>\n",
       "      <td>5.34</td>\n",
       "    </tr>\n",
       "    <tr>\n",
       "      <th>1</th>\n",
       "      <td>0</td>\n",
       "      <td>5</td>\n",
       "      <td>-5.05</td>\n",
       "    </tr>\n",
       "    <tr>\n",
       "      <th>2</th>\n",
       "      <td>0</td>\n",
       "      <td>6</td>\n",
       "      <td>4.37</td>\n",
       "    </tr>\n",
       "    <tr>\n",
       "      <th>3</th>\n",
       "      <td>0</td>\n",
       "      <td>7</td>\n",
       "      <td>3.98</td>\n",
       "    </tr>\n",
       "    <tr>\n",
       "      <th>4</th>\n",
       "      <td>0</td>\n",
       "      <td>8</td>\n",
       "      <td>-2.04</td>\n",
       "    </tr>\n",
       "  </tbody>\n",
       "</table>\n",
       "</div>"
      ],
      "text/plain": [
       "   user  item  rating\n",
       "0     0     4    5.34\n",
       "1     0     5   -5.05\n",
       "2     0     6    4.37\n",
       "3     0     7    3.98\n",
       "4     0     8   -2.04"
      ]
     },
     "execution_count": 14,
     "metadata": {},
     "output_type": "execute_result"
    }
   ],
   "source": [
    "# import second dataset\n",
    "data2 = pd.read_csv('../Data/jester/jester_test.csv')\n",
    "\n",
    "# surprise dataset format\n",
    "df_test2 = list(data2.itertuples(index=False, name=None))\n",
    "\n",
    "data2.head()"
   ]
  },
  {
   "cell_type": "code",
   "execution_count": 15,
   "metadata": {},
   "outputs": [
    {
     "data": {
      "text/plain": [
       "(904451, 3)"
      ]
     },
     "execution_count": 15,
     "metadata": {},
     "output_type": "execute_result"
    }
   ],
   "source": [
    "data2.shape"
   ]
  },
  {
   "cell_type": "code",
   "execution_count": 16,
   "metadata": {},
   "outputs": [],
   "source": [
    "# make prediction\n",
    "\n",
    "# Content Based\n",
    "cb_pred2 = cb.test(df_test2)\n",
    "\n",
    "# Item Based\n",
    "ib_pred2 = ib.test(df_test2)\n",
    "\n",
    "# convert to df\n",
    "df_pred_cb2, df_pred_ib2 = pd.DataFrame(cb_pred2), pd.DataFrame(ib_pred2)\n",
    "\n",
    "##### Hybrid - Mean\n",
    "df_hybrid2 = df_pred_ib2.copy()\n",
    "df_hybrid2['est'] = (np.array(df_pred_cb2['est']) + np.array(df_pred_ib2['est'])) / 2"
   ]
  },
  {
   "cell_type": "code",
   "execution_count": 17,
   "metadata": {},
   "outputs": [],
   "source": [
    "##### Hybrid - Linear Regression model\n",
    "# get test set\n",
    "lr_test = df_pred_ib2[['r_ui', 'est']].rename(columns={'r_ui':'target', 'est':'ib_pred'})\n",
    "lr_test['cb_pred'] = df_pred_cb2['est']\n",
    "X_test, y_test = lr_test.loc[:,lr_test.columns != 'target'], lr_test[['target']]\n",
    "\n",
    "# predict\n",
    "lr_pred = lr_model.predict(X_test)\n",
    "\n",
    "# transform in surprise format\n",
    "df_lr = df_pred_ib2.copy()\n",
    "df_lr['est'] = lr_pred"
   ]
  },
  {
   "cell_type": "code",
   "execution_count": 18,
   "metadata": {},
   "outputs": [
    {
     "data": {
      "text/html": [
       "<div>\n",
       "<style scoped>\n",
       "    .dataframe tbody tr th:only-of-type {\n",
       "        vertical-align: middle;\n",
       "    }\n",
       "\n",
       "    .dataframe tbody tr th {\n",
       "        vertical-align: top;\n",
       "    }\n",
       "\n",
       "    .dataframe thead th {\n",
       "        text-align: right;\n",
       "    }\n",
       "</style>\n",
       "<table border=\"1\" class=\"dataframe\">\n",
       "  <thead>\n",
       "    <tr style=\"text-align: right;\">\n",
       "      <th></th>\n",
       "      <th>CB_10</th>\n",
       "      <th>IB_15</th>\n",
       "      <th>Hybrid_CB_IB</th>\n",
       "      <th>Hybrid_LR</th>\n",
       "    </tr>\n",
       "  </thead>\n",
       "  <tbody>\n",
       "    <tr>\n",
       "      <th>RMSE</th>\n",
       "      <td>6.508849</td>\n",
       "      <td>5.371713</td>\n",
       "      <td>5.667015</td>\n",
       "      <td>5.474752</td>\n",
       "    </tr>\n",
       "    <tr>\n",
       "      <th>MAE</th>\n",
       "      <td>5.288782</td>\n",
       "      <td>4.470180</td>\n",
       "      <td>4.684540</td>\n",
       "      <td>4.552514</td>\n",
       "    </tr>\n",
       "  </tbody>\n",
       "</table>\n",
       "</div>"
      ],
      "text/plain": [
       "         CB_10     IB_15  Hybrid_CB_IB  Hybrid_LR\n",
       "RMSE  6.508849  5.371713      5.667015   5.474752\n",
       "MAE   5.288782  4.470180      4.684540   4.552514"
      ]
     },
     "execution_count": 18,
     "metadata": {},
     "output_type": "execute_result"
    }
   ],
   "source": [
    "# Evaluate\n",
    "\n",
    "models = {\"CB_10\":cb_pred2, \"IB_15\":ib_pred2, \"Hybrid_CB_IB\":df_hybrid2, \"Hybrid_LR\":df_lr}\n",
    "overview2 = pd.concat([eval.prediction_metrics(pred) for pred in models.values()], axis=1)\n",
    "overview2.columns = list(models.keys())\n",
    "overview2"
   ]
  },
  {
   "cell_type": "markdown",
   "metadata": {},
   "source": [
    "# Additional Exercise"
   ]
  },
  {
   "cell_type": "markdown",
   "metadata": {},
   "source": [
    "# RandomForest"
   ]
  },
  {
   "cell_type": "code",
   "execution_count": 19,
   "metadata": {},
   "outputs": [
    {
     "data": {
      "text/html": [
       "<div>\n",
       "<style scoped>\n",
       "    .dataframe tbody tr th:only-of-type {\n",
       "        vertical-align: middle;\n",
       "    }\n",
       "\n",
       "    .dataframe tbody tr th {\n",
       "        vertical-align: top;\n",
       "    }\n",
       "\n",
       "    .dataframe thead th {\n",
       "        text-align: right;\n",
       "    }\n",
       "</style>\n",
       "<table border=\"1\" class=\"dataframe\">\n",
       "  <thead>\n",
       "    <tr style=\"text-align: right;\">\n",
       "      <th></th>\n",
       "      <th>target</th>\n",
       "      <th>ib_pred</th>\n",
       "      <th>cb_pred</th>\n",
       "    </tr>\n",
       "  </thead>\n",
       "  <tbody>\n",
       "    <tr>\n",
       "      <th>0</th>\n",
       "      <td>-1.55</td>\n",
       "      <td>0.728384</td>\n",
       "      <td>-2.570</td>\n",
       "    </tr>\n",
       "    <tr>\n",
       "      <th>1</th>\n",
       "      <td>-2.86</td>\n",
       "      <td>0.728384</td>\n",
       "      <td>-1.550</td>\n",
       "    </tr>\n",
       "    <tr>\n",
       "      <th>2</th>\n",
       "      <td>0.00</td>\n",
       "      <td>0.728384</td>\n",
       "      <td>-6.500</td>\n",
       "    </tr>\n",
       "    <tr>\n",
       "      <th>3</th>\n",
       "      <td>-9.42</td>\n",
       "      <td>0.728384</td>\n",
       "      <td>-9.420</td>\n",
       "    </tr>\n",
       "    <tr>\n",
       "      <th>4</th>\n",
       "      <td>-0.63</td>\n",
       "      <td>0.728384</td>\n",
       "      <td>-0.585</td>\n",
       "    </tr>\n",
       "  </tbody>\n",
       "</table>\n",
       "</div>"
      ],
      "text/plain": [
       "   target   ib_pred  cb_pred\n",
       "0   -1.55  0.728384   -2.570\n",
       "1   -2.86  0.728384   -1.550\n",
       "2    0.00  0.728384   -6.500\n",
       "3   -9.42  0.728384   -9.420\n",
       "4   -0.63  0.728384   -0.585"
      ]
     },
     "execution_count": 19,
     "metadata": {},
     "output_type": "execute_result"
    }
   ],
   "source": [
    "# copy lr train set\n",
    "rf_train = lr_train.copy()\n",
    "rf_train.head()"
   ]
  },
  {
   "cell_type": "code",
   "execution_count": 20,
   "metadata": {},
   "outputs": [],
   "source": [
    "from sklearn.ensemble import RandomForestRegressor\n",
    "\n",
    "X, y = rf_train.loc[:,rf_train.columns != 'target'], np.array(rf_train['target'])\n",
    "\n",
    "# fit random forest model\n",
    "rf_model = RandomForestRegressor(max_depth=4, n_estimators=100).fit(X,y)"
   ]
  },
  {
   "cell_type": "code",
   "execution_count": 21,
   "metadata": {},
   "outputs": [],
   "source": [
    "# predict\n",
    "rf_pred = rf_model.predict(X_test)\n",
    "\n",
    "# transform in surprise format\n",
    "df_rf = df_pred_ib2.copy()\n",
    "df_rf['est'] = rf_pred"
   ]
  },
  {
   "cell_type": "code",
   "execution_count": 22,
   "metadata": {},
   "outputs": [],
   "source": [
    "# Evaluate\n",
    "rf_res = eval.prediction_metrics(df_rf).rename(columns={'value':'Hybrid_RF'})"
   ]
  },
  {
   "cell_type": "code",
   "execution_count": 23,
   "metadata": {},
   "outputs": [
    {
     "data": {
      "text/html": [
       "<div>\n",
       "<style scoped>\n",
       "    .dataframe tbody tr th:only-of-type {\n",
       "        vertical-align: middle;\n",
       "    }\n",
       "\n",
       "    .dataframe tbody tr th {\n",
       "        vertical-align: top;\n",
       "    }\n",
       "\n",
       "    .dataframe thead th {\n",
       "        text-align: right;\n",
       "    }\n",
       "</style>\n",
       "<table border=\"1\" class=\"dataframe\">\n",
       "  <thead>\n",
       "    <tr style=\"text-align: right;\">\n",
       "      <th></th>\n",
       "      <th>CB_10</th>\n",
       "      <th>IB_15</th>\n",
       "      <th>Hybrid_CB_IB</th>\n",
       "      <th>Hybrid_LR</th>\n",
       "      <th>Hybrid_RF</th>\n",
       "    </tr>\n",
       "  </thead>\n",
       "  <tbody>\n",
       "    <tr>\n",
       "      <th>RMSE</th>\n",
       "      <td>6.508849</td>\n",
       "      <td>5.371713</td>\n",
       "      <td>5.667015</td>\n",
       "      <td>5.474752</td>\n",
       "      <td>5.472945</td>\n",
       "    </tr>\n",
       "    <tr>\n",
       "      <th>MAE</th>\n",
       "      <td>5.288782</td>\n",
       "      <td>4.470180</td>\n",
       "      <td>4.684540</td>\n",
       "      <td>4.552514</td>\n",
       "      <td>4.550658</td>\n",
       "    </tr>\n",
       "  </tbody>\n",
       "</table>\n",
       "</div>"
      ],
      "text/plain": [
       "         CB_10     IB_15  Hybrid_CB_IB  Hybrid_LR  Hybrid_RF\n",
       "RMSE  6.508849  5.371713      5.667015   5.474752   5.472945\n",
       "MAE   5.288782  4.470180      4.684540   4.552514   4.550658"
      ]
     },
     "execution_count": 23,
     "metadata": {},
     "output_type": "execute_result"
    }
   ],
   "source": [
    "# Display Overview\n",
    "overview3 = pd.concat([overview2, rf_res], axis=1)\n",
    "overview3"
   ]
  }
 ],
 "metadata": {
  "kernelspec": {
   "display_name": "Python 3 (ipykernel)",
   "language": "python",
   "name": "python3"
  },
  "language_info": {
   "codemirror_mode": {
    "name": "ipython",
    "version": 3
   },
   "file_extension": ".py",
   "mimetype": "text/x-python",
   "name": "python",
   "nbconvert_exporter": "python",
   "pygments_lexer": "ipython3",
   "version": "3.9.7"
  }
 },
 "nbformat": 4,
 "nbformat_minor": 2
}
